{
 "metadata": {
  "name": "",
  "signature": "sha256:59d64d3ac53dbc5b1af0ca8775c9c568db24b17b885b6cf832a316c0fa379c55"
 },
 "nbformat": 3,
 "nbformat_minor": 0,
 "worksheets": [
  {
   "cells": [
    {
     "cell_type": "code",
     "collapsed": false,
     "input": [
      "import pandas as pd\n",
      "import numpy as np\n",
      "import nltk\n",
      "import string\n",
      "from bs4 import BeautifulSoup\n",
      "import re\n",
      "from nltk.corpus import stopwords\n",
      "from sklearn.feature_extraction.text import CountVectorizer\n",
      "import nltk.data\n",
      "from nltk import stem\n",
      "from gensim.models import word2vec"
     ],
     "language": "python",
     "metadata": {},
     "outputs": [],
     "prompt_number": 47
    },
    {
     "cell_type": "code",
     "collapsed": false,
     "input": [
      "# Read data from files \n",
      "train = pd.read_csv( \"labeledTrainData.tsv\", header=0, \n",
      " delimiter=\"\\t\", quoting=3 )\n",
      "test = pd.read_csv( \"testData.tsv\", header=0, delimiter=\"\\t\", quoting=3 )\n",
      "unlabeled_train = pd.read_csv( \"unlabeledTrainData.tsv\", header=0, \n",
      " delimiter=\"\\t\", quoting=3 )\n",
      "\n",
      "# Verify the number of reviews that were read (100,000 in total)\n",
      "print \"Read %d labeled train reviews, %d labeled test reviews, \" \\\n",
      " \"and %d unlabeled reviews\\n\" % (train[\"review\"].size,  \n",
      " test[\"review\"].size, unlabeled_train[\"review\"].size )\n"
     ],
     "language": "python",
     "metadata": {},
     "outputs": [
      {
       "output_type": "stream",
       "stream": "stdout",
       "text": [
        "Read 25000 labeled train reviews, 25000 labeled test reviews, and 50000 unlabeled reviews\n",
        "\n"
       ]
      }
     ],
     "prompt_number": 48
    },
    {
     "cell_type": "code",
     "collapsed": false,
     "input": [
      "def review_to_wordlist( review, remove_stopwords=False ):\n",
      "    # Function to convert a document to a sequence of words,\n",
      "    # optionally removing stop words.  Returns a list of words.\n",
      "    #\n",
      "    # 1. Remove HTML\n",
      "    review_text = BeautifulSoup(review).get_text()\n",
      "    \n",
      "    trnsfm_d = re.sub(r'\\b(?:didnot|didn\\'t|not|never|no|n\\'t)\\b[\\w\\s]+[^\\w\\s]',\n",
      "                     lambda match: re.sub(r'(\\s+)(\\w+)', r'\\1NEG\\2', match.group(0)),\n",
      "                     review_text, flags=re.IGNORECASE)\n",
      "    #  \n",
      "    # 2. Remove non-letters\n",
      "    review_text = re.sub(\"[^a-zA-Z]\",\" \", trnsfm_d)\n",
      "    #\n",
      "    # 3. Convert words to lower case and split them\n",
      "    words = review_text.lower().split()\n",
      "    #\n",
      "    # 4. Optionally remove stop words (false by default)\n",
      "    if remove_stopwords:\n",
      "        stops = set(stopwords.words(\"english\"))\n",
      "        words = [w for w in words if not w in stops]\n",
      "    #\n",
      "    # 5. Return a list of words\n",
      "    return(words)"
     ],
     "language": "python",
     "metadata": {},
     "outputs": [],
     "prompt_number": 49
    },
    {
     "cell_type": "code",
     "collapsed": false,
     "input": [
      "# Load the punkt tokenizer\n",
      "tokenizer = nltk.data.load('/Users/sandeepvanga/nltk_data/tokenizers/punkt/english.pickle')\n",
      "print tokenizer"
     ],
     "language": "python",
     "metadata": {},
     "outputs": [
      {
       "output_type": "stream",
       "stream": "stdout",
       "text": [
        "<nltk.tokenize.punkt.PunktSentenceTokenizer object at 0x110cf6810>\n"
       ]
      }
     ],
     "prompt_number": 50
    },
    {
     "cell_type": "code",
     "collapsed": false,
     "input": [
      "# Define a function to split a review into parsed sentences\n",
      "def review_to_sentences( review, tokenizer, remove_stopwords=False ):\n",
      "    # Function to split a review into parsed sentences. Returns a \n",
      "    # list of sentences, where each sentence is a list of words\n",
      "    #\n",
      "    # 1. Use the NLTK tokenizer to split the paragraph into sentences\n",
      "    raw_sentences = tokenizer.tokenize(review.decode('utf-8').strip())\n",
      "    #\n",
      "    # 2. Loop over each sentence\n",
      "    sentences = []\n",
      "    for raw_sentence in raw_sentences:\n",
      "        # If a sentence is empty, skip it\n",
      "        if len(raw_sentence) > 0:\n",
      "            # Otherwise, call review_to_wordlist to get a list of words\n",
      "            sentences.append( review_to_wordlist( raw_sentence, \\\n",
      "              remove_stopwords ))\n",
      "    #\n",
      "    # Return the list of sentences (each sentence is a list of words,\n",
      "    # so this returns a list of lists\n",
      "    return sentences"
     ],
     "language": "python",
     "metadata": {},
     "outputs": [],
     "prompt_number": 51
    },
    {
     "cell_type": "code",
     "collapsed": false,
     "input": [
      "sentences = []  # Initialize an empty list of sentences\n",
      "\n",
      "print \"Parsing sentences from training set\"\n",
      "for review in train[\"review\"]:\n",
      "    sentences += review_to_sentences(review, tokenizer)\n",
      "\n",
      "print \"Parsing sentences from unlabeled set\"\n",
      "for review in unlabeled_train[\"review\"]:\n",
      "    sentences += review_to_sentences(review, tokenizer)"
     ],
     "language": "python",
     "metadata": {},
     "outputs": [
      {
       "output_type": "stream",
       "stream": "stdout",
       "text": [
        "Parsing sentences from training set\n",
        "Parsing sentences from unlabeled set"
       ]
      },
      {
       "output_type": "stream",
       "stream": "stdout",
       "text": [
        "\n"
       ]
      }
     ],
     "prompt_number": 52
    },
    {
     "cell_type": "code",
     "collapsed": false,
     "input": [
      "print len(sentences)"
     ],
     "language": "python",
     "metadata": {},
     "outputs": [
      {
       "output_type": "stream",
       "stream": "stdout",
       "text": [
        "795538\n"
       ]
      }
     ],
     "prompt_number": 53
    },
    {
     "cell_type": "code",
     "collapsed": false,
     "input": [
      "print sentences[0]"
     ],
     "language": "python",
     "metadata": {},
     "outputs": [
      {
       "output_type": "stream",
       "stream": "stdout",
       "text": [
        "[u'with', u'all', u'this', u'stuff', u'going', u'down', u'at', u'the', u'moment', u'with', u'mj', u'i', u've', u'started', u'listening', u'to', u'his', u'music', u'watching', u'the', u'odd', u'documentary', u'here', u'and', u'there', u'watched', u'the', u'wiz', u'and', u'watched', u'moonwalker', u'again']\n"
       ]
      }
     ],
     "prompt_number": 54
    },
    {
     "cell_type": "code",
     "collapsed": false,
     "input": [
      "import logging\n",
      "logging.basicConfig(format='%(asctime)s : %(levelname)s : %(message)s',\\\n",
      "    level=logging.INFO)"
     ],
     "language": "python",
     "metadata": {},
     "outputs": [],
     "prompt_number": 55
    },
    {
     "cell_type": "code",
     "collapsed": false,
     "input": [
      "# Set values for various parameters\n",
      "num_features = 300    # Word vector dimensionality                      \n",
      "min_word_count = 40   # Minimum word count                        \n",
      "num_workers = 4       # Number of threads to run in parallel\n",
      "context = 10          # Context window size                                                                                    \n",
      "downsampling = 1e-3   # Downsample setting for frequent words\n",
      "\n",
      "print num_features"
     ],
     "language": "python",
     "metadata": {},
     "outputs": [
      {
       "output_type": "stream",
       "stream": "stdout",
       "text": [
        "300\n"
       ]
      }
     ],
     "prompt_number": 56
    },
    {
     "cell_type": "code",
     "collapsed": false,
     "input": [
      "# Initialize and train the model (this will take some time)\n",
      "print \"Training model...\"\n",
      "model = word2vec.Word2Vec(sentences, workers=num_workers, \\\n",
      "            size=num_features, min_count = min_word_count, \\\n",
      "            window = context, sample = downsampling)\n",
      "\n",
      "# If you don't plan to train the model any further, calling \n",
      "# init_sims will make the model much more memory-efficient.\n",
      "model.init_sims(replace=True)\n",
      "\n",
      "# It can be helpful to create a meaningful model name and \n",
      "# save the model for later use. You can load it later using Word2Vec.load()\n",
      "model_name = \"300features_40minwords_10context\"\n",
      "model.save(model_name)"
     ],
     "language": "python",
     "metadata": {},
     "outputs": [
      {
       "output_type": "stream",
       "stream": "stdout",
       "text": [
        "Training model...\n"
       ]
      }
     ],
     "prompt_number": 57
    },
    {
     "cell_type": "code",
     "collapsed": false,
     "input": [
      "model.most_similar(\"awful\")"
     ],
     "language": "python",
     "metadata": {},
     "outputs": [
      {
       "metadata": {},
       "output_type": "pyout",
       "prompt_number": 58,
       "text": [
        "[(u'terrible', 0.6766393184661865),\n",
        " (u'horrible', 0.6254180073738098),\n",
        " (u'dreadful', 0.570299506187439),\n",
        " (u'horrid', 0.5553462505340576),\n",
        " (u'atrocious', 0.5412365198135376),\n",
        " (u'laughable', 0.5215750932693481),\n",
        " (u'horrendous', 0.5209496021270752),\n",
        " (u'abysmal', 0.5110344886779785),\n",
        " (u'pathetic', 0.49240240454673767),\n",
        " (u'poor', 0.4802546799182892)]"
       ]
      }
     ],
     "prompt_number": 58
    },
    {
     "cell_type": "code",
     "collapsed": false,
     "input": [
      "print model.syn0.shape"
     ],
     "language": "python",
     "metadata": {},
     "outputs": [
      {
       "output_type": "stream",
       "stream": "stdout",
       "text": [
        "(17972, 300)\n"
       ]
      }
     ],
     "prompt_number": 59
    },
    {
     "cell_type": "code",
     "collapsed": false,
     "input": [
      "model[\"flower\"]"
     ],
     "language": "python",
     "metadata": {},
     "outputs": [
      {
       "metadata": {},
       "output_type": "pyout",
       "prompt_number": 60,
       "text": [
        "array([  4.95658778e-02,  -9.05480087e-02,   3.57050262e-02,\n",
        "         1.13629550e-02,   4.83780503e-02,   5.67868464e-02,\n",
        "        -1.15787327e-01,   5.38603142e-02,  -2.20395755e-02,\n",
        "        -1.08761638e-02,  -3.87832522e-02,  -8.23917054e-03,\n",
        "         2.10555028e-02,   3.62520181e-02,  -2.85455491e-02,\n",
        "         1.37205096e-02,   5.22593521e-02,   1.43881552e-02,\n",
        "        -1.41490549e-01,  -1.24187563e-02,  -1.04406262e-02,\n",
        "         3.14022489e-02,   8.44520852e-02,   1.00242840e-02,\n",
        "         1.90688688e-02,   2.56254151e-02,  -4.83013541e-02,\n",
        "        -2.16589887e-02,  -5.44351153e-02,  -5.67445867e-02,\n",
        "         1.69335473e-02,   1.82518568e-02,   1.62047874e-02,\n",
        "        -1.49950583e-03,  -4.70469296e-02,  -6.43333569e-02,\n",
        "         2.57623922e-02,   1.39429510e-01,  -1.98125858e-02,\n",
        "        -7.01423734e-02,   8.41101408e-02,  -7.99370185e-02,\n",
        "         1.37660965e-01,  -2.35610083e-02,   6.46933094e-02,\n",
        "         1.86389871e-02,  -5.39270900e-02,   5.75048812e-02,\n",
        "        -1.35588693e-02,  -2.06188243e-02,  -3.36284600e-02,\n",
        "         3.81436944e-02,   1.50869200e-02,  -9.07246694e-02,\n",
        "        -6.16680756e-02,  -4.36298288e-02,  -4.36971858e-02,\n",
        "         6.53584823e-02,  -3.70383002e-02,  -5.93044572e-02,\n",
        "        -4.53709289e-02,   5.43191172e-02,   1.05354600e-01,\n",
        "         8.94644782e-02,  -4.81263362e-02,  -6.25518635e-02,\n",
        "        -1.44433230e-02,   3.33079472e-02,  -1.69138145e-02,\n",
        "         6.17802404e-02,  -2.08640900e-02,   8.57505295e-03,\n",
        "         8.99528787e-02,   4.15210947e-02,   1.19998045e-02,\n",
        "        -4.38295072e-03,   1.57652777e-02,  -6.76286267e-03,\n",
        "         8.02041218e-02,   6.27539381e-02,  -1.25870174e-02,\n",
        "        -4.26249169e-02,   2.47944035e-02,  -4.88284882e-03,\n",
        "         1.11776581e-02,  -2.65015326e-02,  -1.03292428e-02,\n",
        "        -2.48537008e-02,   5.00460416e-02,  -1.00404352e-01,\n",
        "        -8.11282992e-02,  -2.84067206e-02,  -2.40138965e-03,\n",
        "        -3.70014645e-02,  -7.13726059e-02,   9.60016903e-03,\n",
        "         3.23701985e-02,   1.21797621e-02,  -3.63817215e-02,\n",
        "        -1.77715789e-04,  -3.81672084e-02,   9.70658511e-02,\n",
        "         5.13361022e-03,  -6.82404041e-02,   9.34675038e-02,\n",
        "        -5.58121130e-02,   1.09494328e-02,   5.64169958e-02,\n",
        "         4.73923236e-03,  -3.06428410e-02,  -4.59378175e-02,\n",
        "         9.45244357e-02,   3.87481526e-02,   3.06998976e-02,\n",
        "         1.06135644e-02,  -1.07370853e-01,   3.41831148e-02,\n",
        "        -2.90239844e-02,  -4.34420742e-02,   3.11830547e-02,\n",
        "         1.20082330e-02,   1.63855217e-02,   6.22087792e-02,\n",
        "         8.10658038e-02,  -2.43257023e-02,   4.12462689e-02,\n",
        "         6.18929267e-02,   5.11527956e-02,   5.85691407e-02,\n",
        "         6.11424036e-02,   1.25957429e-01,   4.13100533e-02,\n",
        "         6.72489405e-02,  -4.75648120e-02,   6.55450448e-02,\n",
        "         1.04348905e-01,   9.85688493e-02,   5.15817478e-02,\n",
        "        -3.16280173e-03,   7.59507180e-04,   3.32708582e-02,\n",
        "         4.93325107e-02,   3.61538157e-02,  -4.13137395e-03,\n",
        "        -5.18431254e-02,  -6.24813810e-02,  -3.98021080e-02,\n",
        "        -2.47760471e-02,  -3.65793966e-02,   2.34018564e-02,\n",
        "         6.51534423e-02,  -9.14897919e-02,   4.94181812e-02,\n",
        "         2.45545264e-02,   9.20308102e-03,   4.39777598e-02,\n",
        "        -1.23928785e-02,  -5.19384295e-02,  -2.71062218e-02,\n",
        "         2.90163197e-02,   9.79810059e-02,  -4.09637727e-02,\n",
        "        -9.97973308e-02,  -1.63797121e-02,   3.17934230e-02,\n",
        "         5.36424816e-02,  -1.08325472e-02,  -2.50713043e-02,\n",
        "        -2.69789081e-02,   3.36445794e-02,  -8.72292463e-03,\n",
        "         3.29528190e-02,  -1.34015679e-01,  -5.99412136e-02,\n",
        "         1.50717860e-02,   3.74478549e-02,   1.18866572e-02,\n",
        "         6.35792874e-03,   3.12879495e-02,  -2.78907903e-02,\n",
        "        -3.45466100e-02,  -6.09475859e-02,  -5.94513007e-02,\n",
        "        -4.20000851e-02,   2.71648392e-02,  -1.32978205e-02,\n",
        "         5.74170314e-02,   6.05367608e-02,  -7.87066482e-03,\n",
        "        -1.12961009e-01,   6.07502759e-02,  -1.57087878e-03,\n",
        "        -8.66852105e-02,   4.76493724e-02,   3.21324244e-02,\n",
        "        -1.34507284e-01,  -7.97819570e-02,  -3.06565650e-02,\n",
        "         1.15986116e-01,   2.54838038e-02,  -1.62807219e-02,\n",
        "        -1.36995092e-02,  -1.06196545e-01,   9.43348568e-05,\n",
        "        -1.16219506e-01,   3.10632195e-02,  -8.94913375e-02,\n",
        "        -5.70407212e-02,   1.05712205e-01,  -1.26660153e-01,\n",
        "        -6.55755773e-02,   4.90935482e-02,  -8.39621201e-02,\n",
        "        -7.66426697e-02,  -2.41439790e-03,  -1.18436836e-01,\n",
        "         4.97315265e-02,   1.84720103e-02,   1.00791249e-02,\n",
        "        -5.45356199e-02,  -2.97946315e-02,   1.15072513e-02,\n",
        "        -2.93953642e-02,  -6.60397485e-02,   1.93857178e-02,\n",
        "        -1.03349440e-01,   1.30493432e-01,  -1.69131383e-02,\n",
        "         1.79386865e-02,  -6.56768084e-02,   6.32014200e-02,\n",
        "        -2.99038365e-02,  -8.69941860e-02,  -1.03498578e-01,\n",
        "         8.32279772e-03,  -2.84662959e-03,   3.99637707e-02,\n",
        "        -2.91079544e-02,   4.23616879e-02,   9.27144438e-02,\n",
        "         1.23479210e-01,   1.09728798e-02,  -8.16240907e-02,\n",
        "         3.18790190e-02,  -6.02177717e-03,   5.52137643e-02,\n",
        "        -9.35688429e-03,  -4.83611524e-02,  -6.61111400e-02,\n",
        "         4.97405976e-02,  -7.70451277e-02,  -6.15728833e-02,\n",
        "        -5.58058769e-02,   4.38402891e-02,   5.51626757e-02,\n",
        "         3.54693979e-02,  -1.80320591e-02,  -2.62165722e-02,\n",
        "        -1.21823139e-01,  -5.97598068e-02,  -7.45393485e-02,\n",
        "         4.84980196e-02,   4.31275778e-02,  -1.49184093e-01,\n",
        "         9.48289186e-02,  -2.58808192e-02,   1.66298039e-02,\n",
        "        -4.08573635e-02,   4.04049754e-02,   3.30131222e-03,\n",
        "         1.15235299e-02,  -2.07207017e-02,  -1.43582523e-02,\n",
        "         5.27269430e-02,   1.00499550e-02,  -3.75907458e-02,\n",
        "         9.98378731e-04,  -6.86265826e-02,  -3.68728824e-02,\n",
        "         7.40624666e-02,   1.38385384e-03,   8.67539197e-02,\n",
        "        -3.64859179e-02,  -1.08456910e-02,  -6.46275803e-02,\n",
        "         5.91436587e-02,   5.12291975e-02,  -1.08598039e-01,\n",
        "        -2.34232023e-02,  -1.33389547e-01,   3.25546376e-02,\n",
        "         5.97134493e-02,  -8.12128633e-02,   3.02772764e-02,\n",
        "        -2.25665029e-02,   4.46506962e-02,  -2.96726525e-02,\n",
        "         8.48706365e-02,  -1.12385727e-01,  -8.60810280e-02], dtype=float32)"
       ]
      }
     ],
     "prompt_number": 60
    },
    {
     "cell_type": "code",
     "collapsed": false,
     "input": [
      "from sklearn.cluster import KMeans\n",
      "import time\n",
      "\n",
      "start = time.time() # Start time\n",
      "\n",
      "# Set \"k\" (num_clusters) to be 1/5th of the vocabulary size, or an\n",
      "# average of 5 words per cluster\n",
      "word_vectors = model.syn0\n",
      "#num_clusters = word_vectors.shape[0] / 5\n",
      "num_clusters = 1000\n",
      "\n",
      "# Initalize a k-means object and use it to extract centroids\n",
      "kmeans_clustering = KMeans( n_clusters = num_clusters )\n",
      "idx = kmeans_clustering.fit_predict( word_vectors )\n",
      "\n",
      "# Get the end time and print how long the process took\n",
      "end = time.time()\n",
      "elapsed = end - start\n",
      "print \"Time taken for K Means clustering: \", elapsed, \"seconds.\""
     ],
     "language": "python",
     "metadata": {},
     "outputs": [
      {
       "output_type": "stream",
       "stream": "stdout",
       "text": [
        "Time taken for K Means clustering:  285.113502026 seconds.\n"
       ]
      }
     ],
     "prompt_number": 82
    },
    {
     "cell_type": "code",
     "collapsed": false,
     "input": [
      "# Create a Word / Index dictionary, mapping each vocabulary word to\n",
      "# a cluster number                                                                                            \n",
      "word_centroid_map = dict(zip( model.index2word, idx ))"
     ],
     "language": "python",
     "metadata": {},
     "outputs": [],
     "prompt_number": 83
    },
    {
     "cell_type": "code",
     "collapsed": false,
     "input": [
      "import random\n",
      "\n",
      "word_centroid2word_map = {}\n",
      "for cluster in xrange(0,num_clusters):\n",
      "    #\n",
      "    # Print the cluster number  \n",
      "    print \"\\nCluster %d\" % cluster\n",
      "    #\n",
      "    # Find all of the words for that cluster number, and print them out\n",
      "    words = []\n",
      "    for i in xrange(0,len(word_centroid_map.values())):\n",
      "        if( word_centroid_map.values()[i] == cluster ):\n",
      "            words.append(word_centroid_map.keys()[i])\n",
      "            \n",
      "    random_word = random.choice(words)\n",
      "    \n",
      "    for word in words:\n",
      "        word_centroid2word_map[word] = random_word\n",
      "    #print words\n",
      "    \n",
      "    \n",
      "\n",
      "\n",
      "\n",
      "\n",
      "\n",
      "## For the first 10 clusters\n",
      "#for cluster in xrange(0,10):\n",
      "#    #\n",
      "#    # Print the cluster number  \n",
      "#    print \"\\nCluster %d\" % cluster\n",
      "#    #\n",
      "#    # Find all of the words for that cluster number, and print them out\n",
      "#    words = []\n",
      "#    for i in xrange(0,len(word_centroid_map.values())):\n",
      "#        if( word_centroid_map.values()[i] == cluster ):\n",
      "#            words.append(word_centroid_map.keys()[i])\n",
      "#    print words\n",
      "\n",
      "print word_centroid2word_map"
     ],
     "language": "python",
     "metadata": {},
     "outputs": [
      {
       "output_type": "stream",
       "stream": "stdout",
       "text": [
        "\n",
        "Cluster 0\n",
        "\n",
        "Cluster 1"
       ]
      },
      {
       "output_type": "stream",
       "stream": "stdout",
       "text": [
        "\n",
        "\n",
        "Cluster 2"
       ]
      },
      {
       "output_type": "stream",
       "stream": "stdout",
       "text": [
        "\n",
        "\n",
        "Cluster 3"
       ]
      },
      {
       "output_type": "stream",
       "stream": "stdout",
       "text": [
        "\n",
        "\n",
        "Cluster 4"
       ]
      },
      {
       "output_type": "stream",
       "stream": "stdout",
       "text": [
        "\n",
        "\n",
        "Cluster 5"
       ]
      },
      {
       "output_type": "stream",
       "stream": "stdout",
       "text": [
        "\n",
        "\n",
        "Cluster 6"
       ]
      },
      {
       "output_type": "stream",
       "stream": "stdout",
       "text": [
        "\n",
        "\n",
        "Cluster 7"
       ]
      },
      {
       "output_type": "stream",
       "stream": "stdout",
       "text": [
        "\n",
        "\n",
        "Cluster 8"
       ]
      },
      {
       "output_type": "stream",
       "stream": "stdout",
       "text": [
        "\n",
        "\n",
        "Cluster 9"
       ]
      },
      {
       "output_type": "stream",
       "stream": "stdout",
       "text": [
        "\n",
        "\n",
        "Cluster 10"
       ]
      },
      {
       "output_type": "stream",
       "stream": "stdout",
       "text": [
        "\n",
        "\n",
        "Cluster 11"
       ]
      },
      {
       "output_type": "stream",
       "stream": "stdout",
       "text": [
        "\n",
        "\n",
        "Cluster 12"
       ]
      },
      {
       "output_type": "stream",
       "stream": "stdout",
       "text": [
        "\n",
        "\n",
        "Cluster 13"
       ]
      },
      {
       "output_type": "stream",
       "stream": "stdout",
       "text": [
        "\n",
        "\n",
        "Cluster 14"
       ]
      },
      {
       "output_type": "stream",
       "stream": "stdout",
       "text": [
        "\n",
        "\n",
        "Cluster 15"
       ]
      },
      {
       "output_type": "stream",
       "stream": "stdout",
       "text": [
        "\n",
        "\n",
        "Cluster 16"
       ]
      },
      {
       "output_type": "stream",
       "stream": "stdout",
       "text": [
        "\n",
        "\n",
        "Cluster 17"
       ]
      },
      {
       "output_type": "stream",
       "stream": "stdout",
       "text": [
        "\n",
        "\n",
        "Cluster 18"
       ]
      },
      {
       "output_type": "stream",
       "stream": "stdout",
       "text": [
        "\n",
        "\n",
        "Cluster 19"
       ]
      },
      {
       "output_type": "stream",
       "stream": "stdout",
       "text": [
        "\n",
        "\n",
        "Cluster 20"
       ]
      },
      {
       "output_type": "stream",
       "stream": "stdout",
       "text": [
        "\n",
        "\n",
        "Cluster 21"
       ]
      },
      {
       "output_type": "stream",
       "stream": "stdout",
       "text": [
        "\n",
        "\n",
        "Cluster 22"
       ]
      },
      {
       "output_type": "stream",
       "stream": "stdout",
       "text": [
        "\n",
        "\n",
        "Cluster 23"
       ]
      },
      {
       "output_type": "stream",
       "stream": "stdout",
       "text": [
        "\n",
        "\n",
        "Cluster 24"
       ]
      },
      {
       "output_type": "stream",
       "stream": "stdout",
       "text": [
        "\n",
        "\n",
        "Cluster 25"
       ]
      },
      {
       "output_type": "stream",
       "stream": "stdout",
       "text": [
        "\n",
        "\n",
        "Cluster 26"
       ]
      },
      {
       "output_type": "stream",
       "stream": "stdout",
       "text": [
        "\n",
        "\n",
        "Cluster 27"
       ]
      },
      {
       "output_type": "stream",
       "stream": "stdout",
       "text": [
        "\n",
        "\n",
        "Cluster 28"
       ]
      },
      {
       "output_type": "stream",
       "stream": "stdout",
       "text": [
        "\n",
        "\n",
        "Cluster 29"
       ]
      },
      {
       "output_type": "stream",
       "stream": "stdout",
       "text": [
        "\n",
        "\n",
        "Cluster 30"
       ]
      },
      {
       "output_type": "stream",
       "stream": "stdout",
       "text": [
        "\n",
        "\n",
        "Cluster 31"
       ]
      },
      {
       "output_type": "stream",
       "stream": "stdout",
       "text": [
        "\n",
        "\n",
        "Cluster 32"
       ]
      },
      {
       "output_type": "stream",
       "stream": "stdout",
       "text": [
        "\n",
        "\n",
        "Cluster 33"
       ]
      },
      {
       "output_type": "stream",
       "stream": "stdout",
       "text": [
        "\n",
        "\n",
        "Cluster 34"
       ]
      },
      {
       "output_type": "stream",
       "stream": "stdout",
       "text": [
        "\n",
        "\n",
        "Cluster 35"
       ]
      },
      {
       "output_type": "stream",
       "stream": "stdout",
       "text": [
        "\n",
        "\n",
        "Cluster 36"
       ]
      },
      {
       "output_type": "stream",
       "stream": "stdout",
       "text": [
        "\n",
        "\n",
        "Cluster 37"
       ]
      },
      {
       "output_type": "stream",
       "stream": "stdout",
       "text": [
        "\n",
        "\n",
        "Cluster 38"
       ]
      },
      {
       "output_type": "stream",
       "stream": "stdout",
       "text": [
        "\n",
        "\n",
        "Cluster 39"
       ]
      },
      {
       "output_type": "stream",
       "stream": "stdout",
       "text": [
        "\n",
        "\n",
        "Cluster 40"
       ]
      },
      {
       "output_type": "stream",
       "stream": "stdout",
       "text": [
        "\n",
        "\n",
        "Cluster 41"
       ]
      },
      {
       "output_type": "stream",
       "stream": "stdout",
       "text": [
        "\n",
        "\n",
        "Cluster 42"
       ]
      },
      {
       "output_type": "stream",
       "stream": "stdout",
       "text": [
        "\n",
        "\n",
        "Cluster 43"
       ]
      },
      {
       "output_type": "stream",
       "stream": "stdout",
       "text": [
        "\n",
        "\n",
        "Cluster 44"
       ]
      },
      {
       "output_type": "stream",
       "stream": "stdout",
       "text": [
        "\n",
        "\n",
        "Cluster 45"
       ]
      },
      {
       "output_type": "stream",
       "stream": "stdout",
       "text": [
        "\n",
        "\n",
        "Cluster 46"
       ]
      },
      {
       "output_type": "stream",
       "stream": "stdout",
       "text": [
        "\n",
        "\n",
        "Cluster 47"
       ]
      },
      {
       "output_type": "stream",
       "stream": "stdout",
       "text": [
        "\n",
        "\n",
        "Cluster 48"
       ]
      },
      {
       "output_type": "stream",
       "stream": "stdout",
       "text": [
        "\n",
        "\n",
        "Cluster 49"
       ]
      },
      {
       "output_type": "stream",
       "stream": "stdout",
       "text": [
        "\n",
        "\n",
        "Cluster 50"
       ]
      },
      {
       "output_type": "stream",
       "stream": "stdout",
       "text": [
        "\n",
        "\n",
        "Cluster 51"
       ]
      },
      {
       "output_type": "stream",
       "stream": "stdout",
       "text": [
        "\n",
        "\n",
        "Cluster 52"
       ]
      },
      {
       "output_type": "stream",
       "stream": "stdout",
       "text": [
        "\n",
        "\n",
        "Cluster 53"
       ]
      },
      {
       "output_type": "stream",
       "stream": "stdout",
       "text": [
        "\n",
        "\n",
        "Cluster 54"
       ]
      },
      {
       "output_type": "stream",
       "stream": "stdout",
       "text": [
        "\n",
        "\n",
        "Cluster 55"
       ]
      },
      {
       "output_type": "stream",
       "stream": "stdout",
       "text": [
        "\n",
        "\n",
        "Cluster 56"
       ]
      },
      {
       "output_type": "stream",
       "stream": "stdout",
       "text": [
        "\n",
        "\n",
        "Cluster 57"
       ]
      },
      {
       "output_type": "stream",
       "stream": "stdout",
       "text": [
        "\n",
        "\n",
        "Cluster 58"
       ]
      },
      {
       "output_type": "stream",
       "stream": "stdout",
       "text": [
        "\n",
        "\n",
        "Cluster 59"
       ]
      },
      {
       "output_type": "stream",
       "stream": "stdout",
       "text": [
        "\n",
        "\n",
        "Cluster 60"
       ]
      },
      {
       "output_type": "stream",
       "stream": "stdout",
       "text": [
        "\n",
        "\n",
        "Cluster 61"
       ]
      },
      {
       "output_type": "stream",
       "stream": "stdout",
       "text": [
        "\n",
        "\n",
        "Cluster 62"
       ]
      },
      {
       "output_type": "stream",
       "stream": "stdout",
       "text": [
        "\n",
        "\n",
        "Cluster 63"
       ]
      },
      {
       "output_type": "stream",
       "stream": "stdout",
       "text": [
        "\n",
        "\n",
        "Cluster 64"
       ]
      },
      {
       "output_type": "stream",
       "stream": "stdout",
       "text": [
        "\n",
        "\n",
        "Cluster 65"
       ]
      },
      {
       "output_type": "stream",
       "stream": "stdout",
       "text": [
        "\n",
        "\n",
        "Cluster 66"
       ]
      },
      {
       "output_type": "stream",
       "stream": "stdout",
       "text": [
        "\n",
        "\n",
        "Cluster 67"
       ]
      },
      {
       "output_type": "stream",
       "stream": "stdout",
       "text": [
        "\n",
        "\n",
        "Cluster 68"
       ]
      },
      {
       "output_type": "stream",
       "stream": "stdout",
       "text": [
        "\n",
        "\n",
        "Cluster 69"
       ]
      },
      {
       "output_type": "stream",
       "stream": "stdout",
       "text": [
        "\n",
        "\n",
        "Cluster 70"
       ]
      },
      {
       "output_type": "stream",
       "stream": "stdout",
       "text": [
        "\n",
        "\n",
        "Cluster 71"
       ]
      },
      {
       "output_type": "stream",
       "stream": "stdout",
       "text": [
        "\n",
        "\n",
        "Cluster 72"
       ]
      },
      {
       "output_type": "stream",
       "stream": "stdout",
       "text": [
        "\n",
        "\n",
        "Cluster 73"
       ]
      },
      {
       "output_type": "stream",
       "stream": "stdout",
       "text": [
        "\n",
        "\n",
        "Cluster 74"
       ]
      },
      {
       "output_type": "stream",
       "stream": "stdout",
       "text": [
        "\n",
        "\n",
        "Cluster 75"
       ]
      },
      {
       "output_type": "stream",
       "stream": "stdout",
       "text": [
        "\n",
        "\n",
        "Cluster 76"
       ]
      },
      {
       "output_type": "stream",
       "stream": "stdout",
       "text": [
        "\n",
        "\n",
        "Cluster 77"
       ]
      },
      {
       "output_type": "stream",
       "stream": "stdout",
       "text": [
        "\n",
        "\n",
        "Cluster 78"
       ]
      },
      {
       "output_type": "stream",
       "stream": "stdout",
       "text": [
        "\n",
        "\n",
        "Cluster 79"
       ]
      },
      {
       "output_type": "stream",
       "stream": "stdout",
       "text": [
        "\n",
        "\n",
        "Cluster 80"
       ]
      },
      {
       "output_type": "stream",
       "stream": "stdout",
       "text": [
        "\n",
        "\n",
        "Cluster 81"
       ]
      },
      {
       "output_type": "stream",
       "stream": "stdout",
       "text": [
        "\n",
        "\n",
        "Cluster 82"
       ]
      },
      {
       "output_type": "stream",
       "stream": "stdout",
       "text": [
        "\n",
        "\n",
        "Cluster 83"
       ]
      },
      {
       "output_type": "stream",
       "stream": "stdout",
       "text": [
        "\n",
        "\n",
        "Cluster 84"
       ]
      },
      {
       "output_type": "stream",
       "stream": "stdout",
       "text": [
        "\n",
        "\n",
        "Cluster 85"
       ]
      },
      {
       "output_type": "stream",
       "stream": "stdout",
       "text": [
        "\n",
        "\n",
        "Cluster 86"
       ]
      },
      {
       "output_type": "stream",
       "stream": "stdout",
       "text": [
        "\n",
        "\n",
        "Cluster 87"
       ]
      },
      {
       "output_type": "stream",
       "stream": "stdout",
       "text": [
        "\n",
        "\n",
        "Cluster 88"
       ]
      },
      {
       "output_type": "stream",
       "stream": "stdout",
       "text": [
        "\n",
        "\n",
        "Cluster 89"
       ]
      },
      {
       "output_type": "stream",
       "stream": "stdout",
       "text": [
        "\n",
        "\n",
        "Cluster 90"
       ]
      },
      {
       "output_type": "stream",
       "stream": "stdout",
       "text": [
        "\n",
        "\n",
        "Cluster 91"
       ]
      },
      {
       "output_type": "stream",
       "stream": "stdout",
       "text": [
        "\n",
        "\n",
        "Cluster 92"
       ]
      },
      {
       "output_type": "stream",
       "stream": "stdout",
       "text": [
        "\n",
        "\n",
        "Cluster 93"
       ]
      },
      {
       "output_type": "stream",
       "stream": "stdout",
       "text": [
        "\n",
        "\n",
        "Cluster 94"
       ]
      },
      {
       "output_type": "stream",
       "stream": "stdout",
       "text": [
        "\n",
        "\n",
        "Cluster 95"
       ]
      },
      {
       "output_type": "stream",
       "stream": "stdout",
       "text": [
        "\n",
        "\n",
        "Cluster 96"
       ]
      },
      {
       "output_type": "stream",
       "stream": "stdout",
       "text": [
        "\n",
        "\n",
        "Cluster 97"
       ]
      },
      {
       "output_type": "stream",
       "stream": "stdout",
       "text": [
        "\n",
        "\n",
        "Cluster 98"
       ]
      },
      {
       "output_type": "stream",
       "stream": "stdout",
       "text": [
        "\n",
        "\n",
        "Cluster 99"
       ]
      },
      {
       "output_type": "stream",
       "stream": "stdout",
       "text": [
        "\n",
        "\n",
        "Cluster 100"
       ]
      },
      {
       "output_type": "stream",
       "stream": "stdout",
       "text": [
        "\n",
        "\n",
        "Cluster 101"
       ]
      },
      {
       "output_type": "stream",
       "stream": "stdout",
       "text": [
        "\n",
        "\n",
        "Cluster 102"
       ]
      },
      {
       "output_type": "stream",
       "stream": "stdout",
       "text": [
        "\n",
        "\n",
        "Cluster 103"
       ]
      },
      {
       "output_type": "stream",
       "stream": "stdout",
       "text": [
        "\n",
        "\n",
        "Cluster 104"
       ]
      },
      {
       "output_type": "stream",
       "stream": "stdout",
       "text": [
        "\n",
        "\n",
        "Cluster 105"
       ]
      },
      {
       "output_type": "stream",
       "stream": "stdout",
       "text": [
        "\n",
        "\n",
        "Cluster 106"
       ]
      },
      {
       "output_type": "stream",
       "stream": "stdout",
       "text": [
        "\n",
        "\n",
        "Cluster 107"
       ]
      },
      {
       "output_type": "stream",
       "stream": "stdout",
       "text": [
        "\n",
        "\n",
        "Cluster 108"
       ]
      },
      {
       "output_type": "stream",
       "stream": "stdout",
       "text": [
        "\n",
        "\n",
        "Cluster 109"
       ]
      },
      {
       "output_type": "stream",
       "stream": "stdout",
       "text": [
        "\n",
        "\n",
        "Cluster 110"
       ]
      },
      {
       "output_type": "stream",
       "stream": "stdout",
       "text": [
        "\n",
        "\n",
        "Cluster 111"
       ]
      },
      {
       "output_type": "stream",
       "stream": "stdout",
       "text": [
        "\n",
        "\n",
        "Cluster 112"
       ]
      },
      {
       "output_type": "stream",
       "stream": "stdout",
       "text": [
        "\n",
        "\n",
        "Cluster 113"
       ]
      },
      {
       "output_type": "stream",
       "stream": "stdout",
       "text": [
        "\n",
        "\n",
        "Cluster 114"
       ]
      },
      {
       "output_type": "stream",
       "stream": "stdout",
       "text": [
        "\n",
        "\n",
        "Cluster 115"
       ]
      },
      {
       "output_type": "stream",
       "stream": "stdout",
       "text": [
        "\n",
        "\n",
        "Cluster 116"
       ]
      },
      {
       "output_type": "stream",
       "stream": "stdout",
       "text": [
        "\n",
        "\n",
        "Cluster 117"
       ]
      },
      {
       "output_type": "stream",
       "stream": "stdout",
       "text": [
        "\n",
        "\n",
        "Cluster 118"
       ]
      },
      {
       "output_type": "stream",
       "stream": "stdout",
       "text": [
        "\n",
        "\n",
        "Cluster 119"
       ]
      },
      {
       "output_type": "stream",
       "stream": "stdout",
       "text": [
        "\n",
        "\n",
        "Cluster 120"
       ]
      },
      {
       "output_type": "stream",
       "stream": "stdout",
       "text": [
        "\n",
        "\n",
        "Cluster 121"
       ]
      },
      {
       "output_type": "stream",
       "stream": "stdout",
       "text": [
        "\n",
        "\n",
        "Cluster 122"
       ]
      },
      {
       "output_type": "stream",
       "stream": "stdout",
       "text": [
        "\n",
        "\n",
        "Cluster 123"
       ]
      },
      {
       "output_type": "stream",
       "stream": "stdout",
       "text": [
        "\n",
        "\n",
        "Cluster 124"
       ]
      },
      {
       "output_type": "stream",
       "stream": "stdout",
       "text": [
        "\n",
        "\n",
        "Cluster 125"
       ]
      },
      {
       "output_type": "stream",
       "stream": "stdout",
       "text": [
        "\n",
        "\n",
        "Cluster 126"
       ]
      },
      {
       "output_type": "stream",
       "stream": "stdout",
       "text": [
        "\n",
        "\n",
        "Cluster 127"
       ]
      },
      {
       "output_type": "stream",
       "stream": "stdout",
       "text": [
        "\n",
        "\n",
        "Cluster 128"
       ]
      },
      {
       "output_type": "stream",
       "stream": "stdout",
       "text": [
        "\n",
        "\n",
        "Cluster 129"
       ]
      },
      {
       "output_type": "stream",
       "stream": "stdout",
       "text": [
        "\n",
        "\n",
        "Cluster 130"
       ]
      },
      {
       "output_type": "stream",
       "stream": "stdout",
       "text": [
        "\n",
        "\n",
        "Cluster 131"
       ]
      },
      {
       "output_type": "stream",
       "stream": "stdout",
       "text": [
        "\n",
        "\n",
        "Cluster 132"
       ]
      },
      {
       "output_type": "stream",
       "stream": "stdout",
       "text": [
        "\n",
        "\n",
        "Cluster 133"
       ]
      },
      {
       "output_type": "stream",
       "stream": "stdout",
       "text": [
        "\n",
        "\n",
        "Cluster 134"
       ]
      },
      {
       "output_type": "stream",
       "stream": "stdout",
       "text": [
        "\n",
        "\n",
        "Cluster 135"
       ]
      },
      {
       "output_type": "stream",
       "stream": "stdout",
       "text": [
        "\n",
        "\n",
        "Cluster 136"
       ]
      },
      {
       "output_type": "stream",
       "stream": "stdout",
       "text": [
        "\n",
        "\n",
        "Cluster 137"
       ]
      },
      {
       "output_type": "stream",
       "stream": "stdout",
       "text": [
        "\n",
        "\n",
        "Cluster 138"
       ]
      },
      {
       "output_type": "stream",
       "stream": "stdout",
       "text": [
        "\n",
        "\n",
        "Cluster 139"
       ]
      },
      {
       "output_type": "stream",
       "stream": "stdout",
       "text": [
        "\n",
        "\n",
        "Cluster 140"
       ]
      },
      {
       "output_type": "stream",
       "stream": "stdout",
       "text": [
        "\n",
        "\n",
        "Cluster 141"
       ]
      },
      {
       "output_type": "stream",
       "stream": "stdout",
       "text": [
        "\n",
        "\n",
        "Cluster 142"
       ]
      },
      {
       "output_type": "stream",
       "stream": "stdout",
       "text": [
        "\n",
        "\n",
        "Cluster 143"
       ]
      },
      {
       "output_type": "stream",
       "stream": "stdout",
       "text": [
        "\n",
        "\n",
        "Cluster 144"
       ]
      },
      {
       "output_type": "stream",
       "stream": "stdout",
       "text": [
        "\n",
        "\n",
        "Cluster 145"
       ]
      },
      {
       "output_type": "stream",
       "stream": "stdout",
       "text": [
        "\n",
        "\n",
        "Cluster 146"
       ]
      },
      {
       "output_type": "stream",
       "stream": "stdout",
       "text": [
        "\n",
        "\n",
        "Cluster 147"
       ]
      },
      {
       "output_type": "stream",
       "stream": "stdout",
       "text": [
        "\n",
        "\n",
        "Cluster 148"
       ]
      },
      {
       "output_type": "stream",
       "stream": "stdout",
       "text": [
        "\n",
        "\n",
        "Cluster 149"
       ]
      },
      {
       "output_type": "stream",
       "stream": "stdout",
       "text": [
        "\n",
        "\n",
        "Cluster 150"
       ]
      },
      {
       "output_type": "stream",
       "stream": "stdout",
       "text": [
        "\n",
        "\n",
        "Cluster 151"
       ]
      },
      {
       "output_type": "stream",
       "stream": "stdout",
       "text": [
        "\n",
        "\n",
        "Cluster 152"
       ]
      },
      {
       "output_type": "stream",
       "stream": "stdout",
       "text": [
        "\n",
        "\n",
        "Cluster 153"
       ]
      },
      {
       "output_type": "stream",
       "stream": "stdout",
       "text": [
        "\n",
        "\n",
        "Cluster 154"
       ]
      },
      {
       "output_type": "stream",
       "stream": "stdout",
       "text": [
        "\n",
        "\n",
        "Cluster 155"
       ]
      },
      {
       "output_type": "stream",
       "stream": "stdout",
       "text": [
        "\n",
        "\n",
        "Cluster 156"
       ]
      },
      {
       "output_type": "stream",
       "stream": "stdout",
       "text": [
        "\n",
        "\n",
        "Cluster 157"
       ]
      },
      {
       "output_type": "stream",
       "stream": "stdout",
       "text": [
        "\n",
        "\n",
        "Cluster 158"
       ]
      },
      {
       "output_type": "stream",
       "stream": "stdout",
       "text": [
        "\n",
        "\n",
        "Cluster 159"
       ]
      },
      {
       "output_type": "stream",
       "stream": "stdout",
       "text": [
        "\n",
        "\n",
        "Cluster 160"
       ]
      },
      {
       "output_type": "stream",
       "stream": "stdout",
       "text": [
        "\n",
        "\n",
        "Cluster 161"
       ]
      },
      {
       "output_type": "stream",
       "stream": "stdout",
       "text": [
        "\n",
        "\n",
        "Cluster 162"
       ]
      },
      {
       "output_type": "stream",
       "stream": "stdout",
       "text": [
        "\n",
        "\n",
        "Cluster 163"
       ]
      },
      {
       "output_type": "stream",
       "stream": "stdout",
       "text": [
        "\n",
        "\n",
        "Cluster 164"
       ]
      },
      {
       "output_type": "stream",
       "stream": "stdout",
       "text": [
        "\n",
        "\n",
        "Cluster 165"
       ]
      },
      {
       "output_type": "stream",
       "stream": "stdout",
       "text": [
        "\n",
        "\n",
        "Cluster 166"
       ]
      },
      {
       "output_type": "stream",
       "stream": "stdout",
       "text": [
        "\n",
        "\n",
        "Cluster 167"
       ]
      },
      {
       "output_type": "stream",
       "stream": "stdout",
       "text": [
        "\n",
        "\n",
        "Cluster 168"
       ]
      },
      {
       "output_type": "stream",
       "stream": "stdout",
       "text": [
        "\n",
        "\n",
        "Cluster 169"
       ]
      },
      {
       "output_type": "stream",
       "stream": "stdout",
       "text": [
        "\n",
        "\n",
        "Cluster 170"
       ]
      },
      {
       "output_type": "stream",
       "stream": "stdout",
       "text": [
        "\n",
        "\n",
        "Cluster 171"
       ]
      },
      {
       "output_type": "stream",
       "stream": "stdout",
       "text": [
        "\n",
        "\n",
        "Cluster 172"
       ]
      },
      {
       "output_type": "stream",
       "stream": "stdout",
       "text": [
        "\n",
        "\n",
        "Cluster 173"
       ]
      },
      {
       "output_type": "stream",
       "stream": "stdout",
       "text": [
        "\n",
        "\n",
        "Cluster 174"
       ]
      },
      {
       "output_type": "stream",
       "stream": "stdout",
       "text": [
        "\n",
        "\n",
        "Cluster 175"
       ]
      },
      {
       "output_type": "stream",
       "stream": "stdout",
       "text": [
        "\n",
        "\n",
        "Cluster 176"
       ]
      },
      {
       "output_type": "stream",
       "stream": "stdout",
       "text": [
        "\n",
        "\n",
        "Cluster 177"
       ]
      },
      {
       "output_type": "stream",
       "stream": "stdout",
       "text": [
        "\n",
        "\n",
        "Cluster 178"
       ]
      },
      {
       "output_type": "stream",
       "stream": "stdout",
       "text": [
        "\n",
        "\n",
        "Cluster 179"
       ]
      },
      {
       "output_type": "stream",
       "stream": "stdout",
       "text": [
        "\n",
        "\n",
        "Cluster 180"
       ]
      },
      {
       "output_type": "stream",
       "stream": "stdout",
       "text": [
        "\n",
        "\n",
        "Cluster 181"
       ]
      },
      {
       "output_type": "stream",
       "stream": "stdout",
       "text": [
        "\n",
        "\n",
        "Cluster 182"
       ]
      },
      {
       "output_type": "stream",
       "stream": "stdout",
       "text": [
        "\n",
        "\n",
        "Cluster 183"
       ]
      },
      {
       "output_type": "stream",
       "stream": "stdout",
       "text": [
        "\n",
        "\n",
        "Cluster 184"
       ]
      },
      {
       "output_type": "stream",
       "stream": "stdout",
       "text": [
        "\n",
        "\n",
        "Cluster 185"
       ]
      },
      {
       "output_type": "stream",
       "stream": "stdout",
       "text": [
        "\n",
        "\n",
        "Cluster 186"
       ]
      },
      {
       "output_type": "stream",
       "stream": "stdout",
       "text": [
        "\n",
        "\n",
        "Cluster 187"
       ]
      },
      {
       "output_type": "stream",
       "stream": "stdout",
       "text": [
        "\n",
        "\n",
        "Cluster 188"
       ]
      },
      {
       "output_type": "stream",
       "stream": "stdout",
       "text": [
        "\n",
        "\n",
        "Cluster 189"
       ]
      },
      {
       "output_type": "stream",
       "stream": "stdout",
       "text": [
        "\n",
        "\n",
        "Cluster 190"
       ]
      },
      {
       "output_type": "stream",
       "stream": "stdout",
       "text": [
        "\n",
        "\n",
        "Cluster 191"
       ]
      },
      {
       "output_type": "stream",
       "stream": "stdout",
       "text": [
        "\n",
        "\n",
        "Cluster 192"
       ]
      },
      {
       "output_type": "stream",
       "stream": "stdout",
       "text": [
        "\n",
        "\n",
        "Cluster 193"
       ]
      },
      {
       "output_type": "stream",
       "stream": "stdout",
       "text": [
        "\n",
        "\n",
        "Cluster 194"
       ]
      },
      {
       "output_type": "stream",
       "stream": "stdout",
       "text": [
        "\n",
        "\n",
        "Cluster 195"
       ]
      },
      {
       "output_type": "stream",
       "stream": "stdout",
       "text": [
        "\n",
        "\n",
        "Cluster 196"
       ]
      },
      {
       "output_type": "stream",
       "stream": "stdout",
       "text": [
        "\n",
        "\n",
        "Cluster 197"
       ]
      },
      {
       "output_type": "stream",
       "stream": "stdout",
       "text": [
        "\n",
        "\n",
        "Cluster 198"
       ]
      },
      {
       "output_type": "stream",
       "stream": "stdout",
       "text": [
        "\n",
        "\n",
        "Cluster 199"
       ]
      },
      {
       "output_type": "stream",
       "stream": "stdout",
       "text": [
        "\n",
        "\n",
        "Cluster 200"
       ]
      },
      {
       "output_type": "stream",
       "stream": "stdout",
       "text": [
        "\n",
        "\n",
        "Cluster 201"
       ]
      },
      {
       "output_type": "stream",
       "stream": "stdout",
       "text": [
        "\n",
        "\n",
        "Cluster 202"
       ]
      },
      {
       "output_type": "stream",
       "stream": "stdout",
       "text": [
        "\n",
        "\n",
        "Cluster 203"
       ]
      },
      {
       "output_type": "stream",
       "stream": "stdout",
       "text": [
        "\n",
        "\n",
        "Cluster 204"
       ]
      },
      {
       "output_type": "stream",
       "stream": "stdout",
       "text": [
        "\n",
        "\n",
        "Cluster 205"
       ]
      },
      {
       "output_type": "stream",
       "stream": "stdout",
       "text": [
        "\n",
        "\n",
        "Cluster 206"
       ]
      },
      {
       "output_type": "stream",
       "stream": "stdout",
       "text": [
        "\n",
        "\n",
        "Cluster 207"
       ]
      },
      {
       "output_type": "stream",
       "stream": "stdout",
       "text": [
        "\n",
        "\n",
        "Cluster 208"
       ]
      },
      {
       "output_type": "stream",
       "stream": "stdout",
       "text": [
        "\n",
        "\n",
        "Cluster 209"
       ]
      },
      {
       "output_type": "stream",
       "stream": "stdout",
       "text": [
        "\n",
        "\n",
        "Cluster 210"
       ]
      },
      {
       "output_type": "stream",
       "stream": "stdout",
       "text": [
        "\n",
        "\n",
        "Cluster 211"
       ]
      },
      {
       "output_type": "stream",
       "stream": "stdout",
       "text": [
        "\n",
        "\n",
        "Cluster 212"
       ]
      },
      {
       "output_type": "stream",
       "stream": "stdout",
       "text": [
        "\n",
        "\n",
        "Cluster 213"
       ]
      },
      {
       "output_type": "stream",
       "stream": "stdout",
       "text": [
        "\n",
        "\n",
        "Cluster 214"
       ]
      },
      {
       "output_type": "stream",
       "stream": "stdout",
       "text": [
        "\n",
        "\n",
        "Cluster 215"
       ]
      },
      {
       "output_type": "stream",
       "stream": "stdout",
       "text": [
        "\n",
        "\n",
        "Cluster 216"
       ]
      },
      {
       "output_type": "stream",
       "stream": "stdout",
       "text": [
        "\n",
        "\n",
        "Cluster 217"
       ]
      },
      {
       "output_type": "stream",
       "stream": "stdout",
       "text": [
        "\n",
        "\n",
        "Cluster 218"
       ]
      },
      {
       "output_type": "stream",
       "stream": "stdout",
       "text": [
        "\n",
        "\n",
        "Cluster 219"
       ]
      },
      {
       "output_type": "stream",
       "stream": "stdout",
       "text": [
        "\n",
        "\n",
        "Cluster 220"
       ]
      },
      {
       "output_type": "stream",
       "stream": "stdout",
       "text": [
        "\n",
        "\n",
        "Cluster 221"
       ]
      },
      {
       "output_type": "stream",
       "stream": "stdout",
       "text": [
        "\n",
        "\n",
        "Cluster 222"
       ]
      },
      {
       "output_type": "stream",
       "stream": "stdout",
       "text": [
        "\n",
        "\n",
        "Cluster 223"
       ]
      },
      {
       "output_type": "stream",
       "stream": "stdout",
       "text": [
        "\n",
        "\n",
        "Cluster 224"
       ]
      },
      {
       "output_type": "stream",
       "stream": "stdout",
       "text": [
        "\n",
        "\n",
        "Cluster 225"
       ]
      },
      {
       "output_type": "stream",
       "stream": "stdout",
       "text": [
        "\n",
        "\n",
        "Cluster 226"
       ]
      },
      {
       "output_type": "stream",
       "stream": "stdout",
       "text": [
        "\n",
        "\n",
        "Cluster 227"
       ]
      },
      {
       "output_type": "stream",
       "stream": "stdout",
       "text": [
        "\n",
        "\n",
        "Cluster 228"
       ]
      },
      {
       "output_type": "stream",
       "stream": "stdout",
       "text": [
        "\n",
        "\n",
        "Cluster 229"
       ]
      },
      {
       "output_type": "stream",
       "stream": "stdout",
       "text": [
        "\n",
        "\n",
        "Cluster 230"
       ]
      },
      {
       "output_type": "stream",
       "stream": "stdout",
       "text": [
        "\n",
        "\n",
        "Cluster 231"
       ]
      },
      {
       "output_type": "stream",
       "stream": "stdout",
       "text": [
        "\n",
        "\n",
        "Cluster 232"
       ]
      },
      {
       "output_type": "stream",
       "stream": "stdout",
       "text": [
        "\n",
        "\n",
        "Cluster 233"
       ]
      },
      {
       "output_type": "stream",
       "stream": "stdout",
       "text": [
        "\n",
        "\n",
        "Cluster 234"
       ]
      },
      {
       "output_type": "stream",
       "stream": "stdout",
       "text": [
        "\n",
        "\n",
        "Cluster 235"
       ]
      },
      {
       "output_type": "stream",
       "stream": "stdout",
       "text": [
        "\n",
        "\n",
        "Cluster 236"
       ]
      },
      {
       "output_type": "stream",
       "stream": "stdout",
       "text": [
        "\n",
        "\n",
        "Cluster 237"
       ]
      },
      {
       "output_type": "stream",
       "stream": "stdout",
       "text": [
        "\n",
        "\n",
        "Cluster 238"
       ]
      },
      {
       "output_type": "stream",
       "stream": "stdout",
       "text": [
        "\n",
        "\n",
        "Cluster 239"
       ]
      },
      {
       "output_type": "stream",
       "stream": "stdout",
       "text": [
        "\n",
        "\n",
        "Cluster 240"
       ]
      },
      {
       "output_type": "stream",
       "stream": "stdout",
       "text": [
        "\n",
        "\n",
        "Cluster 241"
       ]
      },
      {
       "output_type": "stream",
       "stream": "stdout",
       "text": [
        "\n",
        "\n",
        "Cluster 242"
       ]
      },
      {
       "output_type": "stream",
       "stream": "stdout",
       "text": [
        "\n",
        "\n",
        "Cluster 243"
       ]
      },
      {
       "output_type": "stream",
       "stream": "stdout",
       "text": [
        "\n",
        "\n",
        "Cluster 244"
       ]
      },
      {
       "output_type": "stream",
       "stream": "stdout",
       "text": [
        "\n",
        "\n",
        "Cluster 245"
       ]
      },
      {
       "output_type": "stream",
       "stream": "stdout",
       "text": [
        "\n",
        "\n",
        "Cluster 246"
       ]
      },
      {
       "output_type": "stream",
       "stream": "stdout",
       "text": [
        "\n",
        "\n",
        "Cluster 247"
       ]
      },
      {
       "output_type": "stream",
       "stream": "stdout",
       "text": [
        "\n",
        "\n",
        "Cluster 248"
       ]
      },
      {
       "output_type": "stream",
       "stream": "stdout",
       "text": [
        "\n",
        "\n",
        "Cluster 249"
       ]
      },
      {
       "output_type": "stream",
       "stream": "stdout",
       "text": [
        "\n",
        "\n",
        "Cluster 250"
       ]
      },
      {
       "output_type": "stream",
       "stream": "stdout",
       "text": [
        "\n",
        "\n",
        "Cluster 251"
       ]
      },
      {
       "output_type": "stream",
       "stream": "stdout",
       "text": [
        "\n",
        "\n",
        "Cluster 252"
       ]
      },
      {
       "output_type": "stream",
       "stream": "stdout",
       "text": [
        "\n",
        "\n",
        "Cluster 253"
       ]
      },
      {
       "output_type": "stream",
       "stream": "stdout",
       "text": [
        "\n",
        "\n",
        "Cluster 254"
       ]
      },
      {
       "output_type": "stream",
       "stream": "stdout",
       "text": [
        "\n",
        "\n",
        "Cluster 255"
       ]
      },
      {
       "output_type": "stream",
       "stream": "stdout",
       "text": [
        "\n",
        "\n",
        "Cluster 256"
       ]
      },
      {
       "output_type": "stream",
       "stream": "stdout",
       "text": [
        "\n",
        "\n",
        "Cluster 257"
       ]
      },
      {
       "output_type": "stream",
       "stream": "stdout",
       "text": [
        "\n",
        "\n",
        "Cluster 258"
       ]
      },
      {
       "output_type": "stream",
       "stream": "stdout",
       "text": [
        "\n",
        "\n",
        "Cluster 259"
       ]
      },
      {
       "output_type": "stream",
       "stream": "stdout",
       "text": [
        "\n",
        "\n",
        "Cluster 260"
       ]
      },
      {
       "output_type": "stream",
       "stream": "stdout",
       "text": [
        "\n",
        "\n",
        "Cluster 261"
       ]
      },
      {
       "output_type": "stream",
       "stream": "stdout",
       "text": [
        "\n",
        "\n",
        "Cluster 262"
       ]
      },
      {
       "output_type": "stream",
       "stream": "stdout",
       "text": [
        "\n",
        "\n",
        "Cluster 263"
       ]
      },
      {
       "output_type": "stream",
       "stream": "stdout",
       "text": [
        "\n",
        "\n",
        "Cluster 264"
       ]
      },
      {
       "output_type": "stream",
       "stream": "stdout",
       "text": [
        "\n",
        "\n",
        "Cluster 265"
       ]
      },
      {
       "output_type": "stream",
       "stream": "stdout",
       "text": [
        "\n",
        "\n",
        "Cluster 266"
       ]
      },
      {
       "output_type": "stream",
       "stream": "stdout",
       "text": [
        "\n",
        "\n",
        "Cluster 267"
       ]
      },
      {
       "output_type": "stream",
       "stream": "stdout",
       "text": [
        "\n",
        "\n",
        "Cluster 268"
       ]
      },
      {
       "output_type": "stream",
       "stream": "stdout",
       "text": [
        "\n",
        "\n",
        "Cluster 269"
       ]
      },
      {
       "output_type": "stream",
       "stream": "stdout",
       "text": [
        "\n",
        "\n",
        "Cluster 270"
       ]
      },
      {
       "output_type": "stream",
       "stream": "stdout",
       "text": [
        "\n",
        "\n",
        "Cluster 271"
       ]
      },
      {
       "output_type": "stream",
       "stream": "stdout",
       "text": [
        "\n",
        "\n",
        "Cluster 272"
       ]
      },
      {
       "output_type": "stream",
       "stream": "stdout",
       "text": [
        "\n",
        "\n",
        "Cluster 273"
       ]
      },
      {
       "output_type": "stream",
       "stream": "stdout",
       "text": [
        "\n",
        "\n",
        "Cluster 274"
       ]
      },
      {
       "output_type": "stream",
       "stream": "stdout",
       "text": [
        "\n",
        "\n",
        "Cluster 275"
       ]
      },
      {
       "output_type": "stream",
       "stream": "stdout",
       "text": [
        "\n",
        "\n",
        "Cluster 276"
       ]
      },
      {
       "output_type": "stream",
       "stream": "stdout",
       "text": [
        "\n",
        "\n",
        "Cluster 277"
       ]
      },
      {
       "output_type": "stream",
       "stream": "stdout",
       "text": [
        "\n",
        "\n",
        "Cluster 278"
       ]
      },
      {
       "output_type": "stream",
       "stream": "stdout",
       "text": [
        "\n",
        "\n",
        "Cluster 279"
       ]
      },
      {
       "output_type": "stream",
       "stream": "stdout",
       "text": [
        "\n",
        "\n",
        "Cluster 280"
       ]
      },
      {
       "output_type": "stream",
       "stream": "stdout",
       "text": [
        "\n",
        "\n",
        "Cluster 281"
       ]
      },
      {
       "output_type": "stream",
       "stream": "stdout",
       "text": [
        "\n",
        "\n",
        "Cluster 282"
       ]
      },
      {
       "output_type": "stream",
       "stream": "stdout",
       "text": [
        "\n",
        "\n",
        "Cluster 283"
       ]
      },
      {
       "output_type": "stream",
       "stream": "stdout",
       "text": [
        "\n",
        "\n",
        "Cluster 284"
       ]
      },
      {
       "output_type": "stream",
       "stream": "stdout",
       "text": [
        "\n",
        "\n",
        "Cluster 285"
       ]
      },
      {
       "output_type": "stream",
       "stream": "stdout",
       "text": [
        "\n",
        "\n",
        "Cluster 286"
       ]
      },
      {
       "output_type": "stream",
       "stream": "stdout",
       "text": [
        "\n",
        "\n",
        "Cluster 287"
       ]
      },
      {
       "output_type": "stream",
       "stream": "stdout",
       "text": [
        "\n",
        "\n",
        "Cluster 288"
       ]
      },
      {
       "output_type": "stream",
       "stream": "stdout",
       "text": [
        "\n",
        "\n",
        "Cluster 289"
       ]
      },
      {
       "output_type": "stream",
       "stream": "stdout",
       "text": [
        "\n",
        "\n",
        "Cluster 290"
       ]
      },
      {
       "output_type": "stream",
       "stream": "stdout",
       "text": [
        "\n",
        "\n",
        "Cluster 291"
       ]
      },
      {
       "output_type": "stream",
       "stream": "stdout",
       "text": [
        "\n",
        "\n",
        "Cluster 292"
       ]
      },
      {
       "output_type": "stream",
       "stream": "stdout",
       "text": [
        "\n",
        "\n",
        "Cluster 293"
       ]
      },
      {
       "output_type": "stream",
       "stream": "stdout",
       "text": [
        "\n",
        "\n",
        "Cluster 294"
       ]
      },
      {
       "output_type": "stream",
       "stream": "stdout",
       "text": [
        "\n",
        "\n",
        "Cluster 295"
       ]
      },
      {
       "output_type": "stream",
       "stream": "stdout",
       "text": [
        "\n",
        "\n",
        "Cluster 296"
       ]
      },
      {
       "output_type": "stream",
       "stream": "stdout",
       "text": [
        "\n",
        "\n",
        "Cluster 297"
       ]
      },
      {
       "output_type": "stream",
       "stream": "stdout",
       "text": [
        "\n",
        "\n",
        "Cluster 298"
       ]
      },
      {
       "output_type": "stream",
       "stream": "stdout",
       "text": [
        "\n",
        "\n",
        "Cluster 299"
       ]
      },
      {
       "output_type": "stream",
       "stream": "stdout",
       "text": [
        "\n",
        "\n",
        "Cluster 300"
       ]
      },
      {
       "output_type": "stream",
       "stream": "stdout",
       "text": [
        "\n",
        "\n",
        "Cluster 301"
       ]
      },
      {
       "output_type": "stream",
       "stream": "stdout",
       "text": [
        "\n",
        "\n",
        "Cluster 302"
       ]
      },
      {
       "output_type": "stream",
       "stream": "stdout",
       "text": [
        "\n",
        "\n",
        "Cluster 303"
       ]
      },
      {
       "output_type": "stream",
       "stream": "stdout",
       "text": [
        "\n",
        "\n",
        "Cluster 304"
       ]
      },
      {
       "output_type": "stream",
       "stream": "stdout",
       "text": [
        "\n",
        "\n",
        "Cluster 305"
       ]
      },
      {
       "output_type": "stream",
       "stream": "stdout",
       "text": [
        "\n",
        "\n",
        "Cluster 306"
       ]
      },
      {
       "output_type": "stream",
       "stream": "stdout",
       "text": [
        "\n",
        "\n",
        "Cluster 307"
       ]
      },
      {
       "output_type": "stream",
       "stream": "stdout",
       "text": [
        "\n",
        "\n",
        "Cluster 308"
       ]
      },
      {
       "output_type": "stream",
       "stream": "stdout",
       "text": [
        "\n",
        "\n",
        "Cluster 309"
       ]
      },
      {
       "output_type": "stream",
       "stream": "stdout",
       "text": [
        "\n",
        "\n",
        "Cluster 310"
       ]
      },
      {
       "output_type": "stream",
       "stream": "stdout",
       "text": [
        "\n",
        "\n",
        "Cluster 311"
       ]
      },
      {
       "output_type": "stream",
       "stream": "stdout",
       "text": [
        "\n",
        "\n",
        "Cluster 312"
       ]
      },
      {
       "output_type": "stream",
       "stream": "stdout",
       "text": [
        "\n",
        "\n",
        "Cluster 313"
       ]
      },
      {
       "output_type": "stream",
       "stream": "stdout",
       "text": [
        "\n",
        "\n",
        "Cluster 314"
       ]
      },
      {
       "output_type": "stream",
       "stream": "stdout",
       "text": [
        "\n",
        "\n",
        "Cluster 315"
       ]
      },
      {
       "output_type": "stream",
       "stream": "stdout",
       "text": [
        "\n",
        "\n",
        "Cluster 316"
       ]
      },
      {
       "output_type": "stream",
       "stream": "stdout",
       "text": [
        "\n",
        "\n",
        "Cluster 317"
       ]
      },
      {
       "output_type": "stream",
       "stream": "stdout",
       "text": [
        "\n",
        "\n",
        "Cluster 318"
       ]
      },
      {
       "output_type": "stream",
       "stream": "stdout",
       "text": [
        "\n",
        "\n",
        "Cluster 319"
       ]
      },
      {
       "output_type": "stream",
       "stream": "stdout",
       "text": [
        "\n",
        "\n",
        "Cluster 320"
       ]
      },
      {
       "output_type": "stream",
       "stream": "stdout",
       "text": [
        "\n",
        "\n",
        "Cluster 321"
       ]
      },
      {
       "output_type": "stream",
       "stream": "stdout",
       "text": [
        "\n",
        "\n",
        "Cluster 322"
       ]
      },
      {
       "output_type": "stream",
       "stream": "stdout",
       "text": [
        "\n",
        "\n",
        "Cluster 323"
       ]
      },
      {
       "output_type": "stream",
       "stream": "stdout",
       "text": [
        "\n",
        "\n",
        "Cluster 324"
       ]
      },
      {
       "output_type": "stream",
       "stream": "stdout",
       "text": [
        "\n",
        "\n",
        "Cluster 325"
       ]
      },
      {
       "output_type": "stream",
       "stream": "stdout",
       "text": [
        "\n",
        "\n",
        "Cluster 326"
       ]
      },
      {
       "output_type": "stream",
       "stream": "stdout",
       "text": [
        "\n",
        "\n",
        "Cluster 327"
       ]
      },
      {
       "output_type": "stream",
       "stream": "stdout",
       "text": [
        "\n",
        "\n",
        "Cluster 328"
       ]
      },
      {
       "output_type": "stream",
       "stream": "stdout",
       "text": [
        "\n",
        "\n",
        "Cluster 329"
       ]
      },
      {
       "output_type": "stream",
       "stream": "stdout",
       "text": [
        "\n",
        "\n",
        "Cluster 330"
       ]
      },
      {
       "output_type": "stream",
       "stream": "stdout",
       "text": [
        "\n",
        "\n",
        "Cluster 331"
       ]
      },
      {
       "output_type": "stream",
       "stream": "stdout",
       "text": [
        "\n",
        "\n",
        "Cluster 332"
       ]
      },
      {
       "output_type": "stream",
       "stream": "stdout",
       "text": [
        "\n",
        "\n",
        "Cluster 333"
       ]
      },
      {
       "output_type": "stream",
       "stream": "stdout",
       "text": [
        "\n",
        "\n",
        "Cluster 334"
       ]
      },
      {
       "output_type": "stream",
       "stream": "stdout",
       "text": [
        "\n",
        "\n",
        "Cluster 335"
       ]
      },
      {
       "output_type": "stream",
       "stream": "stdout",
       "text": [
        "\n",
        "\n",
        "Cluster 336"
       ]
      },
      {
       "output_type": "stream",
       "stream": "stdout",
       "text": [
        "\n",
        "\n",
        "Cluster 337"
       ]
      },
      {
       "output_type": "stream",
       "stream": "stdout",
       "text": [
        "\n",
        "\n",
        "Cluster 338"
       ]
      },
      {
       "output_type": "stream",
       "stream": "stdout",
       "text": [
        "\n",
        "\n",
        "Cluster 339"
       ]
      },
      {
       "output_type": "stream",
       "stream": "stdout",
       "text": [
        "\n",
        "\n",
        "Cluster 340"
       ]
      },
      {
       "output_type": "stream",
       "stream": "stdout",
       "text": [
        "\n",
        "\n",
        "Cluster 341"
       ]
      },
      {
       "output_type": "stream",
       "stream": "stdout",
       "text": [
        "\n",
        "\n",
        "Cluster 342"
       ]
      },
      {
       "output_type": "stream",
       "stream": "stdout",
       "text": [
        "\n",
        "\n",
        "Cluster 343"
       ]
      },
      {
       "output_type": "stream",
       "stream": "stdout",
       "text": [
        "\n",
        "\n",
        "Cluster 344"
       ]
      },
      {
       "output_type": "stream",
       "stream": "stdout",
       "text": [
        "\n",
        "\n",
        "Cluster 345"
       ]
      },
      {
       "output_type": "stream",
       "stream": "stdout",
       "text": [
        "\n",
        "\n",
        "Cluster 346"
       ]
      },
      {
       "output_type": "stream",
       "stream": "stdout",
       "text": [
        "\n",
        "\n",
        "Cluster 347"
       ]
      },
      {
       "output_type": "stream",
       "stream": "stdout",
       "text": [
        "\n",
        "\n",
        "Cluster 348"
       ]
      },
      {
       "output_type": "stream",
       "stream": "stdout",
       "text": [
        "\n",
        "\n",
        "Cluster 349"
       ]
      },
      {
       "output_type": "stream",
       "stream": "stdout",
       "text": [
        "\n",
        "\n",
        "Cluster 350"
       ]
      },
      {
       "output_type": "stream",
       "stream": "stdout",
       "text": [
        "\n",
        "\n",
        "Cluster 351"
       ]
      },
      {
       "output_type": "stream",
       "stream": "stdout",
       "text": [
        "\n",
        "\n",
        "Cluster 352"
       ]
      },
      {
       "output_type": "stream",
       "stream": "stdout",
       "text": [
        "\n",
        "\n",
        "Cluster 353"
       ]
      },
      {
       "output_type": "stream",
       "stream": "stdout",
       "text": [
        "\n",
        "\n",
        "Cluster 354"
       ]
      },
      {
       "output_type": "stream",
       "stream": "stdout",
       "text": [
        "\n",
        "\n",
        "Cluster 355"
       ]
      },
      {
       "output_type": "stream",
       "stream": "stdout",
       "text": [
        "\n",
        "\n",
        "Cluster 356"
       ]
      },
      {
       "output_type": "stream",
       "stream": "stdout",
       "text": [
        "\n",
        "\n",
        "Cluster 357"
       ]
      },
      {
       "output_type": "stream",
       "stream": "stdout",
       "text": [
        "\n",
        "\n",
        "Cluster 358"
       ]
      },
      {
       "output_type": "stream",
       "stream": "stdout",
       "text": [
        "\n",
        "\n",
        "Cluster 359"
       ]
      },
      {
       "output_type": "stream",
       "stream": "stdout",
       "text": [
        "\n",
        "\n",
        "Cluster 360"
       ]
      },
      {
       "output_type": "stream",
       "stream": "stdout",
       "text": [
        "\n",
        "\n",
        "Cluster 361"
       ]
      },
      {
       "output_type": "stream",
       "stream": "stdout",
       "text": [
        "\n",
        "\n",
        "Cluster 362"
       ]
      },
      {
       "output_type": "stream",
       "stream": "stdout",
       "text": [
        "\n",
        "\n",
        "Cluster 363"
       ]
      },
      {
       "output_type": "stream",
       "stream": "stdout",
       "text": [
        "\n",
        "\n",
        "Cluster 364"
       ]
      },
      {
       "output_type": "stream",
       "stream": "stdout",
       "text": [
        "\n",
        "\n",
        "Cluster 365"
       ]
      },
      {
       "output_type": "stream",
       "stream": "stdout",
       "text": [
        "\n",
        "\n",
        "Cluster 366"
       ]
      },
      {
       "output_type": "stream",
       "stream": "stdout",
       "text": [
        "\n",
        "\n",
        "Cluster 367"
       ]
      },
      {
       "output_type": "stream",
       "stream": "stdout",
       "text": [
        "\n",
        "\n",
        "Cluster 368"
       ]
      },
      {
       "output_type": "stream",
       "stream": "stdout",
       "text": [
        "\n",
        "\n",
        "Cluster 369"
       ]
      },
      {
       "output_type": "stream",
       "stream": "stdout",
       "text": [
        "\n",
        "\n",
        "Cluster 370"
       ]
      },
      {
       "output_type": "stream",
       "stream": "stdout",
       "text": [
        "\n",
        "\n",
        "Cluster 371"
       ]
      },
      {
       "output_type": "stream",
       "stream": "stdout",
       "text": [
        "\n",
        "\n",
        "Cluster 372"
       ]
      },
      {
       "output_type": "stream",
       "stream": "stdout",
       "text": [
        "\n",
        "\n",
        "Cluster 373"
       ]
      },
      {
       "output_type": "stream",
       "stream": "stdout",
       "text": [
        "\n",
        "\n",
        "Cluster 374"
       ]
      },
      {
       "output_type": "stream",
       "stream": "stdout",
       "text": [
        "\n",
        "\n",
        "Cluster 375"
       ]
      },
      {
       "output_type": "stream",
       "stream": "stdout",
       "text": [
        "\n",
        "\n",
        "Cluster 376"
       ]
      },
      {
       "output_type": "stream",
       "stream": "stdout",
       "text": [
        "\n",
        "\n",
        "Cluster 377"
       ]
      },
      {
       "output_type": "stream",
       "stream": "stdout",
       "text": [
        "\n",
        "\n",
        "Cluster 378"
       ]
      },
      {
       "output_type": "stream",
       "stream": "stdout",
       "text": [
        "\n",
        "\n",
        "Cluster 379"
       ]
      },
      {
       "output_type": "stream",
       "stream": "stdout",
       "text": [
        "\n",
        "\n",
        "Cluster 380"
       ]
      },
      {
       "output_type": "stream",
       "stream": "stdout",
       "text": [
        "\n",
        "\n",
        "Cluster 381"
       ]
      },
      {
       "output_type": "stream",
       "stream": "stdout",
       "text": [
        "\n",
        "\n",
        "Cluster 382"
       ]
      },
      {
       "output_type": "stream",
       "stream": "stdout",
       "text": [
        "\n",
        "\n",
        "Cluster 383"
       ]
      },
      {
       "output_type": "stream",
       "stream": "stdout",
       "text": [
        "\n",
        "\n",
        "Cluster 384"
       ]
      },
      {
       "output_type": "stream",
       "stream": "stdout",
       "text": [
        "\n",
        "\n",
        "Cluster 385"
       ]
      },
      {
       "output_type": "stream",
       "stream": "stdout",
       "text": [
        "\n",
        "\n",
        "Cluster 386"
       ]
      },
      {
       "output_type": "stream",
       "stream": "stdout",
       "text": [
        "\n",
        "\n",
        "Cluster 387"
       ]
      },
      {
       "output_type": "stream",
       "stream": "stdout",
       "text": [
        "\n",
        "\n",
        "Cluster 388"
       ]
      },
      {
       "output_type": "stream",
       "stream": "stdout",
       "text": [
        "\n",
        "\n",
        "Cluster 389"
       ]
      },
      {
       "output_type": "stream",
       "stream": "stdout",
       "text": [
        "\n",
        "\n",
        "Cluster 390"
       ]
      },
      {
       "output_type": "stream",
       "stream": "stdout",
       "text": [
        "\n",
        "\n",
        "Cluster 391"
       ]
      },
      {
       "output_type": "stream",
       "stream": "stdout",
       "text": [
        "\n",
        "\n",
        "Cluster 392"
       ]
      },
      {
       "output_type": "stream",
       "stream": "stdout",
       "text": [
        "\n",
        "\n",
        "Cluster 393"
       ]
      },
      {
       "output_type": "stream",
       "stream": "stdout",
       "text": [
        "\n",
        "\n",
        "Cluster 394"
       ]
      },
      {
       "output_type": "stream",
       "stream": "stdout",
       "text": [
        "\n",
        "\n",
        "Cluster 395"
       ]
      },
      {
       "output_type": "stream",
       "stream": "stdout",
       "text": [
        "\n",
        "\n",
        "Cluster 396"
       ]
      },
      {
       "output_type": "stream",
       "stream": "stdout",
       "text": [
        "\n",
        "\n",
        "Cluster 397"
       ]
      },
      {
       "output_type": "stream",
       "stream": "stdout",
       "text": [
        "\n",
        "\n",
        "Cluster 398"
       ]
      },
      {
       "output_type": "stream",
       "stream": "stdout",
       "text": [
        "\n",
        "\n",
        "Cluster 399"
       ]
      },
      {
       "output_type": "stream",
       "stream": "stdout",
       "text": [
        "\n",
        "\n",
        "Cluster 400"
       ]
      },
      {
       "output_type": "stream",
       "stream": "stdout",
       "text": [
        "\n",
        "\n",
        "Cluster 401"
       ]
      },
      {
       "output_type": "stream",
       "stream": "stdout",
       "text": [
        "\n",
        "\n",
        "Cluster 402"
       ]
      },
      {
       "output_type": "stream",
       "stream": "stdout",
       "text": [
        "\n",
        "\n",
        "Cluster 403"
       ]
      },
      {
       "output_type": "stream",
       "stream": "stdout",
       "text": [
        "\n",
        "\n",
        "Cluster 404"
       ]
      },
      {
       "output_type": "stream",
       "stream": "stdout",
       "text": [
        "\n",
        "\n",
        "Cluster 405"
       ]
      },
      {
       "output_type": "stream",
       "stream": "stdout",
       "text": [
        "\n",
        "\n",
        "Cluster 406"
       ]
      },
      {
       "output_type": "stream",
       "stream": "stdout",
       "text": [
        "\n",
        "\n",
        "Cluster 407"
       ]
      },
      {
       "output_type": "stream",
       "stream": "stdout",
       "text": [
        "\n",
        "\n",
        "Cluster 408"
       ]
      },
      {
       "output_type": "stream",
       "stream": "stdout",
       "text": [
        "\n",
        "\n",
        "Cluster 409"
       ]
      },
      {
       "output_type": "stream",
       "stream": "stdout",
       "text": [
        "\n",
        "\n",
        "Cluster 410"
       ]
      },
      {
       "output_type": "stream",
       "stream": "stdout",
       "text": [
        "\n",
        "\n",
        "Cluster 411"
       ]
      },
      {
       "output_type": "stream",
       "stream": "stdout",
       "text": [
        "\n",
        "\n",
        "Cluster 412"
       ]
      },
      {
       "output_type": "stream",
       "stream": "stdout",
       "text": [
        "\n",
        "\n",
        "Cluster 413"
       ]
      },
      {
       "output_type": "stream",
       "stream": "stdout",
       "text": [
        "\n",
        "\n",
        "Cluster 414"
       ]
      },
      {
       "output_type": "stream",
       "stream": "stdout",
       "text": [
        "\n",
        "\n",
        "Cluster 415"
       ]
      },
      {
       "output_type": "stream",
       "stream": "stdout",
       "text": [
        "\n",
        "\n",
        "Cluster 416"
       ]
      },
      {
       "output_type": "stream",
       "stream": "stdout",
       "text": [
        "\n",
        "\n",
        "Cluster 417"
       ]
      },
      {
       "output_type": "stream",
       "stream": "stdout",
       "text": [
        "\n",
        "\n",
        "Cluster 418"
       ]
      },
      {
       "output_type": "stream",
       "stream": "stdout",
       "text": [
        "\n",
        "\n",
        "Cluster 419"
       ]
      },
      {
       "output_type": "stream",
       "stream": "stdout",
       "text": [
        "\n",
        "\n",
        "Cluster 420"
       ]
      },
      {
       "output_type": "stream",
       "stream": "stdout",
       "text": [
        "\n",
        "\n",
        "Cluster 421"
       ]
      },
      {
       "output_type": "stream",
       "stream": "stdout",
       "text": [
        "\n",
        "\n",
        "Cluster 422"
       ]
      },
      {
       "output_type": "stream",
       "stream": "stdout",
       "text": [
        "\n",
        "\n",
        "Cluster 423"
       ]
      },
      {
       "output_type": "stream",
       "stream": "stdout",
       "text": [
        "\n",
        "\n",
        "Cluster 424"
       ]
      },
      {
       "output_type": "stream",
       "stream": "stdout",
       "text": [
        "\n",
        "\n",
        "Cluster 425"
       ]
      },
      {
       "output_type": "stream",
       "stream": "stdout",
       "text": [
        "\n",
        "\n",
        "Cluster 426"
       ]
      },
      {
       "output_type": "stream",
       "stream": "stdout",
       "text": [
        "\n",
        "\n",
        "Cluster 427"
       ]
      },
      {
       "output_type": "stream",
       "stream": "stdout",
       "text": [
        "\n",
        "\n",
        "Cluster 428"
       ]
      },
      {
       "output_type": "stream",
       "stream": "stdout",
       "text": [
        "\n",
        "\n",
        "Cluster 429"
       ]
      },
      {
       "output_type": "stream",
       "stream": "stdout",
       "text": [
        "\n",
        "\n",
        "Cluster 430"
       ]
      },
      {
       "output_type": "stream",
       "stream": "stdout",
       "text": [
        "\n",
        "\n",
        "Cluster 431"
       ]
      },
      {
       "output_type": "stream",
       "stream": "stdout",
       "text": [
        "\n",
        "\n",
        "Cluster 432"
       ]
      },
      {
       "output_type": "stream",
       "stream": "stdout",
       "text": [
        "\n",
        "\n",
        "Cluster 433"
       ]
      },
      {
       "output_type": "stream",
       "stream": "stdout",
       "text": [
        "\n",
        "\n",
        "Cluster 434"
       ]
      },
      {
       "output_type": "stream",
       "stream": "stdout",
       "text": [
        "\n",
        "\n",
        "Cluster 435"
       ]
      },
      {
       "output_type": "stream",
       "stream": "stdout",
       "text": [
        "\n",
        "\n",
        "Cluster 436"
       ]
      },
      {
       "output_type": "stream",
       "stream": "stdout",
       "text": [
        "\n",
        "\n",
        "Cluster 437"
       ]
      },
      {
       "output_type": "stream",
       "stream": "stdout",
       "text": [
        "\n",
        "\n",
        "Cluster 438"
       ]
      },
      {
       "output_type": "stream",
       "stream": "stdout",
       "text": [
        "\n",
        "\n",
        "Cluster 439"
       ]
      },
      {
       "output_type": "stream",
       "stream": "stdout",
       "text": [
        "\n",
        "\n",
        "Cluster 440"
       ]
      },
      {
       "output_type": "stream",
       "stream": "stdout",
       "text": [
        "\n",
        "\n",
        "Cluster 441"
       ]
      },
      {
       "output_type": "stream",
       "stream": "stdout",
       "text": [
        "\n",
        "\n",
        "Cluster 442"
       ]
      },
      {
       "output_type": "stream",
       "stream": "stdout",
       "text": [
        "\n",
        "\n",
        "Cluster 443"
       ]
      },
      {
       "output_type": "stream",
       "stream": "stdout",
       "text": [
        "\n",
        "\n",
        "Cluster 444"
       ]
      },
      {
       "output_type": "stream",
       "stream": "stdout",
       "text": [
        "\n",
        "\n",
        "Cluster 445"
       ]
      },
      {
       "output_type": "stream",
       "stream": "stdout",
       "text": [
        "\n",
        "\n",
        "Cluster 446"
       ]
      },
      {
       "output_type": "stream",
       "stream": "stdout",
       "text": [
        "\n",
        "\n",
        "Cluster 447"
       ]
      },
      {
       "output_type": "stream",
       "stream": "stdout",
       "text": [
        "\n",
        "\n",
        "Cluster 448"
       ]
      },
      {
       "output_type": "stream",
       "stream": "stdout",
       "text": [
        "\n",
        "\n",
        "Cluster 449"
       ]
      },
      {
       "output_type": "stream",
       "stream": "stdout",
       "text": [
        "\n",
        "\n",
        "Cluster 450"
       ]
      },
      {
       "output_type": "stream",
       "stream": "stdout",
       "text": [
        "\n",
        "\n",
        "Cluster 451"
       ]
      },
      {
       "output_type": "stream",
       "stream": "stdout",
       "text": [
        "\n",
        "\n",
        "Cluster 452"
       ]
      },
      {
       "output_type": "stream",
       "stream": "stdout",
       "text": [
        "\n",
        "\n",
        "Cluster 453"
       ]
      },
      {
       "output_type": "stream",
       "stream": "stdout",
       "text": [
        "\n",
        "\n",
        "Cluster 454"
       ]
      },
      {
       "output_type": "stream",
       "stream": "stdout",
       "text": [
        "\n",
        "\n",
        "Cluster 455"
       ]
      },
      {
       "output_type": "stream",
       "stream": "stdout",
       "text": [
        "\n",
        "\n",
        "Cluster 456"
       ]
      },
      {
       "output_type": "stream",
       "stream": "stdout",
       "text": [
        "\n",
        "\n",
        "Cluster 457"
       ]
      },
      {
       "output_type": "stream",
       "stream": "stdout",
       "text": [
        "\n",
        "\n",
        "Cluster 458"
       ]
      },
      {
       "output_type": "stream",
       "stream": "stdout",
       "text": [
        "\n",
        "\n",
        "Cluster 459"
       ]
      },
      {
       "output_type": "stream",
       "stream": "stdout",
       "text": [
        "\n",
        "\n",
        "Cluster 460"
       ]
      },
      {
       "output_type": "stream",
       "stream": "stdout",
       "text": [
        "\n",
        "\n",
        "Cluster 461"
       ]
      },
      {
       "output_type": "stream",
       "stream": "stdout",
       "text": [
        "\n",
        "\n",
        "Cluster 462"
       ]
      },
      {
       "output_type": "stream",
       "stream": "stdout",
       "text": [
        "\n",
        "\n",
        "Cluster 463"
       ]
      },
      {
       "output_type": "stream",
       "stream": "stdout",
       "text": [
        "\n",
        "\n",
        "Cluster 464"
       ]
      },
      {
       "output_type": "stream",
       "stream": "stdout",
       "text": [
        "\n",
        "\n",
        "Cluster 465"
       ]
      },
      {
       "output_type": "stream",
       "stream": "stdout",
       "text": [
        "\n",
        "\n",
        "Cluster 466"
       ]
      },
      {
       "output_type": "stream",
       "stream": "stdout",
       "text": [
        "\n",
        "\n",
        "Cluster 467"
       ]
      },
      {
       "output_type": "stream",
       "stream": "stdout",
       "text": [
        "\n",
        "\n",
        "Cluster 468"
       ]
      },
      {
       "output_type": "stream",
       "stream": "stdout",
       "text": [
        "\n",
        "\n",
        "Cluster 469"
       ]
      },
      {
       "output_type": "stream",
       "stream": "stdout",
       "text": [
        "\n",
        "\n",
        "Cluster 470"
       ]
      },
      {
       "output_type": "stream",
       "stream": "stdout",
       "text": [
        "\n",
        "\n",
        "Cluster 471"
       ]
      },
      {
       "output_type": "stream",
       "stream": "stdout",
       "text": [
        "\n",
        "\n",
        "Cluster 472"
       ]
      },
      {
       "output_type": "stream",
       "stream": "stdout",
       "text": [
        "\n",
        "\n",
        "Cluster 473"
       ]
      },
      {
       "output_type": "stream",
       "stream": "stdout",
       "text": [
        "\n",
        "\n",
        "Cluster 474"
       ]
      },
      {
       "output_type": "stream",
       "stream": "stdout",
       "text": [
        "\n",
        "\n",
        "Cluster 475"
       ]
      },
      {
       "output_type": "stream",
       "stream": "stdout",
       "text": [
        "\n",
        "\n",
        "Cluster 476"
       ]
      },
      {
       "output_type": "stream",
       "stream": "stdout",
       "text": [
        "\n",
        "\n",
        "Cluster 477"
       ]
      },
      {
       "output_type": "stream",
       "stream": "stdout",
       "text": [
        "\n",
        "\n",
        "Cluster 478"
       ]
      },
      {
       "output_type": "stream",
       "stream": "stdout",
       "text": [
        "\n",
        "\n",
        "Cluster 479"
       ]
      },
      {
       "output_type": "stream",
       "stream": "stdout",
       "text": [
        "\n",
        "\n",
        "Cluster 480"
       ]
      },
      {
       "output_type": "stream",
       "stream": "stdout",
       "text": [
        "\n",
        "\n",
        "Cluster 481"
       ]
      },
      {
       "output_type": "stream",
       "stream": "stdout",
       "text": [
        "\n",
        "\n",
        "Cluster 482"
       ]
      },
      {
       "output_type": "stream",
       "stream": "stdout",
       "text": [
        "\n",
        "\n",
        "Cluster 483"
       ]
      },
      {
       "output_type": "stream",
       "stream": "stdout",
       "text": [
        "\n",
        "\n",
        "Cluster 484"
       ]
      },
      {
       "output_type": "stream",
       "stream": "stdout",
       "text": [
        "\n",
        "\n",
        "Cluster 485"
       ]
      },
      {
       "output_type": "stream",
       "stream": "stdout",
       "text": [
        "\n",
        "\n",
        "Cluster 486"
       ]
      },
      {
       "output_type": "stream",
       "stream": "stdout",
       "text": [
        "\n",
        "\n",
        "Cluster 487"
       ]
      },
      {
       "output_type": "stream",
       "stream": "stdout",
       "text": [
        "\n",
        "\n",
        "Cluster 488"
       ]
      },
      {
       "output_type": "stream",
       "stream": "stdout",
       "text": [
        "\n",
        "\n",
        "Cluster 489"
       ]
      },
      {
       "output_type": "stream",
       "stream": "stdout",
       "text": [
        "\n",
        "\n",
        "Cluster 490"
       ]
      },
      {
       "output_type": "stream",
       "stream": "stdout",
       "text": [
        "\n",
        "\n",
        "Cluster 491"
       ]
      },
      {
       "output_type": "stream",
       "stream": "stdout",
       "text": [
        "\n",
        "\n",
        "Cluster 492"
       ]
      },
      {
       "output_type": "stream",
       "stream": "stdout",
       "text": [
        "\n",
        "\n",
        "Cluster 493"
       ]
      },
      {
       "output_type": "stream",
       "stream": "stdout",
       "text": [
        "\n",
        "\n",
        "Cluster 494"
       ]
      },
      {
       "output_type": "stream",
       "stream": "stdout",
       "text": [
        "\n",
        "\n",
        "Cluster 495"
       ]
      },
      {
       "output_type": "stream",
       "stream": "stdout",
       "text": [
        "\n",
        "\n",
        "Cluster 496"
       ]
      },
      {
       "output_type": "stream",
       "stream": "stdout",
       "text": [
        "\n",
        "\n",
        "Cluster 497"
       ]
      },
      {
       "output_type": "stream",
       "stream": "stdout",
       "text": [
        "\n",
        "\n",
        "Cluster 498"
       ]
      },
      {
       "output_type": "stream",
       "stream": "stdout",
       "text": [
        "\n",
        "\n",
        "Cluster 499"
       ]
      },
      {
       "output_type": "stream",
       "stream": "stdout",
       "text": [
        "\n",
        "\n",
        "Cluster 500"
       ]
      },
      {
       "output_type": "stream",
       "stream": "stdout",
       "text": [
        "\n",
        "\n",
        "Cluster 501"
       ]
      },
      {
       "output_type": "stream",
       "stream": "stdout",
       "text": [
        "\n",
        "\n",
        "Cluster 502"
       ]
      },
      {
       "output_type": "stream",
       "stream": "stdout",
       "text": [
        "\n",
        "\n",
        "Cluster 503"
       ]
      },
      {
       "output_type": "stream",
       "stream": "stdout",
       "text": [
        "\n",
        "\n",
        "Cluster 504"
       ]
      },
      {
       "output_type": "stream",
       "stream": "stdout",
       "text": [
        "\n",
        "\n",
        "Cluster 505"
       ]
      },
      {
       "output_type": "stream",
       "stream": "stdout",
       "text": [
        "\n",
        "\n",
        "Cluster 506"
       ]
      },
      {
       "output_type": "stream",
       "stream": "stdout",
       "text": [
        "\n",
        "\n",
        "Cluster 507"
       ]
      },
      {
       "output_type": "stream",
       "stream": "stdout",
       "text": [
        "\n",
        "\n",
        "Cluster 508"
       ]
      },
      {
       "output_type": "stream",
       "stream": "stdout",
       "text": [
        "\n",
        "\n",
        "Cluster 509"
       ]
      },
      {
       "output_type": "stream",
       "stream": "stdout",
       "text": [
        "\n",
        "\n",
        "Cluster 510"
       ]
      },
      {
       "output_type": "stream",
       "stream": "stdout",
       "text": [
        "\n",
        "\n",
        "Cluster 511"
       ]
      },
      {
       "output_type": "stream",
       "stream": "stdout",
       "text": [
        "\n",
        "\n",
        "Cluster 512"
       ]
      },
      {
       "output_type": "stream",
       "stream": "stdout",
       "text": [
        "\n",
        "\n",
        "Cluster 513"
       ]
      },
      {
       "output_type": "stream",
       "stream": "stdout",
       "text": [
        "\n",
        "\n",
        "Cluster 514"
       ]
      },
      {
       "output_type": "stream",
       "stream": "stdout",
       "text": [
        "\n",
        "\n",
        "Cluster 515"
       ]
      },
      {
       "output_type": "stream",
       "stream": "stdout",
       "text": [
        "\n",
        "\n",
        "Cluster 516"
       ]
      },
      {
       "output_type": "stream",
       "stream": "stdout",
       "text": [
        "\n",
        "\n",
        "Cluster 517"
       ]
      },
      {
       "output_type": "stream",
       "stream": "stdout",
       "text": [
        "\n",
        "\n",
        "Cluster 518"
       ]
      },
      {
       "output_type": "stream",
       "stream": "stdout",
       "text": [
        "\n",
        "\n",
        "Cluster 519"
       ]
      },
      {
       "output_type": "stream",
       "stream": "stdout",
       "text": [
        "\n",
        "\n",
        "Cluster 520"
       ]
      },
      {
       "output_type": "stream",
       "stream": "stdout",
       "text": [
        "\n",
        "\n",
        "Cluster 521"
       ]
      },
      {
       "output_type": "stream",
       "stream": "stdout",
       "text": [
        "\n",
        "\n",
        "Cluster 522"
       ]
      },
      {
       "output_type": "stream",
       "stream": "stdout",
       "text": [
        "\n",
        "\n",
        "Cluster 523"
       ]
      },
      {
       "output_type": "stream",
       "stream": "stdout",
       "text": [
        "\n",
        "\n",
        "Cluster 524"
       ]
      },
      {
       "output_type": "stream",
       "stream": "stdout",
       "text": [
        "\n",
        "\n",
        "Cluster 525"
       ]
      },
      {
       "output_type": "stream",
       "stream": "stdout",
       "text": [
        "\n",
        "\n",
        "Cluster 526"
       ]
      },
      {
       "output_type": "stream",
       "stream": "stdout",
       "text": [
        "\n",
        "\n",
        "Cluster 527"
       ]
      },
      {
       "output_type": "stream",
       "stream": "stdout",
       "text": [
        "\n",
        "\n",
        "Cluster 528"
       ]
      },
      {
       "output_type": "stream",
       "stream": "stdout",
       "text": [
        "\n",
        "\n",
        "Cluster 529"
       ]
      },
      {
       "output_type": "stream",
       "stream": "stdout",
       "text": [
        "\n",
        "\n",
        "Cluster 530"
       ]
      },
      {
       "output_type": "stream",
       "stream": "stdout",
       "text": [
        "\n",
        "\n",
        "Cluster 531"
       ]
      },
      {
       "output_type": "stream",
       "stream": "stdout",
       "text": [
        "\n",
        "\n",
        "Cluster 532"
       ]
      },
      {
       "output_type": "stream",
       "stream": "stdout",
       "text": [
        "\n",
        "\n",
        "Cluster 533"
       ]
      },
      {
       "output_type": "stream",
       "stream": "stdout",
       "text": [
        "\n",
        "\n",
        "Cluster 534"
       ]
      },
      {
       "output_type": "stream",
       "stream": "stdout",
       "text": [
        "\n",
        "\n",
        "Cluster 535"
       ]
      },
      {
       "output_type": "stream",
       "stream": "stdout",
       "text": [
        "\n",
        "\n",
        "Cluster 536"
       ]
      },
      {
       "output_type": "stream",
       "stream": "stdout",
       "text": [
        "\n",
        "\n",
        "Cluster 537"
       ]
      },
      {
       "output_type": "stream",
       "stream": "stdout",
       "text": [
        "\n",
        "\n",
        "Cluster 538"
       ]
      },
      {
       "output_type": "stream",
       "stream": "stdout",
       "text": [
        "\n",
        "\n",
        "Cluster 539"
       ]
      },
      {
       "output_type": "stream",
       "stream": "stdout",
       "text": [
        "\n",
        "\n",
        "Cluster 540"
       ]
      },
      {
       "output_type": "stream",
       "stream": "stdout",
       "text": [
        "\n",
        "\n",
        "Cluster 541"
       ]
      },
      {
       "output_type": "stream",
       "stream": "stdout",
       "text": [
        "\n",
        "\n",
        "Cluster 542"
       ]
      },
      {
       "output_type": "stream",
       "stream": "stdout",
       "text": [
        "\n",
        "\n",
        "Cluster 543"
       ]
      },
      {
       "output_type": "stream",
       "stream": "stdout",
       "text": [
        "\n",
        "\n",
        "Cluster 544"
       ]
      },
      {
       "output_type": "stream",
       "stream": "stdout",
       "text": [
        "\n",
        "\n",
        "Cluster 545"
       ]
      },
      {
       "output_type": "stream",
       "stream": "stdout",
       "text": [
        "\n",
        "\n",
        "Cluster 546"
       ]
      },
      {
       "output_type": "stream",
       "stream": "stdout",
       "text": [
        "\n",
        "\n",
        "Cluster 547"
       ]
      },
      {
       "output_type": "stream",
       "stream": "stdout",
       "text": [
        "\n",
        "\n",
        "Cluster 548"
       ]
      },
      {
       "output_type": "stream",
       "stream": "stdout",
       "text": [
        "\n",
        "\n",
        "Cluster 549"
       ]
      },
      {
       "output_type": "stream",
       "stream": "stdout",
       "text": [
        "\n",
        "\n",
        "Cluster 550"
       ]
      },
      {
       "output_type": "stream",
       "stream": "stdout",
       "text": [
        "\n",
        "\n",
        "Cluster 551"
       ]
      },
      {
       "output_type": "stream",
       "stream": "stdout",
       "text": [
        "\n",
        "\n",
        "Cluster 552"
       ]
      },
      {
       "output_type": "stream",
       "stream": "stdout",
       "text": [
        "\n",
        "\n",
        "Cluster 553"
       ]
      },
      {
       "output_type": "stream",
       "stream": "stdout",
       "text": [
        "\n",
        "\n",
        "Cluster 554"
       ]
      },
      {
       "output_type": "stream",
       "stream": "stdout",
       "text": [
        "\n",
        "\n",
        "Cluster 555"
       ]
      },
      {
       "output_type": "stream",
       "stream": "stdout",
       "text": [
        "\n",
        "\n",
        "Cluster 556"
       ]
      },
      {
       "output_type": "stream",
       "stream": "stdout",
       "text": [
        "\n",
        "\n",
        "Cluster 557"
       ]
      },
      {
       "output_type": "stream",
       "stream": "stdout",
       "text": [
        "\n",
        "\n",
        "Cluster 558"
       ]
      },
      {
       "output_type": "stream",
       "stream": "stdout",
       "text": [
        "\n",
        "\n",
        "Cluster 559"
       ]
      },
      {
       "output_type": "stream",
       "stream": "stdout",
       "text": [
        "\n",
        "\n",
        "Cluster 560"
       ]
      },
      {
       "output_type": "stream",
       "stream": "stdout",
       "text": [
        "\n",
        "\n",
        "Cluster 561"
       ]
      },
      {
       "output_type": "stream",
       "stream": "stdout",
       "text": [
        "\n",
        "\n",
        "Cluster 562"
       ]
      },
      {
       "output_type": "stream",
       "stream": "stdout",
       "text": [
        "\n",
        "\n",
        "Cluster 563"
       ]
      },
      {
       "output_type": "stream",
       "stream": "stdout",
       "text": [
        "\n",
        "\n",
        "Cluster 564"
       ]
      },
      {
       "output_type": "stream",
       "stream": "stdout",
       "text": [
        "\n",
        "\n",
        "Cluster 565"
       ]
      },
      {
       "output_type": "stream",
       "stream": "stdout",
       "text": [
        "\n",
        "\n",
        "Cluster 566"
       ]
      },
      {
       "output_type": "stream",
       "stream": "stdout",
       "text": [
        "\n",
        "\n",
        "Cluster 567"
       ]
      },
      {
       "output_type": "stream",
       "stream": "stdout",
       "text": [
        "\n",
        "\n",
        "Cluster 568"
       ]
      },
      {
       "output_type": "stream",
       "stream": "stdout",
       "text": [
        "\n",
        "\n",
        "Cluster 569"
       ]
      },
      {
       "output_type": "stream",
       "stream": "stdout",
       "text": [
        "\n",
        "\n",
        "Cluster 570"
       ]
      },
      {
       "output_type": "stream",
       "stream": "stdout",
       "text": [
        "\n",
        "\n",
        "Cluster 571"
       ]
      },
      {
       "output_type": "stream",
       "stream": "stdout",
       "text": [
        "\n",
        "\n",
        "Cluster 572"
       ]
      },
      {
       "output_type": "stream",
       "stream": "stdout",
       "text": [
        "\n",
        "\n",
        "Cluster 573"
       ]
      },
      {
       "output_type": "stream",
       "stream": "stdout",
       "text": [
        "\n",
        "\n",
        "Cluster 574"
       ]
      },
      {
       "output_type": "stream",
       "stream": "stdout",
       "text": [
        "\n",
        "\n",
        "Cluster 575"
       ]
      },
      {
       "output_type": "stream",
       "stream": "stdout",
       "text": [
        "\n",
        "\n",
        "Cluster 576"
       ]
      },
      {
       "output_type": "stream",
       "stream": "stdout",
       "text": [
        "\n",
        "\n",
        "Cluster 577"
       ]
      },
      {
       "output_type": "stream",
       "stream": "stdout",
       "text": [
        "\n",
        "\n",
        "Cluster 578"
       ]
      },
      {
       "output_type": "stream",
       "stream": "stdout",
       "text": [
        "\n",
        "\n",
        "Cluster 579"
       ]
      },
      {
       "output_type": "stream",
       "stream": "stdout",
       "text": [
        "\n",
        "\n",
        "Cluster 580"
       ]
      },
      {
       "output_type": "stream",
       "stream": "stdout",
       "text": [
        "\n",
        "\n",
        "Cluster 581"
       ]
      },
      {
       "output_type": "stream",
       "stream": "stdout",
       "text": [
        "\n",
        "\n",
        "Cluster 582"
       ]
      },
      {
       "output_type": "stream",
       "stream": "stdout",
       "text": [
        "\n",
        "\n",
        "Cluster 583"
       ]
      },
      {
       "output_type": "stream",
       "stream": "stdout",
       "text": [
        "\n",
        "\n",
        "Cluster 584"
       ]
      },
      {
       "output_type": "stream",
       "stream": "stdout",
       "text": [
        "\n",
        "\n",
        "Cluster 585"
       ]
      },
      {
       "output_type": "stream",
       "stream": "stdout",
       "text": [
        "\n",
        "\n",
        "Cluster 586"
       ]
      },
      {
       "output_type": "stream",
       "stream": "stdout",
       "text": [
        "\n",
        "\n",
        "Cluster 587"
       ]
      },
      {
       "output_type": "stream",
       "stream": "stdout",
       "text": [
        "\n",
        "\n",
        "Cluster 588"
       ]
      },
      {
       "output_type": "stream",
       "stream": "stdout",
       "text": [
        "\n",
        "\n",
        "Cluster 589"
       ]
      },
      {
       "output_type": "stream",
       "stream": "stdout",
       "text": [
        "\n",
        "\n",
        "Cluster 590"
       ]
      },
      {
       "output_type": "stream",
       "stream": "stdout",
       "text": [
        "\n",
        "\n",
        "Cluster 591"
       ]
      },
      {
       "output_type": "stream",
       "stream": "stdout",
       "text": [
        "\n",
        "\n",
        "Cluster 592"
       ]
      },
      {
       "output_type": "stream",
       "stream": "stdout",
       "text": [
        "\n",
        "\n",
        "Cluster 593"
       ]
      },
      {
       "output_type": "stream",
       "stream": "stdout",
       "text": [
        "\n",
        "\n",
        "Cluster 594"
       ]
      },
      {
       "output_type": "stream",
       "stream": "stdout",
       "text": [
        "\n",
        "\n",
        "Cluster 595"
       ]
      },
      {
       "output_type": "stream",
       "stream": "stdout",
       "text": [
        "\n",
        "\n",
        "Cluster 596"
       ]
      },
      {
       "output_type": "stream",
       "stream": "stdout",
       "text": [
        "\n",
        "\n",
        "Cluster 597"
       ]
      },
      {
       "output_type": "stream",
       "stream": "stdout",
       "text": [
        "\n",
        "\n",
        "Cluster 598"
       ]
      },
      {
       "output_type": "stream",
       "stream": "stdout",
       "text": [
        "\n",
        "\n",
        "Cluster 599"
       ]
      },
      {
       "output_type": "stream",
       "stream": "stdout",
       "text": [
        "\n",
        "\n",
        "Cluster 600"
       ]
      },
      {
       "output_type": "stream",
       "stream": "stdout",
       "text": [
        "\n",
        "\n",
        "Cluster 601"
       ]
      },
      {
       "output_type": "stream",
       "stream": "stdout",
       "text": [
        "\n",
        "\n",
        "Cluster 602"
       ]
      },
      {
       "output_type": "stream",
       "stream": "stdout",
       "text": [
        "\n",
        "\n",
        "Cluster 603"
       ]
      },
      {
       "output_type": "stream",
       "stream": "stdout",
       "text": [
        "\n",
        "\n",
        "Cluster 604"
       ]
      },
      {
       "output_type": "stream",
       "stream": "stdout",
       "text": [
        "\n",
        "\n",
        "Cluster 605"
       ]
      },
      {
       "output_type": "stream",
       "stream": "stdout",
       "text": [
        "\n",
        "\n",
        "Cluster 606"
       ]
      },
      {
       "output_type": "stream",
       "stream": "stdout",
       "text": [
        "\n",
        "\n",
        "Cluster 607"
       ]
      },
      {
       "output_type": "stream",
       "stream": "stdout",
       "text": [
        "\n",
        "\n",
        "Cluster 608"
       ]
      },
      {
       "output_type": "stream",
       "stream": "stdout",
       "text": [
        "\n",
        "\n",
        "Cluster 609"
       ]
      },
      {
       "output_type": "stream",
       "stream": "stdout",
       "text": [
        "\n",
        "\n",
        "Cluster 610"
       ]
      },
      {
       "output_type": "stream",
       "stream": "stdout",
       "text": [
        "\n",
        "\n",
        "Cluster 611"
       ]
      },
      {
       "output_type": "stream",
       "stream": "stdout",
       "text": [
        "\n",
        "\n",
        "Cluster 612"
       ]
      },
      {
       "output_type": "stream",
       "stream": "stdout",
       "text": [
        "\n",
        "\n",
        "Cluster 613"
       ]
      },
      {
       "output_type": "stream",
       "stream": "stdout",
       "text": [
        "\n",
        "\n",
        "Cluster 614"
       ]
      },
      {
       "output_type": "stream",
       "stream": "stdout",
       "text": [
        "\n",
        "\n",
        "Cluster 615"
       ]
      },
      {
       "output_type": "stream",
       "stream": "stdout",
       "text": [
        "\n",
        "\n",
        "Cluster 616"
       ]
      },
      {
       "output_type": "stream",
       "stream": "stdout",
       "text": [
        "\n",
        "\n",
        "Cluster 617"
       ]
      },
      {
       "output_type": "stream",
       "stream": "stdout",
       "text": [
        "\n",
        "\n",
        "Cluster 618"
       ]
      },
      {
       "output_type": "stream",
       "stream": "stdout",
       "text": [
        "\n",
        "\n",
        "Cluster 619"
       ]
      },
      {
       "output_type": "stream",
       "stream": "stdout",
       "text": [
        "\n",
        "\n",
        "Cluster 620"
       ]
      },
      {
       "output_type": "stream",
       "stream": "stdout",
       "text": [
        "\n",
        "\n",
        "Cluster 621"
       ]
      },
      {
       "output_type": "stream",
       "stream": "stdout",
       "text": [
        "\n",
        "\n",
        "Cluster 622"
       ]
      },
      {
       "output_type": "stream",
       "stream": "stdout",
       "text": [
        "\n",
        "\n",
        "Cluster 623"
       ]
      },
      {
       "output_type": "stream",
       "stream": "stdout",
       "text": [
        "\n",
        "\n",
        "Cluster 624"
       ]
      },
      {
       "output_type": "stream",
       "stream": "stdout",
       "text": [
        "\n",
        "\n",
        "Cluster 625"
       ]
      },
      {
       "output_type": "stream",
       "stream": "stdout",
       "text": [
        "\n",
        "\n",
        "Cluster 626"
       ]
      },
      {
       "output_type": "stream",
       "stream": "stdout",
       "text": [
        "\n",
        "\n",
        "Cluster 627"
       ]
      },
      {
       "output_type": "stream",
       "stream": "stdout",
       "text": [
        "\n",
        "\n",
        "Cluster 628"
       ]
      },
      {
       "output_type": "stream",
       "stream": "stdout",
       "text": [
        "\n",
        "\n",
        "Cluster 629"
       ]
      },
      {
       "output_type": "stream",
       "stream": "stdout",
       "text": [
        "\n",
        "\n",
        "Cluster 630"
       ]
      },
      {
       "output_type": "stream",
       "stream": "stdout",
       "text": [
        "\n",
        "\n",
        "Cluster 631"
       ]
      },
      {
       "output_type": "stream",
       "stream": "stdout",
       "text": [
        "\n",
        "\n",
        "Cluster 632"
       ]
      },
      {
       "output_type": "stream",
       "stream": "stdout",
       "text": [
        "\n",
        "\n",
        "Cluster 633"
       ]
      },
      {
       "output_type": "stream",
       "stream": "stdout",
       "text": [
        "\n",
        "\n",
        "Cluster 634"
       ]
      },
      {
       "output_type": "stream",
       "stream": "stdout",
       "text": [
        "\n",
        "\n",
        "Cluster 635"
       ]
      },
      {
       "output_type": "stream",
       "stream": "stdout",
       "text": [
        "\n",
        "\n",
        "Cluster 636"
       ]
      },
      {
       "output_type": "stream",
       "stream": "stdout",
       "text": [
        "\n",
        "\n",
        "Cluster 637"
       ]
      },
      {
       "output_type": "stream",
       "stream": "stdout",
       "text": [
        "\n",
        "\n",
        "Cluster 638"
       ]
      },
      {
       "output_type": "stream",
       "stream": "stdout",
       "text": [
        "\n",
        "\n",
        "Cluster 639"
       ]
      },
      {
       "output_type": "stream",
       "stream": "stdout",
       "text": [
        "\n",
        "\n",
        "Cluster 640"
       ]
      },
      {
       "output_type": "stream",
       "stream": "stdout",
       "text": [
        "\n",
        "\n",
        "Cluster 641"
       ]
      },
      {
       "output_type": "stream",
       "stream": "stdout",
       "text": [
        "\n",
        "\n",
        "Cluster 642"
       ]
      },
      {
       "output_type": "stream",
       "stream": "stdout",
       "text": [
        "\n",
        "\n",
        "Cluster 643"
       ]
      },
      {
       "output_type": "stream",
       "stream": "stdout",
       "text": [
        "\n",
        "\n",
        "Cluster 644"
       ]
      },
      {
       "output_type": "stream",
       "stream": "stdout",
       "text": [
        "\n",
        "\n",
        "Cluster 645"
       ]
      },
      {
       "output_type": "stream",
       "stream": "stdout",
       "text": [
        "\n",
        "\n",
        "Cluster 646"
       ]
      },
      {
       "output_type": "stream",
       "stream": "stdout",
       "text": [
        "\n",
        "\n",
        "Cluster 647"
       ]
      },
      {
       "output_type": "stream",
       "stream": "stdout",
       "text": [
        "\n",
        "\n",
        "Cluster 648"
       ]
      },
      {
       "output_type": "stream",
       "stream": "stdout",
       "text": [
        "\n",
        "\n",
        "Cluster 649"
       ]
      },
      {
       "output_type": "stream",
       "stream": "stdout",
       "text": [
        "\n",
        "\n",
        "Cluster 650"
       ]
      },
      {
       "output_type": "stream",
       "stream": "stdout",
       "text": [
        "\n",
        "\n",
        "Cluster 651"
       ]
      },
      {
       "output_type": "stream",
       "stream": "stdout",
       "text": [
        "\n",
        "\n",
        "Cluster 652"
       ]
      },
      {
       "output_type": "stream",
       "stream": "stdout",
       "text": [
        "\n",
        "\n",
        "Cluster 653"
       ]
      },
      {
       "output_type": "stream",
       "stream": "stdout",
       "text": [
        "\n",
        "\n",
        "Cluster 654"
       ]
      },
      {
       "output_type": "stream",
       "stream": "stdout",
       "text": [
        "\n",
        "\n",
        "Cluster 655"
       ]
      },
      {
       "output_type": "stream",
       "stream": "stdout",
       "text": [
        "\n",
        "\n",
        "Cluster 656"
       ]
      },
      {
       "output_type": "stream",
       "stream": "stdout",
       "text": [
        "\n",
        "\n",
        "Cluster 657"
       ]
      },
      {
       "output_type": "stream",
       "stream": "stdout",
       "text": [
        "\n",
        "\n",
        "Cluster 658"
       ]
      },
      {
       "output_type": "stream",
       "stream": "stdout",
       "text": [
        "\n",
        "\n",
        "Cluster 659"
       ]
      },
      {
       "output_type": "stream",
       "stream": "stdout",
       "text": [
        "\n",
        "\n",
        "Cluster 660"
       ]
      },
      {
       "output_type": "stream",
       "stream": "stdout",
       "text": [
        "\n",
        "\n",
        "Cluster 661"
       ]
      },
      {
       "output_type": "stream",
       "stream": "stdout",
       "text": [
        "\n",
        "\n",
        "Cluster 662"
       ]
      },
      {
       "output_type": "stream",
       "stream": "stdout",
       "text": [
        "\n",
        "\n",
        "Cluster 663"
       ]
      },
      {
       "output_type": "stream",
       "stream": "stdout",
       "text": [
        "\n",
        "\n",
        "Cluster 664"
       ]
      },
      {
       "output_type": "stream",
       "stream": "stdout",
       "text": [
        "\n",
        "\n",
        "Cluster 665"
       ]
      },
      {
       "output_type": "stream",
       "stream": "stdout",
       "text": [
        "\n",
        "\n",
        "Cluster 666"
       ]
      },
      {
       "output_type": "stream",
       "stream": "stdout",
       "text": [
        "\n",
        "\n",
        "Cluster 667"
       ]
      },
      {
       "output_type": "stream",
       "stream": "stdout",
       "text": [
        "\n",
        "\n",
        "Cluster 668"
       ]
      },
      {
       "output_type": "stream",
       "stream": "stdout",
       "text": [
        "\n",
        "\n",
        "Cluster 669"
       ]
      },
      {
       "output_type": "stream",
       "stream": "stdout",
       "text": [
        "\n",
        "\n",
        "Cluster 670"
       ]
      },
      {
       "output_type": "stream",
       "stream": "stdout",
       "text": [
        "\n",
        "\n",
        "Cluster 671"
       ]
      },
      {
       "output_type": "stream",
       "stream": "stdout",
       "text": [
        "\n",
        "\n",
        "Cluster 672"
       ]
      },
      {
       "output_type": "stream",
       "stream": "stdout",
       "text": [
        "\n",
        "\n",
        "Cluster 673"
       ]
      },
      {
       "output_type": "stream",
       "stream": "stdout",
       "text": [
        "\n",
        "\n",
        "Cluster 674"
       ]
      },
      {
       "output_type": "stream",
       "stream": "stdout",
       "text": [
        "\n",
        "\n",
        "Cluster 675"
       ]
      },
      {
       "output_type": "stream",
       "stream": "stdout",
       "text": [
        "\n",
        "\n",
        "Cluster 676"
       ]
      },
      {
       "output_type": "stream",
       "stream": "stdout",
       "text": [
        "\n",
        "\n",
        "Cluster 677"
       ]
      },
      {
       "output_type": "stream",
       "stream": "stdout",
       "text": [
        "\n",
        "\n",
        "Cluster 678"
       ]
      },
      {
       "output_type": "stream",
       "stream": "stdout",
       "text": [
        "\n",
        "\n",
        "Cluster 679"
       ]
      },
      {
       "output_type": "stream",
       "stream": "stdout",
       "text": [
        "\n",
        "\n",
        "Cluster 680"
       ]
      },
      {
       "output_type": "stream",
       "stream": "stdout",
       "text": [
        "\n",
        "\n",
        "Cluster 681"
       ]
      },
      {
       "output_type": "stream",
       "stream": "stdout",
       "text": [
        "\n",
        "\n",
        "Cluster 682"
       ]
      },
      {
       "output_type": "stream",
       "stream": "stdout",
       "text": [
        "\n",
        "\n",
        "Cluster 683"
       ]
      },
      {
       "output_type": "stream",
       "stream": "stdout",
       "text": [
        "\n",
        "\n",
        "Cluster 684"
       ]
      },
      {
       "output_type": "stream",
       "stream": "stdout",
       "text": [
        "\n",
        "\n",
        "Cluster 685"
       ]
      },
      {
       "output_type": "stream",
       "stream": "stdout",
       "text": [
        "\n",
        "\n",
        "Cluster 686"
       ]
      },
      {
       "output_type": "stream",
       "stream": "stdout",
       "text": [
        "\n",
        "\n",
        "Cluster 687"
       ]
      },
      {
       "output_type": "stream",
       "stream": "stdout",
       "text": [
        "\n",
        "\n",
        "Cluster 688"
       ]
      },
      {
       "output_type": "stream",
       "stream": "stdout",
       "text": [
        "\n",
        "\n",
        "Cluster 689"
       ]
      },
      {
       "output_type": "stream",
       "stream": "stdout",
       "text": [
        "\n",
        "\n",
        "Cluster 690"
       ]
      },
      {
       "output_type": "stream",
       "stream": "stdout",
       "text": [
        "\n",
        "\n",
        "Cluster 691"
       ]
      },
      {
       "output_type": "stream",
       "stream": "stdout",
       "text": [
        "\n",
        "\n",
        "Cluster 692"
       ]
      },
      {
       "output_type": "stream",
       "stream": "stdout",
       "text": [
        "\n",
        "\n",
        "Cluster 693"
       ]
      },
      {
       "output_type": "stream",
       "stream": "stdout",
       "text": [
        "\n",
        "\n",
        "Cluster 694"
       ]
      },
      {
       "output_type": "stream",
       "stream": "stdout",
       "text": [
        "\n",
        "\n",
        "Cluster 695"
       ]
      },
      {
       "output_type": "stream",
       "stream": "stdout",
       "text": [
        "\n",
        "\n",
        "Cluster 696"
       ]
      },
      {
       "output_type": "stream",
       "stream": "stdout",
       "text": [
        "\n",
        "\n",
        "Cluster 697"
       ]
      },
      {
       "output_type": "stream",
       "stream": "stdout",
       "text": [
        "\n",
        "\n",
        "Cluster 698"
       ]
      },
      {
       "output_type": "stream",
       "stream": "stdout",
       "text": [
        "\n",
        "\n",
        "Cluster 699"
       ]
      },
      {
       "output_type": "stream",
       "stream": "stdout",
       "text": [
        "\n",
        "\n",
        "Cluster 700"
       ]
      },
      {
       "output_type": "stream",
       "stream": "stdout",
       "text": [
        "\n",
        "\n",
        "Cluster 701"
       ]
      },
      {
       "output_type": "stream",
       "stream": "stdout",
       "text": [
        "\n",
        "\n",
        "Cluster 702"
       ]
      },
      {
       "output_type": "stream",
       "stream": "stdout",
       "text": [
        "\n",
        "\n",
        "Cluster 703"
       ]
      },
      {
       "output_type": "stream",
       "stream": "stdout",
       "text": [
        "\n",
        "\n",
        "Cluster 704"
       ]
      },
      {
       "output_type": "stream",
       "stream": "stdout",
       "text": [
        "\n",
        "\n",
        "Cluster 705"
       ]
      },
      {
       "output_type": "stream",
       "stream": "stdout",
       "text": [
        "\n",
        "\n",
        "Cluster 706"
       ]
      },
      {
       "output_type": "stream",
       "stream": "stdout",
       "text": [
        "\n",
        "\n",
        "Cluster 707"
       ]
      },
      {
       "output_type": "stream",
       "stream": "stdout",
       "text": [
        "\n",
        "\n",
        "Cluster 708"
       ]
      },
      {
       "output_type": "stream",
       "stream": "stdout",
       "text": [
        "\n",
        "\n",
        "Cluster 709"
       ]
      },
      {
       "output_type": "stream",
       "stream": "stdout",
       "text": [
        "\n",
        "\n",
        "Cluster 710"
       ]
      },
      {
       "output_type": "stream",
       "stream": "stdout",
       "text": [
        "\n",
        "\n",
        "Cluster 711"
       ]
      },
      {
       "output_type": "stream",
       "stream": "stdout",
       "text": [
        "\n",
        "\n",
        "Cluster 712"
       ]
      },
      {
       "output_type": "stream",
       "stream": "stdout",
       "text": [
        "\n",
        "\n",
        "Cluster 713"
       ]
      },
      {
       "output_type": "stream",
       "stream": "stdout",
       "text": [
        "\n",
        "\n",
        "Cluster 714"
       ]
      },
      {
       "output_type": "stream",
       "stream": "stdout",
       "text": [
        "\n",
        "\n",
        "Cluster 715"
       ]
      },
      {
       "output_type": "stream",
       "stream": "stdout",
       "text": [
        "\n",
        "\n",
        "Cluster 716"
       ]
      },
      {
       "output_type": "stream",
       "stream": "stdout",
       "text": [
        "\n",
        "\n",
        "Cluster 717"
       ]
      },
      {
       "output_type": "stream",
       "stream": "stdout",
       "text": [
        "\n",
        "\n",
        "Cluster 718"
       ]
      },
      {
       "output_type": "stream",
       "stream": "stdout",
       "text": [
        "\n",
        "\n",
        "Cluster 719"
       ]
      },
      {
       "output_type": "stream",
       "stream": "stdout",
       "text": [
        "\n",
        "\n",
        "Cluster 720"
       ]
      },
      {
       "output_type": "stream",
       "stream": "stdout",
       "text": [
        "\n",
        "\n",
        "Cluster 721"
       ]
      },
      {
       "output_type": "stream",
       "stream": "stdout",
       "text": [
        "\n",
        "\n",
        "Cluster 722"
       ]
      },
      {
       "output_type": "stream",
       "stream": "stdout",
       "text": [
        "\n",
        "\n",
        "Cluster 723"
       ]
      },
      {
       "output_type": "stream",
       "stream": "stdout",
       "text": [
        "\n",
        "\n",
        "Cluster 724"
       ]
      },
      {
       "output_type": "stream",
       "stream": "stdout",
       "text": [
        "\n",
        "\n",
        "Cluster 725"
       ]
      },
      {
       "output_type": "stream",
       "stream": "stdout",
       "text": [
        "\n",
        "\n",
        "Cluster 726"
       ]
      },
      {
       "output_type": "stream",
       "stream": "stdout",
       "text": [
        "\n",
        "\n",
        "Cluster 727"
       ]
      },
      {
       "output_type": "stream",
       "stream": "stdout",
       "text": [
        "\n",
        "\n",
        "Cluster 728"
       ]
      },
      {
       "output_type": "stream",
       "stream": "stdout",
       "text": [
        "\n",
        "\n",
        "Cluster 729"
       ]
      },
      {
       "output_type": "stream",
       "stream": "stdout",
       "text": [
        "\n",
        "\n",
        "Cluster 730"
       ]
      },
      {
       "output_type": "stream",
       "stream": "stdout",
       "text": [
        "\n",
        "\n",
        "Cluster 731"
       ]
      },
      {
       "output_type": "stream",
       "stream": "stdout",
       "text": [
        "\n",
        "\n",
        "Cluster 732"
       ]
      },
      {
       "output_type": "stream",
       "stream": "stdout",
       "text": [
        "\n",
        "\n",
        "Cluster 733"
       ]
      },
      {
       "output_type": "stream",
       "stream": "stdout",
       "text": [
        "\n",
        "\n",
        "Cluster 734"
       ]
      },
      {
       "output_type": "stream",
       "stream": "stdout",
       "text": [
        "\n",
        "\n",
        "Cluster 735"
       ]
      },
      {
       "output_type": "stream",
       "stream": "stdout",
       "text": [
        "\n",
        "\n",
        "Cluster 736"
       ]
      },
      {
       "output_type": "stream",
       "stream": "stdout",
       "text": [
        "\n",
        "\n",
        "Cluster 737"
       ]
      },
      {
       "output_type": "stream",
       "stream": "stdout",
       "text": [
        "\n",
        "\n",
        "Cluster 738"
       ]
      },
      {
       "output_type": "stream",
       "stream": "stdout",
       "text": [
        "\n",
        "\n",
        "Cluster 739"
       ]
      },
      {
       "output_type": "stream",
       "stream": "stdout",
       "text": [
        "\n",
        "\n",
        "Cluster 740"
       ]
      },
      {
       "output_type": "stream",
       "stream": "stdout",
       "text": [
        "\n",
        "\n",
        "Cluster 741"
       ]
      },
      {
       "output_type": "stream",
       "stream": "stdout",
       "text": [
        "\n",
        "\n",
        "Cluster 742"
       ]
      },
      {
       "output_type": "stream",
       "stream": "stdout",
       "text": [
        "\n",
        "\n",
        "Cluster 743"
       ]
      },
      {
       "output_type": "stream",
       "stream": "stdout",
       "text": [
        "\n",
        "\n",
        "Cluster 744"
       ]
      },
      {
       "output_type": "stream",
       "stream": "stdout",
       "text": [
        "\n",
        "\n",
        "Cluster 745"
       ]
      },
      {
       "output_type": "stream",
       "stream": "stdout",
       "text": [
        "\n",
        "\n",
        "Cluster 746"
       ]
      },
      {
       "output_type": "stream",
       "stream": "stdout",
       "text": [
        "\n",
        "\n",
        "Cluster 747"
       ]
      },
      {
       "output_type": "stream",
       "stream": "stdout",
       "text": [
        "\n",
        "\n",
        "Cluster 748"
       ]
      },
      {
       "output_type": "stream",
       "stream": "stdout",
       "text": [
        "\n",
        "\n",
        "Cluster 749"
       ]
      },
      {
       "output_type": "stream",
       "stream": "stdout",
       "text": [
        "\n",
        "\n",
        "Cluster 750"
       ]
      },
      {
       "output_type": "stream",
       "stream": "stdout",
       "text": [
        "\n",
        "\n",
        "Cluster 751"
       ]
      },
      {
       "output_type": "stream",
       "stream": "stdout",
       "text": [
        "\n",
        "\n",
        "Cluster 752"
       ]
      },
      {
       "output_type": "stream",
       "stream": "stdout",
       "text": [
        "\n",
        "\n",
        "Cluster 753"
       ]
      },
      {
       "output_type": "stream",
       "stream": "stdout",
       "text": [
        "\n",
        "\n",
        "Cluster 754"
       ]
      },
      {
       "output_type": "stream",
       "stream": "stdout",
       "text": [
        "\n",
        "\n",
        "Cluster 755"
       ]
      },
      {
       "output_type": "stream",
       "stream": "stdout",
       "text": [
        "\n",
        "\n",
        "Cluster 756"
       ]
      },
      {
       "output_type": "stream",
       "stream": "stdout",
       "text": [
        "\n",
        "\n",
        "Cluster 757"
       ]
      },
      {
       "output_type": "stream",
       "stream": "stdout",
       "text": [
        "\n",
        "\n",
        "Cluster 758"
       ]
      },
      {
       "output_type": "stream",
       "stream": "stdout",
       "text": [
        "\n",
        "\n",
        "Cluster 759"
       ]
      },
      {
       "output_type": "stream",
       "stream": "stdout",
       "text": [
        "\n",
        "\n",
        "Cluster 760"
       ]
      },
      {
       "output_type": "stream",
       "stream": "stdout",
       "text": [
        "\n",
        "\n",
        "Cluster 761"
       ]
      },
      {
       "output_type": "stream",
       "stream": "stdout",
       "text": [
        "\n",
        "\n",
        "Cluster 762"
       ]
      },
      {
       "output_type": "stream",
       "stream": "stdout",
       "text": [
        "\n",
        "\n",
        "Cluster 763"
       ]
      },
      {
       "output_type": "stream",
       "stream": "stdout",
       "text": [
        "\n",
        "\n",
        "Cluster 764"
       ]
      },
      {
       "output_type": "stream",
       "stream": "stdout",
       "text": [
        "\n",
        "\n",
        "Cluster 765"
       ]
      },
      {
       "output_type": "stream",
       "stream": "stdout",
       "text": [
        "\n",
        "\n",
        "Cluster 766"
       ]
      },
      {
       "output_type": "stream",
       "stream": "stdout",
       "text": [
        "\n",
        "\n",
        "Cluster 767"
       ]
      },
      {
       "output_type": "stream",
       "stream": "stdout",
       "text": [
        "\n",
        "\n",
        "Cluster 768"
       ]
      },
      {
       "output_type": "stream",
       "stream": "stdout",
       "text": [
        "\n",
        "\n",
        "Cluster 769"
       ]
      },
      {
       "output_type": "stream",
       "stream": "stdout",
       "text": [
        "\n",
        "\n",
        "Cluster 770"
       ]
      },
      {
       "output_type": "stream",
       "stream": "stdout",
       "text": [
        "\n",
        "\n",
        "Cluster 771"
       ]
      },
      {
       "output_type": "stream",
       "stream": "stdout",
       "text": [
        "\n",
        "\n",
        "Cluster 772"
       ]
      },
      {
       "output_type": "stream",
       "stream": "stdout",
       "text": [
        "\n",
        "\n",
        "Cluster 773"
       ]
      },
      {
       "output_type": "stream",
       "stream": "stdout",
       "text": [
        "\n",
        "\n",
        "Cluster 774"
       ]
      },
      {
       "output_type": "stream",
       "stream": "stdout",
       "text": [
        "\n",
        "\n",
        "Cluster 775"
       ]
      },
      {
       "output_type": "stream",
       "stream": "stdout",
       "text": [
        "\n",
        "\n",
        "Cluster 776"
       ]
      },
      {
       "output_type": "stream",
       "stream": "stdout",
       "text": [
        "\n",
        "\n",
        "Cluster 777"
       ]
      },
      {
       "output_type": "stream",
       "stream": "stdout",
       "text": [
        "\n",
        "\n",
        "Cluster 778"
       ]
      },
      {
       "output_type": "stream",
       "stream": "stdout",
       "text": [
        "\n",
        "\n",
        "Cluster 779"
       ]
      },
      {
       "output_type": "stream",
       "stream": "stdout",
       "text": [
        "\n",
        "\n",
        "Cluster 780"
       ]
      },
      {
       "output_type": "stream",
       "stream": "stdout",
       "text": [
        "\n",
        "\n",
        "Cluster 781"
       ]
      },
      {
       "output_type": "stream",
       "stream": "stdout",
       "text": [
        "\n",
        "\n",
        "Cluster 782"
       ]
      },
      {
       "output_type": "stream",
       "stream": "stdout",
       "text": [
        "\n",
        "\n",
        "Cluster 783"
       ]
      },
      {
       "output_type": "stream",
       "stream": "stdout",
       "text": [
        "\n",
        "\n",
        "Cluster 784"
       ]
      },
      {
       "output_type": "stream",
       "stream": "stdout",
       "text": [
        "\n",
        "\n",
        "Cluster 785"
       ]
      },
      {
       "output_type": "stream",
       "stream": "stdout",
       "text": [
        "\n",
        "\n",
        "Cluster 786"
       ]
      },
      {
       "output_type": "stream",
       "stream": "stdout",
       "text": [
        "\n",
        "\n",
        "Cluster 787"
       ]
      },
      {
       "output_type": "stream",
       "stream": "stdout",
       "text": [
        "\n",
        "\n",
        "Cluster 788"
       ]
      },
      {
       "output_type": "stream",
       "stream": "stdout",
       "text": [
        "\n",
        "\n",
        "Cluster 789"
       ]
      },
      {
       "output_type": "stream",
       "stream": "stdout",
       "text": [
        "\n",
        "\n",
        "Cluster 790"
       ]
      },
      {
       "output_type": "stream",
       "stream": "stdout",
       "text": [
        "\n",
        "\n",
        "Cluster 791"
       ]
      },
      {
       "output_type": "stream",
       "stream": "stdout",
       "text": [
        "\n",
        "\n",
        "Cluster 792"
       ]
      },
      {
       "output_type": "stream",
       "stream": "stdout",
       "text": [
        "\n",
        "\n",
        "Cluster 793"
       ]
      },
      {
       "output_type": "stream",
       "stream": "stdout",
       "text": [
        "\n",
        "\n",
        "Cluster 794"
       ]
      },
      {
       "output_type": "stream",
       "stream": "stdout",
       "text": [
        "\n",
        "\n",
        "Cluster 795"
       ]
      },
      {
       "output_type": "stream",
       "stream": "stdout",
       "text": [
        "\n",
        "\n",
        "Cluster 796"
       ]
      },
      {
       "output_type": "stream",
       "stream": "stdout",
       "text": [
        "\n",
        "\n",
        "Cluster 797"
       ]
      },
      {
       "output_type": "stream",
       "stream": "stdout",
       "text": [
        "\n",
        "\n",
        "Cluster 798"
       ]
      },
      {
       "output_type": "stream",
       "stream": "stdout",
       "text": [
        "\n",
        "\n",
        "Cluster 799"
       ]
      },
      {
       "output_type": "stream",
       "stream": "stdout",
       "text": [
        "\n",
        "\n",
        "Cluster 800"
       ]
      },
      {
       "output_type": "stream",
       "stream": "stdout",
       "text": [
        "\n",
        "\n",
        "Cluster 801"
       ]
      },
      {
       "output_type": "stream",
       "stream": "stdout",
       "text": [
        "\n",
        "\n",
        "Cluster 802"
       ]
      },
      {
       "output_type": "stream",
       "stream": "stdout",
       "text": [
        "\n",
        "\n",
        "Cluster 803"
       ]
      },
      {
       "output_type": "stream",
       "stream": "stdout",
       "text": [
        "\n",
        "\n",
        "Cluster 804"
       ]
      },
      {
       "output_type": "stream",
       "stream": "stdout",
       "text": [
        "\n",
        "\n",
        "Cluster 805"
       ]
      },
      {
       "output_type": "stream",
       "stream": "stdout",
       "text": [
        "\n",
        "\n",
        "Cluster 806"
       ]
      },
      {
       "output_type": "stream",
       "stream": "stdout",
       "text": [
        "\n",
        "\n",
        "Cluster 807"
       ]
      },
      {
       "output_type": "stream",
       "stream": "stdout",
       "text": [
        "\n",
        "\n",
        "Cluster 808"
       ]
      },
      {
       "output_type": "stream",
       "stream": "stdout",
       "text": [
        "\n",
        "\n",
        "Cluster 809"
       ]
      },
      {
       "output_type": "stream",
       "stream": "stdout",
       "text": [
        "\n",
        "\n",
        "Cluster 810"
       ]
      },
      {
       "output_type": "stream",
       "stream": "stdout",
       "text": [
        "\n",
        "\n",
        "Cluster 811"
       ]
      },
      {
       "output_type": "stream",
       "stream": "stdout",
       "text": [
        "\n",
        "\n",
        "Cluster 812"
       ]
      },
      {
       "output_type": "stream",
       "stream": "stdout",
       "text": [
        "\n",
        "\n",
        "Cluster 813"
       ]
      },
      {
       "output_type": "stream",
       "stream": "stdout",
       "text": [
        "\n",
        "\n",
        "Cluster 814"
       ]
      },
      {
       "output_type": "stream",
       "stream": "stdout",
       "text": [
        "\n",
        "\n",
        "Cluster 815"
       ]
      },
      {
       "output_type": "stream",
       "stream": "stdout",
       "text": [
        "\n",
        "\n",
        "Cluster 816"
       ]
      },
      {
       "output_type": "stream",
       "stream": "stdout",
       "text": [
        "\n",
        "\n",
        "Cluster 817"
       ]
      },
      {
       "output_type": "stream",
       "stream": "stdout",
       "text": [
        "\n",
        "\n",
        "Cluster 818"
       ]
      },
      {
       "output_type": "stream",
       "stream": "stdout",
       "text": [
        "\n",
        "\n",
        "Cluster 819"
       ]
      },
      {
       "output_type": "stream",
       "stream": "stdout",
       "text": [
        "\n",
        "\n",
        "Cluster 820"
       ]
      },
      {
       "output_type": "stream",
       "stream": "stdout",
       "text": [
        "\n",
        "\n",
        "Cluster 821"
       ]
      },
      {
       "output_type": "stream",
       "stream": "stdout",
       "text": [
        "\n",
        "\n",
        "Cluster 822"
       ]
      },
      {
       "output_type": "stream",
       "stream": "stdout",
       "text": [
        "\n",
        "\n",
        "Cluster 823"
       ]
      },
      {
       "output_type": "stream",
       "stream": "stdout",
       "text": [
        "\n",
        "\n",
        "Cluster 824"
       ]
      },
      {
       "output_type": "stream",
       "stream": "stdout",
       "text": [
        "\n",
        "\n",
        "Cluster 825"
       ]
      },
      {
       "output_type": "stream",
       "stream": "stdout",
       "text": [
        "\n",
        "\n",
        "Cluster 826"
       ]
      },
      {
       "output_type": "stream",
       "stream": "stdout",
       "text": [
        "\n",
        "\n",
        "Cluster 827"
       ]
      },
      {
       "output_type": "stream",
       "stream": "stdout",
       "text": [
        "\n",
        "\n",
        "Cluster 828"
       ]
      },
      {
       "output_type": "stream",
       "stream": "stdout",
       "text": [
        "\n",
        "\n",
        "Cluster 829"
       ]
      },
      {
       "output_type": "stream",
       "stream": "stdout",
       "text": [
        "\n",
        "\n",
        "Cluster 830"
       ]
      },
      {
       "output_type": "stream",
       "stream": "stdout",
       "text": [
        "\n",
        "\n",
        "Cluster 831"
       ]
      },
      {
       "output_type": "stream",
       "stream": "stdout",
       "text": [
        "\n",
        "\n",
        "Cluster 832"
       ]
      },
      {
       "output_type": "stream",
       "stream": "stdout",
       "text": [
        "\n",
        "\n",
        "Cluster 833"
       ]
      },
      {
       "output_type": "stream",
       "stream": "stdout",
       "text": [
        "\n",
        "\n",
        "Cluster 834"
       ]
      },
      {
       "output_type": "stream",
       "stream": "stdout",
       "text": [
        "\n",
        "\n",
        "Cluster 835"
       ]
      },
      {
       "output_type": "stream",
       "stream": "stdout",
       "text": [
        "\n",
        "\n",
        "Cluster 836"
       ]
      },
      {
       "output_type": "stream",
       "stream": "stdout",
       "text": [
        "\n",
        "\n",
        "Cluster 837"
       ]
      },
      {
       "output_type": "stream",
       "stream": "stdout",
       "text": [
        "\n",
        "\n",
        "Cluster 838"
       ]
      },
      {
       "output_type": "stream",
       "stream": "stdout",
       "text": [
        "\n",
        "\n",
        "Cluster 839"
       ]
      },
      {
       "output_type": "stream",
       "stream": "stdout",
       "text": [
        "\n",
        "\n",
        "Cluster 840"
       ]
      },
      {
       "output_type": "stream",
       "stream": "stdout",
       "text": [
        "\n",
        "\n",
        "Cluster 841"
       ]
      },
      {
       "output_type": "stream",
       "stream": "stdout",
       "text": [
        "\n",
        "\n",
        "Cluster 842"
       ]
      },
      {
       "output_type": "stream",
       "stream": "stdout",
       "text": [
        "\n",
        "\n",
        "Cluster 843"
       ]
      },
      {
       "output_type": "stream",
       "stream": "stdout",
       "text": [
        "\n",
        "\n",
        "Cluster 844"
       ]
      },
      {
       "output_type": "stream",
       "stream": "stdout",
       "text": [
        "\n",
        "\n",
        "Cluster 845"
       ]
      },
      {
       "output_type": "stream",
       "stream": "stdout",
       "text": [
        "\n",
        "\n",
        "Cluster 846"
       ]
      },
      {
       "output_type": "stream",
       "stream": "stdout",
       "text": [
        "\n",
        "\n",
        "Cluster 847"
       ]
      },
      {
       "output_type": "stream",
       "stream": "stdout",
       "text": [
        "\n",
        "\n",
        "Cluster 848"
       ]
      },
      {
       "output_type": "stream",
       "stream": "stdout",
       "text": [
        "\n",
        "\n",
        "Cluster 849"
       ]
      },
      {
       "output_type": "stream",
       "stream": "stdout",
       "text": [
        "\n",
        "\n",
        "Cluster 850"
       ]
      },
      {
       "output_type": "stream",
       "stream": "stdout",
       "text": [
        "\n",
        "\n",
        "Cluster 851"
       ]
      },
      {
       "output_type": "stream",
       "stream": "stdout",
       "text": [
        "\n",
        "\n",
        "Cluster 852"
       ]
      },
      {
       "output_type": "stream",
       "stream": "stdout",
       "text": [
        "\n",
        "\n",
        "Cluster 853"
       ]
      },
      {
       "output_type": "stream",
       "stream": "stdout",
       "text": [
        "\n",
        "\n",
        "Cluster 854"
       ]
      },
      {
       "output_type": "stream",
       "stream": "stdout",
       "text": [
        "\n",
        "\n",
        "Cluster 855"
       ]
      },
      {
       "output_type": "stream",
       "stream": "stdout",
       "text": [
        "\n",
        "\n",
        "Cluster 856"
       ]
      },
      {
       "output_type": "stream",
       "stream": "stdout",
       "text": [
        "\n",
        "\n",
        "Cluster 857"
       ]
      },
      {
       "output_type": "stream",
       "stream": "stdout",
       "text": [
        "\n",
        "\n",
        "Cluster 858"
       ]
      },
      {
       "output_type": "stream",
       "stream": "stdout",
       "text": [
        "\n",
        "\n",
        "Cluster 859"
       ]
      },
      {
       "output_type": "stream",
       "stream": "stdout",
       "text": [
        "\n",
        "\n",
        "Cluster 860"
       ]
      },
      {
       "output_type": "stream",
       "stream": "stdout",
       "text": [
        "\n",
        "\n",
        "Cluster 861"
       ]
      },
      {
       "output_type": "stream",
       "stream": "stdout",
       "text": [
        "\n",
        "\n",
        "Cluster 862"
       ]
      },
      {
       "output_type": "stream",
       "stream": "stdout",
       "text": [
        "\n",
        "\n",
        "Cluster 863"
       ]
      },
      {
       "output_type": "stream",
       "stream": "stdout",
       "text": [
        "\n",
        "\n",
        "Cluster 864"
       ]
      },
      {
       "output_type": "stream",
       "stream": "stdout",
       "text": [
        "\n",
        "\n",
        "Cluster 865"
       ]
      },
      {
       "output_type": "stream",
       "stream": "stdout",
       "text": [
        "\n",
        "\n",
        "Cluster 866"
       ]
      },
      {
       "output_type": "stream",
       "stream": "stdout",
       "text": [
        "\n",
        "\n",
        "Cluster 867"
       ]
      },
      {
       "output_type": "stream",
       "stream": "stdout",
       "text": [
        "\n",
        "\n",
        "Cluster 868"
       ]
      },
      {
       "output_type": "stream",
       "stream": "stdout",
       "text": [
        "\n",
        "\n",
        "Cluster 869"
       ]
      },
      {
       "output_type": "stream",
       "stream": "stdout",
       "text": [
        "\n",
        "\n",
        "Cluster 870"
       ]
      },
      {
       "output_type": "stream",
       "stream": "stdout",
       "text": [
        "\n",
        "\n",
        "Cluster 871"
       ]
      },
      {
       "output_type": "stream",
       "stream": "stdout",
       "text": [
        "\n",
        "\n",
        "Cluster 872"
       ]
      },
      {
       "output_type": "stream",
       "stream": "stdout",
       "text": [
        "\n",
        "\n",
        "Cluster 873"
       ]
      },
      {
       "output_type": "stream",
       "stream": "stdout",
       "text": [
        "\n",
        "\n",
        "Cluster 874"
       ]
      },
      {
       "output_type": "stream",
       "stream": "stdout",
       "text": [
        "\n",
        "\n",
        "Cluster 875"
       ]
      },
      {
       "output_type": "stream",
       "stream": "stdout",
       "text": [
        "\n",
        "\n",
        "Cluster 876"
       ]
      },
      {
       "output_type": "stream",
       "stream": "stdout",
       "text": [
        "\n",
        "\n",
        "Cluster 877"
       ]
      },
      {
       "output_type": "stream",
       "stream": "stdout",
       "text": [
        "\n",
        "\n",
        "Cluster 878"
       ]
      },
      {
       "output_type": "stream",
       "stream": "stdout",
       "text": [
        "\n",
        "\n",
        "Cluster 879"
       ]
      },
      {
       "output_type": "stream",
       "stream": "stdout",
       "text": [
        "\n",
        "\n",
        "Cluster 880"
       ]
      },
      {
       "output_type": "stream",
       "stream": "stdout",
       "text": [
        "\n",
        "\n",
        "Cluster 881"
       ]
      },
      {
       "output_type": "stream",
       "stream": "stdout",
       "text": [
        "\n",
        "\n",
        "Cluster 882"
       ]
      },
      {
       "output_type": "stream",
       "stream": "stdout",
       "text": [
        "\n",
        "\n",
        "Cluster 883"
       ]
      },
      {
       "output_type": "stream",
       "stream": "stdout",
       "text": [
        "\n",
        "\n",
        "Cluster 884"
       ]
      },
      {
       "output_type": "stream",
       "stream": "stdout",
       "text": [
        "\n",
        "\n",
        "Cluster 885"
       ]
      },
      {
       "output_type": "stream",
       "stream": "stdout",
       "text": [
        "\n",
        "\n",
        "Cluster 886"
       ]
      },
      {
       "output_type": "stream",
       "stream": "stdout",
       "text": [
        "\n",
        "\n",
        "Cluster 887"
       ]
      },
      {
       "output_type": "stream",
       "stream": "stdout",
       "text": [
        "\n",
        "\n",
        "Cluster 888"
       ]
      },
      {
       "output_type": "stream",
       "stream": "stdout",
       "text": [
        "\n",
        "\n",
        "Cluster 889"
       ]
      },
      {
       "output_type": "stream",
       "stream": "stdout",
       "text": [
        "\n",
        "\n",
        "Cluster 890"
       ]
      },
      {
       "output_type": "stream",
       "stream": "stdout",
       "text": [
        "\n",
        "\n",
        "Cluster 891"
       ]
      },
      {
       "output_type": "stream",
       "stream": "stdout",
       "text": [
        "\n",
        "\n",
        "Cluster 892"
       ]
      },
      {
       "output_type": "stream",
       "stream": "stdout",
       "text": [
        "\n",
        "\n",
        "Cluster 893"
       ]
      },
      {
       "output_type": "stream",
       "stream": "stdout",
       "text": [
        "\n",
        "\n",
        "Cluster 894"
       ]
      },
      {
       "output_type": "stream",
       "stream": "stdout",
       "text": [
        "\n",
        "\n",
        "Cluster 895"
       ]
      },
      {
       "output_type": "stream",
       "stream": "stdout",
       "text": [
        "\n",
        "\n",
        "Cluster 896"
       ]
      },
      {
       "output_type": "stream",
       "stream": "stdout",
       "text": [
        "\n",
        "\n",
        "Cluster 897"
       ]
      },
      {
       "output_type": "stream",
       "stream": "stdout",
       "text": [
        "\n",
        "\n",
        "Cluster 898"
       ]
      },
      {
       "output_type": "stream",
       "stream": "stdout",
       "text": [
        "\n",
        "\n",
        "Cluster 899"
       ]
      },
      {
       "output_type": "stream",
       "stream": "stdout",
       "text": [
        "\n",
        "\n",
        "Cluster 900"
       ]
      },
      {
       "output_type": "stream",
       "stream": "stdout",
       "text": [
        "\n",
        "\n",
        "Cluster 901"
       ]
      },
      {
       "output_type": "stream",
       "stream": "stdout",
       "text": [
        "\n",
        "\n",
        "Cluster 902"
       ]
      },
      {
       "output_type": "stream",
       "stream": "stdout",
       "text": [
        "\n",
        "\n",
        "Cluster 903"
       ]
      },
      {
       "output_type": "stream",
       "stream": "stdout",
       "text": [
        "\n",
        "\n",
        "Cluster 904"
       ]
      },
      {
       "output_type": "stream",
       "stream": "stdout",
       "text": [
        "\n",
        "\n",
        "Cluster 905"
       ]
      },
      {
       "output_type": "stream",
       "stream": "stdout",
       "text": [
        "\n",
        "\n",
        "Cluster 906"
       ]
      },
      {
       "output_type": "stream",
       "stream": "stdout",
       "text": [
        "\n",
        "\n",
        "Cluster 907"
       ]
      },
      {
       "output_type": "stream",
       "stream": "stdout",
       "text": [
        "\n",
        "\n",
        "Cluster 908"
       ]
      },
      {
       "output_type": "stream",
       "stream": "stdout",
       "text": [
        "\n",
        "\n",
        "Cluster 909"
       ]
      },
      {
       "output_type": "stream",
       "stream": "stdout",
       "text": [
        "\n",
        "\n",
        "Cluster 910"
       ]
      },
      {
       "output_type": "stream",
       "stream": "stdout",
       "text": [
        "\n",
        "\n",
        "Cluster 911"
       ]
      },
      {
       "output_type": "stream",
       "stream": "stdout",
       "text": [
        "\n",
        "\n",
        "Cluster 912"
       ]
      },
      {
       "output_type": "stream",
       "stream": "stdout",
       "text": [
        "\n",
        "\n",
        "Cluster 913"
       ]
      },
      {
       "output_type": "stream",
       "stream": "stdout",
       "text": [
        "\n",
        "\n",
        "Cluster 914"
       ]
      },
      {
       "output_type": "stream",
       "stream": "stdout",
       "text": [
        "\n",
        "\n",
        "Cluster 915"
       ]
      },
      {
       "output_type": "stream",
       "stream": "stdout",
       "text": [
        "\n",
        "\n",
        "Cluster 916"
       ]
      },
      {
       "output_type": "stream",
       "stream": "stdout",
       "text": [
        "\n",
        "\n",
        "Cluster 917"
       ]
      },
      {
       "output_type": "stream",
       "stream": "stdout",
       "text": [
        "\n",
        "\n",
        "Cluster 918"
       ]
      },
      {
       "output_type": "stream",
       "stream": "stdout",
       "text": [
        "\n",
        "\n",
        "Cluster 919"
       ]
      },
      {
       "output_type": "stream",
       "stream": "stdout",
       "text": [
        "\n",
        "\n",
        "Cluster 920"
       ]
      },
      {
       "output_type": "stream",
       "stream": "stdout",
       "text": [
        "\n",
        "\n",
        "Cluster 921"
       ]
      },
      {
       "output_type": "stream",
       "stream": "stdout",
       "text": [
        "\n",
        "\n",
        "Cluster 922"
       ]
      },
      {
       "output_type": "stream",
       "stream": "stdout",
       "text": [
        "\n",
        "\n",
        "Cluster 923"
       ]
      },
      {
       "output_type": "stream",
       "stream": "stdout",
       "text": [
        "\n",
        "\n",
        "Cluster 924"
       ]
      },
      {
       "output_type": "stream",
       "stream": "stdout",
       "text": [
        "\n",
        "\n",
        "Cluster 925"
       ]
      },
      {
       "output_type": "stream",
       "stream": "stdout",
       "text": [
        "\n",
        "\n",
        "Cluster 926"
       ]
      },
      {
       "output_type": "stream",
       "stream": "stdout",
       "text": [
        "\n",
        "\n",
        "Cluster 927"
       ]
      },
      {
       "output_type": "stream",
       "stream": "stdout",
       "text": [
        "\n",
        "\n",
        "Cluster 928"
       ]
      },
      {
       "output_type": "stream",
       "stream": "stdout",
       "text": [
        "\n",
        "\n",
        "Cluster 929"
       ]
      },
      {
       "output_type": "stream",
       "stream": "stdout",
       "text": [
        "\n",
        "\n",
        "Cluster 930"
       ]
      },
      {
       "output_type": "stream",
       "stream": "stdout",
       "text": [
        "\n",
        "\n",
        "Cluster 931"
       ]
      },
      {
       "output_type": "stream",
       "stream": "stdout",
       "text": [
        "\n",
        "\n",
        "Cluster 932"
       ]
      },
      {
       "output_type": "stream",
       "stream": "stdout",
       "text": [
        "\n",
        "\n",
        "Cluster 933"
       ]
      },
      {
       "output_type": "stream",
       "stream": "stdout",
       "text": [
        "\n",
        "\n",
        "Cluster 934"
       ]
      },
      {
       "output_type": "stream",
       "stream": "stdout",
       "text": [
        "\n",
        "\n",
        "Cluster 935"
       ]
      },
      {
       "output_type": "stream",
       "stream": "stdout",
       "text": [
        "\n",
        "\n",
        "Cluster 936"
       ]
      },
      {
       "output_type": "stream",
       "stream": "stdout",
       "text": [
        "\n",
        "\n",
        "Cluster 937"
       ]
      },
      {
       "output_type": "stream",
       "stream": "stdout",
       "text": [
        "\n",
        "\n",
        "Cluster 938"
       ]
      },
      {
       "output_type": "stream",
       "stream": "stdout",
       "text": [
        "\n",
        "\n",
        "Cluster 939"
       ]
      },
      {
       "output_type": "stream",
       "stream": "stdout",
       "text": [
        "\n",
        "\n",
        "Cluster 940"
       ]
      },
      {
       "output_type": "stream",
       "stream": "stdout",
       "text": [
        "\n",
        "\n",
        "Cluster 941"
       ]
      },
      {
       "output_type": "stream",
       "stream": "stdout",
       "text": [
        "\n",
        "\n",
        "Cluster 942"
       ]
      },
      {
       "output_type": "stream",
       "stream": "stdout",
       "text": [
        "\n",
        "\n",
        "Cluster 943"
       ]
      },
      {
       "output_type": "stream",
       "stream": "stdout",
       "text": [
        "\n",
        "\n",
        "Cluster 944"
       ]
      },
      {
       "output_type": "stream",
       "stream": "stdout",
       "text": [
        "\n",
        "\n",
        "Cluster 945"
       ]
      },
      {
       "output_type": "stream",
       "stream": "stdout",
       "text": [
        "\n",
        "\n",
        "Cluster 946"
       ]
      },
      {
       "output_type": "stream",
       "stream": "stdout",
       "text": [
        "\n",
        "\n",
        "Cluster 947"
       ]
      },
      {
       "output_type": "stream",
       "stream": "stdout",
       "text": [
        "\n",
        "\n",
        "Cluster 948"
       ]
      },
      {
       "output_type": "stream",
       "stream": "stdout",
       "text": [
        "\n",
        "\n",
        "Cluster 949"
       ]
      },
      {
       "output_type": "stream",
       "stream": "stdout",
       "text": [
        "\n",
        "\n",
        "Cluster 950"
       ]
      },
      {
       "output_type": "stream",
       "stream": "stdout",
       "text": [
        "\n",
        "\n",
        "Cluster 951"
       ]
      },
      {
       "output_type": "stream",
       "stream": "stdout",
       "text": [
        "\n",
        "\n",
        "Cluster 952"
       ]
      },
      {
       "output_type": "stream",
       "stream": "stdout",
       "text": [
        "\n",
        "\n",
        "Cluster 953"
       ]
      },
      {
       "output_type": "stream",
       "stream": "stdout",
       "text": [
        "\n",
        "\n",
        "Cluster 954"
       ]
      },
      {
       "output_type": "stream",
       "stream": "stdout",
       "text": [
        "\n",
        "\n",
        "Cluster 955"
       ]
      },
      {
       "output_type": "stream",
       "stream": "stdout",
       "text": [
        "\n",
        "\n",
        "Cluster 956"
       ]
      },
      {
       "output_type": "stream",
       "stream": "stdout",
       "text": [
        "\n",
        "\n",
        "Cluster 957"
       ]
      },
      {
       "output_type": "stream",
       "stream": "stdout",
       "text": [
        "\n",
        "\n",
        "Cluster 958"
       ]
      },
      {
       "output_type": "stream",
       "stream": "stdout",
       "text": [
        "\n",
        "\n",
        "Cluster 959"
       ]
      },
      {
       "output_type": "stream",
       "stream": "stdout",
       "text": [
        "\n",
        "\n",
        "Cluster 960"
       ]
      },
      {
       "output_type": "stream",
       "stream": "stdout",
       "text": [
        "\n",
        "\n",
        "Cluster 961"
       ]
      },
      {
       "output_type": "stream",
       "stream": "stdout",
       "text": [
        "\n",
        "\n",
        "Cluster 962"
       ]
      },
      {
       "output_type": "stream",
       "stream": "stdout",
       "text": [
        "\n",
        "\n",
        "Cluster 963"
       ]
      },
      {
       "output_type": "stream",
       "stream": "stdout",
       "text": [
        "\n",
        "\n",
        "Cluster 964"
       ]
      },
      {
       "output_type": "stream",
       "stream": "stdout",
       "text": [
        "\n",
        "\n",
        "Cluster 965"
       ]
      },
      {
       "output_type": "stream",
       "stream": "stdout",
       "text": [
        "\n",
        "\n",
        "Cluster 966"
       ]
      },
      {
       "output_type": "stream",
       "stream": "stdout",
       "text": [
        "\n",
        "\n",
        "Cluster 967"
       ]
      },
      {
       "output_type": "stream",
       "stream": "stdout",
       "text": [
        "\n",
        "\n",
        "Cluster 968"
       ]
      },
      {
       "output_type": "stream",
       "stream": "stdout",
       "text": [
        "\n",
        "\n",
        "Cluster 969"
       ]
      },
      {
       "output_type": "stream",
       "stream": "stdout",
       "text": [
        "\n",
        "\n",
        "Cluster 970"
       ]
      },
      {
       "output_type": "stream",
       "stream": "stdout",
       "text": [
        "\n",
        "\n",
        "Cluster 971"
       ]
      },
      {
       "output_type": "stream",
       "stream": "stdout",
       "text": [
        "\n",
        "\n",
        "Cluster 972"
       ]
      },
      {
       "output_type": "stream",
       "stream": "stdout",
       "text": [
        "\n",
        "\n",
        "Cluster 973"
       ]
      },
      {
       "output_type": "stream",
       "stream": "stdout",
       "text": [
        "\n",
        "\n",
        "Cluster 974"
       ]
      },
      {
       "output_type": "stream",
       "stream": "stdout",
       "text": [
        "\n",
        "\n",
        "Cluster 975"
       ]
      },
      {
       "output_type": "stream",
       "stream": "stdout",
       "text": [
        "\n",
        "\n",
        "Cluster 976"
       ]
      },
      {
       "output_type": "stream",
       "stream": "stdout",
       "text": [
        "\n",
        "\n",
        "Cluster 977"
       ]
      },
      {
       "output_type": "stream",
       "stream": "stdout",
       "text": [
        "\n",
        "\n",
        "Cluster 978"
       ]
      },
      {
       "output_type": "stream",
       "stream": "stdout",
       "text": [
        "\n",
        "\n",
        "Cluster 979"
       ]
      },
      {
       "output_type": "stream",
       "stream": "stdout",
       "text": [
        "\n",
        "\n",
        "Cluster 980"
       ]
      },
      {
       "output_type": "stream",
       "stream": "stdout",
       "text": [
        "\n",
        "\n",
        "Cluster 981"
       ]
      },
      {
       "output_type": "stream",
       "stream": "stdout",
       "text": [
        "\n",
        "\n",
        "Cluster 982"
       ]
      },
      {
       "output_type": "stream",
       "stream": "stdout",
       "text": [
        "\n",
        "\n",
        "Cluster 983"
       ]
      },
      {
       "output_type": "stream",
       "stream": "stdout",
       "text": [
        "\n",
        "\n",
        "Cluster 984"
       ]
      },
      {
       "output_type": "stream",
       "stream": "stdout",
       "text": [
        "\n",
        "\n",
        "Cluster 985"
       ]
      },
      {
       "output_type": "stream",
       "stream": "stdout",
       "text": [
        "\n",
        "\n",
        "Cluster 986"
       ]
      },
      {
       "output_type": "stream",
       "stream": "stdout",
       "text": [
        "\n",
        "\n",
        "Cluster 987"
       ]
      },
      {
       "output_type": "stream",
       "stream": "stdout",
       "text": [
        "\n",
        "\n",
        "Cluster 988"
       ]
      },
      {
       "output_type": "stream",
       "stream": "stdout",
       "text": [
        "\n",
        "\n",
        "Cluster 989"
       ]
      },
      {
       "output_type": "stream",
       "stream": "stdout",
       "text": [
        "\n",
        "\n",
        "Cluster 990"
       ]
      },
      {
       "output_type": "stream",
       "stream": "stdout",
       "text": [
        "\n",
        "\n",
        "Cluster 991"
       ]
      },
      {
       "output_type": "stream",
       "stream": "stdout",
       "text": [
        "\n",
        "\n",
        "Cluster 992"
       ]
      },
      {
       "output_type": "stream",
       "stream": "stdout",
       "text": [
        "\n",
        "\n",
        "Cluster 993"
       ]
      },
      {
       "output_type": "stream",
       "stream": "stdout",
       "text": [
        "\n",
        "\n",
        "Cluster 994"
       ]
      },
      {
       "output_type": "stream",
       "stream": "stdout",
       "text": [
        "\n",
        "\n",
        "Cluster 995"
       ]
      },
      {
       "output_type": "stream",
       "stream": "stdout",
       "text": [
        "\n",
        "\n",
        "Cluster 996"
       ]
      },
      {
       "output_type": "stream",
       "stream": "stdout",
       "text": [
        "\n",
        "\n",
        "Cluster 997"
       ]
      },
      {
       "output_type": "stream",
       "stream": "stdout",
       "text": [
        "\n",
        "\n",
        "Cluster 998"
       ]
      },
      {
       "output_type": "stream",
       "stream": "stdout",
       "text": [
        "\n",
        "\n",
        "Cluster 999"
       ]
      },
      {
       "output_type": "stream",
       "stream": "stdout",
       "text": [
        "\n",
        "{u'unimaginative': u'mish', u'writings': u'bagdad', u'raining': u'spontaneously', u'galactica': u'andromeda', u'foul': u'extreme', u'pony': u'cynic', u'four': u'seven', u'gag': u'puns', u'negdirty': u'negjoe', u'woods': u'haunted', u'spiders': u'masks', u'hanging': u'kitchen', u'woody': u'woody', u'negdetective': u'negjoe', u'comically': u'unimpressive', u'gabrielle': u'hayward', u'marching': u'mumbai', u'looking': u'looking', u'electricity': u'autopsy', u'chatter': u'rituals', u'hordes': u'rituals', u'unanswered': u'questions', u'originality': u'thereof', u'superficially': u'virtues', u'opener': u'irritation', u'lori': u'beavers', u'rickman': u'durante', u'lord': u'potter', u'immature': u'lovable', u'meadows': u'plummer', u'shaving': u'belt', u'sinking': u'sail', u'negcritical': u'neguk', u'delpy': u'hayward', u'stallone': u'sylvester', u'battles': u'fighting', u'regional': u'increased', u'dell': u'phillip', u'forties': u'peak', u'leisurely': u'monotonous', u'taj': u'homer', u'politician': u'mocked', u'stabbed': u'strangled', u'bringing': u'laid', u'donkey': u'concluding', u'disturb': u'amuse', u'basics': u'kiddie', u'uttering': u'proverbial', u'grueling': u'intervals', u'negfeatures': u'negqualities', u'coppola': u'ford', u'voyeur': u'reversal', u'wednesday': u'evenings', u'piling': u'conjure', u'negimpossible': u'negsees', u'solid': u'superb', u'brutish': u'sullen', u'shouting': u'split', u'succession': u'telegraphed', u'stereotypical': u'characterizations', u'commented': u'mentioned', u'nego': u'negjoe', u'pumbaa': u'voice', u'annie': u'anna', u'specially': u'thoroughly', u'tired': u'cheated', u'miller': u'nash', u'negtells': u'negdies', u'bacon': u'reeve', u'pulse': u'slack', u'tires': u'staircase', u'consists': u'featured', u'second': u'second', u'negbeautiful': u'negdies', u'valiant': u'prophet', u'currie': u'tina', u'available': u'released', u'distinctly': u'unconventional', u'sterile': u'weigh', u'loathing': u'destructive', u'quite': u'very', u'bolts': u'barking', u'sesame': u'isle', u'errors': u'devices', u'dialogs': u'storyline', u'roddy': u'plummer', u'ruthless': u'ill', u'thunder': u'oxygen', u'negfantasy': u'negjoe', u'cooking': u'skating', u'contributed': u'replaced', u'fingers': u'belt', u'kent': u'casey', u'aggression': u'increasing', u'increasing': u'increasing', u'admiral': u'naval', u'shocks': u'requisite', u'pioneering': u'prose', u'specialist': u'coward', u'agreement': u'drafted', u'hero': u'villain', u'neglaugh': u'negadd', u'reporter': u'hunt', u'avery': u'wyler', u'error': u'contention', u'brainwashed': u'unaware', u'here': u'mentioned', u'negsort': u'negspace', u'reported': u'elected', u'ching': u'surly', u'china': u'rome', u'cart': u'gunpoint', u'cult': u'enthusiast', u'negrating': u'negt', u'dork': u'loser', u'natured': u'refined', u'substance': u'thereof', u'neghilarious': u'negconfusing', u'uplifting': u'quiet', u'oxford': u'speaker', u'pretensions': u'detracts', u'elaborate': u'elaborate', u'reports': u'elected', u'controversy': u'indicative', u'negjack': u'negjoe', u'negfare': u'neguk', u'climber': u'peasant', u'gavin': u'macmahon', u'negbest': u'negkind', u'criticism': u'criticism', u'appropriately': u'minelli', u'projection': u'dusty', u'magically': u'barking', u'secluded': u'coastal', u'geography': u'iraq', u'mortensen': u'durante', u'sitcoms': u'avengers', u'negturned': u'negmust', u'brought': u'laid', u'stern': u'knox', u'negtook': u'negmust', u'negteam': u'negjoe', u'cocaine': u'dealers', u'unit': u'missions', u'opponents': u'threatening', u'negsince': u'neguntil', u'painters': u'speaker', u'sexual': u'abuse', u'cheating': u'protect', u'dna': u'cockroaches', u'spoke': u'accent', u'geisha': u'arabs', u'catchy': u'catchy', u'marine': u'naval', u'negmovies': u'neglittle', u'negactresses': u'negjoe', u'cannibal': u'infamous', u'negplane': u'negsees', u'symphony': u'ballet', u'music': u'theme', u'therefore': u'because', u'mystic': u'faux', u'strike': u'missions', u'until': u'waiting', u'negcontent': u'neglikely', u'preparation': u'attendance', u'negblack': u'neguk', u'females': u'mock', u'holy': u'holy', u'relax': u'sony', u'successful': u'prime', u'brings': u'laid', u'holt': u'dillinger', u'yahoo': u'petition', u'hurt': u'cheated', u'lore': u'suburbia', u'holm': u'macmahon', u'boorman': u'haggis', u'tying': u'conjure', u'negtragic': u'negcomic', u'midst': u'mumbai', u'hold': u'holds', u'circumstances': u'belong', u'negspeak': u'negqualities', u'tastefully': u'decently', u'morally': u'atheist', u'locked': u'haunted', u'huppert': u'tina', u'pursue': u'persuade', u'famed': u'raoul', u'blade': u'freddy', u'negproduct': u'negsees', u'locker': u'banana', u'pidgeon': u'knox', u'concepts': u'indicative', u'sexploitation': u'euro', u'plunges': u'throws', u'negproduce': u'negsees', u'example': u'example', u'hk': u'outings', u'fists': u'autopsy', u'wang': u'channing', u'household': u'whose', u'organized': u'heinous', u'charlton': u'werner', u'caution': u'detracts', u'reviewing': u'stating', u'want': u'want', u'negrevenge': u'negjoe', u'dyke': u'der', u'absolute': u'turkey', u'preferably': u'sony', u'provincial': u'brokeback', u'biographical': u'bagdad', u'cringed': u'regretted', u'turn': u'turning', u'complaining': u'complained', u'gremlins': u'scanners', u'travel': u'earth', u'copious': u'requisite', u'eh': u'gee', u'revisit': u'discount', u'machine': u'guns', u'how': u'clue', u'hot': u'model', u'machina': u'annoyingly', u'negplans': u'negbusiness', u'hop': u'hip', u'significance': u'fundamental', u'mein': u'ballet', u'disgrace': u'stinking', u'footloose': u'rodgers', u'preferable': u'footnote', u'ronnie': u'homer', u'dignified': u'marianne', u'gaming': u'discount', u'barbra': u'lil', u'paste': u'backing', u'negfather': u'negdies', u'beauty': u'stunning', u'swing': u'ballet', u'neghaven': u'negwon', u'connects': u'accurately', u'pimps': u'employing', u'dinosaurs': u'dinosaurs', u'modest': u'reeks', u'barney': u'homer', u'quips': u'sporadically', u'destined': u'easiest', u'dough': u'messing', u'types': u'these', u'theirs': u'parent', u'vance': u'nash', u'turd': u'disappointment', u'effective': u'unusual', u'wins': u'award', u'youths': u'employing', u'revolt': u'cylon', u'headquarters': u'sail', u'subplots': u'telegraphed', u'sickening': u'vile', u'cigarettes': u'banana', u'concoction': u'faux', u'democratic': u'organizations', u'nonsensical': u'unrealistic', u'wing': u'commander', u'backdrop': u'southern', u'wine': u'banana', u'origin': u'suburbia', u'afterwards': u'liking', u'soderbergh': u'steven', u'welcomed': u'unaware', u'dreamed': u'dating', u'confederate': u'vets', u'vary': u'inconsistency', u'negboy': u'negdies', u'negbox': u'negt', u'sidekicks': u'miner', u'bubbles': u'charts', u'negleft': u'negdies', u'neghighly': u'negt', u'vidor': u'mani', u'merrill': u'villainous', u'rewarded': u'guarantee', u'wrought': u'substituted', u'impossibly': u'proverbial', u'admirably': u'endearment', u'shorter': u'longer', u'conned': u'broke', u'lovingly': u'sunny', u'reprises': u'tina', u'fit': u'appropriate', u'screaming': u'split', u'fix': u'raise', u'stevens': u'brent', u'shawshank': u'audition', u'survivors': u'enemies', u'negarmy': u'negbusiness', u'manos': u'stinking', u'wales': u'programmer', u'hidden': u'hidden', u'admirable': u'assured', u'easier': u'funnier', u'negfighting': u'negjoe', u'virtually': u'negreason', u'zucker': u'shore', u'selleck': u'selleck', u'corridor': u'barking', u'lambert': u'reeve', u'flipping': u'wee', u'negcup': u'negt', u'ugliness': u'strangeness', u'detachment': u'rendering', u'negcut': u'neglearn', u'effects': u'cgi', u'schools': u'grammar', u'sixteen': u'fourteen', u'undeveloped': u'characterizations', u'silver': u'circus', u'bricks': u'barking', u'prize': u'award', u'represents': u'hatred', u'lupino': u'tina', u'clumsy': u'melodramatic', u'lillian': u'abel', u'debut': u'producing', u'barton': u'knox', u'dumps': u'sends', u'wooden': u'storyline', u'arrow': u'controls', u'ingrid': u'abel', u'addicted': u'dealers', u'volcano': u'sail', u'negmiss': u'neghard', u'burial': u'ritual', u'weirdos': u'lads', u'whim': u'laptop', u'financial': u'risks', u'snakes': u'masks', u'knockout': u'diana', u'series': u'entry', u'allan': u'woody', u'thelma': u'phillip', u'lennon': u'malkovich', u'melting': u'severed', u'substantially': u'footnote', u'laboratory': u'cockroaches', u'whit': u'phillip', u'truman': u'prophet', u'blinded': u'unaware', u'whip': u'fried', u'misfortune': u'reached', u'forwarding': u'forwarding', u'benicio': u'toro', u'won': u'shouldn', u'oprah': u'shore', u'smirk': u'shed', u'ha': u'code', u'mayan': u'arabs', u'freeze': u'oxygen', u'mason': u'jimmy', u'rd': u'serling', u're': u'is', u'encourage': u'ur', u'studded': u'shine', u'adapt': u'gain', u'check': u'watch', u'cheerfully': u'tasty', u'crotch': u'bleed', u'foundation': u'flavour', u'abbott': u'ollie', u'negalready': u'negmust', u'negcinematic': u'neguk', u'assured': u'assured', u'negkept': u'negsees', u'threatened': u'informed', u'negground': u'negspace', u'rocker': u'beavers', u'necessarily': u'needn', u'overacting': u'ham', u'encountering': u'employing', u'grapes': u'darling', u'sheet': u'belt', u'negjoe': u'negjoe', u'alert': u'contain', u'knit': u'employing', u'universally': u'easiest', u'afterthought': u'concluding', u'husbands': u'parent', u'enormous': u'suspicion', u'ate': u'fried', u'bates': u'macmahon', u'exposing': u'increasing', u'shelves': u'online', u'enjoy': u'enjoy', u'fleischer': u'walt', u'ups': u'closeups', u'deja': u'cynic', u'disturbed': u'frightened', u'speedy': u'prose', u'dublin': u'coastal', u'tempting': u'cherished', u'kingdom': u'joined', u'mouth': u'seats', u'caught': u'wee', u'speeds': u'distracts', u'purpose': u'express', u'angelic': u'tasty', u'pales': u'seminal', u'elmo': u'skinny', u'wasp': u'obese', u'subtlety': u'undeniable', u'whereabouts': u'requests', u'visited': u'shortly', u'channels': u'showtime', u'wash': u'banana', u'spinning': u'rolls', u'winded': u'plodding', u'wasn': u'isn', u'clarity': u'rendering', u'sutherland': u'jay', u'bitten': u'strangled', u'olds': u'fourteen', u'basketball': u'school', u'service': u'federal', u'similarly': u'circus', u'nickname': u'channing', u'engagement': u'downward', u'lacey': u'casey', u'tango': u'renoir', u'needed': u'want', u'theatrically': u'releasing', u'ambiguous': u'fundamental', u'master': u'arts', u'listed': u'listed', u'blossoms': u'akbar', u'milligan': u'becker', u'gilbert': u'nash', u'negline': u'negspace', u'bitter': u'quiet', u'genesis': u'elected', u'listen': u'hear', u'danish': u'irish', u'negchanges': u'negstops', u'shambles': u'suspicion', u'collapse': u'mumbai', u'predictably': u'belial', u'convention': u'strategic', u'ads': u'guide', u'wisdom': u'hatred', u'bailey': u'casey', u'negchanged': u'negmust', u'forth': u'past', u'whores': u'lads', u'zany': u'sporadically', u'crawl': u'rolls', u'spreads': u'reversal', u'positively': u'admired', u'expanding': u'prose', u'hays': u'arresting', u'ahmed': u'channing', u'peril': u'endure', u'zatoichi': u'chiller', u'showed': u'showed', u'elegant': u'stunning', u'outlaw': u'dillinger', u'surrogate': u'helene', u'saddles': u'reservoir', u'gator': u'skating', u'nations': u'organizations', u'duris': u'billing', u'idle': u'employing', u'peppard': u'brent', u'endure': u'endure', u'negrecord': u'negjoe', u'satanist': u'peasant', u'investigators': u'heinous', u'seduced': u'helene', u'unintended': u'detracts', u'acclaim': u'received', u'groaning': u'chuckling', u'willingness': u'endure', u'longs': u'affections', u'boston': u'ch', u'spectrum': u'virtues', u'spent': u'precious', u'negwriter': u'neguk', u'corny': u'kinda', u'notwithstanding': u'rendering', u'sharply': u'arrangement', u'ufo': u'iron', u'dozen': u'dozen', u'pompous': u'ham', u'affairs': u'sordid', u'negcriminal': u'negjoe', u'kidnap': u'nefarious', u'wholesome': u'refined', u'corbin': u'plummer', u'cronenberg': u'wizards', u'climate': u'fascism', u'kaye': u'macmahon', u'responsible': u'killed', u'gripe': u'flaw', u'eagerly': u'sorely', u'connelly': u'mara', u'recommended': u'recommend', u'causing': u'rituals', u'absorbed': u'destructive', u'amusing': u'witty', u'doors': u'kitchen', u'hum': u'na', u'grips': u'risks', u'neglesson': u'negjoe', u'matriarch': u'tina', u'negexplanation': u'negqualities', u'shall': u'thankful', u'thrilled': u'sorely', u'screwing': u'messing', u'object': u'behaves', u'looming': u'brokeback', u'resonates': u'rendering', u'y': u'y', u'gallagher': u'macmahon', u'addict': u'dealers', u'letter': u'spelled', u'organization': u'heinous', u'retaining': u'rendering', u'negafraid': u'neglearn', u'laughing': u'laugh', u'bradford': u'knox', u'negkill': u'negwon', u'singer': u'dance', u'weissmuller': u'tombstone', u'episode': u'twilight', u'negfound': u'neguntil', u'released': u'released', u'professor': u'professor', u'lose': u'stop', u'negcold': u'negjoe', u'drunks': u'employing', u'consummate': u'misguided', u'jayne': u'casey', u'bateman': u'tina', u'incomplete': u'sketchy', u'marvel': u'powers', u'alluring': u'marianne', u'boogie': u'lil', u'bomb': u'combat', u'insects': u'masks', u'meetings': u'mumbai', u'negfrench': u'neguk', u'neglonger': u'negqualities', u'bonnie': u'hayward', u'nominated': u'award', u'negmystery': u'neglogic', u'padded': u'filler', u'hazy': u'component', u'sexism': u'virtues', u'lethal': u'cockroaches', u'hungary': u'iraq', u'tempted': u'cents', u'cheaply': u'decently', u'thai': u'rome', u'lessons': u'learned', u'parodies': u'reservoir', u'touches': u'allows', u'peck': u'plummer', u'louise': u'hayward', u'quaint': u'dense', u'menu': u'easter', u'bust': u'handing', u'than': u'worse', u'rico': u'disgruntled', u'theme': u'theme', u'bliss': u'persistent', u'rick': u'jay', u'rich': u'southern', u'heartily': u'recommend', u'araki': u'georges', u'reduce': u'strategic', u'lady': u'snowblood', u'plate': u'barking', u'strip': u'isle', u'klein': u'whoopi', u'wide': u'audience', u'culkin': u'durante', u'negskin': u'negcomic', u'foremost': u'prime', u'platt': u'plummer', u'underwritten': u'likeable', u'reversal': u'reversal', u'altogether': u'mildly', u'negnote': u'negcomic', u'lester': u'coward', u'relish': u'surly', u'societies': u'fascism', u'droning': u'daytime', u'lds': u'atheist', u'contributes': u'dour', u'jaguar': u'daredevil', u'avenger': u'astro', u'autistic': u'whose', u'nicely': u'perfectly', u'ever': u'dumbest', u'rescues': u'sends', u'dipping': u'skinny', u'negknowledge': u'negbusiness', u'patch': u'daredevil', u'greene': u'bagdad', u'piggy': u'skating', u'eventually': u'immediately', u'release': u'released', u'negdocumentary': u'negt', u'atomic': u'combat', u'negcentury': u'neguk', u'blew': u'blast', u'mandatory': u'vol', u'disaster': u'turkey', u'fair': u'because', u'job': u'roles', u'denouement': u'denouement', u'negtalking': u'negfeeling', u'deemed': u'cherished', u'convey': u'method', u'recruit': u'disgruntled', u'unexpectedly': u'schizophrenia', u'goodnight': u'selleck', u'result': u'surprising', u'erika': u'beavers', u'fail': u'miserably', u'resigned': u'downward', u'hammer': u'bruckheimer', u'gossett': u'phillip', u'embarks': u'requests', u'sheffer': u'knox', u'kersey': u'boss', u'manson': u'bullock', u'ambitions': u'aspirations', u'lots': u'etc', u'lotr': u'pixar', u'ringu': u'entry', u'irs': u'emil', u'rings': u'potter', u'solace': u'carlitos', u'ringo': u'coward', u'pressures': u'risks', u'score': u'theme', u'melissa': u'anna', u'negnothing': u'negfeeling', u'ira': u'vito', u'pirate': u'circus', u'negmoment': u'negstops', u'preserve': u'destroy', u'discipline': u'increasing', u'screwball': u'categories', u'lamas': u'jay', u'parallels': u'indicative', u'extend': u'proportion', u'nature': u'nature', u'rolled': u'wee', u'ask': u'hell', u'juliet': u'pegg', u'wtc': u'mumbai', u'drew': u'hannah', u'extent': u'easiest', u'defiance': u'assaulted', u'negthere': u'neganyone', u'carbon': u'releasing', u'herd': u'peasants', u'roller': u'road', u'negobvious': u'negcomic', u'pity': u'thankful', u'accident': u'wreck', u'sacrificing': u'persistent', u'disdain': u'expressed', u'corrupted': u'mocked', u'country': u'canada', u'pits': u'suburbia', u'readers': u'stating', u'adventures': u'adventures', u'demanded': u'cents', u'orwell': u'citizen', u'planned': u'shortly', u'logic': u'devices', u'installments': u'norm', u'argue': u'be', u'betrayed': u'informed', u'asked': u'hell', u'rehash': u'kiddie', u'alternate': u'directly', u'maclaine': u'diana', u'negwhole': u'negkind', u'enables': u'unwilling', u'negrecently': u'negmust', u'vain': u'recreate', u'rednecks': u'rituals', u'opportunities': u'bounds', u'calibre': u'shine', u'mcphee': u'eve', u'hers': u'eve', u'canyon': u'brokeback', u'selznick': u'coward', u'framework': u'renders', u'blending': u'mixes', u'pregnancy': u'risks', u'humming': u'chuckling', u'truthful': u'refined', u'negcompare': u'neglearn', u'armored': u'autopsy', u'pantheon': u'university', u'contestants': u'ploy', u'lighthouse': u'lake', u'billing': u'billing', u'hues': u'daytime', u'union': u'vets', u'shriek': u'prayer', u'negprepared': u'negsees', u'negtheater': u'negmust', u'twain': u'bagdad', u'much': u'because', u'wyman': u'mrs', u'stadium': u'tours', u'privilege': u'evolved', u'deliberately': u'decently', u'fry': u'homer', u'jackass': u'spongebob', u'pro': u'nation', u'negstop': u'negadd', u'dots': u'slack', u'obese': u'obese', u'life': u'express', u'crying': u'crying', u'spit': u'bleed', u'eastern': u'rome', u'arkin': u'jay', u'courtney': u'casey', u'worker': u'owner', u'chamberlain': u'laurence', u'negdraw': u'neglearn', u'relevance': u'flavour', u'dave': u'whoopi', u'lift': u'rolls', u'lauren': u'mara', u'shue': u'mara', u'child': u'son', u'negback': u'negmade', u'worked': u'worked', u'haters': u'appreciates', u'spin': u'off', u'chill': u'kick', u'gritty': u'unconventional', u'negviolence': u'neglogic', u'negcheesy': u'negcomic', u'bogus': u'serling', u'castro': u'gooding', u'masterpieces': u'wizards', u'employ': u'lommel', u'decapitated': u'strangled', u'viii': u'lambs', u'visit': u'carlitos', u'appeals': u'appreciates', u'suspense': u'adventure', u'flooding': u'brokeback', u'k': u'y', u'skirts': u'fried', u'remembering': u'regretted', u'scum': u'peasants', u'fell': u'regretted', u'negbiggest': u'neguk', u'delicatessen': u'sunny', u'negtimes': u'negfeeling', u'weirdness': u'component', u'letdown': u'sucked', u'player': u'chess', u'elicit': u'fireflies', u'eighteen': u'fourteen', u'upscale': u'miner', u'anticipating': u'showtime', u'madonna': u'woodcock', u'throwing': u'pulling', u'trusted': u'persuade', u'nowhere': u'nowhere', u'damaged': u'cylon', u'negpossible': u'negfeeling', u'cheung': u'macmahon', u'credit': u'interest', u'things': u'idea', u'yellow': u'orange', u'format': u'format', u'rebellion': u'fascism', u'fatal': u'severe', u'haphazard': u'jarring', u'harmony': u'aspirations', u'babies': u'lads', u'negpossibly': u'negsees', u'elliott': u'nash', u'principals': u'shine', u'bid': u'disgruntled', u'negfuture': u'negbusiness', u'restaurant': u'dinner', u'voyager': u'andromeda', u'fairly': u'very', u'thereof': u'thereof', u'boiled': u'die', u'effortlessly': u'dour', u'superstitious': u'peasant', u'inadvertently': u'sends', u'tops': u'fried', u'negdevelopment': u'negreason', u'toback': u'coward', u'preachy': u'sappy', u'ownership': u'drafted', u'military': u'vets', u'negworry': u'neglearn', u'haggard': u'bullock', u'tune': u'catchy', u'lucas': u'brent', u'stupendous': u'prose', u'criticise': u'digest', u'histrionic': u'ham', u'echoed': u'coverage', u'academic': u'strategic', u'simulated': u'requisite', u'echoes': u'faux', u'corporate': u'fascism', u'technicolor': u'exotic', u'eroticism': u'strangeness', u'opinions': u'sources', u'gigolo': u'affections', u'letterman': u'shore', u'negpeople': u'neganyone', u'golden': u'award', u'distribute': u'boost', u'sleepy': u'southern', u'forsaken': u'assaulted', u'negshots': u'neglogic', u'disguise': u'recreate', u'tilda': u'hayward', u'subdued': u'serviceable', u'negcomic': u'negcomic', u'plight': u'expressed', u'portrayed': u'presented', u'amusingly': u'dim', u'previous': u'norm', u'hai': u'catchy', u'enters': u'staircase', u'dialogues': u'storyline', u'butchering': u'rituals', u'han': u'jabba', u'equipment': u'angle', u'ease': u'weigh', u'slices': u'gunfight', u'had': u'have', u'advancement': u'increasing', u'woodstock': u'ch', u'macdonald': u'macmahon', u'hay': u'woodward', u'keeler': u'diana', u'richie': u'darling', u'innocent': u'killed', u'prison': u'sent', u'har': u'paired', u'has': u'have', u'hat': u'belt', u'negleads': u'negjoe', u'explained': u'developing', u'casually': u'sack', u'survival': u'existence', u'posed': u'answering', u'possible': u'step', u'negconnect': u'neglearn', u'cliche': u'handedly', u'varney': u'surly', u'posey': u'hayward', u'otherworldly': u'sunny', u'indicative': u'indicative', u'birth': u'son', u'sorority': u'lake', u'pendleton': u'villainous', u'shadow': u'closeups', u'unique': u'unusual', u'vigilante': u'boss', u'massively': u'ham', u'occurring': u'ignoring', u'desire': u'hatred', u'psychological': u'soap', u'paraphrase': u'ur', u'scan': u'format', u'bobby': u'nash', u'neglead': u'negjoe', u'alice': u'anna', u'remind': u'amazes', u'steps': u'throws', u'negplain': u'negcomic', u'prologue': u'concluding', u'cheesiness': u'unprofessional', u'sebastian': u'casey', u'continuation': u'scanners', u'bonkers': u'bonkers', u'battlefield': u'flu', u'attorney': u'weary', u'right': u'oh', u'old': u'fashioned', u'ole': u'paired', u'crowd': u'audience', u'crowe': u'durante', u'prolonged': u'cannibalism', u'neighbors': u'partying', u'creed': u'peasant', u'easy': u'impossible', u'crown': u'prophet', u'santiago': u'channing', u'captive': u'mysteriously', u'hoover': u'prophet', u'negbig': u'negkind', u'insistence': u'proceeded', u'recognise': u'appreciates', u'negafter': u'negmust', u'harassment': u'assaulted', u'creep': u'sack', u'negmichael': u'neguk', u'comeuppance': u'rapist', u'for': u'taking', u'bottom': u'petition', u'inhuman': u'victims', u'fox': u'st', u'creative': u'idea', u'contributing': u'flavour', u'foe': u'protect', u'fog': u'lit', u'exposition': u'telegraphed', u'scarier': u'funnier', u'summoned': u'sends', u'negmuch': u'negsuch', u'borrows': u'lambs', u'palatable': u'reckon', u'shakes': u'staircase', u'rooker': u'dudikoff', u'memorably': u'marianne', u'dental': u'robber', u'stefan': u'rejects', u'janeway': u'inheritance', u'binder': u'nichols', u'cheadle': u'jay', u'shifting': u'circular', u'spellbinding': u'prose', u'starring': u'earp', u'alexandra': u'tina', u'losing': u'risks', u'memorable': u'exceptions', u'yoko': u'sa', u'stoker': u'poltergeist', u'transcends': u'elegance', u'negimpression': u'negcomic', u'filipino': u'banned', u'boiling': u'barking', u'dollars': u'dozen', u'negnaked': u'negsees', u'neghalf': u'negt', u'despair': u'immediate', u'repellent': u'weigh', u'lacked': u'thereof', u'slightly': u'slightly', u'nixon': u'prophet', u'bath': u'nipples', u'hulking': u'vito', u'raised': u'son', u'sob': u'rejects', u'statements': u'atheist', u'facility': u'sail', u'logo': u'discount', u'maxwell': u'dillinger', u'marshall': u'nash', u'honeymoon': u'residence', u'sol': u'maiden', u'soo': u'reservoir', u'son': u'son', u'respectable': u'gifted', u'beings': u'nature', u'daffy': u'bugs', u'magazines': u'suggestions', u'raises': u'answering', u'wrap': u'picks', u'sox': u'freaking', u'shoots': u'shaft', u'negtrust': u'neglearn', u'methods': u'heinous', u'despised': u'informed', u'fabric': u'increasing', u'lining': u'backing', u'greenstreet': u'prophet', u'support': u'players', u'halle': u'phillip', u'tame': u'pg', u'posted': u'read', u'humorous': u'witty', u'orville': u'daredevil', u'joseph': u'nash', u'negsubtitles': u'negspace', u'greatness': u'predecessor', u'rapes': u'sends', u'overhead': u'closeups', u'jang': u'concluding', u'trappings': u'unconventional', u'leading': u'snowblood', u'happy': u'happy', u'negexplained': u'negmade', u'offer': u'gain', u'understandably': u'informed', u'forming': u'feats', u'tigers': u'employing', u'oil': u'combat', u'back': u'past', u'overworked': u'sullen', u'melanie': u'hayward', u'trailer': u'easter', u'sissy': u'hannah', u'survive': u'stop', u'duel': u'confrontation', u'silliness': u'puns', u'masquerading': u'sorcery', u'inside': u'kitchen', u'devices': u'devices', u'smashes': u'shaft', u'epps': u'durante', u'complications': u'feats', u'torturing': u'persuade', u'rerun': u'showtime', u'smashed': u'strangled', u'molina': u'wyler', u'duet': u'lil', u'negdialogue': u'neglogic', u'passenger': u'shaft', u'juvenile': u'puns', u'later': u'fifty', u'mcgavin': u'homer', u'puerto': u'disgruntled', u'barrymore': u'topper', u'implications': u'atheist', u'tournament': u'threatening', u'proven': u'easiest', u'impression': u'feeling', u'playboy': u'bullock', u'exist': u'lived', u'decapitation': u'severed', u'negexception': u'negreason', u'mrs': u'mrs', u'dealer': u'dealers', u'cassie': u'rejects', u'posting': u'stating', u'neglimited': u'negcomic', u'eventual': u'persistent', u'floor': u'floor', u'zane': u'crystal', u'negexplicit': u'negcomic', u'sisko': u'employing', u'actor': u'gifted', u'ourselves': u'thankful', u'uttered': u'handedly', u'detracts': u'detracts', u'role': u'roles', u'ambitious': u'educational', u'sunset': u'sunset', u'developers': u'peasants', u'superfluous': u'telegraphed', u'roll': u'roll', u'neglogical': u'neglogic', u'intend': u'ur', u'models': u'daytime', u'scream': u'camp', u'devos': u'abel', u'transported': u'brokeback', u'reruns': u'showtime', u'intent': u'intent', u'addictive': u'educational', u'miranda': u'macmahon', u'persecution': u'atheist', u'cleaver': u'daredevil', u'aragorn': u'tombstone', u'gets': u'became', u'explosions': u'fighting', u'loren': u'hayward', u'negexcellent': u'neguk', u'loony': u'beavers', u'progresses': u'grows', u'shootout': u'controls', u'spades': u'billing', u'spader': u'jimmy', u'glass': u'kitchen', u'typically': u'sorcery', u'eyebrows': u'proverbial', u'time': u'time', u'push': u'intent', u'tunes': u'ballet', u'masturbation': u'cannibalism', u'inc': u'vol', u'adult': u'sophisticated', u'gown': u'obese', u'now': u'months', u'corps': u'naval', u'perpetrated': u'increasing', u'reviewers': u'mentioned', u'resources': u'boost', u'idealistic': u'sullen', u'negartistic': u'negcomic', u'crocodile': u'astro', u'theaters': u'originally', u'vegetarian': u'carlitos', u'bandits': u'sends', u'understandable': u'justified', u'chair': u'floor', u'muppet': u'walt', u'hole': u'storm', u'negdrama': u'neglogic', u'venice': u'ch', u'inhabited': u'mysteriously', u'rousing': u'kinetic', u'afi': u'received', u'lara': u'whoopi', u'negadults': u'negsees', u'sneakers': u'banana', u'negaspect': u'neguk', u'veterans': u'veterans', u'eliminate': u'peasants', u'busy': u'belial', u'danning': u'bullock', u'icing': u'fried', u'jerk': u'lovable', u'directorial': u'producing', u'recipe': u'indication', u'negsoon': u'negsees', u'choice': u'decisions', u'embark': u'peasants', u'gloomy': u'sunny', u'negcamera': u'negspace', u'stays': u'continues', u'neghenry': u'negsees', u'fullest': u'oneself', u'exact': u'exact', u'minute': u'mins', u'room': u'literally', u'negparty': u'negsees', u'talbot': u'knox', u'cooks': u'skating', u'solves': u'reversal', u'tear': u'crying', u'ollie': u'ollie', u'negresearch': u'negsees', u'cameo': u'appearance', u'skewed': u'rendering', u'optimistic': u'refined', u'solved': u'ignoring', u'holliday': u'macmahon', u'coincidences': u'telegraphed', u'subway': u'subway', u'team': u'missions', u'shelley': u'mara', u'speculation': u'cherished', u'neggeorge': u'negjoe', u'unaware': u'unaware', u'wannabes': u'reservoir', u'spiritual': u'hatred', u'accomplishment': u'prose', u'occurrence': u'solitude', u'insignificant': u'ignoring', u'collage': u'dense', u'sigh': u'ur', u'feeling': u'feeling', u'sign': u'contain', u'erotic': u'strictly', u'chopping': u'shaft', u'shirts': u'fried', u'patient': u'severe', u'cbc': u'guide', u'educate': u'endure', u'elton': u'phillip', u'essence': u'magic', u'rapping': u'skinny', u'outpost': u'sail', u'negfashion': u'negjoe', u'jeopardy': u'symbol', u'celebrated': u'mani', u'melt': u'rolls', u'reminiscent': u'featured', u'remembered': u'originally', u'axel': u'homer', u'negremembered': u'neguk', u'freaks': u'lads', u'falling': u'shut', u'ground': u'storm', u'badge': u'discusses', u'goer': u'labeled', u'unintentionally': u'puns', u'creepiest': u'dumbest', u'jury': u'festivals', u'rea': u'knox', u'arizona': u'subway', u'climbs': u'staircase', u'honour': u'existence', u'funeral': u'belial', u'burnett': u'wyler', u'negoriginally': u'negsees', u'costumes': u'elaborate', u'gladys': u'villainous', u'contemplate': u'virtues', u'negpoor': u'negcomic', u'yards': u'autopsy', u'address': u'suggestions', u'menjou': u'tina', u'along': u'past', u'arch': u'surly', u'soundtracks': u'prose', u'benson': u'knox', u'terrence': u'wyler', u'subconscious': u'existence', u'neville': u'plummer', u'redemption': u'hatred', u'dusty': u'dusty', u'title': u'text', u'funded': u'joined', u'commonly': u'suburbia', u'queue': u'sony', u'snatchers': u'iron', u'accomplished': u'gifted', u'ineffective': u'unimpressive', u'beavers': u'beavers', u'anna': u'anna', u'myers': u'nichols', u'studies': u'strategic', u'negrealizing': u'negdies', u'durbin': u'diana', u'concealed': u'charts', u'engineer': u'vito', u'neganswer': u'negfeeling', u'tasks': u'proportion', u'rambo': u'terminator', u'raise': u'raise', u'neghonest': u'negjoe', u'houseman': u'plummer', u'proportion': u'proportion', u'bs': u'cynic', u'prefer': u'import', u'logical': u'ignoring', u'embittered': u'channing', u'negfollowing': u'negjoe', u'marvelous': u'great', u'logically': u'ignoring', u'fake': u'bear', u'luzhin': u'misguided', u'forefront': u'surveillance', u'negheroes': u'negspace', u'carol': u'topper', u'sky': u'oxygen', u'crammed': u'periods', u'henri': u'du', u'working': u'working', u'wicker': u'darling', u'angry': u'cheated', u'tightly': u'solidly', u'imaginations': u'proportion', u'cherished': u'cherished', u'wood': u'chaney', u'opposed': u'powers', u'negmanage': u'neglearn', u'films': u'flick', u'scope': u'flavour', u'prosecutor': u'weary', u'loving': u'son', u'montreal': u'ch', u'introducing': u'concluding', u'neglooked': u'neguntil', u'nadia': u'bullock', u'afford': u'raise', u'claus': u'conquers', u'israel': u'iraq', u'reprise': u'paired', u'refrain': u'ur', u'thompson': u'mara', u'visual': u'dreamlike', u'everywhere': u'tiny', u'virtue': u'substituted', u'scratches': u'rolls', u'dragons': u'terminator', u'riders': u'brokeback', u'behalf': u'privacy', u'negpolitical': u'negspace', u'negalways': u'negentertaining', u'honey': u'rejects', u'negpicked': u'negmust', u'anything': u'whatever', u'statues': u'autopsy', u'hussey': u'macmahon', u'wook': u'chan', u'originally': u'originally', u'pretend': u'freaking', u'abortion': u'atheist', u'believer': u'appalled', u'believes': u'calls', u'strain': u'surveillance', u'vega': u'beavers', u'values': u'quality', u'phoebe': u'tina', u'stature': u'billing', u'following': u'changes', u'webster': u'woodward', u'detached': u'detached', u'gunfire': u'autopsy', u'alias': u'shore', u'admired': u'admired', u'locke': u'tina', u'frogs': u'tiny', u'distracted': u'engrossed', u'awesome': u'superb', u'romanticism': u'elegance', u'locks': u'gunpoint', u'negdirectly': u'negjoe', u'hides': u'rapist', u'admirer': u'misguided', u'offense': u'grain', u'slumming': u'plummer', u'evidently': u'contention', u'listens': u'spelled', u'negtill': u'negmust', u'agendas': u'virtues', u'winter': u'ch', u'deserves': u'belongs', u'divided': u'arabs', u'poking': u'sporadically', u'immune': u'unwilling', u'attempting': u'insult', u'maude': u'macmahon', u'vancouver': u'ch', u'elephant': u'iron', u'significant': u'justified', u'beans': u'gunpoint', u'coleman': u'plummer', u'loathe': u'appreciates', u'lighten': u'conjure', u'suffer': u'stop', u'edinburgh': u'ch', u'snaps': u'rogers', u'samuel': u'samuel', u'explores': u'immediate', u'landmark': u'seminal', u'custer': u'prophet', u'hog': u'gunpoint', u'negfeeling': u'negfeeling', u'blasting': u'barking', u'spot': u'light', u'louder': u'ranting', u'negdirecting': u'negjoe', u'convincingly': u'expertly', u'fueled': u'increasing', u'explored': u'unheard', u'matt': u'matt', u'improving': u'feats', u'negentertained': u'negsees', u'suck': u'listened', u'aamir': u'bachchan', u'filthy': u'skinny', u'narrating': u'arresting', u'brainless': u'kiddie', u'harmon': u'phillip', u'nineties': u'peak', u'stress': u'oneself', u'surfing': u'discount', u'natural': u'killers', u'conscious': u'destructive', u'ss': u'missions', u'sr': u'nash', u'wheelchair': u'sends', u'upcoming': u'guide', u'su': u'gal', u'st': u'st', u'negstill': u'negmust', u'darkened': u'circular', u'sh': u'turkey', u'truck': u'bus', u'long': u'feature', u'negflicks': u'neguk', u'negcomparison': u'neglogic', u'wolves': u'monkeys', u'pollution': u'masks', u'pulled': u'pulling', u'manga': u'avengers', u'se': u'georges', u'drunken': u'woodcock', u'noteworthy': u'exceptions', u'unacceptable': u'grain', u'years': u'months', u'professors': u'drafted', u'hiring': u'boost', u'yearn': u'ploy', u'negcolor': u'negcomic', u'negshows': u'negjoe', u'negteen': u'negt', u'negreason': u'negreason', u'tendency': u'weigh', u'solitary': u'peasant', u'avid': u'enthusiast', u'derive': u'amuse', u'yawning': u'chuckling', u'thumb': u'belt', u'negtotally': u'negconfusing', u'lackluster': u'unprofessional', u'toro': u'toro', u'jim': u'earp', u'tori': u'paired', u'newhart': u'macmahon', u'attraction': u'chemistry', u'rapists': u'rituals', u'creations': u'vol', u'suspicion': u'suspicion', u'dwarfs': u'monkeys', u'constitutes': u'labeled', u'dangerfield': u'coward', u'troubled': u'whose', u'decades': u'months', u'disturbingly': u'unimpressive', u'petition': u'petition', u'ideal': u'symbol', u'pleasance': u'plummer', u'neguntil': u'neguntil', u'recreate': u'recreate', u'my': u'favorites', u'thereby': u'endure', u'negoutside': u'negspace', u'matches': u'liza', u'smarter': u'funnier', u'insomnia': u'cents', u'regarding': u'deals', u'nation': u'nation', u'negrespect': u'negbusiness', u'negthree': u'negspace', u'compelled': u'cents', u'drilling': u'sail', u'arriving': u'residence', u'scorsese': u'masterwork', u'twilight': u'twilight', u'colleagues': u'inheritance', u'negporn': u'negconfusing', u'matched': u'endearment', u'negeverybody': u'negt', u'brody': u'durante', u'wrote': u'writes', u'establishing': u'component', u'negtwist': u'negcomic', u'fisherman': u'sends', u'classify': u'labeled', u'rundown': u'coastal', u'veins': u'bleed', u'deathtrap': u'prose', u'quarter': u'intervals', u'eraserhead': u'wizards', u'revere': u'woodward', u'prevents': u'prevents', u'turtle': u'astro', u'square': u'storm', u'retrieve': u'requests', u'bursting': u'distracts', u'negnovel': u'neglikely', u'crushing': u'bleed', u'negability': u'negbusiness', u'breakthrough': u'billing', u'frames': u'closeups', u'owing': u'flavour', u'entering': u'spontaneously', u'sexually': u'behaves', u'changed': u'changes', u'disasters': u'surveillance', u'neighbourhood': u'unaware', u'troll': u'astro', u'naked': u'nipples', u'canvas': u'rendering', u'negdavid': u'neguk', u'black': u'colour', u'rounding': u'paired', u'negamerican': u'neguk', u'swordsman': u'arts', u'negeffective': u'negconfusing', u'contained': u'ignoring', u'investigation': u'suspects', u'trauma': u'immediate', u'cobb': u'plummer', u'internet': u'listed', u'suggesting': u'prevents', u'clowns': u'monkeys', u'katie': u'anna', u'bla': u'bla', u'neghint': u'negcomic', u'bordering': u'unimpressive', u'superiors': u'heinous', u'bookie': u'hunt', u'siege': u'surveillance', u'million': u'dozen', u'seventh': u'isle', u'possibility': u'bounds', u'vicious': u'victims', u'disrespect': u'atheist', u'quickie': u'reeks', u'recordings': u'releasing', u'cannibalistic': u'cockroaches', u'lucrative': u'participated', u'awfulness': u'stinking', u'plea': u'assaulted', u'grandma': u'grandma', u'mimi': u'tina', u'quits': u'sends', u'unnamed': u'miner', u'remainder': u'intervals', u'seventy': u'fifty', u'liberally': u'inconsistency', u'training': u'reform', u'dunne': u'grant', u'chases': u'cars', u'disguised': u'hunt', u'negsounds': u'negconfusing', u'dunno': u'replied', u'collapsing': u'sail', u'negvhs': u'neguntil', u'punk': u'roll', u'wrong': u'nowhere', u'chevy': u'cars', u'disguises': u'rapist', u'puns': u'puns', u'gordon': u'earp', u'brokeback': u'brokeback', u'neglect': u'persistent', u'jumbled': u'plodding', u'spirit': u'magic', u'emotion': u'heart', u'gunshot': u'strangled', u'hotels': u'tours', u'negdies': u'negdies', u'ignored': u'completely', u'spoken': u'english', u'clause': u'conquers', u'savini': u'selleck', u'potter': u'potter', u'one': u'one', u'hopes': u'school', u'negtotal': u'negt', u'negview': u'negt', u'negdied': u'negsees', u'specifically': u'strategic', u'bbc': u'guide', u'vote': u'expectation', u'chubby': u'beavers', u'open': u'mind', u'ripping': u'bleed', u'city': u'gangs', u'boulevard': u'isle', u'wrath': u'privacy', u'convent': u'mysteriously', u'occupy': u'privacy', u'bite': u'bleed', u'structured': u'handled', u'negreferences': u'negjoe', u'indicate': u'ignoring', u'teacher': u'grammar', u'shiver': u'prayer', u'draft': u'attendance', u'stuffed': u'bleed', u'realization': u'immediate', u'neghaving': u'negdies', u'negcommon': u'negcomic', u'lingering': u'closeups', u'negends': u'negdies', u'slasher': u'camp', u'shawn': u'nash', u'suit': u'bear', u'proving': u'proves', u'artifact': u'surveillance', u'betray': u'privacy', u'veers': u'sappy', u'forward': u'forwarding', u'outcome': u'denouement', u'ridiculous': u'moronic', u'slashed': u'strangled', u'fooled': u'anymore', u'republic': u'iraq', u'representing': u'aspirations', u'inventor': u'miner', u'neghidden': u'negcomic', u'bored': u'cheated', u'talkies': u'silents', u'third': u'second', u'depressed': u'frightened', u'favors': u'assaulted', u'folly': u'suburbia', u'carlyle': u'altman', u'rehab': u'carlitos', u'future': u'day', u'glossy': u'unconventional', u'neghand': u'negsees', u'bauer': u'plummer', u'sophie': u'mrs', u'counselor': u'miner', u'wandering': u'lake', u'attracts': u'abel', u'sophia': u'hayward', u'prospect': u'suggestions', u'addressing': u'prevents', u'illness': u'severe', u'raines': u'tina', u'rainer': u'wyler', u'sam': u'earp', u'fragmented': u'component', u'sumptuous': u'kinetic', u'turned': u'turning', u'dacascos': u'arts', u'jewels': u'robber', u'sad': u'witty', u'realm': u'descent', u'prestigious': u'wyler', u'tastes': u'geared', u'negdown': u'negstops', u'lurking': u'spontaneously', u'allen': u'woody', u'turner': u'topper', u'sap': u'handing', u'saw': u'originally', u'supporters': u'organizations', u'warner': u'brothers', u'sat': u'walked', u'serials': u'walt', u'inches': u'barking', u'baggage': u'persistent', u'warriors': u'monkeys', u'somethings': u'mock', u'negcannot': u'negsees', u'zoo': u'tours', u'note': u'unexpected', u'goodman': u'malkovich', u'negbollywood': u'neguk', u'achieving': u'prevents', u'dreamer': u'sullen', u'wanting': u'liking', u'europeans': u'arabs', u'atop': u'controls', u'butterfly': u'faux', u'ironically': u'banned', u'altered': u'changes', u'capitalist': u'fascism', u'opposite': u'exact', u'discerning': u'detracts', u'knew': u'have', u'eldest': u'whose', u'palette': u'minelli', u'pastor': u'carlitos', u'printed': u'mastered', u'remarks': u'remarks', u'knee': u'barking', u'assistance': u'unwilling', u'knowingly': u'ranting', u'inserted': u'directly', u'pages': u'book', u'damage': u'privacy', u'rents': u'carlitos', u'lawn': u'gunpoint', u'operate': u'privacy', u'touchy': u'solondz', u'denholm': u'villainous', u'average': u'beyond', u'phil': u'nash', u'constable': u'hunt', u'sale': u'online', u'defeating': u'threatening', u'federal': u'federal', u'wind': u'grew', u'axe': u'severed', u'link': u'concluding', u'hazzard': u'shore', u'accented': u'miner', u'landlady': u'affections', u'madison': u'anna', u'cherry': u'paired', u'beckham': u'symbol', u'imagines': u'affections', u'merit': u'predecessor', u'elam': u'plummer', u'bright': u'light', u'inconsistent': u'sketchy', u'unfolds': u'occur', u'aggressive': u'mocked', u'imagined': u'lived', u'evolved': u'evolved', u'slot': u'showtime', u'merlin': u'surly', u'farting': u'spongebob', u'romanian': u'banned', u'robs': u'suspicion', u'cloak': u'controls', u'short': u'feature', u'aimlessly': u'spontaneously', u'liberation': u'fascism', u'tears': u'crying', u'going': u'pretending', u'hockey': u'astro', u'slob': u'loser', u'equipped': u'controls', u'outrage': u'increasing', u'robe': u'colour', u'caroline': u'tina', u'seeming': u'sappy', u'carolina': u'brokeback', u'bridge': u'floor', u'directed': u'badly', u'guarded': u'mysteriously', u'psychiatrist': u'weary', u'occupation': u'iraq', u'assistant': u'vito', u'freezing': u'kitchen', u'negdoctor': u'negsees', u'cursing': u'ranting', u'simplistic': u'unrealistic', u'streak': u'suspicion', u'outlet': u'sony', u'negwatched': u'neguntil', u'mondo': u'euro', u'mysticism': u'suburbia', u'clans': u'employing', u'lynn': u'mara', u'prime': u'prime', u'krishna': u'supplied', u'maniacal': u'daredevil', u'undemanding': u'detracts', u'prima': u'beavers', u'pimp': u'hunt', u'artist': u'gifted', u'hinges': u'ignoring', u'negsomewhat': u'negjoe', u'borrow': u'sony', u'ahmad': u'affections', u'worried': u'understood', u'priest': u'hunt', u'roger': u'corman', u'landlord': u'sends', u'worries': u'risks', u'uncover': u'requests', u'marred': u'replaced', u'where': u'build', u'negbond': u'neguk', u'helene': u'helene', u'corridors': u'circular', u'burrows': u'plummer', u'ned': u'bob', u'mabel': u'affections', u'breslin': u'mara', u'artistically': u'solidly', u'keyboard': u'hip', u'up': u'past', u'isabel': u'tina', u'gangster': u'boss', u'anyways': u'listened', u'negyears': u'negmust', u'impressions': u'amuse', u'surgery': u'nipples', u'erica': u'beavers', u'aroused': u'assaulted', u'purest': u'kusturica', u'saawariya': u'clue', u'dexter': u'homer', u'negreference': u'negbusiness', u'enlightening': u'fireflies', u'maturity': u'dignity', u'ostensibly': u'increasing', u'harvey': u'earp', u'bootleg': u'releasing', u'sites': u'discount', u'goers': u'geared', u'teeny': u'kiddie', u'neganimals': u'negsees', u'bureau': u'drafted', u'affecting': u'refined', u'enjoys': u'recommend', u'negthese': u'neganyone', u'uh': u'wow', u'caan': u'jimmy', u'panache': u'endearment', u'jobs': u'raise', u'tsui': u'arts', u'evoked': u'arrangement', u'marvin': u'reeve', u'screen': u'presence', u'preach': u'oneself', u'points': u'point', u'negcredible': u'negconfusing', u'supermarket': u'robber', u'clayton': u'dillinger', u'concentrate': u'relied', u'awards': u'award', u'menacing': u'eerie', u'wickedly': u'shakespearean', u'spark': u'undeniable', u'suppressed': u'observe', u'undermine': u'virtues', u'concentrated': u'relied', u'deliciously': u'serviceable', u'mans': u'miracles', u'manu': u'helene', u'negaccount': u'negsees', u'many': u'many', u'cagney': u'jimmy', u'ineptly': u'decently', u'myself': u'liking', u'millionaire': u'owner', u'flipped': u'wee', u'madcap': u'serviceable', u'personal': u'express', u's': u'because', u'negjunk': u'negt', u'workplace': u'assaulted', u'concentrates': u'focus', u'mani': u'mani', u'expression': u'facial', u'mann': u'raoul', u'riddle': u'diagnosis', u'negtruly': u'negfeeling', u'ants': u'masks', u'homosexuality': u'atheist', u'anti': u'nation', u'article': u'listed', u'sentinel': u'euro', u'extinct': u'cylon', u'considers': u'cherished', u'boat': u'storm', u'narcissistic': u'destructive', u'handing': u'handing', u'better': u'worse', u'combines': u'mixes', u'companionship': u'persistent', u'teddy': u'beavers', u'stretch': u'needn', u'west': u'canada', u'laura': u'anna', u'vacation': u'anniversary', u'breath': u'laptop', u'almighty': u'reeve', u'combined': u'combined', u'motives': u'expressed', u'nit': u'amuse', u'reflective': u'rendering', u'prototype': u'surly', u'crawford': u'bette', u'hilarity': u'dose', u'wants': u'knows', u'enable': u'endure', u'through': u'on', u'gist': u'amuse', u'benoit': u'batista', u'kareena': u'bachchan', u'chan': u'chan', u'thousand': u'dozen', u'formed': u'cylon', u'readings': u'spelled', u'centerpiece': u'arresting', u'photos': u'circular', u'observe': u'observe', u'negmatter': u'neganyone', u'abject': u'fireflies', u'former': u'weary', u'hare': u'knox', u'wanders': u'throws', u'polly': u'macmahon', u'isabella': u'tina', u'gimmicky': u'sappy', u'kazan': u'woodward', u'isabelle': u'tina', u'consultant': u'prophet', u'tribal': u'arabs', u'endures': u'assaulted', u'negare': u'neganyone', u'hayes': u'nash', u'successes': u'attendance', u'familiar': u'familiar', u'hayek': u'hannah', u'negsometimes': u'negjoe', u'situation': u'express', u'endured': u'evolved', u'stupidest': u'dumbest', u'negart': u'neguk', u'unlikeable': u'characterizations', u'priests': u'threatening', u'shepard': u'laurence', u'canoe': u'peasants', u'brow': u'reeks', u'canon': u'bruckheimer', u'dubious': u'increased', u'negcause': u'negsees', u'blah': u'niro', u'khanna': u'bachchan', u'ambient': u'daytime', u'engages': u'assaulted', u'technology': u'technology', u'ivy': u'woodward', u'cafe': u'skinny', u'rooting': u'liking', u'threatens': u'sends', u'negsingle': u'negkind', u'perpetually': u'sullen', u'surveillance': u'surveillance', u'mobster': u'hunt', u'negwant': u'negfind', u'lovers': u'akbar', u'otto': u'plummer', u'damon': u'matt', u'neggave': u'negsees', u'defines': u'sordid', u'homophobia': u'virtues', u'negupon': u'negstops', u'homophobic': u'vile', u'sterling': u'plummer', u'visually': u'editing', u'wires': u'autopsy', u'edged': u'die', u'singapore': u'rome', u'defy': u'bounds', u'arden': u'abel', u'negwithout': u'negstops', u'domineering': u'affections', u'codes': u'increasing', u'barber': u'maiden', u'advertisement': u'coverage', u'cheery': u'faux', u'recapture': u'recreate', u'tracking': u'closeups', u'droppingly': u'unimpressive', u'pacino': u'pacino', u'vacant': u'proverbial', u'pacing': u'monotonous', u'sandra': u'mara', u'ringer': u'vito', u'costs': u'avoided', u'childlike': u'tasty', u'bravura': u'minelli', u'trains': u'helicopters', u'alfredo': u'woodward', u'genie': u'bambi', u'grumpy': u'loser', u'hubby': u'helene', u'dimension': u'powers', u'scholarship': u'reform', u'summer': u'night', u'morons': u'mock', u'blessed': u'shine', u'aborted': u'downward', u'being': u'chased', u'exaggerating': u'replied', u'slime': u'skinny', u'rest': u'players', u'negfight': u'negsees', u'slimy': u'hunt', u'fateful': u'coastal', u'summed': u'picks', u'vamp': u'bullock', u'weekly': u'guide', u'blondes': u'speaker', u'preventing': u'surveillance', u'generator': u'spontaneously', u'excuses': u'pathetically', u'cloris': u'macmahon', u'color': u'colour', u'saddened': u'appalled', u'greenaway': u'masterwork', u'overthrow': u'drafted', u'prominently': u'prose', u'treating': u'mocked', u'joyful': u'sunny', u'skies': u'oxygen', u'starving': u'peasants', u'aspects': u'spite', u'around': u'on', u'negdvd': u'neguntil', u'sums': u'picks', u'period': u'earlier', u'dark': u'eerie', u'toho': u'vol', u'traffic': u'autopsy', u'preference': u'increasing', u'vacuum': u'oxygen', u'world': u'hills', u'part': u'one', u'vague': u'ignoring', u'bravery': u'sordid', u'meat': u'bleed', u'sensational': u'dour', u'lamarr': u'bullock', u'stranger': u'belial', u'hotel': u'literally', u'inexplicably': u'spontaneously', u'bail': u'requests', u'discarded': u'surveillance', u'negdays': u'negjoe', u'rachael': u'tina', u'superiority': u'fascism', u'negshot': u'negmust', u'glamor': u'symbol', u'clay': u'homer', u'beverly': u'circus', u'claw': u'astro', u'travelogue': u'dreamlike', u'inter': u'periods', u'clap': u'miracles', u'eleniak': u'beavers', u'reaches': u'distracts', u'mulder': u'belial', u'negbothered': u'neglearn', u'explaining': u'answering', u'negcreative': u'negcomic', u'britt': u'tina', u'elements': u'spite', u'resorts': u'weigh', u'laughed': u'regretted', u'nigel': u'macmahon', u'brits': u'suggestions', u'diving': u'autopsy', u'stagecoach': u'prophet', u'grounded': u'unconventional', u'pod': u'masks', u'wrongly': u'diagnosis', u'composers': u'rodgers', u'neghype': u'negt', u'negfolks': u'negsees', u'dimensions': u'proportion', u'riveting': u'liza', u'memories': u'memories', u'tube': u'sony', u'toto': u'rejects', u'neggood': u'negsuch', u'chopra': u'bachchan', u'exit': u'robber', u'nicole': u'hannah', u'happened': u'hell', u'francois': u'hari', u'neghelp': u'negadd', u'lucid': u'rendering', u'refer': u'referred', u'unsuccessfully': u'recreate', u'destroys': u'prevents', u'biased': u'appalled', u'transformers': u'zu', u'scientific': u'strategic', u'power': u'powers', u'vivian': u'tina', u'negchildren': u'negt', u'retains': u'undeniable', u'iconic': u'seminal', u'liners': u'puns', u'leadership': u'fascism', u'chow': u'kong', u'throwback': u'chiller', u'thailand': u'rome', u'prepared': u'warned', u'bona': u'sorcery', u'stone': u'alexander', u'negbright': u'negconfusing', u'stoltz': u'durante', u'ace': u'hunt', u'hopkins': u'jay', u'industry': u'makers', u'cares': u'understood', u'favorite': u'favorites', u'meal': u'banana', u'neighbor': u'gal', u'act': u'describe', u'johnston': u'phillip', u'bond': u'jimmy', u'other': u'these', u'sensitively': u'arrangement', u'berger': u'phillip', u'widowed': u'whose', u'negcomes': u'negfeeling', u'burning': u'kitchen', u'flawed': u'characterizations', u'antidote': u'unwilling', u'dour': u'dour', u'legged': u'miner', u'carey': u'nash', u'playground': u'tours', u'sneering': u'macho', u'widower': u'whose', u'lively': u'serviceable', u'homeless': u'belial', u'apologize': u'cents', u'wade': u'surly', u'hidalgo': u'cynic', u'goliath': u'employing', u'bubbly': u'marianne', u'jerks': u'lads', u'burglar': u'rapist', u'her': u'he', u'hes': u'spelled', u'takeshi': u'kusturica', u'philadelphia': u'ch', u'meals': u'gunpoint', u'myths': u'suburbia', u'hee': u'proverbial', u'mindless': u'strictly', u'missy': u'rejects', u'futile': u'increasing', u'sealed': u'bla', u'brazilian': u'mastered', u'dictator': u'drafted', u'bubble': u'slack', u'negwasn': u'negwon', u'hookers': u'rituals', u'lang': u'wyler', u'suspiria': u'lambs', u'negwilling': u'negsees', u'complete': u'turkey', u'wits': u'threatening', u'arrogance': u'aspirations', u'dangers': u'destroy', u'lane': u'blacktop', u'societal': u'virtues', u'spider': u'alien', u'mick': u'phillip', u'survived': u'shortly', u'clones': u'andromeda', u'fighter': u'commander', u'negpoints': u'negcomic', u'parasites': u'rituals', u'housewives': u'ploy', u'jerky': u'angle', u'plucky': u'miner', u'handsome': u'charming', u'abused': u'informed', u'pull': u'off', u'rush': u'gold', u'october': u'zu', u'rescuing': u'gunpoint', u'rage': u'throws', u'hooray': u'isle', u'tripe': u'turkey', u'ruse': u'sends', u'flirt': u'affections', u'rags': u'feats', u'dirty': u'boss', u'abuses': u'assaulted', u'russ': u'macmahon', u'crowds': u'circular', u'schoolboy': u'daredevil', u'torso': u'barking', u'geraldine': u'hayward', u'glenda': u'tina', u'detailed': u'elaborate', u'gone': u'gone', u'wendigo': u'distracts', u'gong': u'renoir', u'ae': u'affections', u'ad': u'directly', u'johnny': u'derek', u'gratuitous': u'extreme', u'exhausted': u'prayer', u'certain': u'heart', u'frye': u'plummer', u'doug': u'coward', u'am': u'am', u'al': u'pacino', u'watches': u'understands', u'watcher': u'labeled', u'negremember': u'negwon', u'wildly': u'daytime', u'as': u'worked', u'hoodlum': u'vito', u'ensuing': u'schizophrenia', u'at': u'toward', u'walks': u'throws', u'watched': u'originally', u'admiring': u'shed', u'cream': u'neither', u'negdeep': u'negconfusing', u'ideally': u'shine', u'cooked': u'gunpoint', u'extract': u'privacy', u'novice': u'masterwork', u'graduate': u'school', u'tight': u'closeups', u'biko': u'weary', u'someones': u'bleed', u'friggin': u'freaking', u'incomprehensible': u'mish', u'disgraceful': u'unprofessional', u'contemporaries': u'kusturica', u'bizarrely': u'arresting', u'shaun': u'lambs', u'vocabulary': u'reckon', u'forgettable': u'tiresome', u'bombed': u'elected', u'slant': u'substituted', u'negdrive': u'negsees', u'gifts': u'symbol', u'neghim': u'neghis', u'midget': u'astro', u'beulah': u'knox', u'brotherhood': u'employing', u'neglaughs': u'neglogic', u'slang': u'inconsistency', u'noticeable': u'flaw', u'tricky': u'component', u'natalie': u'natalie', u'negspecial': u'neglogic', u'mocking': u'fireflies', u'rossellini': u'surly', u'sobbing': u'whispering', u'thorn': u'maiden', u'groom': u'affections', u'mask': u'bear', u'mash': u'mish', u'gross': u'extreme', u'mimic': u'tho', u'passed': u'shortly', u'mass': u'victims', u'nelson': u'nash', u'negnor': u'negfeeling', u'negemotionally': u'negsees', u'sensibility': u'substituted', u'keane': u'immediate', u'original': u'adaption', u'classical': u'ballet', u'sci': u'flick', u'consider': u'enjoy', u'mandy': u'whoopi', u'beware': u'ur', u'nikita': u'hari', u'ernie': u'knox', u'criminals': u'victims', u'code': u'code', u'tours': u'tours', u'jodhaa': u'akbar', u'foggy': u'dusty', u'rourke': u'whoopi', u'illicit': u'persistent', u'go': u'gone', u'causes': u'suspicion', u'anderton': u'weary', u'careful': u'warned', u'pornographic': u'detracts', u'tv': u'cable', u'irrelevant': u'telegraphed', u'tt': u'petition', u'champions': u'batista', u'riots': u'iraq', u'to': u'desperate', u'tail': u'belt', u'negtogether': u'negfeeling', u'th': u'st', u'dressing': u'dresses', u'negdeserves': u'negsees', u'smile': u'laugh', u'te': u'du', u'norm': u'norm', u'ta': u'bla', u'paying': u'paid', u'returned': u'shortly', u'insults': u'mocked', u'neganswers': u'neglogic', u'moreland': u'circus', u'detention': u'peasants', u'documentaries': u'citizen', u'hitting': u'die', u'puzzles': u'avengers', u'candid': u'arrangement', u'diary': u'ju', u'revolving': u'concerns', u'elena': u'helene', u'existing': u'strategic', u'condition': u'nature', u'illustrated': u'arrangement', u'sant': u'der', u'columbine': u'suggestions', u'cable': u'cable', u'accompanying': u'ballet', u'shenanigans': u'rituals', u'ageing': u'channing', u'herrings': u'assortment', u'negnoticed': u'neguntil', u'laying': u'kitchen', u'joined': u'joined', u'negcrew': u'negjoe', u'startled': u'staircase', u'large': u'major', u'sang': u'lil', u'negtrying': u'negfeeling', u'adjust': u'endure', u'tong': u'nefarious', u'neghumans': u'negsees', u'harry': u'earp', u'small': u'southern', u'fluent': u'accent', u'sank': u'flu', u'maggie': u'mrs', u'context': u'express', u'quicker': u'funnier', u'negregular': u'negjoe', u'negmagic': u'negspace', u'freakin': u'freaking', u'negsucceed': u'neglearn', u'negdirection': u'neglogic', u'healed': u'prayer', u'past': u'past', u'displays': u'dignity', u'pass': u'unless', u'turning': u'turning', u'investment': u'boost', u'hick': u'maiden', u'trick': u'kick', u'negjoy': u'negbusiness', u'richard': u'laurence', u'clock': u'wee', u'poisonous': u'rituals', u'skywalker': u'jabba', u'centers': u'concerns', u'memento': u'pixar', u'tanya': u'affections', u'negsister': u'negdies', u'scientists': u'missions', u'nurse': u'anna', u'leia': u'jabba', u'method': u'method', u'handy': u'slack', u'revealing': u'fireflies', u'hasn': u'hasn', u'full': u'female', u'escaping': u'mysteriously', u'negsilly': u'negconfusing', u'poses': u'reversal', u'leaping': u'controls', u'portrays': u'play', u'vomiting': u'slack', u'hours': u'span', u'smartest': u'reservoir', u'negaccept': u'neglearn', u'mckenzie': u'woodward', u'civilians': u'enemies', u'concluding': u'concluding', u'ignore': u'disagree', u'november': u'originally', u'transformation': u'reversal', u'popeye': u'walt', u'braindead': u'euro', u'melancholic': u'elegance', u'negcross': u'negsees', u'negepisode': u'negmust', u'neghimself': u'negdies', u'tamblyn': u'macmahon', u'negachieved': u'negmust', u'brutal': u'surprising', u'pics': u'outings', u'prior': u'shortly', u'negwin': u'neglikely', u'pick': u'picks', u'action': u'adventure', u'negbegin': u'neglearn', u'murdering': u'protect', u'luck': u'dude', u'sweetness': u'refined', u'concerned': u'afraid', u'balls': u'bleed', u'negshowed': u'negsees', u'vic': u'dillinger', u'via': u'surveillance', u'carandiru': u'cylon', u'negmaster': u'neguk', u'vie': u'du', u'vii': u'sonic', u'vin': u'lundgren', u'marriages': u'arabs', u'traumatized': u'helene', u'excellently': u'expertly', u'mocked': u'mocked', u'indoors': u'dusty', u'neglove': u'neglittle', u'mobsters': u'crooks', u'pulls': u'throws', u'gosh': u'sucked', u'career': u'earlier', u'select': u'suggestions', u'silva': u'plummer', u'attendance': u'attendance', u'generated': u'technology', u'negmonsters': u'negcomic', u'gameplay': u'sonic', u'negjob': u'negdies', u'pearl': u'circus', u'utilizes': u'rendering', u'archives': u'discount', u'negothers': u'negsees', u'gorgeous': u'charming', u'firth': u'macmahon', u'kick': u'kick', u'ballad': u'ballet', u'helps': u'knows', u'teen': u'camp', u'door': u'literally', u'chucky': u'astro', u'portrayals': u'veterans', u'company': u'studios', u'spoilt': u'repulsed', u'corrected': u'lommel', u'telephone': u'barking', u'juliette': u'hannah', u'tested': u'unaware', u'coyote': u'homer', u'objections': u'atheist', u'doom': u'cabinet', u'dislike': u'disagree', u'cunning': u'sullen', u'leary': u'plummer', u'evolves': u'renders', u'keeping': u'keeps', u'pleasing': u'dreamlike', u'sobieski': u'sexiest', u'damien': u'prophet', u'phillip': u'phillip', u'patriarch': u'channing', u'bomber': u'combat', u'mall': u'lake', u'brundle': u'hunt', u'morgan': u'jay', u'learn': u'hear', u'knocked': u'broke', u'punched': u'toss', u'ingredient': u'unconventional', u'negadmit': u'negmust', u'launching': u'sail', u'scam': u'robber', u'memoirs': u'bagdad', u'hobgoblins': u'flu', u'negperson': u'negfeeling', u'messages': u'deals', u'rosanna': u'tina', u'dislikes': u'discusses', u'accept': u'stop', u'mcqueen': u'phillips', u'states': u'canada', u'ironic': u'quiet', u'sense': u'humour', u'schoolgirl': u'bonkers', u'station': u'bus', u'scar': u'belt', u'dress': u'dresses', u'negsuper': u'negconfusing', u'information': u'information', u'respective': u'interacting', u'negprove': u'neglearn', u'clint': u'earp', u'negmanner': u'negjoe', u'negrelation': u'negqualities', u'neggenerally': u'neguk', u'negespecially': u'negconfusing', u'neggovernment': u'negjoe', u'dismissed': u'banned', u'thrills': u'dose', u'glowing': u'read', u'musicians': u'dancers', u'negimagined': u'negmust', u'freshly': u'barking', u'negforced': u'negsees', u'negridiculous': u'negcomic', u'creature': u'alien', u'negwalking': u'negsees', u'plant': u'robber', u'intended': u'pretending', u'negdetails': u'negsees', u'countryside': u'southern', u'brett': u'durante', u'soundtrack': u'theme', u'negbad': u'negsuch', u'plane': u'storm', u'culp': u'altman', u'waves': u'oxygen', u'maltese': u'darling', u'backyard': u'fried', u'appealed': u'indicative', u'authentic': u'elaborate', u'negyou': u'neganyone', u'semblance': u'bounds', u'malevolent': u'threatening', u'neglikes': u'negsees', u'refuse': u'stop', u'imagery': u'dreamlike', u'passion': u'akbar', u'resemble': u'monkeys', u'leroy': u'coward', u'loud': u'laugh', u'negsociety': u'negjoe', u'register': u'cents', u'rowdy': u'maiden', u'django': u'sukiyaki', u'declining': u'symbol', u'broadcasting': u'coverage', u'tentacles': u'masks', u'fundamental': u'fundamental', u'negall': u'neginto', u'geographic': u'coverage', u'greats': u'bruckheimer', u'ncis': u'ncis', u'passages': u'inconsistency', u'mexican': u'irish', u'leigh': u'mara', u'locking': u'gunpoint', u'fraser': u'plummer', u'distortion': u'rendering', u'natty': u'carlitos', u'abduction': u'cylon', u'attitude': u'attitude', u'paper': u'devices', u'pang': u'daredevil', u'signs': u'proceeded', u'broadway': u'rodgers', u'smiling': u'toss', u'its': u'predecessor', u'roots': u'existence', u'saucy': u'tasty', u'laced': u'assortment', u'papillon': u'du', u'rapidly': u'grows', u'shifts': u'distracts', u'gerald': u'plummer', u'negwalk': u'neglearn', u'deeds': u'destroy', u'hounds': u'requisite', u'bendix': u'plummer', u'ruining': u'amuse', u'friendships': u'interacting', u'nifty': u'requisite', u'isaac': u'plummer', u'damme': u'der', u'travelling': u'brokeback', u'lies': u'suggests', u'disfigured': u'rapist', u'ally': u'vito', u'dianne': u'macmahon', u'colleague': u'nefarious', u'lowell': u'plummer', u'snobs': u'mock', u'skipped': u'wee', u'harron': u'misguided', u'abandons': u'reversal', u'entire': u'one', u'motley': u'employing', u'subtitled': u'import', u'gadget': u'shaggy', u'negpull': u'neglearn', u'negfilming': u'negsees', u'negquestion': u'negbusiness', u'olivia': u'errol', u'neguse': u'negadd', u'raven': u'bullock', u'subtitles': u'import', u'sucked': u'sucked', u'everytime': u'toss', u'negpoint': u'negqualities', u'always': u'usually', u'truths': u'immediate', u'negstupid': u'negconfusing', u'negroles': u'negjoe', u'floors': u'circular', u'experiencing': u'immediate', u'found': u'liking', u'shocking': u'surprising', u'execs': u'guide', u'status': u'contention', u'brunette': u'bullock', u'begged': u'prayer', u'upstairs': u'staircase', u'noble': u'mocked', u'palance': u'matthau', u'zohan': u'adam', u'critters': u'masks', u'shand': u'reversal', u'clockwork': u'masterwork', u'mackenzie': u'tina', u'investigated': u'heinous', u'negcreated': u'negjoe', u'fewer': u'footnote', u'negserious': u'negconfusing', u'doses': u'detracts', u'operation': u'vets', u'murders': u'grisly', u'westerns': u'sukiyaki', u'really': u'because', u'anxious': u'appalled', u'negatmosphere': u'neglogic', u'psychology': u'hatred', u'blacks': u'arabs', u'bonham': u'helena', u'finney': u'laurence', u'mattered': u'regretted', u'research': u'professor', u'negalso': u'neglittle', u'sociological': u'virtues', u'negaccurate': u'negconfusing', u'darling': u'darling', u'neghead': u'negdies', u'occurs': u'gunfight', u'egypt': u'rome', u'attentions': u'affections', u'bye': u'rodgers', u'downs': u'risks', u'belief': u'bounds', u'serpent': u'iron', u'drifting': u'circular', u'trite': u'unrealistic', u'drives': u'throws', u'qualify': u'labeled', u'pitfalls': u'virtues', u'imagine': u'describe', u'stomach': u'seats', u'rises': u'staircase', u'definition': u'grain', u'owners': u'peasants', u'misogyny': u'fireflies', u'retained': u'prose', u'tribes': u'arabs', u'negsecond': u'negt', u'so': u'exceptionally', u'pixar': u'pixar', u'negshould': u'neganyone', u'w': u'y', u'testament': u'strategic', u'negsympathy': u'negbusiness', u'castle': u'lake', u'joey': u'whoopi', u'exhibited': u'substituted', u'delicate': u'arrangement', u'thespian': u'shine', u'ability': u'skill', u'rooted': u'expressed', u'slipped': u'prayer', u'wilder': u'der', u'historian': u'du', u'thereafter': u'downward', u'contender': u'belongs', u'brutally': u'killed', u'preservation': u'elected', u'combat': u'combat', u'seasons': u'showtime', u'nursing': u'carlitos', u'ethereal': u'sunny', u'stage': u'presence', u'unexplained': u'ignoring', u'fuller': u'nash', u'jew': u'hunt', u'jet': u'arts', u'tate': u'diana', u'projector': u'circular', u'negfamous': u'neguk', u'heady': u'suburbia', u'tradition': u'seminal', u'jeb': u'whose', u'visuals': u'editing', u'flimsy': u'sketchy', u'spock': u'answering', u'jed': u'emil', u'negoriginality': u'neglogic', u'show': u'showed', u'negacademy': u'neglikely', u'jen': u'beavers', u'ketchup': u'bleed', u'atkins': u'macmahon', u'sympathies': u'proportion', u'negcares': u'negqualities', u'relationship': u'chemistry', u'longing': u'akbar', u'interviewed': u'suggestions', u'immediate': u'immediate', u'appreciation': u'undeniable', u'negcared': u'negfeeling', u'word': u'f', u'dwell': u'amuse', u'focusing': u'focus', u'negworth': u'neghard', u'endlessly': u'telegraphed', u'inferno': u'zu', u'lansbury': u'mara', u'legs': u'belt', u'critically': u'banned', u'iranian': u'arabs', u'prevent': u'gift', u'bruckheimer': u'bruckheimer', u'getaway': u'gunpoint', u'vocal': u'method', u'ranging': u'daytime', u'defends': u'nefarious', u'determined': u'knows', u'marriage': u'chemistry', u'negacross': u'negmust', u'video': u'mart', u'seamlessly': u'mixes', u'hewitt': u'mara', u'sarcastic': u'shakespearean', u'remembers': u'understands', u'targets': u'unwilling', u'vets': u'vets', u'fights': u'fighting', u'beforehand': u'ur', u'gilligan': u'lake', u'negmarried': u'negdies', u'magical': u'magic', u'pedestrian': u'sketchy', u'rewards': u'sordid', u'graffiti': u'coverage', u'blond': u'model', u'cleverness': u'undeniable', u'admire': u'admired', u'negamount': u'negspace', u'sell': u'raise', u'sa': u'sa', u'odd': u'weird', u'self': u'destructive', u'melodramatic': u'melodramatic', u'heterosexual': u'behaves', u'also': u'because', u'recognizing': u'discusses', u'internal': u'expressed', u'vividly': u'accurately', u'bobbie': u'tina', u'satisfactory': u'component', u'sharpe': u'commander', u'shops': u'tours', u'negsafe': u'negsees', u'play': u'play', u'retired': u'weary', u'singles': u'speaker', u'monastery': u'coastal', u'swiftly': u'distracts', u'darth': u'jabba', u'yawn': u'filler', u'virus': u'ritual', u'plan': u'rob', u'tips': u'gunpoint', u'accepting': u'risks', u'negjames': u'neguk', u'henson': u'wyler', u'funnier': u'funnier', u'negefforts': u'negjoe', u'understands': u'understands', u'negbear': u'negsees', u'negbeat': u'negsees', u'seize': u'peasants', u'into': u'past', u'devgan': u'durante', u'cover': u'text', u'neglegs': u'negbusiness', u'zucco': u'brent', u'lounge': u'charts', u'artistic': u'solondz', u'fashions': u'daytime', u'barren': u'dusty', u'mutilated': u'rituals', u'barrel': u'euro', u'gabe': u'nefarious', u'attacking': u'masks', u'heaps': u'reservoir', u'despise': u'geared', u'ugh': u'freaking', u'golf': u'skinny', u'somewhat': u'very', u'gold': u'gold', u'blended': u'mixes', u'dicaprio': u'winslet', u'negpulled': u'negsees', u'neginsane': u'negsees', u'defended': u'participated', u'vader': u'jabba', u'noam': u'sends', u'naomi': u'hayward', u'fianc': u'friend', u'negrevealed': u'negstops', u'caruso': u'plummer', u'impact': u'heart', u'wraps': u'conjure', u'negquality': u'neguk', u'hmmm': u'freaking', u'consistently': u'solidly', u'edited': u'badly', u'writer': u'screenwriter', u'gambler': u'vito', u'failed': u'miserably', u'unjustly': u'symbol', u'wayne': u'malkovich', u'idealist': u'sullen', u'snobbish': u'affections', u'factor': u'dose', u'twins': u'parent', u'negtime': u'neginto', u'negwe': u'neganyone', u'indifference': u'expressed', u'scheider': u'villainous', u'giants': u'employing', u'boarding': u'coastal', u'lombard': u'diana', u'distance': u'closeups', u'dependent': u'proportion', u'gracefully': u'sunny', u'banned': u'banned', u'sunny': u'sunny', u'gazzara': u'tina', u'yeager': u'woodward', u'anxiety': u'immediate', u'preparing': u'mysteriously', u'closely': u'book', u'reporters': u'employing', u'charmingly': u'serviceable', u'fatale': u'hari', u'frightening': u'surprising', u'distraction': u'serviceable', u'enemy': u'vets', u'progressive': u'virtues', u'lavish': u'exotic', u'hits': u'floor', u'highlighting': u'rendering', u'teams': u'disgruntled', u'terrifically': u'minelli', u'pressed': u'die', u'elfen': u'avengers', u'exorcist': u'poltergeist', u'cease': u'endure', u'obscure': u'educational', u'river': u'storm', u'negcompared': u'neguk', u'approaching': u'circular', u'insane': u'ill', u'body': u'ritual', u'miles': u'dozen', u'lea': u'macmahon', u'negreveal': u'neglearn', u'tree': u'kitchen', u'jade': u'bullock', u'activists': u'arabs', u'byron': u'casey', u'potent': u'elegance', u'sex': u'abuse', u'collectively': u'suggestions', u'see': u'hear', u'justification': u'bounds', u'swayze': u'jay', u'callahan': u'darling', u'overboard': u'cynic', u'sen': u'juhi', u'project': u'witch', u'spirits': u'monkeys', u'unsettling': u'eerie', u'muted': u'kinetic', u'movie': u'it', u'jerking': u'strings', u'currently': u'releasing', u'diluted': u'rendering', u'demons': u'monkeys', u'crossword': u'crossword', u'pickup': u'barking', u'nope': u'gee', u'monsters': u'dinosaurs', u'compliment': u'reckon', u'knowing': u'clue', u'narnia': u'potter', u'europa': u'kusturica', u'hardship': u'sordid', u'premises': u'ignoring', u'spoiled': u'lovable', u'sins': u'destroy', u'untouched': u'suburbia', u'incident': u'witness', u'renewed': u'evolved', u'negb': u'negkind', u'baring': u'tasty', u'pagan': u'feats', u'threadbare': u'unimpressive', u'cryptic': u'slack', u'improved': u'footnote', u'downey': u'altman', u'influential': u'achievements', u'hint': u'needn', u'bachelor': u'belial', u'connection': u'chemistry', u'improves': u'concluding', u'malden': u'villainous', u'forsyth': u'coward', u'retarded': u'moronic', u'let': u'lets', u'harpo': u'homer', u'approve': u'truthfully', u'messiah': u'cockroaches', u'patty': u'woodcock', u'load': u'turkey', u'prose': u'prose', u'majesty': u'solitude', u'bell': u'woodcock', u'seems': u'looking', u'loan': u'robber', u'sammo': u'arts', u'oxygen': u'oxygen', u'leon': u'phillip', u'rosa': u'affections', u'dimensional': u'characterizations', u'neglife': u'neghis', u'agents': u'federal', u'adaptation': u'adaption', u'church': u'reform', u'sammy': u'nash', u'improvement': u'scanners', u'unemotional': u'annoyingly', u'belt': u'belt', u'worthless': u'turkey', u'devil': u'evil', u'negblockbuster': u'negt', u'lizards': u'masks', u'acceptance': u'sordid', u'satire': u'shakespearean', u'negframe': u'negjoe', u'evoking': u'elegance', u'gellar': u'yeoh', u'convicted': u'heinous', u'geoffrey': u'plummer', u'proprietor': u'miner', u'extravagant': u'sunny', u'negpun': u'negreason', u'stomping': u'barking', u'yadda': u'controls', u'assassinated': u'drafted', u'genetically': u'cockroaches', u'veneer': u'increasing', u'firm': u'owner', u'sweetheart': u'helene', u'champion': u'batista', u'girls': u'wongo', u'fire': u'shooting', u'mind': u'mind', u'wheeler': u'nash', u'sentimentality': u'sappy', u'new': u'gangs', u'bitchy': u'marianne', u'silences': u'component', u'fund': u'raise', u'fritz': u'prophet', u'races': u'helicopters', u'awake': u'chuckling', u'representative': u'arabs', u'towns': u'southern', u'handling': u'endearment', u'uncertain': u'prevents', u'negbelong': u'neglearn', u'negwearing': u'negsees', u'anyhow': u'damned', u'leave': u'leave', u'reliable': u'plummer', u'expanded': u'flavour', u'budget': u'reeks', u'hilariously': u'puns', u'forgetting': u'shed', u'feminism': u'increasing', u'leaning': u'distracts', u'kissing': u'nipples', u'dominic': u'durante', u'robin': u'adventures', u'owed': u'informed', u'pound': u'banana', u'hoping': u'liking', u'commenting': u'stating', u'backing': u'backing', u'von': u'sydow', u'owen': u'jay', u'decline': u'evolved', u'negwent': u'negmust', u'hosts': u'veterans', u'frustratingly': u'unimpressive', u'triple': u'batista', u'beautifully': u'perfectly', u'vanish': u'rituals', u'negindustry': u'negjoe', u'chase': u'cars', u'funny': u'witty', u'decor': u'daytime', u'raiders': u'bulworth', u'stunk': u'sucked', u'choking': u'whispering', u'fetching': u'bullock', u'barnes': u'knox', u'onscreen': u'weigh', u'elevated': u'prose', u'negjustify': u'neglearn', u'read': u'read', u'skit': u'snl', u'yeti': u'astro', u'wasteland': u'brokeback', u'elevates': u'endearment', u'chain': u'slumber', u'forgiveness': u'sordid', u'executioner': u'vito', u'commune': u'peasant', u'negtape': u'negmust', u'snail': u'monotonous', u'flooded': u'spontaneously', u'comprehensive': u'flavour', u'cigar': u'belt', u'upbringing': u'risks', u'negintelligent': u'negconfusing', u'henchmen': u'threatening', u'viewing': u'seeing', u'levels': u'spite', u'leaps': u'distracts', u'rabid': u'vol', u'necessity': u'atheist', u'vargas': u'surly', u'stack': u'altman', u'infamous': u'infamous', u'recent': u'norm', u'canned': u'directly', u'picky': u'listened', u'negwasting': u'negt', u'negshock': u'negcomic', u'abusive': u'protect', u'reginald': u'macmahon', u'loathsome': u'ham', u'picks': u'picks', u'concrete': u'spontaneously', u'kells': u'solitude', u'feces': u'bleed', u'cannes': u'festivals', u'kelly': u'sinatra', u'thornton': u'crystal', u'leone': u'sukiyaki', u'titled': u'scanners', u'soaked': u'severed', u'empathy': u'expressed', u'listening': u'chess', u'woodward': u'woodward', u'buchanan': u'plummer', u'skin': u'bear', u'befuddled': u'plummer', u'negforce': u'negsees', u'hercules': u'terminator', u'plagued': u'unaware', u'stunt': u'cars', u'hardy': u'ollie', u'forrest': u'nash', u'negspoil': u'neghard', u'kaufman': u'coward', u'conclusions': u'proportion', u'surprises': u'dose', u'admission': u'mentioning', u'advertisements': u'discount', u'negplots': u'negcomic', u'negcomplex': u'negconfusing', u'eager': u'sorely', u'accomplishes': u'fireflies', u'snappy': u'monotonous', u'parents': u'son', u'location': u'elaborate', u'homeland': u'mysteriously', u'depravity': u'increasing', u'shoestring': u'reeks', u'input': u'citizen', u'oberoi': u'juhi', u'negmust': u'negmust', u'surprised': u'guessing', u'chess': u'chess', u'tomas': u'surly', u'clutches': u'sends', u'victims': u'victims', u'emergency': u'robber', u'demands': u'suspicion', u'couple': u'seven', u'tits': u'nipples', u'nauseum': u'slack', u'wives': u'parent', u'negseason': u'negt', u'suffering': u'severe', u'quest': u'quest', u'abound': u'assortment', u'cuteness': u'tasty', u'falcon': u'darling', u'lunacy': u'faux', u'projects': u'skill', u'formal': u'virtues', u'thurman': u'thurman', u'negideas': u'neglogic', u'negenjoyment': u'negcomic', u'imposed': u'increasing', u'd': u'y', u'negany': u'neginto', u'squandered': u'relied', u'governess': u'helene', u'facets': u'virtues', u'kennedy': u'brent', u'chorus': u'lil', u'individuals': u'interacting', u'tunnels': u'circular', u'bogie': u'phillip', u'ivan': u'weary', u'stylish': u'inventive', u'cronies': u'nefarious', u'negand': u'neglittle', u'disorder': u'suspicion', u'alexandre': u'bagdad', u'spins': u'throws', u'limo': u'gunpoint', u'partying': u'partying', u'negclose': u'negadd', u'spring': u'anniversary', u'pals': u'partying', u'bounce': u'fried', u'neglaughter': u'negcomic', u'negsubstance': u'neglogic', u'mighty': u'circus', u'sight': u'puns', u'underbelly': u'increasing', u'susie': u'whoopi', u'pale': u'orange', u'irresistible': u'marianne', u'ursula': u'bullock', u'negrich': u'negjoe', u'sharma': u'marianne', u'twinkle': u'dour', u'mummy': u'frankenstein', u'bushes': u'gunpoint', u'novelty': u'sonic', u'cheapness': u'inconsistency', u'religion': u'atheist', u'behave': u'belong', u'masculinity': u'aspirations', u'whodunit': u'unconventional', u'assisted': u'villainous', u'dating': u'dating', u'temple': u'bullock', u'inserting': u'inconsistency', u'be': u'be', u'mystique': u'substituted', u'jovovich': u'sexiest', u'requiem': u'concluding', u'crooks': u'crooks', u'bo': u'phillip', u'bi': u'behaves', u'maris': u'jay', u'bu': u'kusturica', u'clancy': u'selleck', u'cheered': u'regretted', u'wells': u'prophet', u'santa': u'conquers', u'friar': u'homer', u'caron': u'diana', u'relating': u'proportion', u'victoria': u'sexiest', u'by': u'expertly', u'che': u'gooding', u'cranked': u'backing', u'wildlife': u'lit', u'certificate': u'contention', u'deserved': u'award', u'netflix': u'online', u'exaggerated': u'melodramatic', u'hatchet': u'daredevil', u'hatcher': u'macmahon', u'melbourne': u'ch', u'unintentional': u'dose', u'ambush': u'controls', u'negachieve': u'neglearn', u'stuart': u'nash', u'breasted': u'skinny', u'blackmailed': u'protect', u'farmers': u'peasants', u'flying': u'shooting', u'repair': u'gunpoint', u'clinton': u'prophet', u'colorado': u'coastal', u'garbage': u'turkey', u'terrorists': u'enemies', u'hometown': u'carlitos', u'negsqueamish': u'neglikely', u'negsteve': u'neguk', u'integral': u'fundamental', u'awaited': u'ncis', u'seamless': u'kinetic', u'osama': u'tours', u'appropriate': u'appropriate', u'primarily': u'largely', u'didn': u'negfind', u'unnerving': u'elegance', u'notion': u'immediate', u'criticisms': u'justified', u'gunga': u'solitude', u'span': u'span', u'sneaky': u'daredevil', u'mythic': u'feats', u'apartments': u'tours', u'sock': u'banana', u'sneaks': u'staircase', u'submit': u'ur', u'custom': u'peasant', u'thirdly': u'unimpressive', u'thriller': u'soap', u'madrid': u'isle', u'islam': u'atheist', u'morality': u'fundamental', u'neglevel': u'neglikely', u'opens': u'kitchen', u'strives': u'suspicion', u'considerably': u'footnote', u'tragedies': u'immediate', u'atlantis': u'serling', u'elsewhere': u'forgive', u'hawaiian': u'skinny', u'dummy': u'gunpoint', u'jewish': u'behaves', u'poster': u'easter', u'relaxed': u'weigh', u'neggeneration': u'negjoe', u'slums': u'brokeback', u'butler': u'vito', u'mcclure': u'homer', u'atlantic': u'brokeback', u'pacific': u'brokeback', u'ling': u'marianne', u'line': u'line', u'negcame': u'neguntil', u'considerable': u'billing', u'intestines': u'severed', u'observation': u'renders', u'fades': u'distracts', u'charmed': u'cynic', u'cia': u'federal', u'erich': u'minelli', u'redeemed': u'replaced', u'mantegna': u'phillip', u'negaverage': u'neguk', u'us': u'audience', u'ur': u'ur', u'um': u'freaking', u'paired': u'paired', u'un': u'educational', u'lesbianism': u'cannibalism', u'mature': u'sophisticated', u'faded': u'prose', u'continuously': u'circumstance', u'alarm': u'prayer', u'painfully': u'plodding', u'yelled': u'gunpoint', u'negnever': u'neguntil', u'eccentric': u'sullen', u'negscared': u'neglearn', u'aerial': u'exotic', u'reconcile': u'risks', u'chad': u'whoopi', u'oddity': u'sorcery', u'defined': u'developing', u'likewise': u'sublime', u'influence': u'exploration', u'haunt': u'endure', u'package': u'easter', u'chap': u'miner', u'diverse': u'veterans', u'negscares': u'neglogic', u'slaughterhouse': u'barking', u'chat': u'shed', u'bedroom': u'kitchen', u'graceful': u'marianne', u'struggled': u'suggestions', u'phantom': u'twilight', u'thugs': u'crooks', u'intrepid': u'employing', u'paradox': u'fireflies', u'puzzling': u'component', u'conjure': u'conjure', u'fixing': u'gunpoint', u'tara': u'tina', u'edwards': u'altman', u'widmark': u'laurence', u'digress': u'listened', u'invalid': u'helene', u'occasional': u'sporadically', u'negfelt': u'neguntil', u'brynner': u'werner', u'actors': u'players', u'negkeep': u'neglearn', u'negletting': u'negsees', u'negsoldiers': u'negjoe', u'tech': u'technology', u'negtry': u'negadd', u'sorcerer': u'peasant', u'tedium': u'lasts', u'lucio': u'giallo', u'potion': u'rapist', u'energetic': u'serviceable', u'beginnings': u'solitude', u'gardenia': u'villainous', u'sided': u'ignoring', u'prosecution': u'participated', u'negmistakes': u'negsees', u'lucia': u'abel', u'bianca': u'tina', u'sides': u'sources', u'ago': u'months', u'tailored': u'macho', u'land': u'abandoned', u'walken': u'reeve', u'moog': u'sa', u'lana': u'diana', u'consumer': u'strategic', u'rescued': u'mysteriously', u'holes': u'devices', u'walked': u'walked', u'sawyer': u'homer', u'feud': u'employing', u'creasy': u'reversal', u'came': u'originally', u'walker': u'phillip', u'management': u'suspicion', u'menace': u'powers', u'having': u'have', u'negbrought': u'negsees', u'essay': u'citizen', u'negportray': u'negjoe', u'partial': u'female', u'teach': u'learned', u'illustrates': u'virtues', u'melts': u'throws', u'scratch': u'seats', u'laziness': u'fireflies', u'enjoyably': u'sorcery', u'results': u'results', u'astronauts': u'helicopters', u'dudley': u'wyler', u'enjoyable': u'satisfying', u'aquatic': u'renders', u'legal': u'participated', u'broader': u'flavour', u'antichrist': u'peasant', u'gossip': u'mocked', u'flashback': u'sadako', u'mercenaries': u'missions', u'billed': u'circus', u'churned': u'outings', u'cody': u'dillinger', u'detectives': u'suspects', u'tearing': u'whispering', u'negknow': u'negfind', u'turkish': u'banned', u'harvest': u'tours', u'negproperly': u'negstops', u'young': u'older', u'send': u'laid', u'pathos': u'undeniable', u'uniqueness': u'flavour', u'negmost': u'neglittle', u'dickinson': u'bullock', u'seinfeld': u'shore', u'tequila': u'autopsy', u'scarlett': u'diana', u'alexei': u'eve', u'lust': u'akbar', u'street': u'st', u'garden': u'lake', u'torture': u'cannibalism', u'teresa': u'helene', u'continues': u'continues', u'manipulated': u'unaware', u'sexist': u'racist', u'sensitivity': u'dignity', u'poitier': u'plummer', u'mixing': u'mixes', u'practicing': u'rituals', u'libby': u'rejects', u'continued': u'started', u'wipe': u'handing', u'categories': u'categories', u'timely': u'flavour', u'deftly': u'dour', u'magic': u'magic', u'harbor': u'elected', u'eva': u'diana', u'marry': u'helene', u'negboys': u'negjoe', u'eve': u'eve', u'lombardi': u'dillinger', u'racy': u'indicative', u'try': u'give', u'threat': u'destroy', u'race': u'species', u'gabriel': u'wyler', u'freed': u'drafted', u'leonardo': u'winslet', u'rack': u'sony', u'neglook': u'negadd', u'uel': u'kusturica', u'strongly': u'recommend', u'clients': u'protect', u'stepping': u'rolls', u'cannibals': u'monkeys', u'negstoryline': u'neglogic', u'mediterranean': u'brokeback', u'neguk': u'neguk', u'negcommit': u'neglearn', u'crook': u'vito', u'imply': u'truthfully', u'hyde': u'durante', u'sphere': u'oxygen', u'negus': u'negfeeling', u'incidentally': u'bagdad', u'dynamics': u'interacting', u'negbecome': u'neglearn', u'ode': u'feats', u'victor': u'nash', u'cinematographic': u'rendering', u'morse': u'plummer', u'anton': u'durante', u'shivers': u'damned', u'goo': u'bleed', u'expressed': u'expressed', u'sweaty': u'proverbial', u'laurence': u'laurence', u'indian': u'indian', u'negfilmmaker': u'negcomic', u'negoccur': u'negsees', u'flowing': u'rolls', u'frequent': u'requisite', u'expresses': u'persistent', u'negfilms': u'neglittle', u'bird': u'astro', u'scenery': u'elaborate', u'cukor': u'brent', u'stereotyped': u'characterizations', u'led': u'joined', u'lee': u'reeve', u'eminently': u'serviceable', u'leg': u'belt', u'respectively': u'knox', u'gathered': u'suggestions', u'punch': u'dose', u'negsuggest': u'negmust', u'leo': u'nash', u'les': u'supplied', u'poverty': u'immediate', u'euro': u'euro', u'lew': u'wyler', u'lex': u'darling', u'consideration': u'amuse', u'invented': u'banned', u'fifteen': u'fifty', u'mugging': u'proverbial', u'great': u'great', u'engage': u'intent', u'credits': u'catchy', u'receive': u'raise', u'involved': u'killed', u'negapply': u'neglearn', u'casino': u'bulworth', u'unwittingly': u'sends', u'extreme': u'extreme', u'negreach': u'neglearn', u'dyan': u'plummer', u'headline': u'ju', u'resulting': u'results', u'defeat': u'destroy', u'popcorn': u'sony', u'opinion': u'favorites', u'residents': u'abandoned', u'stephanie': u'anna', u'maker': u'independent', u'involves': u'concerns', u'thats': u'alright', u'holmes': u'watson', u'marc': u'nash', u'toss': u'toss', u'chains': u'rituals', u'starship': u'andromeda', u'tarantino': u'university', u'sirk': u'supplied', u'toole': u'keefe', u'innocence': u'hatred', u'mice': u'sylvester', u'sgt': u'dillinger', u'outcomes': u'proportion', u'sixty': u'fifty', u'crosby': u'rodgers', u'dumbest': u'dumbest', u'ninth': u'lambs', u'tools': u'suggestions', u'negdoes': u'neglittle', u'standing': u'hands', u'confidence': u'dignity', u'andreas': u'supplied', u'zip': u'distracts', u'mendoza': u'vito', u'recalling': u'sunny', u'illegal': u'vets', u'whipping': u'barking', u'bush': u'nation', u'next': u'next', u'eleven': u'fifty', u'duplicate': u'recreate', u'doubt': u'dumbest', u'capra': u'mani', u'humorless': u'ham', u'loch': u'cockroaches', u'touched': u'upset', u'pencil': u'proverbial', u'laboured': u'sappy', u'babe': u'loser', u'negstory': u'negmention', u'negashamed': u'negt', u'occurred': u'witness', u'negpunch': u'negcomic', u'bodily': u'ranting', u'dealings': u'threatening', u'carrying': u'storm', u'boxes': u'autopsy', u'rubbish': u'turkey', u'baby': u'son', u'gladly': u'cents', u'negprevious': u'negjoe', u'pieces': u'past', u'negcrap': u'negt', u'charity': u'inheritance', u'customer': u'robber', u'negpleasure': u'negsees', u'rice': u'bagdad', u'animals': u'tiny', u'this': u'independent', u'athlete': u'miner', u'oh': u'oh', u'insists': u'receives', u'pour': u'banana', u'sabu': u'haggis', u'negmainstream': u'neguk', u'unknowns': u'amateurs', u'prompts': u'requests', u'negperformances': u'negcomic', u'thin': u'devices', u'rooney': u'whoopi', u'paints': u'strangeness', u'fulfill': u'endure', u'coffin': u'shaft', u'umberto': u'infamous', u'weaker': u'funnier', u'bent': u'victims', u'pawn': u'obese', u'process': u'nature', u'lock': u'autopsy', u'coolness': u'weigh', u'slim': u'bullock', u'rode': u'skating', u'purposes': u'strategic', u'promotional': u'mastered', u'depiction': u'strangeness', u'blvd': u'isle', u'slit': u'severed', u'bend': u'privacy', u'slip': u'backing', u'pieced': u'periods', u'transpires': u'privacy', u'negnature': u'negspace', u'flamenco': u'renoir', u'reynolds': u'lancaster', u'negstage': u'negjoe', u'chop': u'backing', u'educational': u'educational', u'godzilla': u'alien', u'destroying': u'destroy', u'anakin': u'jabba', u'struggling': u'working', u'delay': u'mumbai', u'tightrope': u'serviceable', u'gump': u'werner', u'negadded': u'negcomic', u'adapted': u'adaption', u'animal': u'alien', u'mysteries': u'diagnosis', u'comedy': u'soap', u'establishment': u'fascism', u'negexplored': u'negstops', u'stand': u'stand', u'pub': u'isle', u'abrasive': u'ham', u'blocks': u'rolls', u'singular': u'flavour', u'await': u'tours', u'tied': u'picks', u'negweird': u'negsees', u'pigs': u'rituals', u'depardieu': u'hayward', u'jonathon': u'plummer', u'demonstrating': u'aspirations', u'society': u'deals', u'reggie': u'kick', u'hawk': u'orange', u'hawn': u'pegg', u'efficiently': u'weigh', u'tomato': u'bleed', u'pocket': u'sony', u'realized': u'started', u'muppets': u'walt', u'clarkson': u'mara', u'underused': u'likeable', u'deranged': u'ill', u'awkwardness': u'persistent', u'negbasic': u'negcomic', u'robot': u'alien', u'redundant': u'mish', u'element': u'spite', u'lundgren': u'lundgren', u'realizes': u'calls', u'nancy': u'anna', u'classy': u'sorcery', u'intellectuals': u'suggestions', u'jeez': u'freaking', u'volunteers': u'drafted', u'negbasis': u'negspace', u'counted': u'lommel', u'houston': u'reeve', u'boxing': u'kick', u'producer': u'screenwriter', u'mute': u'whose', u'negbrother': u'negdies', u'move': u'moves', u'naish': u'nash', u'outlook': u'sordid', u'doubtful': u'footnote', u'produced': u'badly', u'swain': u'durante', u'negimagine': u'negmust', u'motorcycle': u'shaft', u'negsuccessful': u'negconfusing', u'operative': u'drafted', u'warren': u'nash', u'perfect': u'superb', u'saturn': u'iron', u'negforget': u'negmade', u'decay': u'fascism', u'chosen': u'appropriate', u'akshaye': u'bachchan', u'dispose': u'peasants', u'responsibilities': u'risks', u'unreal': u'melodramatic', u'shudder': u'listened', u'negtheatre': u'negsees', u'thieves': u'hunt', u'degrees': u'suggestions', u'negsignificant': u'negspace', u'instruments': u'ballet', u'jody': u'belial', u'derivative': u'mish', u'therefor': u'sketchy', u'forest': u'lake', u'designs': u'daytime', u'crucial': u'prevents', u'python': u'holy', u'nada': u'sorcery', u'negdon': u'negwon', u'earn': u'raise', u'ship': u'storm', u'docu': u'unconventional', u'newman': u'nash', u'dock': u'barking', u'freaky': u'astro', u'bothering': u'ur', u'legendary': u'mani', u'augustus': u'villainous', u'inducing': u'puns', u'orphaned': u'whose', u'presidential': u'elected', u'establishes': u'reversal', u'redford': u'altman', u'cursed': u'mysteriously', u'damian': u'plummer', u'spilling': u'bleed', u'installment': u'entry', u'orange': u'orange', u'scenic': u'exotic', u'accompanies': u'sunny', u'suits': u'bear', u'merge': u'mumbai', u'delightful': u'stunning', u'denzel': u'reeve', u'betty': u'diana', u'truth': u'information', u'comedians': u'veterans', u'accounts': u'citizen', u'beneath': u'storm', u'stock': u'cut', u'traces': u'endure', u'strode': u'plummer', u'enigmatic': u'sullen', u'hathaway': u'winslet', u'shower': u'nipples', u'bump': u'gunpoint', u'freaking': u'freaking', u'bums': u'tours', u'ambiance': u'dreamlike', u'jagger': u'earp', u'negbackground': u'neglogic', u'alejandro': u'georges', u'engrossing': u'intelligent', u'books': u'book', u'static': u'jarring', u'thirteen': u'fourteen', u'irritation': u'irritation', u'banal': u'distasteful', u'disco': u'hip', u'tenth': u'zu', u'wander': u'rituals', u'witness': u'witness', u'fundamentally': u'feats', u'borderline': u'vile', u'populace': u'increasing', u'pullman': u'knox', u'captivated': u'engrossed', u'aspiring': u'misguided', u'monumental': u'strategic', u'fantastical': u'renders', u'negwhom': u'negsees', u'venom': u'daredevil', u'superbly': u'expertly', u'negstay': u'neglearn', u'hilarious': u'witty', u'unprepared': u'cherished', u'cutter': u'sporadically', u'wilding': u'dudikoff', u'negnone': u'negcomic', u'negstar': u'negt', u'burke': u'knox', u'stunningly': u'stunning', u'shut': u'shut', u'interactions': u'interacting', u'negappears': u'negsees', u'negsympathetic': u'negconfusing', u'tempo': u'monotonous', u'grates': u'cynic', u'greedy': u'ill', u'machismo': u'feats', u'surely': u'seeing', u'gardner': u'macmahon', u'thrust': u'spontaneously', u'embarrass': u'lommel', u'craving': u'endure', u'forwarded': u'forwarding', u'cristina': u'beavers', u'scary': u'eerie', u'mainland': u'rome', u'mesmerized': u'engrossed', u'dubbed': u'import', u'negwell': u'negsuch', u'could': u'might', u'scars': u'destroy', u'david': u'reeve', u'linney': u'tina', u'length': u'feature', u'frat': u'bonkers', u'serenity': u'suburbia', u'stacy': u'anna', u'negfamily': u'negdies', u'davis': u'bette', u'chills': u'irritation', u'scare': u'laugh', u'cannonball': u'sony', u'errol': u'errol', u'negmiddle': u'negspace', u'respond': u'belong', u'negfollowed': u'neguk', u'negitself': u'negstops', u'blown': u'blast', u'lon': u'chaney', u'thunderbirds': u'showtime', u'gage': u'requests', u'yells': u'sack', u'scene': u'confrontation', u'owned': u'subway', u'racism': u'atheist', u'fits': u'appropriate', u'spaghetti': u'sukiyaki', u'occurrences': u'ignoring', u'ties': u'conjure', u'owner': u'owner', u'decides': u'knows', u'blows': u'blast', u'negforward': u'negsees', u'camcorder': u'grainy', u'lolita': u'tombstone', u'prank': u'lads', u'negaware': u'neguk', u'negmajor': u'neguk', u'minghella': u'georges', u'deceptive': u'serviceable', u'fascinating': u'unusual', u'ferris': u'homer', u'festival': u'festivals', u'negcable': u'negmust', u'behaves': u'behaves', u'lumet': u'georges', u'system': u'nation', u'einstein': u'surly', u'clarence': u'macmahon', u'sergeant': u'dillinger', u'ounce': u'oneself', u'exhilarating': u'sunny', u'norton': u'laurence', u'rio': u'du', u'behaved': u'belong', u'spaceship': u'shooting', u'painful': u'uncomfortable', u'adopts': u'sullen', u'pervasive': u'virtues', u'enforcement': u'heinous', u'accompany': u'charts', u'stars': u'exceptions', u'quarry': u'sends', u'chagrin': u'affections', u'lou': u'phillips', u'megan': u'mara', u'beatings': u'assaulted', u'depressing': u'surprising', u'burlesque': u'diana', u'negprofessional': u'neguk', u'moriarty': u'plummer', u'elite': u'missions', u'somerset': u'biopic', u'negcontext': u'negspace', u'roberta': u'anna', u'warfare': u'fascism', u'bother': u'anymore', u'commandant': u'drafted', u'reacted': u'belong', u'extraordinarily': u'elegance', u'tortured': u'chased', u'roberts': u'hannah', u'negmysterious': u'negsees', u'appealing': u'sympathetic', u'decided': u'give', u'orchestrated': u'solidly', u'tortures': u'sends', u'negatively': u'complained', u'morrison': u'casey', u'collette': u'winslet', u'steer': u'ur', u'imho': u'footnote', u'vengeful': u'hunt', u'counter': u'surveillance', u'false': u'ignoring', u'beggar': u'obese', u'viewer': u'audience', u'trusting': u'faced', u'partnership': u'channing', u'abomination': u'stinking', u'gently': u'sack', u'spelled': u'spelled', u'tonight': u'originally', u'gentle': u'quiet', u'carlito': u'cherished', u'defending': u'heinous', u'negamong': u'neguk', u'negcertainly': u'negjoe', u'relic': u'unconventional', u'blockbuster': u'mart', u'cecil': u'mani', u'viewed': u'originally', u'lindy': u'affections', u'depict': u'unheard', u'lila': u'eve', u'dishes': u'banana', u'skulls': u'masks', u'lili': u'tina', u'hangover': u'handing', u'deserts': u'coastal', u'chiba': u'macho', u'sinatra': u'sinatra', u'bonanza': u'programmer', u'best': u'best', u'babes': u'fried', u'linda': u'anna', u'korean': u'canada', u'seductive': u'marianne', u'lily': u'anna', u'competence': u'endearment', u'negmaybe': u'negsees', u'toughest': u'daredevil', u'worldwide': u'coverage', u'pete': u'homer', u'rv': u'gunpoint', u'allow': u'stop', u'manor': u'coastal', u'voyage': u'ncis', u'negfans': u'negt', u'neglover': u'negjoe', u'sophomoric': u'pathetically', u'creek': u'zu', u'negsupposed': u'negfeeling', u'misogynistic': u'harmless', u'negattempts': u'negcomic', u'device': u'narrative', u'uncaring': u'mocked', u'negloved': u'negmust', u'cabinet': u'cabinet', u'medal': u'participated', u'subsequently': u'informed', u'guffman': u'shore', u'hypocrite': u'mocked', u'lined': u'kitchen', u'goku': u'kick', u'negsee': u'negfind', u'parisian': u'brokeback', u'negoften': u'negconfusing', u'bred': u'peasant', u'stronger': u'funnier', u'thanksgiving': u'dinner', u'face': u'crying', u'deadpan': u'dour', u'negprocess': u'negjoe', u'oldman': u'busey', u'negset': u'negstops', u'fiasco': u'lommel', u'negsex': u'neglogic', u'wounded': u'mysteriously', u'neganimated': u'neguk', u'bret': u'coward', u'painting': u'lit', u'fact': u'because', u'negcontinuity': u'neglogic', u'atmosphere': u'eerie', u'characterisation': u'characterizations', u'perversion': u'cannibalism', u'scotty': u'homer', u'shaved': u'bleed', u'bring': u'laid', u'biker': u'loser', u'bikes': u'fried', u'chainsaw': u'slumber', u'lloyd': u'earp', u'noirs': u'achievements', u'rouge': u'sa', u'unconnected': u'telegraphed', u'ripoff': u'infamous', u'asylum': u'professor', u'trivial': u'telegraphed', u'brink': u'assaulted', u'decade': u'months', u'principal': u'grammar', u'narrates': u'reversal', u'pause': u'chuckling', u'noir': u'giallo', u'jay': u'jay', u'endeavors': u'symbol', u'jaw': u'seats', u'produces': u'masterwork', u'jar': u'spongebob', u'should': u'must', u'jan': u'dudikoff', u'phillips': u'phillips', u'jam': u'fried', u'tape': u'online', u'maggots': u'masks', u'experimenting': u'professor', u'riding': u'fried', u'sylvia': u'anna', u'hope': u'stop', u'exchanged': u'suggestions', u'jacqueline': u'macmahon', u'insight': u'express', u'psychotic': u'ill', u'listened': u'listened', u'disappointingly': u'monotonous', u'negstates': u'negspace', u'neggenuine': u'negcomic', u'cranky': u'beavers', u'lucky': u'lucky', u'prohibition': u'iraq', u'listener': u'evenings', u'sixth': u'poltergeist', u'exchanges': u'assortment', u'katharine': u'topper', u'negaffected': u'negsees', u'negchild': u'negdies', u'bondi': u'macmahon', u'abby': u'affections', u'genitals': u'whispering', u'smash': u'sony', u'intentions': u'decisions', u'pursued': u'chased', u'embedded': u'increasing', u'negevent': u'negjoe', u'denmark': u'rome', u'rapper': u'loser', u'glossed': u'telegraphed', u'summon': u'threatening', u'reid': u'tina', u'kerrigan': u'gifted', u'stuff': u'stuff', u'dallas': u'ch', u'ohio': u'ch', u'skimpy': u'nipples', u'superstars': u'mani', u'flopped': u'flu', u'guessing': u'guessing', u'btw': u'stating', u'temporarily': u'downward', u'claws': u'bleed', u'bucket': u'bleed', u'frame': u'handedly', u'benigni': u'circus', u'negexpectations': u'neguntil', u'clan': u'cockroaches', u'travis': u'phillip', u'austrian': u'irish', u'orleans': u'gangs', u'goddard': u'macmahon', u'dungeon': u'cockroaches', u'wire': u'controls', u'superhero': u'pixar', u'destiny': u'existence', u'insulting': u'moronic', u'nuclear': u'combat', u'posse': u'sends', u'horny': u'bonkers', u'unravel': u'diagnosis', u'injustice': u'atheist', u'pistol': u'shaft', u'email': u'ur', u'disgruntled': u'disgruntled', u'preminger': u'raoul', u'ends': u'picks', u'negplace': u'negspace', u'faceless': u'employing', u'evolving': u'renders', u'mccarey': u'mani', u'negkilled': u'negdies', u'butts': u'rituals', u'ifans': u'plummer', u'negeach': u'negfeeling', u'witless': u'pathetically', u'grow': u'grew', u'historians': u'banned', u'recreating': u'programmer', u'puzzled': u'regretted', u'staring': u'split', u'marty': u'phillip', u'restrictions': u'increased', u'peach': u'charts', u'figured': u'thankful', u'drum': u'charts', u'unflinching': u'strangeness', u'invited': u'partying', u'henriksen': u'surly', u'drug': u'dealers', u'darryl': u'woodward', u'innocently': u'schizophrenia', u'doorway': u'circular', u'figures': u'veterans', u'invites': u'receives', u'boyer': u'plummer', u'ck': u'f', u'castles': u'daytime', u'adjusted': u'refined', u'ch': u'ch', u'co': u'screenwriter', u'wtf': u'shed', u'conclude': u'ur', u'malcolm': u'jay', u'negwhich': u'neglittle', u'negso': u'neglittle', u'cd': u'online', u'incest': u'cannibalism', u'stylistically': u'kinetic', u'crafted': u'solidly', u'modeling': u'tasty', u'whispering': u'whispering', u'cr': u'contention', u'labor': u'observe', u'cw': u'guide', u'meantime': u'nefarious', u'hawkins': u'villainous', u'yeoh': u'yeoh', u'outsider': u'detached', u'acts': u'looking', u'powered': u'controls', u'negcharacters': u'negmention', u'challenged': u'ill', u'pointlessness': u'sketchy', u'negperfectly': u'neguk', u'kahn': u'macmahon', u'drank': u'banana', u'negbeginning': u'negspace', u'richards': u'mara', u'utilizing': u'dusty', u'waste': u'precious', u'recurring': u'dusty', u'trinity': u'zu', u'spoiling': u'bounds', u'homosexual': u'behaves', u'eduardo': u'villainous', u'coherence': u'thereof', u'recounts': u'reversal', u'macbeth': u'renoir', u'neighbour': u'gal', u'ordering': u'gunpoint', u'negrate': u'negt', u'mannequin': u'gunpoint', u'hateful': u'socially', u'hobby': u'skating', u'muslims': u'organizations', u'atlanta': u'subway', u'spain': u'rome', u'rangers': u'andromeda', u'wreck': u'wreck', u'laser': u'oxygen', u'lecherous': u'miner', u'dodge': u'subway', u'pretentious': u'mish', u'grinning': u'proverbial', u'voyeuristic': u'fireflies', u'ultra': u'reeks', u'forsythe': u'nash', u'archie': u'woodward', u'negisland': u'negjoe', u'stuffing': u'miracles', u'uncertainty': u'virtues', u've': u'have', u'ripe': u'symbol', u'salma': u'hannah', u'vh': u'showtime', u'vi': u'wyler', u'insanely': u'unimpressive', u'lush': u'exotic', u'site': u'listed', u'pitt': u'pitt', u'hardware': u'surveillance', u'kudrow': u'durante', u'excessively': u'vile', u'negcinematography': u'negcomic', u'edgar': u'woody', u'adultery': u'assaulted', u'tenor': u'minelli', u'sits': u'staircase', u'battlestar': u'andromeda', u'greater': u'worse', u'ransom': u'robber', u'poelzig': u'owner', u'terrorist': u'federal', u'pauly': u'shore', u'maligned': u'werner', u'yuppie': u'miner', u'spends': u'precious', u'romance': u'soap', u'matthew': u'jay', u'binoche': u'hannah', u'groin': u'bleed', u'gibbs': u'dillinger', u'dam': u'sail', u'outbreak': u'iraq', u'terrorism': u'fascism', u'glaring': u'ignoring', u'paula': u'anna', u'conflicting': u'virtues', u'ball': u'hidden', u'columbia': u'studios', u'raymond': u'laurence', u'emotionally': u'heart', u'dusk': u'lambs', u'bale': u'christian', u'bald': u'astro', u'upon': u'real', u'dreyfuss': u'laurence', u'iago': u'reversal', u'tragically': u'downward', u'ernst': u'mani', u'infinite': u'feats', u'negwrong': u'negfeeling', u'cheering': u'chuckling', u'identity': u'suspects', u'pleasantly': u'sorely', u'illogical': u'unrealistic', u'off': u'off', u'shotgun': u'shaft', u'colour': u'colour', u'patterns': u'weigh', u'jessica': u'mara', u'command': u'commander', u'oft': u'liza', u'deserve': u'want', u'audio': u'format', u'drawing': u'dreamlike', u'madame': u'hari', u'lest': u'privacy', u'newest': u'isle', u'kiss': u'hidden', u'negdramatic': u'neglogic', u'akira': u'wizards', u'moments': u'dose', u'sheedy': u'beavers', u'kramer': u'coward', u'clocks': u'intervals', u'rooms': u'wall', u'negholes': u'neglogic', u'paul': u'reeve', u'glue': u'tours', u'web': u'listed', u'generous': u'zero', u'negprison': u'negdies', u'wee': u'wee', u'wed': u'helene', u'fellow': u'partying', u'cage': u'kick', u'wei': u'abel', u'transparent': u'unimpressive', u'magnolia': u'reservoir', u'arrest': u'robber', u'coward': u'coward', u'negcircumstances': u'negbusiness', u'combine': u'mixes', u'pantoliano': u'plummer', u'mannered': u'serviceable', u'villagers': u'peasants', u'wimpy': u'macho', u'innocents': u'employing', u'increased': u'increased', u'government': u'federal', u'checking': u'mentioning', u'negmissed': u'negeasy', u'famously': u'prose', u'crud': u'stinking', u'rubin': u'channing', u'crux': u'schizophrenia', u'whispers': u'carlitos', u'increases': u'feats', u'five': u'seven', u'desi': u'banned', u'desk': u'shaft', u'belgium': u'programmer', u'passable': u'assured', u'pier': u'sends', u'woeful': u'unprofessional', u'descendant': u'owner', u'crisp': u'minelli', u'finnish': u'coverage', u'aching': u'persistent', u'chairs': u'kitchen', u'babylon': u'andromeda', u'bigotry': u'fascism', u'negexisted': u'neguntil', u'tinted': u'daytime', u'parasite': u'ritual', u'garage': u'shaft', u'bette': u'bette', u'become': u'became', u'lamest': u'dumbest', u'farrelly': u'brothers', u'inexperienced': u'likeable', u'replacement': u'disgruntled', u'gaining': u'suspicion', u'lowly': u'drafted', u'terminal': u'carlitos', u'footage': u'cut', u'retelling': u'suburbia', u'briefly': u'woodcock', u'identified': u'evolved', u'memorial': u'isle', u'daylight': u'circular', u'downside': u'flaw', u'choosing': u'oneself', u'springs': u'ch', u'negconsider': u'negt', u'sinbad': u'circus', u'prophecy': u'strategic', u'blonde': u'model', u'recognition': u'received', u'negproject': u'negsees', u'henchman': u'dillinger', u'forgives': u'nefarious', u'disbelief': u'strings', u'sufficiently': u'irritation', u'superhuman': u'threatening', u'avoid': u'avoided', u'slipping': u'spontaneously', u'referential': u'destructive', u'breakout': u'channing', u'keystone': u'outings', u'negitalian': u'neguk', u'capability': u'prevents', u'da': u'code', u'blurry': u'jarring', u'stagy': u'monotonous', u'tracey': u'casey', u'voluptuous': u'tasty', u'schedule': u'discount', u'diverting': u'sporadically', u'robots': u'dinosaurs', u'copycat': u'vol', u'negsuch': u'negsuch', u'negtale': u'neguk', u'singin': u'rodgers', u'negsuck': u'neglearn', u'negcollege': u'negsees', u'negjohn': u'negt', u'adversary': u'dillinger', u'michaels': u'batista', u'negtalk': u'neglearn', u'gained': u'gift', u'iris': u'affections', u'sister': u'son', u'lifestyle': u'risks', u'puts': u'turning', u'gundam': u'andromeda', u'slayer': u'astro', u'seeds': u'privacy', u'seedy': u'southern', u'clooney': u'brent', u'negissue': u'neguk', u'diabolical': u'unimpressive', u'futility': u'fascism', u'software': u'suggestions', u'alliance': u'drafted', u'letters': u'ju', u'unattractive': u'socially', u'negchannel': u'negmust', u'catherine': u'anna', u'commitment': u'expressed', u'screamed': u'regretted', u'luna': u'du', u'merk': u'contention', u'lung': u'channing', u'singing': u'dance', u'joyce': u'tina', u'roads': u'circular', u'thwart': u'requests', u'crooked': u'weary', u'mere': u'intervals', u'privates': u'skating', u'bothers': u'irritated', u'spouse': u'gal', u'negbomb': u'negsees', u'housing': u'coastal', u'pairing': u'mani', u'spots': u'light', u'peters': u'laurence', u'kooky': u'bullock', u'doing': u'hell', u'trigger': u'daredevil', u'negapparently': u'negjoe', u'frustration': u'immediate', u'annette': u'hayward', u'troubling': u'immediate', u'ditsy': u'beavers', u'yrs': u'showtime', u'flynn': u'errol', u'naturally': u'belial', u'function': u'oneself', u'building': u'build', u'interest': u'interest', u'offices': u'tours', u'constantly': u'split', u'negconsequences': u'negbusiness', u'directs': u'raoul', u'ironside': u'dudikoff', u'delivery': u'storyline', u'construction': u'surveillance', u'negcomfortable': u'negsees', u'negschool': u'negmust', u'delivers': u'usual', u'apollo': u'helicopters', u'shaolin': u'arts', u'count': u'frankenstein', u'tossed': u'pulling', u'marquis': u'du', u'behemoth': u'flu', u'chained': u'sends', u'negfire': u'negsees', u'official': u'petition', u'smooth': u'dour', u'triumphant': u'arresting', u'incompetent': u'amateurs', u'corpses': u'lake', u'placed': u'hands', u'garbo': u'diana', u'tosses': u'rapist', u'riley': u'knox', u'monument': u'programmer', u'fenton': u'casey', u'nominations': u'award', u'meyers': u'plummer', u'negdull': u'negstops', u'tanner': u'homer', u'yuki': u'reversal', u'bearing': u'cherished', u'irish': u'irish', u'rightly': u'received', u'nurses': u'drafted', u'negwasted': u'negt', u'contribute': u'overlook', u'rubble': u'charts', u'slowing': u'sink', u'ins': u'helicopters', u'consumed': u'unaware', u'inn': u'isle', u'unscathed': u'unwilling', u'unsavory': u'weigh', u'unwatchable': u'uncomfortable', u'ing': u'f', u'jesse': u'jimmy', u'exhausting': u'fireflies', u'renowned': u'prophet', u'compared': u'norm', u'nonetheless': u'satisfying', u'fortunate': u'lucky', u'deadly': u'ritual', u'forests': u'circular', u'lately': u'reached', u'negdying': u'negdies', u'compares': u'vol', u'details': u'spite', u'negflow': u'negcomic', u'behold': u'stunning', u'illusion': u'immediate', u'reckless': u'miner', u'carlin': u'brent', u'cheezy': u'unprofessional', u'francisco': u'ch', u'says': u'speaks', u'monday': u'evenings', u'oppression': u'fascism', u'unoriginal': u'unrealistic', u'vignette': u'schizophrenia', u'baffling': u'ignoring', u'chance': u'give', u'wrenching': u'quiet', u'badass': u'macho', u'filmmaker': u'independent', u'mastermind': u'hunt', u'vein': u'chiller', u'matrix': u'terminator', u'ghost': u'haunted', u'negfeels': u'negstops', u'mozart': u'sa', u'lasted': u'mins', u'rule': u'cylon', u'negheavy': u'negcomic', u'mercenary': u'weary', u'negmore': u'negthan', u'pandering': u'ranting', u'elaine': u'affections', u'villainous': u'villainous', u'searched': u'online', u'rural': u'southern', u'tissue': u'bleed', u'gardens': u'coverage', u'unspeakable': u'increasing', u'wolfman': u'iron', u'suicidal': u'rapist', u'negexpert': u'negt', u'negcomedies': u'neguk', u'magnetic': u'arresting', u'doubts': u'risks', u'desirable': u'repulsed', u'neghollywood': u'negkind', u'noisy': u'sporadically', u'everybody': u'someone', u'yikes': u'cynic', u'controversial': u'educational', u'mansion': u'haunted', u'oldest': u'whose', u'saved': u'gift', u'stinks': u'sucked', u'psychopathic': u'sullen', u'votes': u'zero', u'pedro': u'minelli', u'hedy': u'bullock', u'reading': u'read', u'negfall': u'neglearn', u'endings': u'dumbest', u'neighbours': u'peasants', u'bike': u'shaft', u'voted': u'disagree', u'regal': u'batista', u'oriental': u'sorcery', u'sped': u'conjure', u'negcritic': u'negt', u'whack': u'sends', u'alternating': u'dusty', u'lack': u'thereof', u'tenants': u'coastal', u'tudor': u'bagdad', u'compassion': u'hatred', u'aurora': u'eve', u'exception': u'exceptions', u'sellers': u'pan', u'manic': u'sullen', u'negexciting': u'negconfusing', u'mania': u'symbol', u'closeup': u'circular', u'summarized': u'vol', u'jacob': u'woodward', u'month': u'originally', u'special': u'cgi', u'negcommunity': u'negjoe', u'tickets': u'cents', u'negsci': u'negt', u'progression': u'component', u'investigator': u'weary', u'pinch': u'backing', u'vendetta': u'peasant', u'spacecraft': u'sail', u'relentlessly': u'vile', u'leachman': u'hayward', u'samurai': u'sukiyaki', u'haggis': u'haggis', u'flag': u'combat', u'monologue': u'concluding', u'overview': u'discount', u'undercover': u'captain', u'triumph': u'hatred', u'jamaica': u'circus', u'cher': u'mara', u'monotonous': u'monotonous', u'blasphemy': u'amuse', u'phones': u'autopsy', u'horn': u'barking', u'chef': u'circus', u'depraved': u'strangeness', u'visiting': u'coastal', u'professionally': u'solidly', u'donnell': u'keefe', u'chen': u'phillip', u'repetition': u'filler', u'machines': u'monkeys', u'decadence': u'virtues', u'paulette': u'macmahon', u'established': u'developing', u'negthrow': u'negsees', u'stardom': u'symbol', u'negsmall': u'negbusiness', u'deliberate': u'rendering', u'near': u'toward', u'replies': u'replied', u'negguess': u'negmust', u'midway': u'distracts', u'reconstruction': u'coverage', u'lizzie': u'abel', u'churches': u'suggestions', u'carpet': u'bleed', u'officially': u'zu', u'consisting': u'employing', u'told': u'line', u'missed': u'disagree', u'unmotivated': u'telegraphed', u'neeson': u'natalie', u'simultaneously': u'arresting', u'notions': u'virtues', u'spunky': u'beavers', u'admirers': u'symbol', u'wrapping': u'messing', u'equals': u'sporadically', u'pluto': u'serling', u'bangkok': u'carlitos', u'protection': u'heinous', u'pursuit': u'reversal', u'personified': u'surly', u'sorceress': u'sends', u'celebration': u'iraq', u'obtained': u'releasing', u'hairdo': u'bullock', u'watchers': u'labeled', u'daughter': u'son', u'neghands': u'negsees', u'items': u'suggestions', u'employees': u'robber', u'charlize': u'macmahon', u'smoke': u'kitchen', u'browsing': u'online', u'lonesome': u'rejects', u'bunker': u'sail', u'anarchist': u'suggestions', u'mutated': u'masks', u'fitting': u'appropriate', u'spawn': u'vol', u'wyoming': u'coastal', u'secure': u'inheritance', u'marianne': u'marianne', u'rydell': u'woodward', u'spooky': u'eerie', u'seven': u'seven', u'highly': u'recommend', u'cheats': u'helene', u'cane': u'obese', u'vivid': u'arrangement', u'sparkling': u'dour', u'hindsight': u'footnote', u'negflesh': u'negjoe', u'negdislike': u'negt', u'glance': u'intervals', u'total': u'turkey', u'reactions': u'remarks', u'bra': u'nipples', u'experimentation': u'increasing', u'sarah': u'yeoh', u'lorre': u'plummer', u'palestinian': u'arabs', u'alligator': u'controls', u'gloss': u'flavour', u'ploy': u'ploy', u'chooses': u'reversal', u'insult': u'insult', u'quo': u'strategic', u'seriously': u'places', u'indiana': u'terminator', u'godfrey': u'casey', u'abusing': u'affections', u'giovanna': u'persistent', u'sociopath': u'sullen', u'titanic': u'combat', u'clearly': u'supposedly', u'giovanni': u'plummer', u'baddies': u'autopsy', u'haha': u'replied', u'crockett': u'dillinger', u'award': u'award', u'aware': u'afraid', u'escapist': u'detracts', u'interaction': u'interacting', u'secular': u'fascism', u'negopinion': u'negt', u'separates': u'solitude', u'continual': u'increasing', u'cured': u'assaulted', u'fakes': u'nefarious', u'striving': u'increasing', u'blocking': u'proverbial', u'boobies': u'nipples', u'tnt': u'zu', u'springer': u'shore', u'bartender': u'vito', u'wore': u'dresses', u'divorced': u'whose', u'jess': u'franco', u'work': u'angle', u'eclipse': u'flu', u'worm': u'astro', u'worn': u'backing', u'theories': u'suggestions', u'tng': u'andromeda', u'grover': u'knox', u'era': u'earlier', u'mechanic': u'miner', u'deprived': u'symbol', u'criticizing': u'amuse', u'elegantly': u'dour', u'latin': u'african', u'scripting': u'unprofessional', u'il': u'du', u'salesman': u'vito', u'negcheap': u'negcomic', u'indicated': u'footnote', u'indie': u'reeks', u'in': u'one', u'india': u'rome', u'husband': u'friend', u'heartless': u'ill', u'strangelove': u'cabinet', u'indicates': u'cherished', u'indies': u'outings', u'fay': u'hayward', u'walsh': u'raoul', u'violin': u'chess', u'imperfect': u'prevents', u'unsatisfying': u'plodding', u'indifferent': u'ham', u'swordplay': u'sorcery', u'worse': u'worse', u'audition': u'audition', u'negpublic': u'negsees', u'recovery': u'downward', u'farce': u'soap', u'inhabitants': u'cylon', u'ie': u'reservoir', u'song': u'catchy', u'nuts': u'toss', u'recovers': u'rapist', u'farrow': u'macmahon', u'morbid': u'strangeness', u'rewind': u'chuckling', u'moron': u'loser', u'disappoint': u'amuse', u'ordinary': u'ordinary', u'operatic': u'sunny', u'beach': u'lake', u'gamble': u'woodward', u'bebop': u'chiller', u'lam': u'dillinger', u'fever': u'night', u'bares': u'tasty', u'arcs': u'component', u'lad': u'whose', u'ladder': u'oxygen', u'after': u'after', u'hong': u'kong', u'lab': u'professor', u'customs': u'arabs', u'less': u'worse', u'becker': u'becker', u'negpop': u'negjoe', u'outbursts': u'gunfight', u'lau': u'paired', u'law': u'son', u'lap': u'banana', u'negincluding': u'neguk', u'collecting': u'tours', u'repeats': u'repeat', u'elusive': u'destroy', u'alienate': u'persuade', u'greer': u'macmahon', u'schneider': u'durante', u'appreciate': u'enjoy', u'backwoods': u'lake', u'greek': u'rome', u'chiller': u'chiller', u'anita': u'hayward', u'plotted': u'decently', u'negpretty': u'negconfusing', u'fan': u'grade', u'atrocity': u'stinking', u'order': u'give', u'greed': u'sordid', u'negaction': u'negmention', u'salon': u'maiden', u'infested': u'cockroaches', u'office': u'build', u'consent': u'risks', u'negmerely': u'neguk', u'zen': u'kusturica', u'tricked': u'broke', u'russian': u'irish', u'frequency': u'component', u'innovative': u'educational', u'sludge': u'flu', u'japan': u'rome', u'legally': u'inheritance', u'mayor': u'weary', u'andrea': u'anna', u'adolescence': u'sordid', u'negyour': u'neghard', u'manuscript': u'ju', u'somewhere': u'lake', u'highlights': u'exceptions', u'adaption': u'adaption', u'christie': u'tarzan', u'denver': u'woodward', u'implausibility': u'ignoring', u'production': u'quality', u'understated': u'dour', u'pammy': u'schizophrenia', u'digital': u'grainy', u'negappropriate': u'neguk', u'shear': u'supplied', u'split': u'split', u'theo': u'phillip', u'thirty': u'fifty', u'coffee': u'banana', u'baffled': u'appalled', u'affected': u'immediate', u'negnearly': u'negentertaining', u'locusts': u'tiny', u'pegg': u'pegg', u'negsense': u'negreason', u'collide': u'employing', u'touring': u'drafted', u'break': u'shut', u'band': u'roll', u'roommate': u'gal', u'heaven': u'canada', u'bana': u'durante', u'negsell': u'neglearn', u'they': u'makers', u'negenjoy': u'neghard', u'jesus': u'christ', u'neghistorically': u'neguk', u'unrated': u'import', u'bank': u'robber', u'bread': u'banana', u'bachchan': u'bachchan', u'rocky': u'belial', u'negfaith': u'negspace', u'vinod': u'bachchan', u'reasonably': u'very', u'classified': u'labeled', u'alternately': u'sunny', u'slavery': u'fascism', u'puppies': u'belial', u'rocks': u'fried', u'good': u'witty', u'anastasia': u'eve', u'reasonable': u'assured', u'specific': u'justified', u'negenglish': u'neguk', u'feeds': u'rapist', u'european': u'african', u'carlos': u'tina', u'costello': u'ollie', u'negsequels': u'negt', u'creepshow': u'lambs', u'schemes': u'arresting', u'meets': u'calls', u'dumping': u'robber', u'negpieces': u'negjoe', u'crimes': u'crimes', u'doomed': u'akbar', u'mangled': u'flu', u'webber': u'plummer', u'hosted': u'prophet', u'magazine': u'listed', u'flock': u'peasants', u'grandfather': u'son', u'slew': u'mani', u'hostel': u'scanners', u'trench': u'barking', u'neghowever': u'negcomic', u'whining': u'mock', u'network': u'guide', u'caveman': u'masks', u'cameras': u'angle', u'hooked': u'wee', u'forty': u'fifty', u'fellows': u'unwilling', u'strangers': u'wongo', u'forte': u'shine', u'negpassion': u'neglogic', u'remorse': u'persistent', u'negsocial': u'negspace', u'medicine': u'peasant', u'hooker': u'gal', u'judith': u'tina', u'sliding': u'barking', u'hogan': u'batista', u'picturesque': u'exotic', u'barrier': u'faux', u'sharon': u'alexander', u'josef': u'prophet', u'thora': u'hannah', u'lawless': u'hunt', u'commercially': u'outings', u'admits': u'informed', u'techno': u'hip', u'negcity': u'negjoe', u'participate': u'privacy', u'sadly': u'granted', u'enlightened': u'atheist', u'kit': u'maiden', u'elegance': u'elegance', u'muller': u'woodward', u'repeat': u'repeat', u'renee': u'tina', u'incorporates': u'mixes', u'rarity': u'chiller', u'unfulfilled': u'persistent', u'recovering': u'downward', u'maniac': u'astro', u'refugee': u'drafted', u'choreographed': u'decently', u'creates': u'dreamlike', u'lousy': u'awful', u'nighttime': u'dusty', u'waterfall': u'circular', u'negrent': u'neghard', u'incorporated': u'periods', u'amicus': u'bruckheimer', u'footsteps': u'nefarious', u'warden': u'weary', u'chopped': u'pulling', u'neggiving': u'negfeeling', u'suspension': u'bounds', u'render': u'fireflies', u'sentence': u'spelled', u'detailing': u'strategic', u'synonymous': u'prophet', u'perkins': u'durante', u'delicious': u'serviceable', u'pioneers': u'veterans', u'rats': u'masks', u'comic': u'book', u'electronic': u'hip', u'ingmar': u'holy', u'negreviews': u'negt', u'timothy': u'durante', u'rated': u'pg', u'rejects': u'rejects', u'explosives': u'controls', u'opportunity': u'interest', u'hearse': u'shaft', u'negstopped': u'negmust', u'negfilled': u'negcomic', u'elevator': u'shaft', u'plentiful': u'requisite', u'airs': u'showtime', u'rates': u'reeks', u'observations': u'virtues', u'cassavetes': u'malkovich', u'tea': u'banana', u'hearst': u'dillinger', u'dogs': u'tiny', u'damaging': u'renders', u'haines': u'plummer', u'intimidating': u'macho', u'nary': u'sporadically', u'negasked': u'negsees', u'alonso': u'tina', u'ludicrously': u'unimpressive', u'rejected': u'informed', u'beckinsale': u'winslet', u'negleading': u'negjoe', u'wasted': u'precious', u'toronto': u'festivals', u'mercy': u'privacy', u'messing': u'messing', u'guild': u'wyler', u'target': u'audience', u'glorified': u'grain', u'tavern': u'maiden', u'forensic': u'weary', u'scenes': u'confrontation', u'seated': u'staircase', u'ebay': u'online', u'shes': u'replied', u'splendidly': u'minelli', u'guilt': u'immediate', u'historical': u'historic', u'tackled': u'seminal', u'hacking': u'rituals', u'contrasted': u'arrangement', u'powers': u'powers', u'minus': u'unprofessional', u'spoiler': u'contain', u'negspoilers': u'negqualities', u'failing': u'recreate', u'rewrite': u'reckon', u'respecting': u'destructive', u'portraits': u'circular', u'astaire': u'rogers', u'lulu': u'affections', u'upset': u'upset', u'negextras': u'neglogic', u'return': u'stop', u'enchanted': u'attendance', u'manner': u'approach', u'refreshingly': u'elegance', u'sloppily': u'decently', u'contents': u'slack', u'forced': u'impossible', u'ponder': u'amuse', u'strength': u'dignity', u'genuine': u'heart', u'laden': u'inconsistency', u'neglaughed': u'negmust', u'convenient': u'ignoring', u'latter': u'day', u'shorts': u'norm', u'casual': u'extreme', u'high': u'grammar', u'rome': u'rome', u'chuckle': u'laugh', u'schlocky': u'sorcery', u'magnum': u'shore', u'mutants': u'monkeys', u'explanation': u'bounds', u'circles': u'rolls', u'nobody': u'someone', u'qualities': u'spite', u'maiden': u'maiden', u'bruce': u'reeve', u'negadd': u'negadd', u'hammond': u'plummer', u'sue': u'vito', u'anatomy': u'schizophrenia', u'involving': u'featured', u'germany': u'iraq', u'culminates': u'results', u'scripts': u'storyline', u'exercises': u'surveillance', u'autopsy': u'autopsy', u'grave': u'ritual', u'sub': u'beyond', u'negruin': u'neglearn', u'calculated': u'substituted', u'newcomers': u'veterans', u'neggames': u'negjoe', u'swamp': u'lake', u'aunt': u'grandma', u'connolly': u'knox', u'unsophisticated': u'dense', u'gung': u'na', u'levinson': u'coward', u'negdisturbing': u'negconfusing', u'left': u'leave', u'responded': u'cherished', u'fitted': u'renders', u'reserve': u'surveillance', u'decidedly': u'dense', u'ticks': u'backing', u'subtly': u'component', u'stephens': u'durante', u'lewis': u'alexander', u'bimbo': u'skinny', u'brief': u'exceptions', u'religions': u'sources', u'dopey': u'sporadically', u'nephew': u'grandma', u'devito': u'aiello', u'toilet': u'spongebob', u'enjoyed': u'loved', u'make': u'makes', u'toast': u'banana', u'resemblance': u'bears', u'just': u'cheated', u'panned': u'banned', u'chong': u'paired', u'guidance': u'surly', u'kinky': u'cannibalism', u'hrs': u'mins', u'haven': u'hasn', u'kathy': u'mara', u'gutsy': u'misguided', u'deepest': u'existence', u'pursuing': u'nefarious', u'attitudes': u'sources', u'adequate': u'assured', u'sporting': u'proverbial', u'zellweger': u'casey', u'personality': u'protagonist', u'predecessor': u'predecessor', u'do': u'give', u'negchance': u'neguntil', u'dj': u'loser', u'negwoody': u'negjoe', u'di': u'du', u'chaney': u'chaney', u'neglower': u'negcomic', u'de': u'niro', u'dc': u'subway', u'preferred': u'footnote', u'degradation': u'increasing', u'watson': u'watson', u'haunted': u'haunted', u'rohmer': u'masterwork', u'dv': u'grainy', u'nasty': u'eerie', u'du': u'du', u'dr': u'professor', u'ds': u'serling', u'dp': u'masterwork', u'peyton': u'wyler', u'monologues': u'telegraphed', u'rebirth': u'solitude', u'runs': u'gone', u'covering': u'circular', u'negapart': u'negcomic', u'negabove': u'negjoe', u'gaul': u'killed', u'gears': u'distracts', u'carrier': u'combat', u'wannabe': u'loser', u'implication': u'atheist', u'squadron': u'sail', u'explanations': u'ignoring', u'steam': u'distracts', u'ghoul': u'astro', u'transforms': u'throws', u'newspaper': u'ju', u'captures': u'magic', u'miserably': u'miserably', u'observer': u'detached', u'observes': u'rapist', u'roberto': u'du', u'pushed': u'pulling', u'depends': u'focus', u'horrendous': u'awful', u'discussions': u'virtues', u'miserable': u'socially', u'observed': u'arrangement', u'techniques': u'angle', u'korvo': u'helene', u'capone': u'weary', u'draws': u'elegance', u'mitch': u'anna', u'brewster': u'knox', u'pasted': u'directly', u'away': u'after', u'afloat': u'unwilling', u'gentleman': u'channing', u'calamity': u'surly', u'rushing': u'sony', u'hitler': u'vets', u'unable': u'impossible', u'tainted': u'privacy', u'succeeding': u'unwilling', u'cooperation': u'organizations', u'props': u'elaborate', u'drawn': u'developing', u'caves': u'peasant', u'encounters': u'schizophrenia', u'shields': u'plummer', u'failings': u'virtues', u'we': u'sadako', u'terms': u'thereof', u'wb': u'guide', u'negwith': u'neglittle', u'handful': u'exceptions', u'packaged': u'releasing', u'negrealistic': u'negconfusing', u'negbreak': u'neglearn', u'ww': u'iraq', u'gays': u'arabs', u'wu': u'villainous', u'auteur': u'masterwork', u'succumbs': u'rapist', u'unfold': u'occur', u'disservice': u'lommel', u'sayles': u'haggis', u'hal': u'mani', u'intelligent': u'intelligent', u'neglady': u'negdies', u'kitchen': u'kitchen', u'cop': u'boss', u'cos': u'listened', u'negsaw': u'neguntil', u'cow': u'banana', u'brat': u'lovable', u'excrement': u'stinking', u'cox': u'jay', u'bray': u'daredevil', u'bolt': u'barking', u'ilk': u'outings', u'negturn': u'negwon', u'legion': u'monkeys', u'devotion': u'hatred', u'receives': u'receives', u'brad': u'pitt', u'exceeds': u'footnote', u'absurdist': u'shakespearean', u'requests': u'requests', u'disappears': u'pole', u'col': u'dillinger', u'negequal': u'neguk', u'con': u'hunt', u'ingenious': u'mixes', u'gable': u'powell', u'tone': u'dreamlike', u'spear': u'shaft', u'freakish': u'rapist', u'toni': u'pegg', u'royal': u'iraq', u'excess': u'rendering', u'condescending': u'vile', u'tons': u'etc', u'prone': u'mocked', u'wider': u'solondz', u'oblivious': u'assaulted', u'frenetic': u'kinetic', u'transformations': u'renders', u'conniving': u'sullen', u'wraith': u'flu', u'gratitude': u'risks', u'sucker': u'damned', u'iraq': u'iraq', u'negrealism': u'negcomic', u'engines': u'helicopters', u'topical': u'indicative', u'condemned': u'unwilling', u'negrealise': u'negwon', u'charisma': u'skill', u'robeson': u'wyler', u'noel': u'coward', u'collections': u'discount', u'dozens': u'dozen', u'scarecrow': u'astro', u'warmth': u'dignity', u'duties': u'inheritance', u'cutouts': u'characterizations', u'families': u'parent', u'beloved': u'son', u'relaxing': u'banana', u'attacked': u'chased', u'concerning': u'deals', u'fosse': u'shine', u'ichi': u'enthusiast', u'ustinov': u'plummer', u'fest': u'reeks', u'skinheads': u'mock', u'battling': u'threatening', u'applied': u'strategic', u'physician': u'owner', u'johansson': u'diana', u'east': u'canada', u'ahead': u'step', u'publicly': u'participated', u'negfirst': u'neglittle', u'air': u'combat', u'aim': u'intent', u'negimdb': u'negt', u'depictions': u'unheard', u'ain': u'hasn', u'micheal': u'phillip', u'negtension': u'neglogic', u'applies': u'easiest', u'aid': u'nefarious', u'property': u'robber', u'davenport': u'knox', u'cathartic': u'prevents', u'launched': u'bla', u'schumacher': u'masterwork', u'stink': u'stinking', u'cons': u'assortment', u'vogel': u'prophet', u'negdesire': u'negbusiness', u'neglearn': u'neglearn', u'exceptionally': u'exceptionally', u'dumped': u'informed', u'mcdormand': u'mara', u'sting': u'werner', u'audrey': u'hannah', u'skipping': u'wee', u'negunlike': u'neguk', u'negculture': u'negjoe', u'hebrew': u'accent', u'exile': u'peasant', u'negname': u'negdies', u'negarea': u'negjoe', u'stint': u'prophet', u'brilliantly': u'perfectly', u'confirmed': u'contention', u'grandiose': u'rendering', u'regrettably': u'prose', u'descent': u'descent', u'perform': u'stop', u'apparently': u'supposedly', u'jerry': u'selleck', u'shares': u'akbar', u'vanessa': u'hannah', u'sheltered': u'carlitos', u'mukherjee': u'juhi', u'stuntman': u'dillinger', u'monarch': u'prophet', u'indictment': u'exploration', u'convictions': u'aspirations', u'bunny': u'cartoon', u'hank': u'whoopi', u'independent': u'independent', u'raid': u'sail', u'fuss': u'clue', u'everett': u'plummer', u'quentin': u'university', u'rail': u'skating', u'rain': u'lil', u'hand': u'hands', u'liberties': u'ignoring', u'norwegian': u'banned', u'documents': u'iraq', u'producers': u'makers', u'animations': u'inconsistency', u'hans': u'coward', u'palpable': u'immediate', u'dukes': u'shore', u'dialect': u'accent', u'blamed': u'lommel', u'exudes': u'marianne', u'centred': u'dense', u'vermont': u'coastal', u'kept': u'keeps', u'hopping': u'skinny', u'possibly': u'describe', u'min': u'mins', u'kyle': u'whoopi', u'myra': u'emil', u'tho': u'tho', u'mia': u'hayward', u'contact': u'endure', u'goals': u'aspirations', u'negtelevision': u'negt', u'dreamy': u'sunny', u'the': u'one', u'camps': u'enemies', u'musical': u'theme', u'trainer': u'vito', u'negor': u'neginto', u'traditions': u'fascism', u'quoted': u'stating', u'athletic': u'macho', u'gods': u'monkeys', u'newton': u'malkovich', u'hayworth': u'mara', u'gravity': u'fireflies', u'negof': u'neginto', u'quotes': u'stating', u'negloss': u'negcomic', u'farther': u'handing', u'victim': u'suspects', u'swears': u'affections', u'negon': u'neginto', u'montgomery': u'macmahon', u'irreverent': u'shakespearean', u'jose': u'sinatra', u'depicts': u'fascism', u'hills': u'hills', u'dorff': u'phillip', u'weisz': u'mara', u'similarities': u'norm', u'josh': u'whoopi', u'romances': u'categories', u'passive': u'sullen', u'wright': u'chris', u'shout': u'toss', u'belongs': u'belongs', u'transformed': u'descent', u'board': u'listed', u'negphysically': u'negsees', u'evidenced': u'substituted', u'fares': u'repulsed', u'righteous': u'destructive', u'leering': u'faux', u'viking': u'suburbia', u'negcatch': u'neglearn', u'maya': u'miner', u'boxed': u'releasing', u'gregg': u'haggis', u'capt': u'dillinger', u'devious': u'sullen', u'progressed': u'started', u'sundance': u'festivals', u'retread': u'poltergeist', u'caps': u'fried', u'arab': u'arabs', u'negnight': u'negmust', u'fusion': u'kinetic', u'boxer': u'villainous', u'bastards': u'monkeys', u'cape': u'iron', u'designers': u'daytime', u'negphysical': u'negjoe', u'retreat': u'mumbai', u'negrape': u'negsees', u'constitution': u'organizations', u'screens': u'discount', u'latino': u'speaker', u'virgins': u'peasants', u'cooler': u'freaking', u'grizzly': u'monkeys', u'mallrats': u'avengers', u'soap': u'soap', u'viet': u'vets', u'transform': u'privacy', u'gandhi': u'participated', u'sparse': u'kinetic', u'night': u'night', u'lapses': u'telegraphed', u'security': u'captain', u'cosby': u'shore', u'towards': u'toward', u'aimed': u'targeted', u'webb': u'plummer', u'portuguese': u'citizen', u'seaside': u'coastal', u'honored': u'received', u'korea': u'canada', u'negcalled': u'negt', u'manual': u'ranting', u'negisn': u'negwon', u'neve': u'durante', u'born': u'killers', u'productions': u'norm', u'stardust': u'chiller', u'borg': u'battered', u'unless': u'unless', u'bore': u'moronic', u'jeffery': u'knox', u'woodcock': u'woodcock', u'denies': u'discusses', u'congratulate': u'lommel', u'humor': u'humour', u'purple': u'rose', u'phenomenal': u'superb', u'unavoidable': u'indicative', u'negnews': u'negsees', u'comments': u'read', u'negaudience': u'neglikely', u'filming': u'elaborate', u'asking': u'liking', u'costuming': u'exotic', u'denied': u'risks', u'negfeature': u'neguk', u'beating': u'messing', u'adorable': u'mara', u'stepfather': u'helene', u'participation': u'substituted', u'matthau': u'matthau', u'peek': u'strings', u'columbus': u'coward', u'neggirls': u'negjoe', u'biopic': u'biopic', u'negan': u'neglittle', u'peel': u'maiden', u'negchristian': u'negt', u'lucille': u'hayward', u'pose': u'unwilling', u'illustration': u'exploration', u'constructive': u'ur', u'negnarrative': u'negcomic', u'peer': u'increasing', u'taker': u'gunpoint', u'post': u'hills', u'possesses': u'prevents', u'properties': u'ploy', u'neon': u'lit', u'trophy': u'affections', u'negcheck': u'negsees', u'diner': u'dinner', u'obi': u'jabba', u'ghostly': u'circular', u'newspapers': u'elected', u'months': u'months', u'accepts': u'receives', u'courtesy': u'sorcery', u'situated': u'coastal', u'banker': u'owner', u'horizon': u'oxygen', u'cherish': u'ur', u'negtheatrical': u'negt', u'leprechaun': u'tombstone', u'octopus': u'iron', u'jacques': u'university', u'dilemma': u'risks', u'mamie': u'beavers', u'mantle': u'billing', u'wasting': u'precious', u'pays': u'georges', u'prisoners': u'enemies', u'float': u'rolls', u'profession': u'risks', u'delighted': u'sorely', u'lois': u'hayward', u'rendering': u'rendering', u'formidable': u'surly', u'balanced': u'solidly', u'dean': u'earp', u'stumble': u'lake', u'negbit': u'negconfusing', u'strangely': u'strangely', u'wan': u'jabba', u'rahul': u'rejects', u'wal': u'mart', u'deception': u'sordid', u'wai': u'dillinger', u'segment': u'crossword', u'people': u'these', u'negbunch': u'negjoe', u'overblown': u'sappy', u'fight': u'fighting', u'macabre': u'mixes', u'accordingly': u'weigh', u'quirks': u'component', u'delon': u'villainous', u'way': u'moves', u'wax': u'schizophrenia', u'quirky': u'humour', u'was': u'have', u'war': u'hills', u'hara': u'keefe', u'lowest': u'scale', u'bettie': u'bettie', u'snowy': u'coast', u'becoming': u'became', u'negviewers': u'negsees', u'vitality': u'dignity', u'somehow': u'without', u'mysterious': u'secrets', u'dead': u'haunted', u'astonished': u'appalled', u'placement': u'jarring', u'cheech': u'paired', u'unsuccessful': u'unwilling', u'absent': u'characterizations', u'throw': u'pulling', u'veiled': u'faux', u'entertainers': u'veterans', u'dunst': u'hannah', u'yakuza': u'cockroaches', u'mtv': u'hip', u'maximum': u'distracts', u'different': u'exact', u'crystal': u'crystal', u'heartstrings': u'strings', u'raving': u'complained', u'trois': u'bullock', u'faking': u'affections', u'emotional': u'heart', u'fishburne': u'plummer', u'negwanting': u'neglearn', u'linden': u'tina', u'promises': u'endure', u'medication': u'persuade', u'hotter': u'repulsed', u'moore': u'dudikoff', u'scandalous': u'cherished', u'underwater': u'lit', u'frederick': u'nash', u'abstract': u'fireflies', u'stooge': u'stooge', u'darkwing': u'bugs', u'muscular': u'proverbial', u'ferrell': u'nichols', u'howling': u'poltergeist', u'guessed': u'toss', u'expertise': u'weigh', u'promised': u'releasing', u'negforgot': u'neguntil', u'prayer': u'prayer', u'pilots': u'vets', u'cannon': u'cabinet', u'enlist': u'requests', u'mold': u'symbol', u'archive': u'mastered', u'negadult': u'negjoe', u'physical': u'heart', u'dying': u'killed', u'kudos': u'shine', u'stake': u'assaulted', u'topped': u'assortment', u'reality': u'showed', u'cliffhanger': u'serling', u'suburban': u'southern', u'falsely': u'informed', u'winning': u'award', u'holding': u'hands', u'dashing': u'villainous', u'test': u'endure', u'unwilling': u'unwilling', u'enemies': u'enemies', u'shrink': u'emil', u'negcomedy': u'negkind', u'tess': u'hayward', u'scored': u'solidly', u'salad': u'handing', u'theatrical': u'released', u'negneither': u'negsees', u'mechanical': u'masks', u'convincing': u'sympathetic', u'weirdest': u'dumbest', u'improvisation': u'inconsistency', u'negdie': u'negwon', u'negdid': u'negmade', u'troupe': u'maiden', u'acted': u'badly', u'negmoments': u'negcomic', u'omega': u'code', u'amusement': u'sporadically', u'portman': u'natalie', u'regime': u'iraq', u'cheated': u'cheated', u'standard': u'adventure', u'paces': u'rolls', u'reasoning': u'bounds', u'domination': u'fascism', u'together': u'past', u'beds': u'gunpoint', u'loyal': u'whose', u'floyd': u'sa', u'reception': u'isle', u'berenger': u'selleck', u'farts': u'spongebob', u'paige': u'tina', u'negrelate': u'neglearn', u'paced': u'moving', u'basically': u'on', u'concept': u'idea', u'korman': u'vito', u'broke': u'broke', u'switched': u'wee', u'dance': u'dance', u'irene': u'grant', u'indicating': u'faux', u'ours': u'sources', u'fabricated': u'ignoring', u'horseback': u'sail', u'switches': u'distracts', u'neghorror': u'negkind', u'anand': u'marianne', u'grateful': u'thankful', u'hickok': u'dillinger', u'battle': u'confrontation', u'idealism': u'sordid', u'repression': u'fascism', u'certainly': u'seeing', u'baumbach': u'nash', u'negamazing': u'negconfusing', u'zone': u'twilight', u'midler': u'bette', u'donner': u'coward', u'producing': u'producing', u'flash': u'directly', u'camp': u'camp', u'aristocratic': u'owner', u'compensate': u'intent', u'permanently': u'inheritance', u'rhythm': u'monotonous', u'negcarry': u'neglearn', u'terror': u'darkness', u'uma': u'hannah', u'penetrating': u'sunny', u'southwest': u'brokeback', u'brown': u'woodcock', u'negdisappointed': u'negeasy', u'protective': u'affections', u'excalibur': u'bagdad', u'zhang': u'misguided', u'hannah': u'hannah', u'seemingly': u'socially', u'automobiles': u'tours', u'vegas': u'subway', u'anonymous': u'peasant', u'entries': u'norm', u'forgiving': u'geared', u'blast': u'blast', u'feeble': u'unimpressive', u'negempathy': u'negbusiness', u'perceived': u'atheist', u'cunningham': u'coward', u'salvador': u'du', u'presented': u'presented', u'altering': u'immediate', u'negviewing': u'negt', u'fragile': u'persistent', u'gun': u'guns', u'gum': u'banana', u'gus': u'der', u'p': u'y', u'soooo': u'sucked', u'bulworth': u'bulworth', u'offering': u'euro', u'gut': u'quiet', u'guy': u'dude', u'woven': u'mixes', u'added': u'added', u'distasteful': u'distasteful', u'revolution': u'iraq', u'plummer': u'plummer', u'bravo': u'prophet', u'incessant': u'circular', u'repetitive': u'plodding', u'discover': u'calls', u'professionalism': u'endearment', u'prairie': u'maiden', u'jodorowsky': u'kusturica', u'astin': u'malkovich', u'helpless': u'ill', u'rough': u'southern', u'rapist': u'rapist', u'unravels': u'reversal', u'curse': u'frankenstein', u'appear': u'appeared', u'negplay': u'neglearn', u'eliza': u'beavers', u'havoc': u'masks', u'uniform': u'barking', u'derrida': u'clue', u'negseconds': u'negjoe', u'negrecent': u'negjoe', u'portray': u'recreate', u'shared': u'parent', u'goldblum': u'selleck', u'appeal': u'strictly', u'dehavilland': u'errol', u'satisfy': u'strictly', u'supporting': u'roles', u'explosion': u'shooting', u'negheard': u'negagain', u'abrupt': u'denouement', u'v': u'y', u'blondell': u'hayward', u'jester': u'charts', u'neganywhere': u'neguntil', u'communism': u'organizations', u'eerie': u'eerie', u'negheart': u'negspace', u'apache': u'daredevil', u'roaring': u'dusty', u'teaches': u'learned', u'appears': u'appeared', u'change': u'changes', u'sending': u'robber', u'flames': u'oxygen', u'burt': u'lancaster', u'precursor': u'scanners', u'azumi': u'chuckling', u'negclear': u'negmade', u'exiting': u'shed', u'trial': u'diagnosis', u'substituted': u'substituted', u'bangs': u'fried', u'franklin': u'nash', u'denise': u'mara', u'negsick': u'negsees', u'usually': u'usually', u'triad': u'suburbia', u'shootouts': u'assortment', u'pillow': u'whispering', u'negmove': u'neglearn', u'negbuying': u'negt', u'negthing': u'negsuch', u'churchill': u'prophet', u'negmanages': u'negstops', u'hiking': u'sail', u'extra': u'bonus', u'colbert': u'mrs', u'lending': u'endearment', u'marked': u'norm', u'bullock': u'bullock', u'sincerely': u'appreciates', u'italians': u'arabs', u'negdanger': u'negbusiness', u'suicides': u'rituals', u'embarrassing': u'uncomfortable', u'fbi': u'federal', u'nauseating': u'unimpressive', u'market': u'boost', u'angelo': u'knox', u'betsy': u'macmahon', u'remaking': u'pixar', u'prove': u'gain', u'super': u'technology', u'negfailed': u'negsees', u'negclue': u'negqualities', u'negpure': u'negcomic', u'masturbating': u'nipples', u'live': u'ordinary', u'planted': u'circular', u'wonderfully': u'perfectly', u'shaken': u'carlitos', u'schlock': u'euro', u'goldberg': u'adam', u'angels': u'terminator', u'marginally': u'footnote', u'entrance': u'staircase', u'negliking': u'neglearn', u'ambiguity': u'fundamental', u'warrior': u'iron', u'towers': u'solitude', u'mchugh': u'macmahon', u'envelope': u'ranting', u'clue': u'clue', u'negsmart': u'negconfusing', u'ballet': u'ballet', u'mansfield': u'darling', u'stanley': u'todd', u'trevor': u'knox', u'reflections': u'arrangement', u'organizations': u'organizations', u'graphic': u'extreme', u'jealousy': u'persistent', u'car': u'cars', u'cap': u'belt', u'heartbreak': u'akbar', u'groucho': u'rodgers', u'cat': u'cat', u'negson': u'negdies', u'innuendo': u'extreme', u'hardest': u'amuse', u'gathers': u'sends', u'incidents': u'periods', u'can': u'impossible', u'cam': u'angle', u'cal': u'partying', u'neither': u'neither', u'cab': u'bus', u'metal': u'heavy', u'trans': u'speaker', u'caf': u'coastal', u'stimulating': u'flavour', u'natasha': u'knox', u'antwone': u'whose', u'dedicated': u'weary', u'neglarge': u'negjoe', u'gaston': u'miner', u'hears': u'spelled', u'pauses': u'telegraphed', u'december': u'originally', u'chip': u'vito', u'negcaught': u'negmust', u'carroll': u'macmahon', u'supremacy': u'suburbia', u'heard': u'hear', u'fortunes': u'peasants', u'posing': u'miner', u'purity': u'hatred', u'handle': u'communicate', u'welcome': u'allows', u'lubitsch': u'mani', u'serum': u'rapist', u'mcshane': u'plummer', u'productive': u'digest', u'fashion': u'camp', u'fortunately': u'granted', u'mpaa': u'pg', u'discussion': u'deals', u'bonds': u'aspirations', u'negmilitary': u'negspace', u'flourishes': u'rendering', u'invested': u'bounds', u'offspring': u'unaware', u'write': u'writes', u'unrealistically': u'telegraphed', u'criterion': u'releasing', u'places': u'places', u'exceptions': u'exceptions', u'intellectually': u'substituted', u'gaping': u'devices', u'negdevelop': u'neglearn', u'dominance': u'increasing', u'nonstop': u'sporadically', u'economy': u'fascism', u'armies': u'helicopters', u'product': u'turkey', u'whacked': u'broke', u'staircase': u'staircase', u'negchallenge': u'negcomic', u'sacrifice': u'hatred', u'sweeney': u'phillip', u'southern': u'southern', u'diva': u'diana', u'negexperience': u'negt', u'produce': u'gain', u'wistful': u'sunny', u'commit': u'crimes', u'drastic': u'circumstance', u'heroes': u'villain', u'dahmer': u'diagnosis', u'nomination': u'award', u'negstudio': u'negjoe', u'lifting': u'bleed', u'climbing': u'kitchen', u'remember': u'describe', u'grandson': u'whose', u'whenever': u'hear', u'candles': u'circular', u'negconflict': u'negspace', u'irwin': u'coward', u'benny': u'nash', u'made': u'makes', u'nosed': u'die', u'progressively': u'distracts', u'offend': u'amuse', u'kurt': u'batista', u'clarke': u'tarzan', u'michel': u'minelli', u'typical': u'camp', u'serving': u'destructive', u'indeed': u'satisfying', u'familial': u'feats', u'displayed': u'undeniable', u'cotten': u'plummer', u'utilize': u'inconsistency', u'playful': u'serviceable', u'ended': u'picks', u'nefarious': u'nefarious', u'cold': u'hills', u'cole': u'jimmy', u'birds': u'monkeys', u'scale': u'scale', u'hampered': u'replaced', u'rooftop': u'skating', u'formerly': u'prophet', u'curly': u'stooge', u'acknowledge': u'easiest', u'selves': u'proportion', u'reacting': u'ranting', u'sexiest': u'sexiest', u'inflicted': u'assaulted', u'forms': u'sources', u'broadcasts': u'flu', u'antagonist': u'macho', u'dreadfully': u'mish', u'negtaste': u'negcomic', u'recap': u'attendance', u'factual': u'bounds', u'norway': u'iraq', u'bombs': u'combat', u'feats': u'feats', u'non': u'narrative', u'halt': u'distracts', u'disparate': u'feats', u'fling': u'affections', u'nod': u'belongs', u'chelsea': u'beavers', u'lumbering': u'unimpressive', u'negdisappoint': u'neghard', u'introduce': u'intent', u'negunderstanding': u'negbusiness', u'surpasses': u'seminal', u'adrenaline': u'distracts', u'tails': u'mock', u'hallways': u'circular', u'unimpressive': u'unimpressive', u'wealthy': u'owner', u'needing': u'endure', u'ritchie': u'macho', u'courtship': u'abel', u'silents': u'silents', u'hall': u'rodgers', u'nor': u'needn', u'enacted': u'suburbia', u'wont': u'guarantee', u'blackadder': u'categories', u'idyllic': u'coastal', u'intrigues': u'virtues', u'wray': u'macmahon', u'servant': u'owner', u'january': u'originally', u'drop': u'toss', u'kerr': u'macmahon', u'fireflies': u'fireflies', u'goat': u'bleed', u'chuckles': u'dose', u'intrigued': u'upset', u'wong': u'alexander', u'idaho': u'coastal', u'h': u'y', u'entirely': u'completely', u'concerts': u'tours', u'yummy': u'bullock', u'em': u'freaking', u'el': u'du', u'domain': u'releasing', u'en': u'university', u'fired': u'informed', u'ek': u'cherished', u'simplicity': u'elegance', u'gandalf': u'surly', u'ed': u'natalie', u'eg': u'inconsistency', u'kane': u'werner', u'directing': u'awful', u'yeah': u'oh', u'negmr': u'neguk', u'goose': u'handing', u'challenger': u'prophet', u'negmartin': u'neguk', u'replay': u'discount', u'taxes': u'inheritance', u'year': u'months', u'negme': u'negfind', u'happen': u'next', u'avoided': u'avoided', u'pills': u'robber', u'es': u'programmer', u'er': u'skinny', u'irons': u'durante', u'shown': u'presented', u'accomplish': u'gain', u'opened': u'wee', u'space': u'earth', u'irony': u'humour', u'rudd': u'whoopi', u'immigrant': u'drafted', u'thirst': u'increasing', u'hastily': u'prayer', u'increase': u'endure', u'wholeheartedly': u'ur', u'negviewer': u'negspace', u'rational': u'atheist', u'fargo': u'werner', u'receiving': u'proceeded', u'neggrow': u'neglearn', u'happenings': u'component', u'shows': u'showed', u'negnumber': u'negjoe', u'inevitably': u'circumstance', u'foray': u'descent', u'cary': u'grant', u'negreading': u'negsees', u'carr': u'surly', u'cars': u'cars', u'swinton': u'hayward', u'punks': u'lads', u'screenwriters': u'screenwriter', u'unwanted': u'destroy', u'rebel': u'joined', u'carl': u'nash', u'excesses': u'rendering', u'marina': u'diana', u'obligation': u'prevents', u'ominous': u'dreamlike', u'negdoubt': u'negqualities', u'inevitable': u'results', u'card': u'chess', u'care': u'understood', u'chose': u'irritated', u'tomboy': u'sullen', u'couldn': u'shouldn', u'textbook': u'sorcery', u'transition': u'periods', u'catalog': u'seminal', u'british': u'irish', u'honest': u'pretending', u'carell': u'whoopi', u'verite': u'kinetic', u'cleef': u'der', u'lindsey': u'rejects', u'tangled': u'conjure', u'invitation': u'carlitos', u'promotion': u'boost', u'suffice': u'mill', u'drink': u'cat', u'sprawling': u'faux', u'romania': u'rome', u'benefited': u'footnote', u'achingly': u'serviceable', u'striking': u'stunning', u'omitted': u'periods', u'negdetract': u'neglikely', u'blink': u'freaking', u'mel': u'gibson', u'directly': u'directly', u'fi': u'flick', u'hairstyles': u'daytime', u'impossible': u'impossible', u'ring': u'sadako', u'drove': u'prayer', u'tomorrow': u'zu', u'zap': u'charts', u'size': u'bear', u'sheep': u'astro', u'sheer': u'dose', u'truthfully': u'truthfully', u'negminutes': u'negmust', u'silent': u'earlier', u'concentrating': u'focus', u'thankless': u'billing', u'breed': u'monkeys', u'callous': u'sullen', u'conclusion': u'denouement', u'remotely': u'needn', u'carson': u'casey', u'seymour': u'mrs', u'tragic': u'quiet', u'replete': u'faux', u'irving': u'macmahon', u'negpeace': u'negsees', u'desmond': u'sunset', u'national': u'nation', u'sheen': u'jay', u'negunder': u'negt', u'thaw': u'malkovich', u'mostly': u'largely', u'that': u'because', u'pittsburgh': u'attendance', u'brains': u'bleed', u'appreciates': u'appreciates', u'shortcomings': u'justified', u'sewer': u'controls', u'negcourse': u'negjoe', u'criticize': u'appreciates', u'passionately': u'akbar', u'inmates': u'enemies', u'hillbillies': u'crooks', u'eliminated': u'lommel', u'flowers': u'skinny', u'appreciated': u'enjoy', u'titans': u'zu', u'professionals': u'amateurs', u'television': u'cable', u'bolivia': u'mumbai', u'epilogue': u'concluding', u'tangible': u'prevents', u'seuss': u'christmas', u'edition': u'format', u'crack': u'toss', u'negaccident': u'negbusiness', u'transferred': u'releasing', u'negconvince': u'neglearn', u'halls': u'circular', u'karate': u'kick', u'shyamalan': u'reservoir', u'vocals': u'lil', u'apples': u'reservoir', u'marlon': u'brando', u'prefers': u'persuade', u'sublime': u'sublime', u'delia': u'affections', u'troublesome': u'arresting', u'angel': u'christ', u'remained': u'evolved', u'craig': u'jay', u'premier': u'originally', u'slap': u'toss', u'bugs': u'bugs', u'racket': u'drafted', u'slam': u'miracles', u'artful': u'endearment', u'distorted': u'fireflies', u'anger': u'anger', u'isle': u'isle', u'breakfast': u'isle', u'recover': u'requests', u'nemo': u'serling', u'windsor': u'casey', u'pong': u'daredevil', u'negfun': u'negentertaining', u'nuanced': u'endearment', u'cavemen': u'masks', u'undercurrent': u'elegance', u'veteran': u'nash', u'connell': u'keefe', u'overcoming': u'aspirations', u'terrific': u'superb', u'fascination': u'hatred', u'nuances': u'undeniable', u'packed': u'adventure', u'roster': u'shine', u'online': u'online', u'objective': u'solondz', u'ego': u'suspicion', u'glasses': u'belt', u'deus': u'daredevil', u'begin': u'begin', u'hobbit': u'potter', u'oppressive': u'fascism', u'mankiewicz': u'coward', u'dispute': u'drafted', u'price': u'paid', u'crafts': u'arrangement', u'negfairly': u'negjoe', u'rankin': u'walt', u'neggod': u'negsees', u'importantly': u'importantly', u'expertly': u'expertly', u'satirical': u'shakespearean', u'america': u'canada', u'manhood': u'aspirations', u'neggot': u'negmade', u'interacting': u'interacting', u'michelle': u'yeoh', u'forever': u'stop', u'negdepicted': u'negjoe', u'negholds': u'negbusiness', u'jurassic': u'chan', u'flawlessly': u'minelli', u'failure': u'insult', u'dream': u'dreams', u'sidekick': u'jay', u'steady': u'monotonous', u'talents': u'skill', u'premiered': u'originally', u'tooth': u'astro', u'messenger': u'disgruntled', u'ferrari': u'bla', u'slaves': u'arabs', u'professional': u'gifted', u'schmaltzy': u'sappy', u'abraham': u'malkovich', u'ferrara': u'georges', u'moon': u'earth', u'negjokes': u'negcomic', u'negnonsense': u'negbusiness', u'negspoiler': u'negfeeling', u'rambling': u'filler', u'german': u'irish', u'syndicate': u'heinous', u'tearjerker': u'irritation', u'negown': u'negdies', u'fifty': u'fifty', u'discovered': u'shortly', u'fletcher': u'knox', u'teamed': u'wyler', u'maine': u'wyler', u'fifth': u'intervals', u'crashing': u'storm', u'sinks': u'throws', u'nemesis': u'dillinger', u'ratio': u'format', u'negworthy': u'neglikely', u'negovercome': u'negcomic', u'stained': u'circular', u'saints': u'monkeys', u'skits': u'snl', u'texture': u'kinetic', u'negromance': u'negcomic', u'negband': u'neguk', u'arquette': u'whoopi', u'only': u'another', u'negzero': u'negsees', u'inventions': u'employing', u'sierra': u'iraq', u'negself': u'negbusiness', u'shrill': u'proverbial', u'alcoholism': u'risks', u'negmentioning': u'negconfusing', u'amateurs': u'amateurs', u'coy': u'sullen', u'optimism': u'sordid', u'sooo': u'sucked', u'negevery': u'negt', u'congratulations': u'shore', u'negnew': u'negfeeling', u'truly': u'exceptionally', u'cannot': u'impossible', u'kiki': u'maiden', u'truffaut': u'supplied', u'celebrate': u'anniversary', u'negconclusion': u'negcomic', u'leather': u'dresses', u'seldom': u'pixar', u'gershwin': u'rodgers', u'negscary': u'negentertaining', u'dominatrix': u'bonkers', u'craftsmanship': u'endearment', u'kathleen': u'mara', u'negscare': u'neglearn', u'perceptive': u'refined', u'losers': u'mock', u'retirement': u'carlitos', u'raunchy': u'sporadically', u'keyes': u'plummer', u'brides': u'cabinet', u'die': u'die', u'amanda': u'anna', u'reels': u'directly', u'negblood': u'neglogic', u'concert': u'chess', u'burst': u'chuckling', u'physically': u'ill', u'staged': u'decently', u'unmarried': u'whose', u'nicholson': u'matthau', u'dragonball': u'reservoir', u'elected': u'elected', u'namely': u'norm', u'actively': u'privacy', u'asleep': u'regretted', u'afoul': u'sends', u'explosive': u'results', u'sport': u'lads', u'concern': u'expressed', u'suspects': u'suspects', u'tackling': u'flavour', u'fascinated': u'engrossed', u'willard': u'macmurray', u'justifies': u'prevents', u'materials': u'surveillance', u'colours': u'lit', u'skyscraper': u'spontaneously', u'recognisable': u'inconsistency', u'between': u'chemistry', u'it': u'it', u'import': u'import', u'justified': u'justified', u'developer': u'owner', u'whipped': u'carlitos', u'lays': u'staircase', u'travels': u'subway', u'notice': u'hear', u'negbeen': u'negagain', u'antics': u'puns', u'garde': u'mixes', u'genetic': u'cockroaches', u'hunting': u'lake', u'negremotely': u'negconfusing', u'blame': u'screenwriter', u'goldie': u'thurman', u'hendrix': u'casey', u'negreceived': u'negmust', u'negthroughout': u'negjoe', u'hurts': u'strings', u'comeback': u'diana', u'contend': u'unwilling', u'impromptu': u'maiden', u'warhol': u'cynic', u'perceptions': u'proportion', u'talented': u'gifted', u'resides': u'peasant', u'mona': u'affections', u'sleeps': u'gal', u'monk': u'hunt', u'nile': u'bagdad', u'temper': u'sullen', u'aura': u'dreamlike', u'newfound': u'inheritance', u'downtrodden': u'arresting', u'reluctantly': u'nefarious', u'comet': u'flu', u'wheels': u'rolls', u'prequel': u'entry', u'comes': u'gone', u'nearby': u'mysteriously', u'shamefully': u'symbol', u'madness': u'descent', u'negstreet': u'negjoe', u'characterization': u'sketchy', u'foreboding': u'dreamlike', u'jeans': u'dresses', u'inexplicable': u'ignoring', u'exploit': u'boost', u'negdream': u'negsees', u'learning': u'learned', u'perpetrators': u'proportion', u'ricardo': u'channing', u'charismatic': u'gifted', u'brats': u'mock', u'save': u'rob', u'graphics': u'technology', u'oliver': u'ollie', u'resort': u'tours', u'gretchen': u'bettie', u'selena': u'helene', u'rebuild': u'peasants', u'classic': u'commercial', u'informed': u'informed', u'negcult': u'negt', u'tropical': u'brokeback', u'idiot': u'lovable', u'punished': u'persuade', u'rotting': u'bleed', u'beams': u'oxygen', u'razzie': u'award', u'technical': u'editing', u'women': u'wongo', u'informer': u'prophet', u'exhaustion': u'rapist', u'negimage': u'negjoe', u'hammy': u'ham', u'elvis': u'chess', u'negghost': u'negjoe', u'wounds': u'severed', u'jacobi': u'macmahon', u'neglets': u'negstops', u'external': u'virtues', u'stems': u'solitude', u'suspected': u'diagnosis', u'neglikely': u'neglikely', u'ruby': u'diana', u'realities': u'immediate', u'countless': u'many', u'prehistoric': u'masks', u'crumb': u'vision', u'developing': u'developing', u'these': u'these', u'humans': u'species', u'chinatown': u'cabinet', u'negopen': u'negsees', u'handicapped': u'ill', u'notoriety': u'suspicion', u'proves': u'proves', u'joke': u'witty', u'thrillers': u'flick', u'devastated': u'downward', u'coolest': u'dumbest', u'mining': u'coastal', u'negbored': u'neguntil', u'orientation': u'virtues', u'alcoholic': u'whose', u'determination': u'dignity', u'soil': u'coverage', u'negedge': u'negjoe', u'startling': u'strangeness', u'commander': u'commander', u'canceled': u'guide', u'bias': u'justified', u'embrace': u'endure', u'eras': u'periods', u'heels': u'skinny', u'beaver': u'daredevil', u'floating': u'rolls', u'worry': u'anymore', u'risqu': u'requisite', u'williams': u'adventures', u'develop': u'developing', u'imax': u'discount', u'etc': u'etc', u'media': u'nation', u'kubrick': u'haggis', u'coke': u'banana', u'negsituation': u'negsees', u'intelligently': u'solidly', u'gentlemen': u'ploy', u'figuring': u'wee', u'poetic': u'dreamlike', u'blanket': u'gunpoint', u'angered': u'prayer', u'lite': u'flu', u'document': u'exploration', u'victorian': u'southern', u'extravaganza': u'sorcery', u'negawards': u'neglikely', u'finish': u'begin', u'centuries': u'cylon', u'closest': u'dumbest', u'enjoyment': u'expectation', u'arctic': u'sail', u'bigoted': u'mocked', u'fruit': u'chan', u'investigates': u'hunt', u'favorites': u'favorites', u'attributes': u'aspirations', u'utterly': u'completely', u'speechless': u'chuckling', u'swallow': u'digest', u'mentally': u'ill', u'enchanting': u'stunning', u'complained': u'complained', u'theater': u'theatre', u'traps': u'rituals', u'bondage': u'strangeness', u'charges': u'heinous', u'breezy': u'dour', u'negmeans': u'negkind', u'severe': u'severe', u'breeze': u'rolls', u'works': u'worked', u'vomit': u'chuckling', u'otherwise': u'might', u'bettany': u'plummer', u'charged': u'diagnosis', u'taxi': u'bus', u'negthe': u'neglittle', u'negknown': u'negkind', u'choreography': u'arts', u'frankie': u'vito', u'noah': u'nash', u'knowledgeable': u'substituted', u'battleship': u'helicopters', u'dancers': u'dancers', u'toby': u'durante', u'valuable': u'precious', u'shouts': u'sack', u'sweeping': u'exotic', u'civilized': u'fascism', u'wrecks': u'sail', u'cambodia': u'iraq', u'negchoice': u'negbusiness', u'negasleep': u'negmust', u'touch': u'humour', u'n': u'roll', u'speed': u'cars', u'intolerable': u'ham', u'death': u'killed', u'staging': u'kinetic', u'negalive': u'negsees', u'flood': u'oxygen', u'thinking': u'clue', u'negcontrol': u'negbusiness', u'senseless': u'vile', u'peak': u'peak', u'adventurous': u'unconventional', u'gail': u'beavers', u'watchable': u'satisfying', u'treatment': u'perspective', u'versa': u'faced', u'complements': u'dour', u'negtalent': u'negqualities', u'struck': u'amazes', u'entitled': u'scanners', u'ca': u'ch', u'momentum': u'distracts', u'seams': u'slack', u'ladd': u'jay', u'negfew': u'negmust', u'spectacular': u'elaborate', u'marcus': u'dillinger', u'rules': u'fundamental', u'ruler': u'drafted', u'amc': u'originally', u'selma': u'beavers', u'gonna': u'lets', u'amy': u'anna', u'featurette': u'easter', u'negtwice': u'negmust', u'makes': u'makes', u'lads': u'lads', u'jenkins': u'casey', u'symbolism': u'dreamlike', u'using': u'added', u'execution': u'unrealistic', u'rebecca': u'anna', u'rear': u'kitchen', u'ruled': u'joined', u'yimou': u'masterwork', u'fortune': u'inheritance', u'heightened': u'rendering', u'pounds': u'fifty', u'smell': u'banana', u'collective': u'existence', u'miracle': u'cherished', u'benefit': u'bounds', u'nubile': u'bonkers', u't': u'anymore', u'fully': u'enjoy', u'output': u'achievements', u'downward': u'downward', u'twelve': u'fifty', u'filling': u'conjure', u'verbal': u'sporadically', u'exposed': u'cylon', u'pointlessly': u'telegraphed', u'hacks': u'backing', u'exposes': u'assaulted', u'oscars': u'award', u'eddie': u'audie', u'negthose': u'neglittle', u'negleave': u'negadd', u'duration': u'lasts', u'negcamp': u'neguk', u'bless': u'sake', u'passions': u'aspirations', u'squirm': u'amuse', u'perverse': u'fireflies', u'garland': u'hayward', u'earth': u'earth', u'willis': u'reeve', u'squire': u'affections', u'recorded': u'online', u'futuristic': u'unconventional', u'conservative': u'atheist', u'babysitter': u'sends', u'impress': u'recreate', u'recorder': u'bla', u'willie': u'homer', u'sarandon': u'mara', u'hustle': u'arts', u'negwhite': u'neguk', u'felt': u'feeling', u'assembly': u'distracts', u'business': u'boss', u'indestructible': u'threatening', u'equivalent': u'scanners', u'strained': u'persistent', u'unease': u'fireflies', u'uneasy': u'dense', u'seducing': u'gal', u'hectic': u'distracts', u'fractured': u'virtues', u'raul': u'phillip', u'exciting': u'inventive', u'negskills': u'negbusiness', u'fondness': u'feats', u'brighton': u'southern', u'comparison': u'norm', u'central': u'central', u'frodo': u'skating', u'srk': u'juhi', u'ideology': u'fascism', u'boldly': u'suburbia', u'escalating': u'arresting', u'wolf': u'alien', u'greatly': u'thoroughly', u'bands': u'dancers', u'testimony': u'participated', u'palma': u'niro', u'resnais': u'substituted', u'assassin': u'hunt', u'backup': u'homer', u'negstore': u'negmust', u'arabic': u'accent', u'crichton': u'bagdad', u'sketches': u'snl', u'researching': u'elected', u'protests': u'participated', u'amitabh': u'bachchan', u'inclusion': u'prose', u'romero': u'lambs', u'negcan': u'neganyone', u'prof': u'vito', u'harryhausen': u'sorcery', u'negmeaning': u'neglogic', u'snooze': u'mins', u'involvement': u'risks', u'bedtime': u'wee', u'negcar': u'negsees', u'heated': u'persistent', u'elementary': u'grammar', u'signals': u'oxygen', u'nowadays': u'labeled', u'your': u'mind', u'intervention': u'unwilling', u'stare': u'split', u'neghold': u'neglearn', u'fast': u'forwarding', u'cate': u'hannah', u'prepare': u'chuckling', u'area': u'abandoned', u'aren': u'isn', u'removing': u'rituals', u'hunky': u'bullock', u'negtype': u'negt', u'lol': u'listened', u'lom': u'plummer', u'start': u'begin', u'stealth': u'autopsy', u'cats': u'tiny', u'low': u'reeks', u'lot': u'etc', u'starr': u'macmahon', u'hellish': u'mumbai', u'hartman': u'plummer', u'loy': u'powell', u'poirot': u'darling', u'assumes': u'reversal', u'billion': u'dozen', u'groan': u'puns', u'jafar': u'bambi', u'petty': u'mocked', u'smuggling': u'drafted', u'negjust': u'neglittle', u'pitcher': u'vito', u'delayed': u'elected', u'negbruce': u'negjoe', u'seagal': u'steven', u'curiously': u'dense', u'manipulative': u'socially', u'curtain': u'staircase', u'cottage': u'coastal', u'pitched': u'hip', u'trying': u'give', u'proposal': u'helene', u'negcompletely': u'negconfusing', u'autobiographical': u'biopic', u'hire': u'raise', u'fraud': u'requests', u'circulation': u'coverage', u'comics': u'avengers', u'louisiana': u'coastal', u'interiors': u'lit', u'lingers': u'closeups', u'excessive': u'extreme', u'freddy': u'freddy', u'sadness': u'immediate', u'miguel': u'villainous', u'native': u'african', u'loneliness': u'immediate', u'tones': u'daytime', u'gibberish': u'unimpressive', u'beliefs': u'atheist', u'havilland': u'errol', u'batista': u'batista', u'wrestlers': u'batista', u'remarkable': u'superb', u'momentarily': u'handing', u'arabs': u'arabs', u'describe': u'describe', u'moved': u'moves', u'sales': u'releasing', u'negkilling': u'negbusiness', u'negsatisfying': u'negconfusing', u'salem': u'scanners', u'nero': u'franco', u'trace': u'bounds', u'ardent': u'mani', u'moves': u'moves', u'nerd': u'loser', u'negresponsible': u'negsees', u'subtext': u'fundamental', u'englishman': u'miner', u'credibility': u'thereof', u'statham': u'bourne', u'storage': u'sail', u'green': u'orange', u'event': u'witness', u'cinematography': u'editing', u'gigli': u'pixar', u'evenings': u'evenings', u'gambling': u'dealers', u'fools': u'mock', u'forcing': u'persuade', u'yor': u'oxygen', u'negroad': u'negsees', u'poor': u'awful', u'polar': u'employing', u'poop': u'spongebob', u'diaries': u'lambs', u'perils': u'increasing', u'airplanes': u'helicopters', u'teeth': u'seats', u'drift': u'laptop', u'carpenter': u'haggis', u'negthough': u'negfeeling', u'dominates': u'liza', u'track': u'shut', u'massachusetts': u'coastal', u'coverage': u'coverage', u'elisha': u'macmahon', u'tendencies': u'suspicion', u'pool': u'kitchen', u'realising': u'privacy', u'pickford': u'hayward', u'ridden': u'pathetically', u'titillating': u'detracts', u'munro': u'tina', u'negbeauty': u'negbusiness', u'apathy': u'atheist', u'moonlight': u'sa', u'lipstick': u'nipples', u'negtouched': u'negsees', u'corey': u'knox', u'profits': u'participated', u'embracing': u'increasing', u'overseas': u'iraq', u'strings': u'strings', u'giorgio': u'sunny', u'monte': u'prophet', u'surrounded': u'chased', u'skeleton': u'astro', u'pointing': u'backing', u'saura': u'renoir', u'splitting': u'fried', u'belial': u'belial', u'govinda': u'lil', u'blanche': u'abel', u'thoughtful': u'quiet', u'publish': u'requests', u'reinhold': u'jay', u'cameron': u'jimmy', u'managed': u'impossible', u'religious': u'atheist', u'monty': u'holy', u'antoinette': u'hari', u'negshort': u'negt', u'dreadful': u'awful', u'griffin': u'whoopi', u'negreceive': u'neglikely', u'referring': u'referred', u'bagdad': u'bagdad', u'icons': u'veterans', u'whoever': u'writes', u'foster': u'anna', u'danielle': u'tina', u'locales': u'exotic', u'bakshi': u'walt', u'dominated': u'joined', u'set': u'build', u'subtleties': u'component', u'patently': u'unimpressive', u'jensen': u'durante', u'confidential': u'du', u'laws': u'organizations', u'very': u'very', u'horror': u'flick', u'negdefinitely': u'negjoe', u'sasha': u'dillinger', u'vera': u'tina', u'me': u'laugh', u'frederic': u'wyler', u'rogue': u'hunt', u'balancing': u'dour', u'minded': u'geared', u'decide': u'give', u'frankenstein': u'frankenstein', u'lennie': u'villainous', u'negfemale': u'negjoe', u'wallach': u'plummer', u'randomness': u'slack', u'negmight': u'negfeeling', u'higgins': u'casey', u'negwatch': u'neghard', u'vu': u'cynic', u'louis': u'hari', u'avalanche': u'controls', u'stranded': u'lake', u'debt': u'inheritance', u'circuit': u'attendance', u'manages': u'impossible', u'study': u'perspective', u'anal': u'bonkers', u'louie': u'sends', u'still': u'seeing', u'ass': u'dude', u'approximately': u'fifty', u'jarring': u'jarring', u'fence': u'kitchen', u'colossal': u'stinking', u'negtried': u'negmust', u'streets': u'chicago', u'unheard': u'unheard', u'throughly': u'sorcery', u'orgasm': u'schizophrenia', u'value': u'quality', u'fawcett': u'phillip', u'awhile': u'wee', u'befriends': u'helene', u'negtries': u'negsees', u'snippets': u'periods', u'bass': u'ballet', u'conscience': u'risks', u'boast': u'prose', u'abundant': u'requisite', u'cues': u'ballet', u'darkness': u'darkness', u'witnessed': u'dumbest', u'nana': u'marianne', u'negsecret': u'negbusiness', u'labeled': u'labeled', u'emotions': u'heart', u'witnesses': u'diagnosis', u'jedi': u'jabba', u'negcopy': u'negt', u'timeline': u'accurately', u'waited': u'mins', u'learned': u'learned', u'negcops': u'negsees', u'repugnant': u'vile', u'deborah': u'macmahon', u'turmoil': u'immediate', u'unsurprisingly': u'ham', u'negrelevance': u'negqualities', u'ferocious': u'threatening', u'recruits': u'disgruntled', u'negtraining': u'negbusiness', u'loose': u'killed', u'vet': u'weary', u'answers': u'questions', u'forgive': u'forgive', u'tracks': u'floor', u'suicide': u'crimes', u'kickboxer': u'der', u'trunk': u'shaft', u'depend': u'endure', u'strong': u'sympathetic', u'respect': u'interest', u'duryea': u'knox', u'arena': u'tours', u'bathtub': u'nipples', u'creeps': u'irritation', u'colored': u'daytime', u'conviction': u'method', u'cg': u'cgi', u'bullshit': u'privacy', u'inspired': u'helped', u'losses': u'inheritance', u'whine': u'mock', u'reason': u'point', u'creepy': u'eerie', u'whiny': u'lovable', u'soldier': u'naval', u'amount': u'etc', u'base': u'commander', u'advertising': u'boost', u'musically': u'serviceable', u'heartbroken': u'downward', u'negbill': u'negsees', u'inspires': u'prevents', u'negstars': u'negbusiness', u'uniquely': u'arrangement', u'negbritish': u'neguk', u'shuffle': u'distracts', u'family': u'son', u'marginal': u'unprofessional', u'deluise': u'lancaster', u'donnie': u'bruckheimer', u'editors': u'lommel', u'put': u'laid', u'gielgud': u'malkovich', u'aesthetics': u'rendering', u'saccharine': u'sappy', u'trained': u'enemies', u'toys': u'monkeys', u'chunks': u'intervals', u'simba': u'skating', u'spawned': u'outings', u'minotaur': u'cockroaches', u'hispanic': u'speaker', u'countdown': u'distracts', u'conventional': u'unconventional', u'earliest': u'seminal', u'flaws': u'point', u'takes': u'taking', u'answered': u'questions', u'revelation': u'unexpected', u'contains': u'featured', u'cobra': u'iron', u'negcompany': u'negsees', u'chaotic': u'component', u'praised': u'banned', u'heroic': u'werner', u'taken': u'taking', u'injury': u'bounds', u'terminally': u'affections', u'cannibalism': u'cannibalism', u'turbo': u'bla', u'squid': u'iron', u'yuck': u'sony', u'stylistic': u'rendering', u'voorhees': u'bourne', u'surprisingly': u'very', u'instrumental': u'sa', u'excuse': u'insult', u'impulse': u'feats', u'mounted': u'dusty', u'pretense': u'increasing', u'carney': u'wyler', u'negthanks': u'negqualities', u'helped': u'helped', u'macho': u'macho', u'thread': u'bounds', u'unrealistic': u'unrealistic', u'pollack': u'phillip', u'thematically': u'rendering', u'sweeps': u'sends', u'pertwee': u'plummer', u'nina': u'hannah', u'offended': u'forgive', u'vs': u'batista', u'nine': u'fifty', u'budgets': u'reeks', u'reworking': u'prose', u'spontaneous': u'dense', u'sylvester': u'sylvester', u'history': u'commercial', u'transcend': u'proportion', u'pushes': u'throws', u'pusher': u'cynic', u'alba': u'mara', u'negmale': u'negjoe', u'abner': u'wyler', u'beautiful': u'charming', u'racing': u'cars', u'celine': u'peasant', u'negresemblance': u'negqualities', u'cows': u'rituals', u'phrase': u'spelled', u'lacks': u'thereof', u'inspector': u'captain', u'impeccable': u'shine', u'firmly': u'firmly', u'fortress': u'cockroaches', u'negactress': u'negkind', u'sondra': u'tina', u'chops': u'macho', u'ledger': u'plummer', u'stayed': u'changes', u'surpassed': u'outings', u'sigourney': u'plummer', u'chopper': u'autopsy', u'lenzi': u'infamous', u'reject': u'mock', u'cloying': u'serviceable', u'prejudice': u'atheist', u'hottest': u'sexiest', u'kolchak': u'walt', u'wigs': u'dresses', u'businessmen': u'peasants', u'maltin': u'stating', u'fr': u'prophet', u'ft': u'kitchen', u'fu': u'arts', u'rude': u'lovable', u'communicating': u'assaulted', u'fx': u'cgi', u'daisy': u'eve', u'derived': u'detracts', u'sneak': u'broke', u'negsign': u'neglogic', u'triumphs': u'aspirations', u'idiocy': u'grain', u'unsung': u'seminal', u'denial': u'risks', u'ff': u'sonic', u'gasp': u'shed', u'negused': u'negfeeling', u'a': u'one', u'contrived': u'unrealistic', u'apocalypse': u'lambs', u'jodie': u'mara', u'negleaves': u'negdies', u'overnight': u'mysteriously', u'anytime': u'sony', u'bashing': u'geared', u'manipulates': u'reversal', u'negwon': u'negwon', u'dread': u'dreamlike', u'scaring': u'prayer', u'comatose': u'bonkers', u'banks': u'villainous', u'sappy': u'sappy', u'solidly': u'solidly', u'egg': u'astro', u'crafty': u'arresting', u'lynch': u'wizards', u'korda': u'prophet', u'chicks': u'fried', u'bitterly': u'regretted', u'help': u'laid', u'uncensored': u'releasing', u'negmotivation': u'neglogic', u'rawal': u'likeable', u'annoyingly': u'annoyingly', u'soon': u'immediately', u'held': u'hands', u'runner': u'wizards', u'nastassja': u'tina', u'negthird': u'negsees', u'committee': u'elected', u'committed': u'crimes', u'helm': u'matt', u'hell': u'hell', u'kinetic': u'kinetic', u'dummies': u'telegraphed', u'limelight': u'symbol', u'foxy': u'bullock', u'fanning': u'mara', u'zemeckis': u'altman', u'verne': u'adaption', u'picard': u'woodward', u'botched': u'heinous', u'solving': u'diagnosis', u'complex': u'intelligent', u'actually': u'because', u'capote': u'biopic', u'feel': u'feeling', u'absence': u'thereof', u'corner': u'kitchen', u'systems': u'organizations', u'heros': u'employing', u'relate': u'communicate', u'peanuts': u'showtime', u'negrelationship': u'negdies', u'negpoorly': u'negcomic', u'finer': u'received', u'fool': u'freaking', u'evening': u'night', u'motivated': u'expressed', u'buffoon': u'macho', u'yo': u'freaking', u'ya': u'listened', u'torturous': u'lasts', u'rails': u'staircase', u'curtiz': u'becker', u'anticipated': u'footnote', u'mimzy': u'showtime', u'moaning': u'whispering', u'negunless': u'neghard', u'foot': u'floor', u'ninja': u'terminator', u'traveled': u'subway', u'yu': u'miner', u'android': u'iron', u'bryan': u'phillip', u'imprisoned': u'protect', u'elder': u'whose', u'occasions': u'shed', u'negappeared': u'negmust', u'payed': u'cents', u'amoral': u'ill', u'negfinds': u'negdies', u'stopped': u'wee', u'predators': u'monkeys', u'negchurch': u'negjoe', u'ifc': u'showtime', u'dominating': u'arresting', u'fairy': u'bambi', u'obligated': u'digest', u'lifestyles': u'proportion', u'referred': u'referred', u'flashbacks': u'occur', u'garish': u'daytime', u'rodriguez': u'altman', u'potentially': u'sappy', u'neil': u'keefe', u'restless': u'bonkers', u'dichotomy': u'feats', u'jaws': u'off', u'amazement': u'regretted', u'mockumentary': u'reckon', u'haley': u'casey', u'wacky': u'sporadically', u'bickering': u'parent', u'kidnapping': u'protect', u'todd': u'todd', u'quantum': u'strategic', u'beyond': u'beyond', u'absurdity': u'sappy', u'anarchy': u'feats', u'sade': u'du', u'bikers': u'crooks', u'vertigo': u'bruckheimer', u'item': u'scanners', u'uneven': u'plodding', u'unnatural': u'annoyingly', u'robert': u'altman', u'since': u'months', u'ala': u'chiller', u'testify': u'requests', u'douglas': u'fairbanks', u'jolly': u'dim', u'wolverine': u'channing', u'hayden': u'plummer', u'belushi': u'jimmy', u'sustain': u'overlook', u'samantha': u'macmahon', u'blanc': u'macmahon', u'issue': u'deals', u'gardener': u'affections', u'negworked': u'negsees', u'negvictims': u'negjoe', u'sink': u'sink', u'pun': u'puns', u'negextremely': u'negconfusing', u'earns': u'irritation', u'dunn': u'phillip', u'passes': u'gone', u'lights': u'closeups', u'dung': u'stinking', u'ponderous': u'unimpressive', u'unsympathetic': u'characterizations', u'darius': u'disgruntled', u'houses': u'lake', u'johnnie': u'woodward', u'heroin': u'dealers', u'brightest': u'mani', u'dire': u'awful', u'dirk': u'werner', u'negrecognize': u'negwon', u'hapless': u'daredevil', u'loads': u'etc', u'bash': u'sony', u'temperature': u'oxygen', u'revolutionary': u'iraq', u'unresolved': u'ignoring', u'launch': u'missions', u'ealing': u'categories', u'terrible': u'awful', u'terribly': u'mish', u'american': u'african', u'beggars': u'pathetically', u'kung': u'arts', u'disinterested': u'ham', u'neginto': u'neginto', u'scheduled': u'elected', u'neglected': u'symbol', u'undergo': u'proportion', u'habit': u'inheritance', u'interact': u'interacting', u'negcast': u'neguk', u'olympia': u'macmahon', u'singleton': u'tombstone', u'drooling': u'bleed', u'fischer': u'miner', u'mish': u'mish', u'mise': u'kinetic', u'robotic': u'masks', u'knocking': u'staircase', u'arsenal': u'missions', u'negtrouble': u'negbusiness', u'negcase': u'neglikely', u'negfly': u'negsees', u'morita': u'plummer', u'hangs': u'staircase', u'effortless': u'dour', u'booty': u'bonkers', u'mist': u'oxygen', u'miss': u'anymore', u'fearing': u'destroy', u'utters': u'spelled', u'horse': u'kick', u'blossom': u'woodward', u'interwoven': u'periods', u'negmention': u'negmention', u'deanna': u'affections', u'pinned': u'barking', u'attic': u'lake', u'eddy': u'casey', u'wonderful': u'great', u'expand': u'flavour', u'hundred': u'dozen', u'challenge': u'intent', u'merciless': u'threatening', u'lawman': u'dillinger', u'selling': u'boost', u'storm': u'storm', u'trapped': u'abandoned', u'norma': u'sunset', u'jamie': u'reeve', u'tivo': u'showtime', u'jordan': u'jay', u'boredom': u'anger', u'blindly': u'persuade', u'inventing': u'surveillance', u'translation': u'import', u'center': u'concerns', u'financing': u'boost', u'assaulted': u'assaulted', u'squeaky': u'proverbial', u'shrek': u'reservoir', u'performers': u'dancers', u'collaborations': u'mani', u'heavyweight': u'batista', u'banana': u'banana', u'bride': u'eve', u'greg': u'pegg', u'uncanny': u'dignity', u'hauer': u'jay', u'nailed': u'beavers', u'garrison': u'drafted', u'dtv': u'outings', u'mickey': u'circus', u'deciding': u'cents', u'negsleep': u'neglearn', u'footnote': u'footnote', u'alongside': u'mani', u'juicy': u'assortment', u'novak': u'duk', u'juice': u'banana', u'substantial': u'detracts', u'comrades': u'destroy', u'sentences': u'ignoring', u'gleefully': u'faux', u'concentration': u'iraq', u'organs': u'rituals', u'vulnerable': u'refined', u'showcased': u'prose', u'boorish': u'tasty', u'negbrutal': u'negjoe', u'adrift': u'unwilling', u'audie': u'audie', u'lil': u'lil', u'trance': u'circular', u'lin': u'villainous', u'flaming': u'skinny', u'scotland': u'brokeback', u'officers': u'captain', u'yoda': u'jabba', u'lit': u'lit', u'liu': u'tina', u'liv': u'anna', u'labour': u'increasing', u'lip': u'facial', u'useless': u'moronic', u'showcases': u'liza', u'aggravating': u'sketchy', u'hello': u'f', u'liz': u'topper', u'club': u'dinner', u'aired': u'originally', u'experienced': u'presented', u'aishwarya': u'juhi', u'threatening': u'threatening', u'popular': u'prime', u'promiscuous': u'behaves', u'macy': u'jay', u'kal': u'na', u'freddie': u'chaney', u'mace': u'threatening', u'hired': u'hunt', u'experiences': u'existence', u'channeling': u'woodward', u'eaten': u'chased', u'position': u'risks', u'alpha': u'releasing', u'sammi': u'skating', u'mack': u'dillinger', u'approved': u'cherished', u'neganything': u'negfind', u'salary': u'lommel', u'wiest': u'macmahon', u'muscle': u'daredevil', u'chronicle': u'programmer', u'sturdy': u'minelli', u'preferring': u'fireflies', u'performances': u'players', u'clear': u'obvious', u'popularity': u'boost', u'filler': u'filler', u'clean': u'messing', u'analogy': u'cynic', u'usual': u'usual', u'blend': u'mixes', u'takashi': u'audition', u'stalked': u'chased', u'hyper': u'sporadically', u'phenomenon': u'exploration', u'stunned': u'engrossed', u'danza': u'todd', u'angelopoulos': u'flavour', u'authors': u'citizen', u'celebrities': u'veterans', u'negcorrect': u'neglikely', u'sheik': u'tina', u'relatively': u'very', u'meticulously': u'arresting', u'booze': u'banana', u'registers': u'reversal', u'hyped': u'outings', u'impressively': u'dour', u'stalker': u'ritual', u'stores': u'mart', u'heavens': u'sake', u'albums': u'discount', u'samir': u'disgruntled', u'completion': u'attendance', u'current': u'nation', u'negsets': u'negcomic', u'copyright': u'releasing', u'reunite': u'carlitos', u'paranoid': u'ill', u'convinced': u'appalled', u'flesh': u'cat', u'paranoia': u'immediate', u'randy': u'jay', u'explodes': u'pole', u'pretty': u'pretty', u'hardened': u'hunt', u'circle': u'existence', u'apprentice': u'vito', u'firing': u'autopsy', u'dominant': u'arresting', u'meanwhile': u'nefarious', u'wagner': u'altman', u'grocery': u'robber', u'trees': u'circular', u'strut': u'weigh', u'negcrime': u'neguk', u'famous': u'prime', u'feels': u'looking', u'grew': u'grew', u'pretending': u'pretending', u'basement': u'lake', u'boils': u'sink', u'during': u'earlier', u'interminable': u'filler', u'imitating': u'surly', u'alexander': u'alexander', u'monogram': u'outings', u'tossing': u'barking', u'fluff': u'kiddie', u'negif': u'neganyone', u'sacrificed': u'observe', u'celebrates': u'feats', u'negunnecessary': u'negcomic', u'generally': u'usually', u'negin': u'neginto', u'sacrifices': u'risks', u'wellman': u'raoul', u'negit': u'negthis', u'glover': u'aiello', u'recommendations': u'stating', u'hype': u'clue', u'x': u'f', u'forster': u'plummer', u'poisoned': u'informed', u'waters': u'malkovich', u'seventeen': u'fourteen', u'schwimmer': u'phillip', u'surpass': u'labeled', u'maurice': u'woodward', u'locale': u'suburbia', u'undergoes': u'reversal', u'negstops': u'negstops', u'plausible': u'component', u'culture': u'african', u'schizophrenia': u'schizophrenia', u'descriptions': u'inconsistency', u'neginstead': u'negjoe', u'protecting': u'destroy', u'protect': u'protect', u'portrait': u'strangeness', u'angie': u'bullock', u'locals': u'peasants', u'dwarf': u'orange', u'mckay': u'phillip', u'practice': u'observe', u'potential': u'idea', u'probable': u'justified', u'horrid': u'awful', u'offers': u'allows', u'pictures': u'studios', u'wow': u'wow', u'tibet': u'iraq', u'familiarity': u'flavour', u'oz': u'wizard', u'woo': u'arts', u'stall': u'barking', u'negtrue': u'negkind', u'probably': u'importantly', u'conditions': u'arabs', u'pictured': u'truthfully', u'makeup': u'cgi', u'notoriously': u'substituted', u'missing': u'missing', u'victimized': u'unaware', u'poorer': u'increased', u'unstoppable': u'cockroaches', u'roshan': u'misguided', u'spray': u'bleed', u'ranked': u'scale', u'distinguish': u'ignoring', u'understanding': u'express', u'stale': u'unrealistic', u'abruptly': u'distracts', u'both': u'many', u'toward': u'toward', u'negshallow': u'negjoe', u'mega': u'releasing', u'drowns': u'staircase', u'secrets': u'secrets', u'keaton': u'dudikoff', u'hauntingly': u'sunny', u'assumed': u'appalled', u'negfavorite': u'negt', u'jawed': u'employing', u'adored': u'sorely', u'canadians': u'suggestions', u'vault': u'bla', u'bots': u'nichols', u'protector': u'nefarious', u'rodgers': u'rodgers', u'experimental': u'exploration', u'negvoice': u'negcomic', u'tongues': u'rituals', u'costner': u'reeve', u'wear': u'dresses', u'expendable': u'employing', u'jeff': u'selleck', u'battery': u'gunpoint', u'angelina': u'banderas', u'hudson': u'winslet', u'manners': u'serviceable', u'milton': u'nash', u'cartwright': u'woodward', u'skips': u'distracts', u'unfolded': u'accurately', u'spotting': u'sony', u'likes': u'knows', u'airline': u'sail', u'vessel': u'cylon', u'linus': u'woodcock', u'rudy': u'vito', u'wes': u'steven', u'negbut': u'neglittle', u'negsurprisingly': u'neglikely', u'stamp': u'paired', u'rishi': u'juhi', u'igor': u'rapist', u'neggerman': u'negjoe', u'negsuit': u'negjoe', u'wasnt': u'tho', u'describes': u'accurately', u'damn': u'alright', u'coarse': u'substituted', u'tomlinson': u'phillip', u'collected': u'elected', u'threaten': u'persuade', u'territory': u'descent', u'delights': u'arresting', u'dame': u'hayward', u'budgeted': u'reeks', u'sanders': u'brent', u'dialogue': u'storyline', u'lived': u'lived', u'partly': u'largely', u'packs': u'conjure', u'liven': u'conjure', u'wet': u'fried', u'hbo': u'showtime', u'ratings': u'zero', u'else': u'whatever', u'anthony': u'jay', u'recalled': u'participated', u'negexploitation': u'neguk', u'folklore': u'suburbia', u'neurotic': u'sullen', u'negstick': u'negsees', u'feldman': u'beavers', u'negactually': u'negmade', u'negrobert': u'negjoe', u'pact': u'peasant', u'randomly': u'backing', u'intriguing': u'unusual', u'utmost': u'aspirations', u'look': u'looking', u'unconvincingly': u'rituals', u'socialist': u'fascism', u'mumbling': u'annoyingly', u'governor': u'weary', u'impersonating': u'homer', u'wyatt': u'earp', u'predictable': u'tiresome', u'while': u'while', u'kara': u'casey', u'ought': u'warned', u'fleet': u'missions', u'loot': u'robber', u'animated': u'cartoon', u'mitchell': u'jay', u'guide': u'guide', u'loop': u'rolls', u'pack': u'sony', u'uncompromising': u'strangeness', u'neglearned': u'negsees', u'underground': u'cockroaches', u'voters': u'zero', u'wherever': u'endure', u'overlooked': u'achievements', u'danes': u'winslet', u'herein': u'inconsistency', u'negimagination': u'neglogic', u'hoax': u'cherished', u'buckaroo': u'bulworth', u'terminator': u'terminator', u'ready': u'impossible', u'lacklustre': u'sketchy', u'alone': u'after', u'negshow': u'neglittle', u'cusack': u'malkovich', u'shaq': u'replied', u'shaw': u'mani', u'anymore': u'anymore', u'grant': u'grant', u'belong': u'belong', u'subliminal': u'inconsistency', u'negmoved': u'negsees', u'sensual': u'refined', u'madly': u'akbar', u'grand': u'build', u'hopelessly': u'ham', u'shah': u'bachchan', u'basinger': u'duk', u'composition': u'kinetic', u'conflict': u'chemistry', u'hallway': u'staircase', u'negmodern': u'neguk', u'used': u'added', u'addams': u'eve', u'bon': u'paired', u'rhames': u'busey', u'dime': u'sony', u'bonus': u'bonus', u'banter': u'sporadically', u'blair': u'witch', u'overweight': u'bonkers', u'youngsters': u'parent', u'feds': u'robber', u'cleaning': u'banana', u'decency': u'oneself', u'haunting': u'theme', u'assortment': u'assortment', u'armand': u'villainous', u'bob': u'bob', u'beowulf': u'potter', u'poland': u'iraq', u'cruz': u'macmahon', u'grind': u'slack', u'devoid': u'thereof', u'chronicles': u'potter', u'bearable': u'mildly', u'raimi': u'coward', u'savvy': u'ploy', u'posh': u'speaker', u'bog': u'unimpressive', u'appalled': u'appalled', u'grossly': u'unimpressive', u'weakest': u'best', u'ambassador': u'drafted', u'provoke': u'fireflies', u'chord': u'cherished', u'exploits': u'suburbia', u'dramas': u'categories', u'goings': u'focus', u'negmany': u'neganyone', u'breathtaking': u'exotic', u'quarters': u'intervals', u'cocky': u'macho', u'reviewer': u'mentioned', u'praying': u'shed', u'afro': u'speaker', u'neghigh': u'negt', u'saif': u'bachchan', u'tick': u'amuse', u'negamusing': u'negconfusing', u'scenario': u'ignoring', u'nikki': u'affections', u'guaranteed': u'dose', u'regrets': u'risks', u'throats': u'rituals', u'barkin': u'mara', u'questioned': u'informed', u'debatable': u'indicative', u'remaining': u'mysteriously', u'elves': u'monkeys', u'applauded': u'lommel', u'cheryl': u'beavers', u'preity': u'juhi', u'march': u'wyler', u'lacking': u'thereof', u'defies': u'bounds', u'evaluate': u'endure', u'bloodbath': u'euro', u'negparents': u'negdies', u'tiring': u'plodding', u'emmanuelle': u'hari', u'eastman': u'brent', u'game': u'sonic', u'dearly': u'rejects', u'cinemascope': u'exotic', u'emma': u'winslet', u'bloody': u'grisly', u'wings': u'skating', u'ridiculousness': u'pathetically', u'negcharacter': u'negmention', u'outright': u'vile', u'bout': u'cynic', u'inviting': u'nefarious', u'submission': u'privacy', u'negleaving': u'negsees', u'signal': u'spontaneously', u'manifest': u'virtues', u'eel': u'schizophrenia', u'dreck': u'turkey', u'donna': u'anna', u'housekeeper': u'tina', u'translated': u'import', u'dictatorship': u'organizations', u'adulterous': u'affections', u'saddled': u'likeable', u'sketch': u'snl', u'parade': u'dusty', u'foreman': u'knox', u'negshakespeare': u'negt', u'journalism': u'strategic', u'fathers': u'parent', u'scorcese': u'kusturica', u'some': u'etc', u'pierre': u'hari', u'separated': u'parent', u'lips': u'belt', u'caliber': u'received', u'ranbir': u'juhi', u'erupts': u'gunfight', u'trendy': u'ploy', u'hires': u'nefarious', u'negnecessary': u'negcomic', u'mccarthy': u'nash', u'negemotional': u'negspace', u'gracie': u'diana', u'accuracy': u'accuracy', u'delivered': u'badly', u'describing': u'ignoring', u'grandparents': u'partying', u'dilapidated': u'coastal', u'announces': u'requests', u'warnings': u'privacy', u'excitement': u'adventure', u'debra': u'hayward', u'fundamentalist': u'organizations', u'negeffect': u'negcomic', u'pounding': u'gunfight', u'civilization': u'cylon', u'slash': u'kiddie', u'quote': u'stating', u'excluding': u'prose', u'slapstick': u'humour', u'forgets': u'sack', u'minimal': u'jarring', u'foley': u'homer', u'sympathetic': u'sympathetic', u'claimed': u'called', u'measures': u'increasing', u'run': u'gone', u'rub': u'handing', u'hypocritical': u'atheist', u'rug': u'handing', u'snake': u'kick', u'stem': u'privacy', u'jazzy': u'ballet', u'merrick': u'haggis', u'viewpoints': u'sources', u'stew': u'inconsistency', u'lasts': u'lasts', u'nerves': u'seats', u'negsit': u'neglearn', u'plots': u'characterizations', u'vincente': u'raoul', u'predictability': u'sketchy', u'franco': u'franco', u'shine': u'shine', u'faith': u'nature', u'conrad': u'becker', u'andromeda': u'andromeda', u'mcgraw': u'macmahon', u'emmy': u'award', u'chico': u'beavers', u'ariel': u'unaware', u'positive': u'read', u'sponsored': u'organizations', u'classics': u'flick', u'shiny': u'fried', u'block': u'shaft', u'ida': u'tina', u'miracles': u'miracles', u'seeing': u'seeing', u'neghappy': u'negfeeling', u'negdepressing': u'negconfusing', u'negtire': u'neguntil', u'caretaker': u'owner', u'within': u'fifty', u'nonsense': u'turkey', u'ensue': u'sporadically', u'negpleasant': u'negconfusing', u'payment': u'inheritance', u'unbeknownst': u'sends', u'pentagon': u'sail', u'rolls': u'rolls', u'alison': u'tina', u'behaving': u'mock', u'computer': u'technology', u'infuriating': u'grain', u'negusual': u'negconfusing', u'placing': u'arresting', u'indoor': u'daytime', u'florence': u'casey', u'heritage': u'fascism', u'avoids': u'sappy', u'harem': u'bonkers', u'narrator': u'voice', u'bender': u'paired', u'collapsed': u'prayer', u'inept': u'moronic', u'specialty': u'maiden', u'thief': u'hunt', u'larry': u'earp', u'reed': u'alexander', u'alive': u'sadako', u'reef': u'flu', u'branch': u'barking', u'negharry': u'negjoe', u'amateurish': u'awful', u'reel': u'directly', u'collapses': u'staircase', u'ceremonies': u'peasant', u'dissolves': u'distracts', u'info': u'listed', u'ideals': u'fascism', u'paolo': u'woodward', u'modesty': u'blaise', u'neggory': u'negconfusing', u'viciously': u'unaware', u'skull': u'bleed', u'negrichard': u'negjoe', u'grinch': u'christmas', u'stumbling': u'whispering', u'psychosis': u'reversal', u'stiller': u'matthau', u'mobile': u'autopsy', u'accustomed': u'evolved', u'gertrude': u'tina', u'malik': u'minelli', u'ussr': u'iraq', u'supposedly': u'supposedly', u'wicked': u'misguided', u'similar': u'exact', u'uber': u'loser', u'ordered': u'releasing', u'adults': u'sophisticated', u'willed': u'sullen', u'elitist': u'strategic', u'doesn': u'shouldn', u'rupert': u'wyler', u'evocative': u'kinetic', u'cotton': u'maiden', u'neglisted': u'negt', u'ancestors': u'mumbai', u'negsetting': u'negjoe', u'claudette': u'macmahon', u'anthology': u'lambs', u'amounts': u'requisite', u'dashed': u'laptop', u'tito': u'drafted', u'fears': u'existence', u'nam': u'vets', u'nap': u'miracles', u'electrical': u'oxygen', u'transport': u'sail', u'nat': u'knox', u'department': u'captain', u'overly': u'melodramatic', u'nay': u'damned', u'manhattan': u'chicago', u'negkiller': u'negcomic', u'hayward': u'hayward', u'smiles': u'sack', u'draw': u'overlook', u'apparent': u'obvious', u'spectators': u'surveillance', u'reportedly': u'prophet', u'crouching': u'hidden', u'kansas': u'chicago', u'awry': u'nowhere', u'bravado': u'macho', u'frances': u'macmahon', u'william': u'earp', u'negplease': u'neglearn', u'drag': u'filler', u'negquick': u'negjoe', u'evan': u'phillip', u'graphically': u'strangeness', u'smiled': u'regretted', u'drab': u'plodding', u'mamet': u'georges', u'saloon': u'maiden', u'structure': u'narrative', u'neghumor': u'neglogic', u'independently': u'banned', u'e': u'y', u'practically': u'almost', u'physics': u'observe', u'outing': u'sorcery', u'esp': u'prose', u'youtube': u'online', u'tucci': u'todd', u'bleached': u'proverbial', u'heath': u'plummer', u'depth': u'heart', u'fresh': u'approach', u'stargate': u'andromeda', u'literally': u'literally', u'recognize': u'stop', u'ignorant': u'racist', u'underrated': u'gifted', u'requires': u'bounds', u'garrett': u'whoopi', u'kornbluth': u'discusses', u'gr': u'woodward', u'negbetter': u'negthan', u'mores': u'arabs', u'secretary': u'vito', u'nuns': u'unaware', u'cheerful': u'serviceable', u'pearce': u'vito', u'proposition': u'symbol', u'ga': u'tours', u'hildy': u'tina', u'aristocrat': u'miner', u'negworks': u'negdies', u'psycho': u'killers', u'kate': u'winslet', u'gi': u'prophet', u'rhonda': u'woodward', u'negeyes': u'negmust', u'baron': u'vito', u'feinstone': u'emil', u'vacuous': u'renders', u'wizard': u'wizard', u'focal': u'concluding', u'negsure': u'neganyone', u'easiest': u'easiest', u'attackers': u'rituals', u'neghard': u'neghard', u'does': u'makes', u'suite': u'tours', u'negharm': u'negqualities', u'friendly': u'faced', u'silverstone': u'durante', u'colman': u'wyler', u'murderous': u'victims', u'kitty': u'beavers', u'miners': u'peasants', u'wave': u'gangs', u'renoir': u'renoir', u'kirsten': u'hannah', u'distribution': u'released', u'nichols': u'nichols', u'enslaved': u'peasant', u'telling': u'line', u'yourselves': u'ur', u'kurosawa': u'achievements', u'spine': u'seats', u'nausea': u'slack', u'homicidal': u'ritual', u'exits': u'gunpoint', u'stiff': u'annoyingly', u'meant': u'pretending', u'gender': u'virtues', u'negfinish': u'neghard', u'unusual': u'unusual', u'michael': u'dudikoff', u'negyoung': u'negdies', u'ryan': u'ryan', u'deformed': u'ritual', u'tomatoes': u'killers', u'verdict': u'damned', u'oblivion': u'descent', u'egotistical': u'sullen', u'neglist': u'negt', u'freaked': u'regretted', u'oddball': u'sporadically', u'sizemore': u'selleck', u'carter': u'helena', u'kinski': u'durante', u'temporary': u'unwilling', u'thinly': u'dense', u'boots': u'fried', u'waking': u'conjure', u'jump': u'closeups', u'blowing': u'blast', u'booth': u'obese', u'picked': u'picks', u'pornography': u'cannibalism', u'zu': u'zu', u'negaspects': u'negcomic', u'click': u'sony', u'clich': u'unrealistic', u'waitress': u'anna', u'talky': u'plodding', u'poke': u'kiddie', u'plays': u'play', u'evokes': u'elegance', u'paintings': u'lit', u'soup': u'banana', u'bannister': u'villainous', u'bluntly': u'miracles', u'negliving': u'negbusiness', u'vampire': u'frankenstein', u'valet': u'channing', u'cell': u'kitchen', u'rotten': u'astro', u'experiment': u'professor', u'poles': u'mumbai', u'negusing': u'negcomic', u'pristine': u'mastered', u'gasoline': u'gunpoint', u'nicholas': u'jay', u'melancholy': u'elegance', u'focuses': u'focus', u'stance': u'atheist', u'upsetting': u'vile', u'commercial': u'commercial', u'comical': u'witty', u'believed': u'pretending', u'tilly': u'mara', u'weirdo': u'skinny', u'pancake': u'proverbial', u'making': u'makes', u'kidnapped': u'protect', u'negarts': u'neguk', u'neggo': u'negadd', u'convert': u'privacy', u'northern': u'rome', u'lugosi': u'boris', u'negwould': u'negthis', u'duncan': u'casey', u'host': u'circus', u'justice': u'cause', u'products': u'suggestions', u'negscore': u'negcomic', u'confession': u'downward', u'nameless': u'employing', u'gene': u'sinatra', u'salvation': u'powers', u'gena': u'hannah', u'wig': u'dresses', u'examining': u'feats', u'addresses': u'virtues', u'clark': u'powell', u'nearest': u'sony', u'clare': u'hayward', u'win': u'award', u'manage': u'give', u'clara': u'helene', u'danika': u'refined', u'addressed': u'proportion', u'wit': u'humour', u'negmistake': u'negqualities', u'negconvincing': u'negentertaining', u'zizek': u'amuse', u'longoria': u'hayward', u'buildup': u'telegraphed', u'fiend': u'euro', u'negnice': u'negconfusing', u'negmissing': u'negsees', u'imaginary': u'faced', u'manipulate': u'persuade', u'penalty': u'heinous', u'isn': u'isn', u'negwilliam': u'negjoe', u'crap': u'turkey', u'snoop': u'dogg', u'connery': u'chris', u'remains': u'usual', u'mirrors': u'sunny', u'neglooks': u'negdies', u'negshocking': u'negconfusing', u'predict': u'forgive', u'camera': u'angle', u'deol': u'juhi', u'cheeky': u'shakespearean', u'vehicle': u'studios', u'agreeable': u'serviceable', u'means': u'means', u'negexact': u'neglikely', u'historically': u'accuracy', u'reflects': u'fascism', u'belgian': u'mani', u'cosmo': u'sends', u'neggay': u'neguk', u'popped': u'wee', u'biblical': u'suburbia', u'started': u'started', u'becomes': u'became', u'benchmark': u'labeled', u'about': u'line', u'charming': u'charming', u'unfaithful': u'affections', u'rivalry': u'feats', u'appointed': u'drafted', u'boards': u'stating', u'crosses': u'throws', u'mythical': u'suburbia', u'announcing': u'proceeded', u'lapse': u'rendering', u'acquaintances': u'unaware', u'negloving': u'negdies', u'archer': u'knox', u'crossed': u'bla', u'servants': u'rituals', u'negwho': u'neganyone', u'meet': u'belial', u'drops': u'staircase', u'conformity': u'increasing', u'honors': u'wyler', u'control': u'destroy', u'beijing': u'coastal', u'stephenson': u'macmahon', u'kenny': u'skinny', u'links': u'feats', u'escapes': u'sent', u'shtick': u'macho', u'allowed': u'impossible', u'halloween': u'st', u'escaped': u'mysteriously', u'negcontain': u'neglikely', u'blaine': u'hayward', u'sought': u'cherished', u'hit': u'major', u'bowl': u'bleed', u'skirt': u'skinny', u'hesitate': u'ur', u'orson': u'mani', u'sword': u'fighting', u'vibe': u'dreamlike', u'stole': u'rob', u'campers': u'lads', u'africans': u'arabs', u'lesley': u'tina', u'poetry': u'hatred', u'arrangement': u'arrangement', u'located': u'subway', u'negday': u'negmust', u'sentiments': u'virtues', u'clair': u'supplied', u'immoral': u'atheist', u'circular': u'circular', u'fare': u'camp', u'conquers': u'conquers', u'alicia': u'anna', u'negminute': u'negt', u'farm': u'lake', u'franchise': u'entry', u'kristel': u'beavers', u'peace': u'destroy', u'ronald': u'wyler', u'fart': u'puns', u'sewell': u'macmahon', u'records': u'attendance', u'spelling': u'amateurs', u'engineering': u'surveillance', u'unsubtle': u'sappy', u'miscast': u'likeable', u'negfool': u'negsees', u'negthat': u'neglittle', u'documentary': u'it', u'winninger': u'knox', u'negfood': u'negcomic', u'scoop': u'batista', u'claire': u'bob', u'crazed': u'dealers', u'alienation': u'virtues', u'womanizer': u'sullen', u'negallen': u'negjoe', u'favourites': u'favorites', u'executives': u'guide', u'negfoot': u'negjoe', u'fastest': u'surveillance', u'unsolved': u'diagnosis', u'creation': u'descent', u'attain': u'oneself', u'competing': u'surly', u'rebellious': u'behaves', u'sperm': u'daredevil', u'moralizing': u'sappy', u'gunman': u'dillinger', u'costume': u'designer', u'explode': u'oxygen', u'cruise': u'selleck', u'mentioned': u'mentioned', u'negsilent': u'neguk', u'negextent': u'negsees', u'subversive': u'substituted', u'helicopters': u'helicopters', u'blake': u'altman', u'rocco': u'surly', u'outer': u'earth', u'affleck': u'matt', u'episodic': u'component', u'masses': u'atheist', u'brook': u'wyler', u'housewife': u'sullen', u'emotionless': u'ham', u'spellbound': u'irritation', u'youngster': u'dating', u'pussy': u'beavers', u'bin': u'mart', u'bradley': u'nash', u'jeanne': u'macmahon', u'astounding': u'shine', u'pure': u'turkey', u'surrounds': u'aspirations', u'frontal': u'female', u'reservoir': u'reservoir', u'churn': u'backing', u'catches': u'staircase', u'functional': u'rendering', u'placid': u'astro', u'hands': u'hands', u'front': u'literally', u'naschy': u'reeve', u'hippies': u'lads', u'stroke': u'kick', u'masters': u'freddy', u'profane': u'shakespearean', u'chronic': u'suspicion', u'mastery': u'endearment', u'university': u'university', u'shield': u'oxygen', u'slide': u'shut', u'magnitude': u'contention', u'negperiod': u'negspace', u'mode': u'bourne', u'crossing': u'brokeback', u'shaking': u'seats', u'negvisual': u'neglogic', u'baxter': u'knox', u'globe': u'award', u'serbia': u'iraq', u'negmedia': u'negjoe', u'constitute': u'virtues', u'austen': u'tarzan', u'investigative': u'discusses', u'sands': u'maiden', u'remarkably': u'solidly', u'connor': u'keefe', u'exceeded': u'footnote', u'laundry': u'banana', u'morton': u'tina', u'negrise': u'neglearn', u'negread': u'neguntil', u'negextreme': u'negcomic', u'butch': u'homer', u'kapoor': u'bachchan', u'mcmahon': u'plummer', u'littered': u'assortment', u'armor': u'masks', u'occupied': u'iraq', u'criminally': u'mani', u'fathom': u'digest', u'ricky': u'homer', u'strokes': u'weigh', u'activist': u'drafted', u'wondrous': u'stunning', u'gloves': u'dresses', u'obsessive': u'ill', u'achievements': u'achievements', u'umbrella': u'sends', u'trashy': u'sorcery', u'ronny': u'knox', u'negreleased': u'neguntil', u'reacts': u'reversal', u'digging': u'gunpoint', u'humiliating': u'unwilling', u'transfer': u'format', u'darkly': u'shakespearean', u'attending': u'anniversary', u'completely': u'completely', u'jill': u'mara', u'intruder': u'dusty', u'princess': u'bambi', u'wrestlemania': u'zu', u'agony': u'strings', u'befriended': u'sends', u'bernsen': u'plummer', u'hostile': u'arabs', u'route': u'subway', u'rushed': u'melodramatic', u'diminished': u'prevents', u'timer': u'homer', u'times': u'months', u'counterpart': u'macho', u'stride': u'schizophrenia', u'turturro': u'malkovich', u'confrontations': u'results', u'aniston': u'mara', u'protagonists': u'interacting', u'timed': u'decently', u'humphrey': u'derek', u'austin': u'batista', u'mad': u'professor', u'prospective': u'carlitos', u'sheesh': u'replied', u'snyder': u'channing', u'step': u'step', u'succeeds': u'recreate', u'possessing': u'suspicion', u'neghumour': u'negcomic', u'powerful': u'heart', u'pitch': u'colour', u'introspective': u'refined', u'date': u'released', u'neill': u'keefe', u'bitch': u'lovable', u'such': u'example', u'bang': u'seats', u'patriotism': u'fascism', u'precisely': u'ignoring', u'quality': u'quality', u'neguseful': u'negsees', u'hiding': u'mysteriously', u'adds': u'allows', u'negland': u'negsees', u'negaway': u'negadd', u'dump': u'gunpoint', u'negrace': u'negsees', u'privacy': u'privacy', u'bears': u'bears', u'revealed': u'sadako', u'zinta': u'juhi', u'adopted': u'whose', u'shockingly': u'mish', u'attach': u'persuade', u'attack': u'shooting', u'neghair': u'negjoe', u'wrapped': u'picks', u'beside': u'spelled', u'perfectly': u'perfectly', u'final': u'confrontation', u'townsend': u'durante', u'paved': u'reservoir', u'malibu': u'isle', u'ash': u'kick', u'greta': u'hayward', u'punish': u'persuade', u'rowlands': u'hannah', u'exactly': u'hell', u'lists': u'stating', u'nolte': u'jay', u'fuzzy': u'irritation', u'overwhelming': u'immediate', u'herself': u'he', u'neck': u'belt', u'hines': u'coward', u'schizophrenic': u'reversal', u'photograph': u'speaker', u'ultimatum': u'bourne', u'ben': u'jay', u'bel': u'tina', u'characterizations': u'characterizations', u'bea': u'anna', u'beg': u'ur', u'submitted': u'stating', u'negstarted': u'negmust', u'cartoonish': u'annoyingly', u'negfootage': u'negspace', u'bey': u'abel', u'oates': u'plummer', u'dumb': u'moronic', u'providing': u'allows', u'sultry': u'marianne', u'bet': u'guarantee', u'behaviors': u'proportion', u'robocop': u'freddy', u'sp': u'surly', u'villains': u'villains', u'thwarted': u'unwilling', u'lightly': u'amuse', u'julian': u'phillip', u'villainy': u'macho', u'neel': u'helene', u'sardonic': u'dour', u'torment': u'persuade', u'keller': u'tina', u'negconfused': u'negstops', u'border': u'chicago', u'screw': u'picks', u'microphone': u'rolls', u'freud': u'strategic', u'mclaglen': u'plummer', u'tries': u'knows', u'able': u'impossible', u'negcapture': u'neglearn', u'ably': u'minelli', u'instance': u'example', u'relatives': u'partying', u'sprinkled': u'assortment', u'pivotal': u'liza', u'arn': u'veterans', u'clayburgh': u'hayward', u'bus': u'bus', u'gunned': u'sends', u'singh': u'channing', u'negtoday': u'negmust', u'hackman': u'sinatra', u'blades': u'fried', u'lectures': u'discusses', u'theatres': u'discount', u'hoodlums': u'sends', u'negconcept': u'negcomic', u'candyman': u'infamous', u'unleash': u'cockroaches', u'negtired': u'neguntil', u'homely': u'bonkers', u'parenting': u'feats', u'vengeance': u'ritual', u'connected': u'connected', u'demise': u'downward', u'achilles': u'mumbai', u'awe': u'anger', u'fisted': u'assortment', u'gallery': u'easter', u'cellphone': u'prayer', u'plumber': u'obese', u'toned': u'sink', u'consequences': u'immediate', u'undeniable': u'undeniable', u'indy': u'outings', u'sf': u'labeled', u'astonishing': u'superb', u'proceedings': u'dreamlike', u'lowered': u'contention', u'snapshot': u'exploration', u'undeniably': u'refined', u'connors': u'villainous', u'businessman': u'owner', u'affair': u'chemistry', u'emerging': u'suburbia', u'parker': u'matt', u'reprehensible': u'vile', u'kiddie': u'kiddie', u'negmentioned': u'neguntil', u'neghours': u'negmust', u'lsd': u'masks', u'dolph': u'lundgren', u'watch': u'watch', u'parked': u'gunpoint', u'kicking': u'kick', u'soldiers': u'enemies', u'tattoo': u'barking', u'negtelling': u'negcomic', u'o': u'keefe', u'envy': u'hatred', u'untimely': u'downward', u'based': u'real', u'negbought': u'negmust', u'tire': u'handing', u'earned': u'received', u'miniseries': u'showtime', u'winner': u'award', u'hopeful': u'quiet', u'wreak': u'peasants', u'rash': u'surveillance', u'employer': u'nefarious', u'negentertain': u'neglearn', u'hector': u'surly', u'dushku': u'beavers', u'arabian': u'programmer', u'suckered': u'sony', u'versatile': u'gifted', u'cameos': u'appearance', u'inherited': u'helene', u'employee': u'owner', u'employed': u'surveillance', u'interested': u'enjoy', u'mortality': u'existence', u'boris': u'boris', u'shaky': u'angle', u'negdone': u'neguntil', u'purchasing': u'online', u'crumbling': u'brokeback', u'tbs': u'showtime', u'overall': u'satisfying', u'neghuman': u'negbusiness', u'mgm': u'studios', u'flips': u'staircase', u'joint': u'tours', u'legitimate': u'boost', u'kiefer': u'plummer', u'assistants': u'sends', u'sassy': u'marianne', u'entity': u'suburbia', u'dodgy': u'jarring', u'endless': u'filler', u'gray': u'orange', u'evolution': u'solitude', u'glory': u'anniversary', u'tobacco': u'participated', u'course': u'etc', u'shopping': u'tours', u'shy': u'behaves', u'grau': u'participated', u'negbloody': u'negcomic', u'tuned': u'showtime', u'hollow': u'ignoring', u'experiments': u'professor', u'she': u'he', u'wish': u'liking', u'tasteful': u'strangeness', u'grab': u'sony', u'negsubject': u'negspace', u'graf': u'vets', u'widow': u'owner', u'spotted': u'bla', u'drago': u'crystal', u'negwriting': u'negt', u'sensuality': u'refined', u'burying': u'sends', u'problem': u'flaw', u'negcreate': u'negcomic', u'orphan': u'whose', u'thankfully': u'granted', u'canine': u'daredevil', u'operates': u'faux', u'negolder': u'negdies', u'differs': u'indicative', u'reinforce': u'proportion', u'legacy': u'easiest', u'yugoslavia': u'iraq', u'faces': u'familiar', u'desperate': u'desperate', u'overtones': u'indicative', u'humane': u'refined', u'mumbles': u'macho', u'danger': u'existence', u'empathise': u'communicate', u'negmatch': u'neglikely', u'negrelated': u'neguk', u'joys': u'immediate', u'nightmare': u'dreams', u'horribly': u'mish', u'motivations': u'characterizations', u'tend': u'appreciates', u'initially': u'started', u'state': u'nation', u'convince': u'desperate', u'supernatural': u'eerie', u'neghate': u'negwon', u'correctly': u'forgive', u'horrible': u'awful', u'tens': u'suggestions', u'flicks': u'flick', u'sabotage': u'peasants', u'outsiders': u'arabs', u'tent': u'barking', u'ken': u'nash', u'comparable': u'seminal', u'attention': u'holds', u'george': u'brent', u'negavoid': u'negsees', u'sorely': u'sorely', u'importance': u'hatred', u'neglot': u'negkind', u'buckets': u'requisite', u'court': u'weary', u'seductress': u'tina', u'limbs': u'bleed', u'seemed': u'looking', u'screamers': u'screamers', u'spared': u'lommel', u'merry': u'skinny', u'police': u'captain', u'precious': u'precious', u'mcconaughey': u'jay', u'monitor': u'oxygen', u'interpretations': u'proportion', u'defense': u'weary', u'limits': u'twilight', u'vitus': u'whose', u'olga': u'bullock', u'negappreciated': u'neguk', u'minds': u'existence', u'strains': u'dusty', u'admit': u'admit', u'succeed': u'gain', u'centres': u'concerns', u'negbeyond': u'negspace', u'jersey': u'gangs', u'torn': u'shut', u'subtitle': u'import', u'budgetary': u'increased', u'negfinding': u'negdies', u'troubles': u'risks', u'tuesday': u'showtime', u'paranormal': u'suburbia', u'bronson': u'boss', u'running': u'on', u'genre': u'flick', u'neghappened': u'negmade', u'cynicism': u'oneself', u'shemp': u'stooge', u'kings': u'programmer', u'bee': u'sexiest', u'willy': u'homer', u'quit': u'cents', u'yay': u'spongebob', u'tread': u'reservoir', u'addition': u'featured', u'discrimination': u'fascism', u'wills': u'threatening', u'negenjoyable': u'negconfusing', u'hatton': u'villainous', u'cent': u'sony', u'lyrical': u'kinetic', u'outlaws': u'brokeback', u'immense': u'undeniable', u'liberals': u'suggestions', u'slowly': u'grows', u'treat': u'experience', u'catalyst': u'aspirations', u'negchange': u'neglearn', u'poet': u'hari', u'cena': u'batista', u'troopers': u'andromeda', u'shoulders': u'belt', u'circus': u'circus', u'diversity': u'virtues', u'retrospective': u'coverage', u'league': u'circus', u'gaynor': u'diana', u'vince': u'whoopi', u'releasing': u'releasing', u'orphanage': u'carlitos', u'topless': u'nipples', u'negexplain': u'negfeeling', u'hamburg': u'programmer', u'kicks': u'kick', u'smoking': u'fried', u'enlists': u'nefarious', u'ott': u'serviceable', u'corky': u'homer', u'shameless': u'pathetically', u'novel': u'book', u'landing': u'sail', u'adores': u'helene', u'sibling': u'risks', u'fitzgerald': u'macmahon', u'harder': u'funnier', u'dorm': u'tours', u'salman': u'juhi', u'neglocal': u'negsees', u'chalk': u'conjure', u'deviant': u'increasing', u'owns': u'receives', u'mythology': u'suburbia', u'examines': u'fascism', u'unrequited': u'akbar', u'conveying': u'dignity', u'neganimation': u'neguk', u'evelyn': u'tina', u'lumley': u'villainous', u'ink': u'barking', u'inhabits': u'reversal', u'surface': u'storm', u'demi': u'whoopi', u'harassed': u'vito', u'simone': u'abel', u'examined': u'suggestions', u'swinging': u'fried', u'hearted': u'quiet', u'bucks': u'cents', u'lambs': u'lambs', u'minorities': u'arabs', u'musicals': u'silents', u'dawson': u'jay', u'goodfellas': u'bruckheimer', u'capture': u'gain', u'shooting': u'shooting', u'sensitive': u'refined', u'generic': u'unprofessional', u'pit': u'bleed', u'began': u'started', u'civilian': u'drafted', u'roman': u'arabs', u'proceeds': u'staircase', u'when': u'immediately', u'strange': u'weird', u'fido': u'emil', u'northwest': u'brokeback', u'dickens': u'tolkien', u'eclectic': u'mixes', u'party': u'dinner', u'fanatics': u'enthusiast', u'tapped': u'obese', u'flair': u'dour', u'killer': u'killers', u'http': u'petition', u'unconventional': u'unconventional', u'impeccably': u'minelli', u'rightfully': u'contention', u'absorb': u'slack', u'appearances': u'appearance', u'buzz': u'wee', u'negbelievable': u'negentertaining', u'effect': u'heart', u'nightly': u'tours', u'sooner': u'lommel', u'gestures': u'facial', u'frequently': u'unheard', u'spree': u'diagnosis', u'magician': u'derek', u'endearing': u'refined', u'keep': u'keeps', u'outcasts': u'arabs', u'paycheck': u'lommel', u'skelton': u'paired', u'ashley': u'winslet', u'reflection': u'existence', u'philo': u'mani', u'i': u'frankly', u'drags': u'sink', u'variety': u'indicative', u'well': u'perfectly', u'negknowing': u'neganyone', u'rife': u'indicative', u'drone': u'proverbial', u'tower': u'sail', u'montages': u'kinetic', u'dressed': u'dresses', u'warlord': u'drafted', u'restore': u'endure', u'underdog': u'feats', u'enormously': u'refined', u'uk': u'guide', u'edie': u'pegg', u'increasingly': u'grows', u'negdirected': u'negt', u'accurate': u'accuracy', u'sofia': u'diana', u'weekend': u'night', u'liked': u'loved', u'mistaken': u'federal', u'dose': u'dose', u'negwhose': u'negjoe', u'sources': u'sources', u'palm': u'ch', u'mistakes': u'decisions', u'distant': u'unaware', u'patsy': u'macmahon', u'savalas': u'plummer', u'advertised': u'originally', u'laurel': u'ollie', u'skill': u'skill', u'hess': u'phillip', u'femme': u'hari', u'claim': u'called', u'lures': u'sends', u'hackers': u'strategic', u'hypnotist': u'vito', u'pursues': u'nefarious', u'snicker': u'miracles', u'negfast': u'negstops', u'elephants': u'masks', u'patricia': u'mara', u'negcould': u'negthis', u'lured': u'mysteriously', u'extends': u'rendering', u'maintaining': u'dignity', u'morgue': u'sends', u'possess': u'privacy', u'warrant': u'overlook', u'homework': u'lommel', u'sonic': u'sonic', u'negneeds': u'negsees', u'fate': u'existence', u'disappearance': u'diagnosis', u'devised': u'arresting', u'aquaman': u'andromeda', u'utah': u'coast', u'crushed': u'strangled', u'propelled': u'weigh', u'formulaic': u'unrealistic', u'remade': u'scanners', u'whatever': u'whatever', u'unseen': u'spontaneously', u'immediately': u'immediately', u'crushes': u'skating', u'cloud': u'oxygen', u'prominent': u'billing', u'loss': u'express', u'lincoln': u'prophet', u'necessary': u'means', u'renegade': u'naval', u'lost': u'missing', u'sizes': u'rituals', u'exploiting': u'increasing', u'stevenson': u'macmahon', u'fernando': u'du', u'clown': u'astro', u'sized': u'astro', u'roth': u'jay', u'episodes': u'avengers', u'negsome': u'neglittle', u'martin': u'earp', u'refugees': u'arabs', u'page': u'listed', u'adversity': u'immediate', u'lends': u'dour', u'gilliam': u'haggis', u'shed': u'shed', u'gillian': u'tina', u'shea': u'casey', u'herbie': u'woodcock', u'belonged': u'informed', u'phenomena': u'suburbia', u'library': u'online', u'motive': u'ignoring', u'negsituations': u'negcomic', u'homo': u'cannibalism', u'deliverance': u'euro', u'cleveland': u'brent', u'negexcept': u'negqualities', u'home': u'after', u'liking': u'liking', u'peter': u'keefe', u'hesitant': u'regretted', u'helplessness': u'immediate', u'infectious': u'sunny', u'steaming': u'turkey', u'broad': u'humour', u'negunique': u'neguk', u'carlitos': u'carlitos', u'injects': u'reversal', u'grinding': u'weigh', u'appreciative': u'irritation', u'rewarding': u'educational', u'cradle': u'flu', u'wendy': u'whoopi', u'allegory': u'exploration', u'careless': u'weigh', u'boggles': u'grain', u'wendt': u'brent', u'fanny': u'hari', u'demonstrated': u'prevents', u'limitations': u'increased', u'pr': u'cherished', u'negas': u'negsuch', u'coated': u'weigh', u'inaccurate': u'grain', u'reaching': u'rolls', u'liberated': u'speaker', u'journal': u'ju', u'bowling': u'autopsy', u'expansion': u'fascism', u'ridley': u'coward', u'waits': u'selleck', u'poignant': u'quiet', u'eklavya': u'kusturica', u'variation': u'scanners', u'negrenting': u'neghard', u'offset': u'endearment', u'instinct': u'bounds', u'described': u'describe', u'choked': u'prayer', u'annabelle': u'rejects', u'refuge': u'residence', u'science': u'mystery', u'unhinged': u'ill', u'negprovide': u'neglearn', u'freedom': u'observe', u'sinister': u'eerie', u'recognized': u'received', u'quartet': u'abel', u'negexpect': u'negfind', u'celluloid': u'turkey', u'trials': u'interacting', u'recognizes': u'discusses', u'tongue': u'firmly', u'eloquently': u'substituted', u'stakes': u'surveillance', u'sarne': u'lommel', u'equally': u'exceptionally', u'pistols': u'autopsy', u'negplot': u'negmention', u'glenn': u'jay', u'previously': u'have', u'helsing': u'der', u'vulgarity': u'requisite', u'washington': u'y', u'negappealing': u'negconfusing', u'articulate': u'substituted', u'terence': u'phillip', u'mushrooms': u'rituals', u'negcute': u'negconfusing', u'secretive': u'arresting', u'additions': u'indicative', u'managing': u'weigh', u'pointless': u'tiresome', u'negenemy': u'negjoe', u'doubtless': u'cherished', u'mississippi': u'southern', u'accused': u'protect', u'additional': u'directly', u'francis': u'ford', u'whom': u'anna', u'veil': u'tasty', u'museum': u'coastal', u'daniels': u'selleck', u'relegated': u'billing', u'dolores': u'macmahon', u'wimp': u'rejects', u'synthesizer': u'hip', u'accountant': u'vito', u'delusions': u'suspicion', u'inner': u'existence', u'neggreater': u'negcomic', u'notices': u'sends', u'inspiration': u'interest', u'recruited': u'vito', u'negcountry': u'negspace', u'searches': u'sends', u'prophetic': u'suburbia', u'north': u'canada', u'mutiny': u'employing', u'hr': u'mins', u'polite': u'repulsed', u'blaming': u'assaulted', u'subjective': u'solondz', u'negrip': u'negt', u'neutral': u'suggestions', u'hi': u'hip', u'ho': u'na', u'courts': u'unwilling', u'wince': u'amuse', u'negwar': u'negspace', u'negwas': u'negthis', u'eat': u'cat', u'artemisia': u'misguided', u'margo': u'abel', u'verhoeven': u'masterwork', u'cells': u'mind', u'negsaying': u'negentertaining', u'signed': u'lommel', u'whoa': u'messing', u'carriage': u'shaft', u'converted': u'suggestions', u'limit': u'amuse', u'empty': u'literally', u'katherine': u'topper', u'pumped': u'backing', u'heiress': u'owner', u'piece': u'turkey', u'display': u'focus', u'urging': u'nefarious', u'mechanics': u'proportion', u'negcrazy': u'negsees', u'gulliver': u'programmer', u'persuaded': u'helene', u'redeems': u'concluding', u'reservations': u'complained', u'universal': u'frankenstein', u'beatrice': u'tina', u'kisses': u'sack', u'generating': u'slack', u'snowblood': u'snowblood', u'twist': u'unexpected', u'beats': u'messing', u'conan': u'wizard', u'erik': u'miner', u'pastiche': u'sorcery', u'kissed': u'informed', u'eric': u'jay', u'authority': u'atheist', u'balcony': u'kitchen', u'cavalry': u'brokeback', u'functions': u'increasing', u'rumors': u'evolved', u'infatuated': u'helene', u'gwynne': u'macmurray', u'ingredients': u'mixes', u'fencing': u'arts', u'offensive': u'racist', u'default': u'contention', u'onwards': u'prayer', u'guarantee': u'guarantee', u'crummy': u'unprofessional', u'meteor': u'storm', u'finch': u'plummer', u'suspiciously': u'astro', u'compete': u'gain', u'cheesiest': u'dumbest', u'giddy': u'sporadically', u'fodder': u'kiddie', u'elsa': u'tina', u'liberal': u'racist', u'sadako': u'sadako', u'ecstatic': u'solitude', u'emerges': u'reversal', u'inescapable': u'sordid', u'hurry': u'toss', u'foil': u'plummer', u'stab': u'miracles', u'additionally': u'replaced', u'nintendo': u'sonic', u'stan': u'ollie', u'mediocrity': u'stinking', u'agonizing': u'intervals', u'friends': u'partying', u'yell': u'toss', u'negpositive': u'negcomic', u'parole': u'requests', u'l': u'samuel', u'caper': u'heist', u'bishop': u'vito', u'atheist': u'atheist', u'persistent': u'persistent', u'portion': u'lasts', u'extras': u'bonus', u'elsie': u'tina', u'diagnosis': u'diagnosis', u'spouts': u'cynic', u'lives': u'abandoned', u'foreshadowing': u'dense', u'indirectly': u'unwilling', u'simpson': u'darling', u'negqualities': u'negqualities', u'aided': u'minelli', u'secondly': u'ignoring', u'todays': u'unheard', u'pardon': u'cynic', u'similarity': u'flaw', u'negr': u'negt', u'nun': u'bonkers', u'opposites': u'interacting', u'dynamic': u'dour', u'negt': u'negt', u'negu': u'negt', u'whoopi': u'whoopi', u'andre': u'dinner', u'protest': u'arabs', u'negi': u'negthis', u'fredric': u'wyler', u'asian': u'indian', u'perverted': u'behaves', u'geniuses': u'veterans', u'scheming': u'owner', u'captain': u'captain', u'negf': u'negjoe', u'negd': u'neguk', u'whose': u'whose', u'fronts': u'inconsistency', u'gamut': u'gunfight', u'buddy': u'boss', u'marcos': u'sends', u'tremors': u'xtro', u'segments': u'periods', u'disability': u'risks', u'negknew': u'negmade', u'bimbos': u'lads', u'steadily': u'distracts', u'presents': u'presented', u'swat': u'missions', u'exploding': u'autopsy', u'kidman': u'hannah', u'trousers': u'barking', u'teaching': u'reform', u'sorry': u'guessing', u'sway': u'privacy', u'madsen': u'dudikoff', u'neginclude': u'neglearn', u'updated': u'scanners', u'saves': u'calls', u'cruising': u'coastal', u'rescue': u'rob', u'bigfoot': u'euro', u'void': u'bounds', u'dutch': u'irish', u'misunderstanding': u'feats', u'jets': u'helicopters', u'smack': u'toss', u'georgia': u'coastal', u'elisabeth': u'mara', u'peripheral': u'characterizations', u'formula': u'pixar', u'overcomes': u'persistent', u'affect': u'existence', u'negcomputer': u'negcomic', u'dynasty': u'bagdad', u'negloses': u'negstops', u'courageous': u'fascism', u'vast': u'unheard', u'raging': u'autopsy', u'negbroken': u'negsees', u'risible': u'unimpressive', u'negeveryone': u'negeasy', u'dern': u'mara', u'skills': u'skill', u'graced': u'mani', u'companies': u'suggestions', u'solution': u'denouement', u'carrie': u'mara', u'herbert': u'nash', u'negrecommend': u'neghard', u'convenience': u'robber', u'unrelated': u'periods', u'enhance': u'kinetic', u'zenda': u'bagdad', u'deplorable': u'unimpressive', u'heading': u'residence', u'falco': u'macmahon', u'clothes': u'dresses', u'farmhouse': u'mysteriously', u'fenech': u'bullock', u'force': u'captain', u'warns': u'sends', u'rodman': u'jay', u'japanese': u'indian', u'commandos': u'missions', u'likely': u'importantly', u'negdog': u'negsees', u'janice': u'woodward', u'cesar': u'wyler', u'colourful': u'exotic', u'monster': u'alien', u'even': u'because', u'neo': u'unconventional', u'spouses': u'parent', u'histrionics': u'ham', u'pace': u'moving', u'complexities': u'expressed', u'neg': u'negthis', u'chin': u'proverbial', u'prostitutes': u'rituals', u'orchestra': u'ballet', u'bikini': u'nipples', u'asia': u'rome', u'steiner': u'minelli', u'finely': u'solidly', u'hefty': u'backing', u'fetish': u'severed', u'net': u'petition', u'maverick': u'darling', u'negonce': u'neguntil', u'relationships': u'chemistry', u'niche': u'ploy', u'screams': u'sack', u'minnelli': u'liza', u'kisna': u'gal', u'never': u'negagain', u'disposable': u'pathetically', u'weirdly': u'daytime', u'negguilty': u'negsees', u'anticlimactic': u'telegraphed', u'met': u'shortly', u'porno': u'strictly', u'nanny': u'eve', u'paquin': u'tina', u'cardboard': u'characterizations', u'interpret': u'truthfully', u'dry': u'humour', u'luther': u'nash', u'paco': u'channing', u'oozes': u'dour', u'tapes': u'online', u'suitably': u'serviceable', u'rests': u'solitude', u'richter': u'macho', u'pressure': u'oneself', u'vulnerability': u'dignity', u'piercing': u'faux', u'ignoring': u'ignoring', u'negmy': u'negthis', u'taped': u'originally', u'omar': u'durante', u'cindy': u'anna', u'complicated': u'grows', u'adopting': u'faced', u'suitable': u'reckon', u'adolescents': u'ploy', u'intrigue': u'mixes', u'astute': u'substituted', u'joshua': u'miner', u'wikipedia': u'petition', u'whatnot': u'sporadically', u'negmen': u'negbusiness', u'digitally': u'mastered', u'besides': u'flaw', u'campaign': u'nation', u'elaborated': u'reckon', u'reagan': u'prophet', u'latifah': u'sexiest', u'objectively': u'appreciates', u'county': u'subway', u'ninety': u'span', u'moral': u'attitude', u'guests': u'dinner', u'drowned': u'prayer', u'welch': u'werner', u'gorillas': u'skinny', u'counts': u'easiest', u'landscape': u'lit', u'comprised': u'veterans', u'scarred': u'unaware', u'reflected': u'arrangement', u'army': u'vets', u'arms': u'belt', u'edward': u'nash', u'call': u'be', u'calm': u'spelled', u'recommend': u'recommend', u'robertson': u'phillip', u'type': u'kind', u'tell': u'line', u'neghave': u'negfind', u'peeping': u'daredevil', u'lungs': u'whispering', u'wary': u'geared', u'oscar': u'award', u'expose': u'heinous', u'under': u'secrets', u'absurdly': u'unimpressive', u'warp': u'oxygen', u'warn': u'contain', u'dogma': u'kusturica', u'berlin': u'ch', u'warm': u'quiet', u'frenzy': u'faux', u'dogme': u'outings', u'negsomething': u'neganyone', u'eternally': u'paired', u'ward': u'macmurray', u'shahid': u'juhi', u'kumar': u'bachchan', u'flora': u'tina', u'waterfront': u'ch', u'carnival': u'tours', u'rights': u'nation', u'setup': u'concluding', u'cousins': u'partying', u'somber': u'elegance', u'reads': u'ju', u'roof': u'floor', u'worth': u'seeing', u'movies': u'flick', u'suggestive': u'dreamlike', u'exploitative': u'detracts', u'guise': u'increasing', u'akin': u'detracts', u'root': u'lovable', u'negugly': u'negsees', u'give': u'give', u'heroines': u'veterans', u'climax': u'confrontation', u'negpaul': u'negjoe', u'laughs': u'dose', u'negscreen': u'negstops', u'involve': u'intent', u'caused': u'gift', u'degenerate': u'rituals', u'numbingly': u'pathetically', u'cushing': u'reeve', u'advancing': u'mumbai', u'unforgettable': u'stunning', u'aging': u'misguided', u'negfalling': u'negsees', u'titular': u'reversal', u'generals': u'vets', u'negstyle': u'negcomic', u'stills': u'easter', u'faults': u'faults', u'amazing': u'superb', u'nuff': u'remarked', u'kilmer': u'durante', u'edgy': u'shakespearean', u'answer': u'questions', u'faulty': u'surveillance', u'negproblem': u'negqualities', u'massive': u'controls', u'chauffeur': u'vito', u'becky': u'affections', u'minority': u'enthusiast', u'believers': u'proportion', u'summary': u'text', u'loyalty': u'hatred', u'overuse': u'jarring', u'preceded': u'directly', u'egos': u'proportion', u'coup': u'iraq', u'curiosity': u'expectation', u'misfit': u'miner', u'president': u'federal', u'summarize': u'sucked', u'lesbian': u'behaves', u'shirt': u'belt', u'purchase': u'online', u'execrable': u'contention', u'attempt': u'insult', u'janis': u'abel', u'descends': u'throws', u'sliced': u'bleed', u'capitalism': u'fascism', u'janie': u'rejects', u'maintain': u'gain', u'hasselhoff': u'phillip', u'goodbye': u'tombstone', u'first': u'second', u'negco': u'negjoe', u'nicola': u'arrangement', u'operations': u'drafted', u'tribulations': u'aspirations', u'deco': u'exotic', u'fetus': u'severed', u'chunk': u'oxygen', u'deck': u'kitchen', u'murray': u'jay', u'helena': u'helena', u'mumbo': u'sporadically', u'ghastly': u'unimpressive', u'negbecame': u'negmust', u'fable': u'exploration', u'kong': u'kong', u'saving': u'ryan', u'budding': u'akbar', u'survives': u'calls', u'before': u'hasn', u'invents': u'threatening', u'lobby': u'kitchen', u'furlong': u'knox', u'unknowingly': u'sends', u'fireplace': u'barking', u'fleeing': u'mysteriously', u'irani': u'serviceable', u'crew': u'players', u'plantation': u'owner', u'differently': u'belong', u'enlisted': u'drafted', u'personas': u'aspirations', u'negget': u'negfind', u'weeks': u'months', u'schmidt': u'woodward', u'overcome': u'gain', u'anil': u'bachchan', u'ghouls': u'masks', u'combination': u'combined', u'fixation': u'schizophrenia', u'weakness': u'fundamental', u'unemployed': u'whose', u'objects': u'circular', u'bewildered': u'rejects', u'therapy': u'mocked', u'rhymes': u'proverbial', u'negearth': u'negfeeling', u'indulge': u'endure', u'downright': u'moronic', u'major': u'major', u'astor': u'mara', u'rory': u'casey', u'rhetoric': u'increasing', u'soylent': u'orange', u'grammar': u'grammar', u'neganyone': u'neganyone', u'chandler': u'knox', u'negfrom': u'neglittle', u'negpresence': u'negcomic', u'sleepless': u'zu', u'arrested': u'protect', u'lucy': u'woodcock', u'droll': u'dour', u'flees': u'sends', u'roast': u'skating', u'wage': u'peasants', u'hadn': u'hasn', u'went': u'gone', u'rosemary': u'infamous', u'side': u'spite', u'bone': u'seats', u'unsure': u'geared', u'pyun': u'reservoir', u'improvise': u'lommel', u'calmly': u'whispering', u'pumpkinhead': u'terminator', u'enthusiasts': u'enthusiast', u'casper': u'der', u'spanish': u'irish', u'principles': u'aspirations', u'marital': u'persistent', u'taught': u'learned', u'trading': u'naval', u'stealing': u'rob', u'navy': u'naval', u'lawyers': u'peasants', u'dawn': u'lambs', u'collector': u'releasing', u'comedies': u'categories', u'fatty': u'obese', u'haircut': u'proverbial', u'disjointed': u'plodding', u'velvet': u'orange', u'typecast': u'billing', u'videotape': u'releasing', u'restricted': u'ploy', u'tales': u'tale', u'negnow': u'negmust', u'lurks': u'spontaneously', u'revolting': u'vile', u'content': u'extreme', u'sparkle': u'marianne', u'melody': u'sunny', u'negnon': u'neguk', u'reader': u'digest', u'surprise': u'unexpected', u'corman': u'corman', u'sluggish': u'monotonous', u'kibbee': u'knox', u'grease': u'rodgers', u'rehearsed': u'unimpressive', u'linear': u'narrative', u'cutest': u'dumbest', u'resume': u'received', u'cutesy': u'sporadically', u'fave': u'zu', u'revenge': u'killed', u'ramon': u'macmahon', u'beatty': u'becker', u'negluck': u'negqualities', u'struggle': u'working', u'everyman': u'sullen', u'jackman': u'plummer', u'mistress': u'helene', u'harriet': u'anna', u'greasy': u'proverbial', u'negopportunity': u'negsees', u'shaggy': u'shaggy', u'starts': u'gone', u'cosmic': u'suburbia', u'negprice': u'negt', u'punctuated': u'assortment', u'negfollow': u'neglearn', u'leila': u'tasty', u'ish': u'hip', u'vincenzo': u'biopic', u'signature': u'rodgers', u'uses': u'added', u'hannibal': u'surly', u'inbred': u'monkeys', u'stewart': u'jimmy', u'andie': u'pegg', u'enraged': u'rapist', u'wronged': u'emil', u'vittorio': u'supplied', u'features': u'featured', u'charmer': u'sullen', u'chew': u'banana', u'grade': u'grade', u'neghear': u'negwon', u'negdeliver': u'neglearn', u'negfeel': u'negfind', u'hoot': u'serviceable', u'executions': u'mumbai', u'hook': u'belial', u'featured': u'featured', u'warped': u'fireflies', u'grady': u'homer', u'disappearing': u'spontaneously', u'parodying': u'reservoir', u'banderas': u'banderas', u'immensely': u'thoroughly', u'ditch': u'broke', u'sematary': u'severed', u'masterfully': u'expertly', u'hood': u'adventures', u'nastiness': u'requisite', u'brock': u'dillinger', u'goblins': u'masks', u'gyllenhaal': u'durante', u'hawks': u'haggis', u'recruiting': u'drafted', u'twisted': u'eerie', u'interlude': u'schizophrenia', u'twenties': u'peak', u'witnessing': u'downward', u'burgess': u'nash', u'gandolfini': u'jimmy', u'hollywood': u'studios', u'twister': u'zu', u'hawke': u'whoopi', u'negintended': u'negreason', u'negmarket': u'negsees', u'horrendously': u'unprofessional', u'alfred': u'mani', u'dramatized': u'dense', u'bouncing': u'fried', u'gym': u'grammar', u'villages': u'mumbai', u'negpolitics': u'negjoe', u'misleading': u'text', u'trippy': u'detracts', u'digs': u'rapist', u'negparticularly': u'negentertaining', u'godawful': u'unprofessional', u'stoic': u'billing', u'cement': u'gunpoint', u'helen': u'mrs', u'hellgate': u'lake', u'negrussian': u'negjoe', u'requisite': u'requisite', u'peculiar': u'elegance', u'begins': u'became', u'negreturn': u'neglearn', u'neglooking': u'negconfusing', u'neggonna': u'neghard', u'bits': u'puns', u'mattei': u'outings', u'older': u'older', u'bitterness': u'sordid', u'spending': u'precious', u'exorcism': u'schizophrenia', u'matter': u'importantly', u'solomon': u'prophet', u'fabulous': u'great', u'silly': u'kinda', u'mermaid': u'bambi', u'deserving': u'received', u'hottie': u'beavers', u'knights': u'employing', u'hallucination': u'schizophrenia', u'bloodshed': u'requisite', u'achieved': u'vision', u'cruella': u'bullock', u'mini': u'cable', u'schindler': u'achievements', u'sees': u'calls', u'palace': u'brokeback', u'bare': u'nipples', u'schildkraut': u'plummer', u'modern': u'day', u'caleb': u'emil', u'mine': u'favorites', u'ginger': u'rogers', u'ming': u'circus', u'guillotine': u'mysteriously', u'seed': u'cockroaches', u'telly': u'darling', u'seen': u'reached', u'seem': u'appeared', u'mins': u'mins', u'seek': u'quest', u'tells': u'line', u'abroad': u'symbol', u'horde': u'cockroaches', u'alibi': u'emil', u'biographies': u'citizen', u'timberlake': u'paired', u'synopsis': u'text', u'negcontrived': u'negcomic', u'chest': u'belt', u'edge': u'seats', u'niece': u'grandma', u'musketeers': u'bagdad', u'sleeper': u'damned', u'hoods': u'crooks', u'panties': u'nipples', u'unfair': u'justified', u'negwritten': u'negconfusing', u'negdepth': u'neglogic', u'negwitness': u'negsees', u'forgiven': u'forgive', u'caricatures': u'characterizations', u'starved': u'bonkers', u'wrists': u'whispering', u'psychologically': u'ill', u'negtony': u'negsees', u'rappers': u'reservoir', u'neghad': u'negmade', u'overplayed': u'serviceable', u'panel': u'oxygen', u'mario': u'infamous', u'regular': u'prime', u'sidewalk': u'barking', u'pleasence': u'plummer', u'meaning': u'express', u'marie': u'hari', u'neghas': u'neglittle', u'inconsistency': u'inconsistency', u'maria': u'anna', u'zealand': u'gangs', u'padding': u'filler', u'don': u'shouldn', u'doo': u'shaggy', u'dom': u'lancaster', u'doc': u'jay', u'medical': u'reform', u'negromantic': u'neguk', u'dog': u'cat', u'breathes': u'reversal', u'doe': u'malkovich', u'competitors': u'employing', u'definitely': u'seeing', u'principle': u'prevents', u'hamming': u'paired', u'yankees': u'attendance', u'mildred': u'diana', u'annoyed': u'cheated', u'urgency': u'undeniable', u'kristen': u'tina', u'negindependent': u'negjoe', u'beaten': u'chased', u'lyrics': u'catchy', u'hunger': u'fascism', u'rapture': u'atheist', u'visitor': u'audition', u'negunited': u'negjoe', u'retire': u'requests', u'brilliance': u'undeniable', u'ending': u'unexpected', u'kruger': u'homer', u'implying': u'ranting', u'liza': u'liza', u'alvin': u'rejects', u'supplied': u'supplied', u'negsuitable': u'neguk', u'sneaking': u'skating', u'negleague': u'neglikely', u'nevada': u'subway', u'thirds': u'lasts', u'marvelously': u'expertly', u'keach': u'tina', u'judges': u'suggestions', u'inappropriate': u'melodramatic', u'unleashes': u'rapist', u'stroll': u'gunpoint', u'photographic': u'kinetic', u'explain': u'irritated', u'debts': u'inheritance', u'sugar': u'banana', u'unleashed': u'cockroaches', u'judged': u'easiest', u'stabbing': u'severed', u'negspecific': u'negcomic', u'folks': u'these', u'negweek': u'negmust', u'gangsta': u'mock', u'boyfriend': u'friend', u'jailed': u'drafted', u'wearing': u'dresses', u'monica': u'hannah', u'above': u'beyond', u'colorful': u'exotic', u'smut': u'detracts', u'stop': u'stop', u'perceive': u'proportion', u'clothed': u'tasty', u'coast': u'coast', u'negcgi': u'negcomic', u'negtaking': u'negsees', u'christopher': u'reeve', u'smug': u'lovable', u'iceberg': u'faux', u'reviewed': u'stating', u'galore': u'requisite', u'earl': u'jimmy', u'bat': u'astro', u'chronological': u'strategic', u'bar': u'literally', u'negmade': u'negmade', u'compulsive': u'sullen', u'negsurprise': u'negqualities', u'fields': u'y', u'bay': u'releasing', u'crusty': u'villainous', u'bag': u'kick', u'bad': u'awful', u'discs': u'discount', u'luxurious': u'coastal', u'seeks': u'nefarious', u'rival': u'derek', u'ban': u'suggestions', u'negflat': u'negcomic', u'bam': u'distracts', u'earp': u'earp', u'gotta': u'lets', u'bai': u'marianne', u'headed': u'loser', u'ethical': u'virtues', u'winslet': u'winslet', u'unworthy': u'prose', u'reference': u'referred', u'impotent': u'sullen', u'imitate': u'recreate', u'fluffy': u'detracts', u'testing': u'cylon', u'reefer': u'suburbia', u'light': u'light', u'boyfriends': u'partying', u'negeverything': u'negfeeling', u'australia': u'rome', u'allure': u'marianne', u'poltergeist': u'poltergeist', u'suited': u'appropriate', u'viewings': u'lasts', u'armageddon': u'zu', u'negup': u'neghis', u'subject': u'educational', u'brazil': u'seven', u'snuff': u'reeks', u'said': u'admit', u'duff': u'macmahon', u'narrated': u'bagdad', u'sorta': u'faults', u'scrap': u'bla', u'sail': u'sail', u'ventura': u'darling', u'artificial': u'sketchy', u'prince': u'bambi', u'smacks': u'dense', u'protected': u'drafted', u'pets': u'peasants', u'simplest': u'proportion', u'negyounger': u'negsees', u'sorts': u'teenagers', u'tolerance': u'oneself', u'lethargic': u'sketchy', u'gems': u'outings', u'lazy': u'unrealistic', u'omg': u'listened', u'wears': u'dresses', u'vows': u'nefarious', u'dumber': u'spongebob', u'ignorance': u'atheist', u'weary': u'weary', u'vernon': u'phillip', u'harvard': u'miner', u'cousin': u'grandma', u'picking': u'picks', u'witty': u'witty', u'meaningful': u'fundamental', u'dumbed': u'sink', u'suggested': u'suggests', u'horsemen': u'tiny', u'genocide': u'organizations', u'beck': u'villainous', u'janitor': u'vito', u'shooter': u'barking', u'eyeball': u'severed', u'against': u'enemies', u'russia': u'iraq', u'negunderstood': u'neguntil', u'una': u'phillip', u'negvampire': u'negsees', u'negcareer': u'negdies', u'distinction': u'flavour', u'contribution': u'achievements', u'negcomments': u'negsees', u'confronted': u'assaulted', u'enzo': u'releasing', u'eyed': u'model', u'presumably': u'schizophrenia', u'gwen': u'anna', u'exemplary': u'minelli', u'appeared': u'appeared', u'cemetery': u'lake', u'humility': u'oneself', u'durante': u'durante', u'likeable': u'likeable', u'offerings': u'outings', u'awesomely': u'sorcery', u'quinn': u'jay', u'aftermath': u'enemies', u'loaded': u'controls', u'humanoid': u'cockroaches', u'negstand': u'neglearn', u'san': u'ch', u'mathieu': u'persistent', u'proceeded': u'proceeded', u'nicer': u'repulsed', u'asks': u'receives', u'basis': u'focus', u'uncovers': u'sends', u'mythological': u'suburbia', u'three': u'seven', u'tiny': u'tiny', u'milieu': u'virtues', u'varma': u'contention', u'commission': u'participated', u'reservation': u'cynic', u'recognised': u'footnote', u'tina': u'tina', u'basic': u'unusual', u'basil': u'macmahon', u'entered': u'shortly', u'lovely': u'charming', u'preston': u'casey', u'idol': u'prophet', u'threw': u'wee', u'website': u'listed', u'loosely': u'real', u'negcreating': u'negspace', u'deeper': u'grows', u'chun': u'arts', u'dismiss': u'labeled', u'sooooo': u'sucked', u'locations': u'elaborate', u'decrepit': u'battered', u'negnatural': u'negcomic', u'tapping': u'charts', u'alley': u'blast', u'personally': u'frankly', u'aviation': u'strategic', u'regretted': u'regretted', u'censored': u'import', u'lionel': u'topper', u'harshness': u'strangeness', u'unpopular': u'suggestions', u'sheridan': u'hayward', u'tank': u'shooting', u'sly': u'macho', u'negincredibly': u'neguk', u'remakes': u'outings', u'tang': u'villainous', u'hideously': u'unimpressive', u'neal': u'keefe', u'say': u'admit', u'spontaneously': u'spontaneously', u'ugly': u'model', u'lizard': u'masks', u'melted': u'prayer', u'neat': u'eerie', u'tanz': u'arresting', u'wildest': u'privacy', u'adele': u'affections', u'balance': u'humour', u'anchor': u'releasing', u'chilling': u'eerie', u'buried': u'ritual', u'pessimistic': u'prevents', u'grindhouse': u'euro', u'negsong': u'neguk', u'negstretch': u'neglikely', u'metropolitan': u'isle', u'mexico': u'chicago', u'iq': u'expectation', u'carlson': u'villainous', u'is': u'is', u'je': u'university', u'complaint': u'flaw', u'defeated': u'threatening', u'iv': u'entry', u'ii': u'hills', u'shame': u'skill', u'cant': u'listened', u'marco': u'wyler', u'im': u'am', u'cans': u'banana', u'neggiven': u'negfeeling', u'faked': u'ranting', u'sanitized': u'strategic', u'seattle': u'ch', u'mouse': u'cartoon', u'id': u'petition', u'disappear': u'shed', u'if': u'might', u'grown': u'grew', u'wongo': u'wongo', u'bottles': u'gunpoint', u'stein': u'casey', u'belle': u'hari', u'realizing': u'understands', u'negcome': u'negadd', u'debuted': u'originally', u'roland': u'phillip', u'belly': u'belt', u'unfortunate': u'presented', u'filtered': u'renders', u'colonies': u'cylon', u'confronting': u'persistent', u'grows': u'grows', u'bells': u'charts', u'evolve': u'proportion', u'bearded': u'miner', u'unlimited': u'surveillance', u'ella': u'tina', u'stressed': u'emil', u'dillinger': u'dillinger', u'delight': u'stunning', u'renaissance': u'coverage', u'negtouch': u'negsees', u'manchu': u'arts', u'kin': u'suburbia', u'kim': u'duk', u'negcount': u'negsees', u'jealous': u'helene', u'overt': u'indicative', u'overs': u'voice', u'aka': u'infamous', u'thoughts': u'express', u'kid': u'dude', u'butter': u'bleed', u'negforgotten': u'neguntil', u'rossi': u'casey', u'romp': u'sorcery', u'programs': u'suggestions', u'settled': u'evolved', u'fashionable': u'cynic', u'smokes': u'skinny', u'jeanette': u'casey', u'inherit': u'carlitos', u'romy': u'hayward', u'practices': u'observe', u'tombstone': u'tombstone', u'reese': u'mara', u'pandora': u'flu', u'anchorman': u'shore', u'claims': u'called', u'flops': u'flu', u'yours': u'ur', u'mitchum': u'altman', u'entangled': u'reversal', u'slutty': u'bonkers', u'consciousness': u'existence', u'yen': u'arts', u'yea': u'replied', u'mcgovern': u'channing', u'negputting': u'negsees', u'negbuy': u'neghard', u'neghouse': u'negsees', u'hillbilly': u'skinny', u'aside': u'faults', u'assigned': u'weary', u'fighters': u'missions', u'identify': u'communicate', u'etting': u'diana', u'human': u'nature', u'anders': u'plummer', u'facts': u'information', u'yep': u'freaking', u'yes': u'oh', u'instructed': u'unwilling', u'tattooed': u'sends', u'yet': u'because', u'impending': u'destroy', u'nicolas': u'brent', u'negdifference': u'negqualities', u'awaken': u'destroy', u'candidate': u'belongs', u'infinitely': u'footnote', u'solondz': u'solondz', u'tagline': u'remarked', u'regarded': u'banned', u'assassination': u'heinous', u'character': u'protagonist', u'intends': u'requests', u'jules': u'bagdad', u'jefferson': u'dillinger', u'affinity': u'persistent', u'expecting': u'expect', u'contestant': u'bla', u'moody': u'kinetic', u'negsystem': u'negjoe', u'take': u'taking', u'egan': u'plummer', u'negplan': u'negsees', u'negdisney': u'neguk', u'pulp': u'mystery', u'ops': u'missions', u'sailors': u'employing', u'rathbone': u'macmahon', u'neglose': u'neglearn', u'negflaws': u'negcomic', u'mahoney': u'villainous', u'perfunctory': u'unimpressive', u'interior': u'lit', u'margheriti': u'bruckheimer', u'negseries': u'negt', u'julia': u'hannah', u'background': u'theme', u'destroy': u'destroy', u'neglost': u'negstops', u'borgnine': u'plummer', u'dreams': u'dreams', u'vanity': u'suspicion', u'shoulder': u'belt', u'dignity': u'dignity', u'mayer': u'laurence', u'patience': u'strings', u'nude': u'nipples', u'masterson': u'macmahon', u'negat': u'neginto', u'unnecessary': u'tiresome', u'darn': u'alright', u'disillusioned': u'discusses', u'negam': u'negmust', u'zombies': u'dinosaurs', u'confront': u'destroy', u'notorious': u'infamous', u'interestingly': u'solidly', u'unexplored': u'mumbai', u'www': u'petition', u'theorists': u'suggestions', u'deal': u'deals', u'negexcitement': u'neglogic', u'neggreatest': u'neglikely', u'romantically': u'sullen', u'deaf': u'behaves', u'grodin': u'plummer', u'elderly': u'whose', u'wwe': u'batista', u'revel': u'ranting', u'wwf': u'batista', u'negnudity': u'negreason', u'whichever': u'slack', u'gypo': u'channing', u'dear': u'oh', u'amiable': u'villainous', u'neganime': u'negt', u'translates': u'substituted', u'wwi': u'iraq', u'exists': u'lived', u'policies': u'organizations', u'shapes': u'renders', u'dense': u'dense', u'tracked': u'broke', u'investigations': u'heinous', u'daytime': u'daytime', u'arguing': u'mock', u'shakespeare': u'tolkien', u'negdecide': u'negsees', u'provoking': u'intelligent', u'meaty': u'billing', u'traci': u'beavers', u'meanings': u'proportion', u'bold': u'unconventional', u'negdated': u'negconfusing', u'plot': u'devices', u'negeither': u'neginto', u'spewing': u'bleed', u'burn': u'seats', u'blackmail': u'heinous', u'winona': u'hannah', u'squeamish': u'strictly', u'promos': u'originally', u'protagonist': u'protagonist', u'confrontation': u'confrontation', u'negexistence': u'negjoe', u'burr': u'macmahon', u'keeper': u'maiden', u'bury': u'miracles', u'highway': u'lake', u'yelling': u'split', u'rhys': u'malkovich', u'conceal': u'recreate', u'priyanka': u'juhi', u'drafted': u'drafted', u'negepisodes': u'negt', u'beta': u'flu', u'blanks': u'cabinet', u'corbucci': u'sukiyaki', u'barrage': u'sporadically', u'faust': u'sorcery', u'afternoon': u'evenings', u'islands': u'brokeback', u'marshal': u'dillinger', u'automatically': u'amuse', u'nerve': u'ritual', u'prisons': u'organizations', u'indians': u'african', u'whats': u'wow', u'lied': u'clue', u'accompanied': u'catchy', u'negbaby': u'negsees', u'macmahon': u'macmahon', u'sergio': u'sukiyaki', u'chimp': u'sack', u'intellectual': u'exploration', u'negative': u'read', u'down': u'past', u'complaints': u'complained', u'negdescribe': u'negcomic', u'narration': u'voice', u'amsterdam': u'ch', u'refined': u'refined', u'frightened': u'frightened', u'murderers': u'victims', u'lohan': u'lohan', u'communists': u'enemies', u'annoyance': u'irritation', u'negwhat': u'neganyone', u'reliance': u'rendering', u'amazingly': u'exceptionally', u'gerry': u'shore', u'tennis': u'skinny', u'chevalier': u'wyler', u'negplaying': u'negdies', u'winters': u'mara', u'lampoon': u'avengers', u'noting': u'mentioning', u'editor': u'screenwriter', u'fraction': u'discount', u'stalk': u'staircase', u'factions': u'mumbai', u'lurid': u'strangeness', u'fork': u'miracles', u'bert': u'phillip', u'lowe': u'nash', u'farina': u'jay', u'form': u'kind', u'batman': u'adventures', u'fireworks': u'conjure', u'cuban': u'iraq', u'fore': u'rendering', u'undress': u'rituals', u'feminine': u'behaves', u'powerfully': u'solidly', u'penned': u'bagdad', u'lows': u'slack', u'granger': u'knox', u'blindness': u'assaulted', u'screenings': u'discount', u'surrender': u'privacy', u'atrocities': u'enemies', u'sent': u'sent', u'fort': u'coastal', u'mouthed': u'loser', u'builds': u'grows', u'traits': u'expressed', u'assessment': u'cynic', u'lenny': u'spelled', u'attached': u'kick', u'bounds': u'bounds', u'montage': u'directly', u'economic': u'fascism', u'gould': u'phillip', u'pathetically': u'pathetically', u'horrifying': u'surprising', u'dare': u'mill', u'propaganda': u'nation', u'breathe': u'strings', u'midgets': u'masks', u'shin': u'affections', u'sticks': u'belt', u'negworse': u'negfeeling', u'negpost': u'neguk', u'covert': u'drafted', u'shia': u'durante', u'covers': u'text', u'sticky': u'handing', u'wonderland': u'accurately', u'negeasy': u'negeasy', u'bogart': u'derek', u'fashioned': u'fashioned', u'negworst': u'negkind', u'mediocre': u'awful', u'performing': u'dancers', u'marking': u'attendance', u'marxist': u'atheist', u'aunts': u'carlitos', u'agreeing': u'lommel', u'excel': u'ploy', u'handed': u'heavy', u'negmeant': u'negeasy', u'groundbreaking': u'seminal', u'escapism': u'unconventional', u'warehouse': u'controls', u'holly': u'anna', u'negneeded': u'negfeeling', u'weir': u'masterwork', u'negvan': u'negsees', u'sling': u'schizophrenia', u'savage': u'threatening', u'dies': u'calls', u'butchered': u'directly', u'diet': u'banana', u'phony': u'decently', u'sensuous': u'marianne', u'outback': u'dusty', u'journey': u'grows', u'dien': u'der', u'reign': u'evolved', u'authorities': u'heinous', u'moreover': u'prevents', u'hoskins': u'plummer', u'russo': u'nash', u'died': u'shortly', u'jones': u'jimmy', u'happening': u'hell', u'apology': u'indication', u'potato': u'skinny', u'assume': u'admit', u'salt': u'oxygen', u'pseudo': u'detracts', u'daily': u'existence', u'neggoes': u'negstops', u'jacket': u'belt', u'gorilla': u'astro', u'stripping': u'tasty', u'negcharlie': u'negsees', u'spouting': u'proverbial', u'negdoing': u'neganyone', u'dust': u'oxygen', u'negtears': u'negsees', u'restored': u'mastered', u'overdue': u'ncis', u'shop': u'mart', u'customary': u'arresting', u'rating': u'zero', u'skip': u'unless', u'relieve': u'unwilling', u'souls': u'existence', u'invent': u'endure', u'themes': u'deals', u'manager': u'vito', u'mile': u'blast', u'completists': u'enthusiast', u'frail': u'sullen', u'milius': u'coward', u'milo': u'dillinger', u'mill': u'mill', u'commentaries': u'mastered', u'targeted': u'targeted', u'milk': u'banana', u'resourceful': u'sullen', u'hijacked': u'sail', u'anticipation': u'wee', u'praises': u'ur', u'flaherty': u'wyler', u'balloons': u'bleed', u'fancies': u'emil', u'technique': u'angle', u'father': u'son', u'disgusting': u'vile', u'romasanta': u'battered', u'spotlight': u'walt', u'amaze': u'amuse', u'finally': u'waiting', u'unpleasant': u'surprising', u'marks': u'scale', u'suffered': u'gift', u'daryl': u'jay', u'polish': u'irish', u'timon': u'voice', u'abundance': u'requisite', u'string': u'heist', u'jezebel': u'diana', u'penniless': u'channing', u'billionaire': u'emil', u'innovation': u'flavour', u'ineptness': u'pathetically', u'backdrops': u'exotic', u'hutch': u'shore', u'negadaptation': u'neguk', u'defying': u'faux', u'uneventful': u'plodding', u'advised': u'lommel', u'join': u'disgruntled', u'negrun': u'negmust', u'anne': u'anna', u'negtold': u'negfeeling', u'governments': u'organizations', u'dil': u'rodgers', u'dim': u'dim', u'din': u'solitude', u'err': u'masks', u'did': u'hell', u'apartheid': u'arabs', u'macdowell': u'tina', u'dizzy': u'proverbial', u'accidentally': u'killed', u'specials': u'showtime', u'negrather': u'negjoe', u'excellence': u'prose', u'turgid': u'unimpressive', u'section': u'text', u'round': u'on', u'dir': u'coward', u'dis': u'ranting', u'shave': u'belt', u'cgi': u'cgi', u'olympic': u'batista', u'unexpected': u'unexpected', u'villa': u'coastal', u'dealing': u'deals', u'okay': u'alright', u'inconsequential': u'sketchy', u'refusing': u'inheritance', u'negcry': u'neglearn', u'mk': u'sonic', u'scarce': u'indicative', u'eating': u'cat', u'sordid': u'sordid', u'stealer': u'liza', u'majors': u'plummer', u'afghanistan': u'iraq', u'wondering': u'hell', u'demille': u'peak', u'troops': u'vets', u'richer': u'repulsed', u'norris': u'wesley', u'heres': u'listened', u'favour': u'favour', u'neglate': u'negmust', u'suspect': u'suspects', u'template': u'prose', u'neggenre': u'neguk', u'international': u'festivals', u'filled': u'assortment', u'palmer': u'macmahon', u'transportation': u'tours', u'negviolent': u'negconfusing', u'bandwagon': u'flu', u'fend': u'peasants', u'bloke': u'astro', u'guardian': u'helene', u'clerk': u'robber', u'mr': u'todd', u'stallion': u'schizophrenia', u'french': u'irish', u'travolta': u'malkovich', u'slow': u'moving', u'deceit': u'sordid', u'earthquake': u'spontaneously', u'wait': u'waiting', u'box': u'released', u'boy': u'dude', u'troma': u'reeks', u'cuckoo': u'bla', u'maguire': u'plummer', u'institute': u'drafted', u'shift': u'distracts', u'jungles': u'brokeback', u'bow': u'barking', u'exploitation': u'giallo', u'exemplifies': u'kusturica', u'diagnosed': u'informed', u'suggestion': u'expectation', u'boo': u'freaking', u'priceless': u'woodcock', u'conveniently': u'staircase', u'unfortunately': u'granted', u'genuinely': u'eerie', u'teenage': u'camp', u'fenn': u'whoopi', u'useful': u'amuse', u'merely': u'whether', u'neglatter': u'negjoe', u'infernal': u'kusturica', u'cared': u'understood', u'quibble': u'flaw', u'contradictions': u'virtues', u'frankly': u'frankly', u'verge': u'proceeded', u'ailing': u'owner', u'taboo': u'indicative', u'transplant': u'rapist', u'sweating': u'whispering', u'wealth': u'aspirations', u'sake': u'sake', u'joyous': u'sunny', u'dude': u'dude', u'france': u'rome', u'scenarios': u'telegraphed', u'insider': u'flavour', u'colonel': u'weary', u'negtrain': u'negsees', u'duds': u'outings', u'thru': u'sony', u'negbattle': u'negjoe', u'sharing': u'interacting', u'technically': u'editing', u'neglovers': u'negjoe', u'emoting': u'liza', u'labyrinth': u'sunny', u'acceptable': u'assured', u'psychiatric': u'requests', u'ooh': u'freaking', u'downtown': u'subway', u'ra': u'spelled', u'rigid': u'dense', u'savior': u'cherished', u'olive': u'miner', u'payoff': u'filler', u'effort': u'insult', u'amelie': u'stunning', u'capturing': u'arrangement', u'canadian': u'australian', u'fly': u'shooting', u'sharif': u'weary', u'fictionalized': u'accurately', u'negended': u'negsees', u'tokyo': u'brokeback', u'unexciting': u'sketchy', u'avoiding': u'geared', u'quoting': u'shed', u'melodrama': u'sappy', u'flu': u'flu', u'soul': u'nature', u'negaccepted': u'negsees', u'reviews': u'read', u'wallet': u'miracles', u'sour': u'beavers', u'brashear': u'gooding', u'growing': u'grew', u'fanciful': u'indicative', u'arrive': u'residence', u'bites': u'bleed', u'deceased': u'whose', u'lords': u'naval', u'crazy': u'weird', u'plaza': u'coastal', u'kenneth': u'coward', u'edna': u'alexander', u'concocted': u'prose', u'winston': u'plummer', u'negappreciate': u'neglearn', u'agent': u'federal', u'sample': u'flu', u'drawer': u'slack', u'negproduction': u'negspace', u'negusually': u'neguk', u'battered': u'battered', u'council': u'missions', u'confuses': u'concluding', u'dennis': u'jay', u'craze': u'bruckheimer', u'pink': u'orange', u'rays': u'bla', u'hungarian': u'irish', u'lifeless': u'plodding', u'tilt': u'faux', u'clever': u'witty', u'ping': u'arts', u'pine': u'barking', u'brain': u'mind', u'strikingly': u'arrangement', u'till': u'waiting', u'sunday': u'evenings', u'kinnear': u'pegg', u'skater': u'woodward', u'maestro': u'supplied', u'nyc': u'subway', u'puri': u'billing', u'persuasion': u'faced', u'sworn': u'informed', u'neginformation': u'negjoe', u'map': u'storm', u'staying': u'lake', u'mar': u'abel', u'mat': u'batista', u'negdisaster': u'negt', u'max': u'sydow', u'snl': u'snl', u'negreal': u'neginto', u'tyler': u'mara', u'mac': u'homer', u'mae': u'hayward', u'mankind': u'cylon', u'poignancy': u'undeniable', u'mai': u'reversal', u'destructive': u'destructive', u'guys': u'dude', u'mal': u'sa', u'man': u'dude', u'aimless': u'component', u'waist': u'banana', u'johnson': u'nash', u'spraying': u'bleed', u'negattention': u'negadd', u'maybe': u'importantly', u'preacher': u'emil', u'borrowing': u'walt', u'avant': u'dreamlike', u'q': u'screenwriter', u'provide': u'allows', u'switch': u'switch', u'killers': u'killers', u'jail': u'sent', u'silence': u'dreamlike', u'african': u'african', u'basket': u'freaking', u'tall': u'kick', u'gesture': u'discusses', u'framing': u'kinetic', u'cute': u'witty', u'negmake': u'negfind', u'shoes': u'belt', u'distributors': u'boost', u'neghope': u'negbusiness', u'gradual': u'feats', u'pointed': u'mentioned', u'hippy': u'programmer', u'wishing': u'liking', u'argues': u'discusses', u'decently': u'decently', u'negremake': u'negt', u'lyric': u'renoir', u'cuts': u'closeups', u'argued': u'ignoring', u'peterson': u'channing', u'blooded': u'severed', u'awaiting': u'attendance', u'jock': u'loser', u'texan': u'villainous', u'group': u'teenagers', u'thank': u'sake', u'josie': u'helene', u'brained': u'proverbial', u'interesting': u'unusual', u'undermined': u'replaced', u'encompasses': u'feats', u'maid': u'eve', u'coaching': u'miner', u'drummer': u'casey', u'negfiction': u'neguk', u'moviegoer': u'grain', u'listing': u'stating', u'policy': u'organizations', u'mail': u'sony', u'main': u'central', u'undermines': u'ignoring', u'mommy': u'gal', u'negcool': u'negconfusing', u'neglike': u'negfind', u'punching': u'autopsy', u'regularly': u'discount', u'finance': u'boost', u'views': u'sources', u'rookie': u'weary', u'soulful': u'dour', u'krueger': u'freddy', u'tucker': u'nash', u'boats': u'helicopters', u'touching': u'quiet', u'mismatched': u'assortment', u'aspirations': u'aspirations', u'sporadic': u'indicative', u'thundercats': u'vol', u'killed': u'killed', u'developments': u'telegraphed', u'aficionados': u'enthusiast', u'actuality': u'indicative', u'taut': u'unconventional', u'likability': u'dour', u'settings': u'elaborate', u'arrows': u'autopsy', u'peasant': u'peasant', u'olin': u'plummer', u'rock': u'roll', u'showcasing': u'prose', u'hijack': u'sail', u'pizza': u'banana', u'primo': u'channing', u'vogue': u'peak', u'guevara': u'gooding', u'negwrite': u'neglearn', u'perlman': u'plummer', u'sopranos': u'avengers', u'scheme': u'heinous', u'treacherous': u'channing', u'conventions': u'unheard', u'richly': u'elegance', u'negcompelling': u'negconfusing', u'preaching': u'increasing', u'aloof': u'marianne', u'girl': u'dude', u'morning': u'evenings', u'negzombies': u'negbusiness', u'relive': u'miracles', u'canada': u'canada', u'living': u'ordinary', u'jackson': u'samuel', u'gamers': u'labeled', u'negask': u'neglearn', u'pedophile': u'bonkers', u'interference': u'unwilling', u'owes': u'raise', u'delivering': u'puns', u'valdez': u'hunt', u'transforming': u'throws', u'undertone': u'unconventional', u'pamela': u'anna', u'smells': u'bleed', u'emerged': u'evolved', u'gamera': u'vol', u'prinze': u'chaney', u'dominate': u'increasing', u'correct': u'criticism', u'assurance': u'suspicion', u'charlotte': u'mrs', u'goth': u'loser', u'earlier': u'earlier', u'negsupport': u'negbusiness', u'sideways': u'rolls', u'negdeserve': u'negadd', u'romano': u'plummer', u'pumping': u'rolls', u'brooks': u'gibson', u'spies': u'peasants', u'romans': u'arabs', u'ajay': u'durante', u'california': u'southern', u'vinyl': u'isle', u'trademarks': u'inconsistency', u'brooke': u'mara', u'org': u'petition', u'stanwyck': u'mrs', u'cough': u'damned', u'keith': u'phillip', u'innate': u'dignity', u'negwonderful': u'negsees', u'advance': u'text', u'watts': u'macmahon', u'harp': u'villainous', u'language': u'english', u'waiter': u'skating', u'listings': u'showtime', u'thing': u'alright', u'funky': u'hip', u'uncredited': u'macmahon', u'vision': u'vision', u'loretta': u'anna', u'commenter': u'remarked', u'think': u'admit', u'negindian': u'neguk', u'coloured': u'daytime', u'exotic': u'exotic', u'cheese': u'devices', u'dwelling': u'tours', u'screenplays': u'citizen', u'americana': u'unconventional', u'roswell': u'ploy', u'negdouble': u'negjoe', u'question': u'questions', u'rachel': u'anna', u'negoverall': u'negcomic', u'neghitchcock': u'neglikely', u'neggetting': u'negfeeling', u'enthralled': u'engrossed', u'americans': u'african', u'negsorry': u'negt', u'suspended': u'barking', u'carry': u'gain', u'corporations': u'organizations', u'sounds': u'sound', u'negconfusing': u'negconfusing', u'cheesy': u'kinda', u'cathy': u'anna', u'marlene': u'mrs', u'little': u'slightly', u'negperfect': u'negkind', u'personalities': u'interacting', u'murky': u'daytime', u'slept': u'informed', u'anyone': u'someone', u'plains': u'brokeback', u'fiery': u'arresting', u'spectacularly': u'unimpressive', u'texas': u'slumber', u'las': u'subway', u'participated': u'participated', u'speaking': u'english', u'coburn': u'jimmy', u'subplot': u'chemistry', u'gaudy': u'daytime', u'eyes': u'crying', u'eponymous': u'bagdad', u'negtown': u'negjoe', u'allegedly': u'cherished', u'moscow': u'elected', u'continuous': u'decently', u'accurately': u'accurately', u'steinbeck': u'bagdad', u'broadcast': u'guide', u'hillary': u'macmahon', u'sequels': u'entry', u'negrunning': u'negspace', u'butt': u'belt', u'negdespite': u'negjoe', u'seat': u'seats', u'undoubtedly': u'achievements', u'infiltrate': u'disgruntled', u'starlet': u'bullock', u'cracks': u'shed', u'sailing': u'sail', u'duval': u'villainous', u'negyourself': u'neglearn', u'browning': u'mani', u'mutilation': u'cannibalism', u'orgy': u'severed', u'knives': u'autopsy', u'venture': u'descent', u'were': u'is', u'gigantic': u'controls', u'intentioned': u'refined', u'sean': u'chris', u'negdirector': u'neglittle', u'gathering': u'tours', u'lick': u'needn', u'marrying': u'helene', u'mundane': u'sappy', u'negjane': u'neguk', u'topics': u'indicative', u'negoffensive': u'negconfusing', u'marijuana': u'rituals', u'voices': u'voice', u'dash': u'faux', u'winding': u'staircase', u'conspiracy': u'nation', u'comedian': u'gifted', u'negunderstand': u'negfind', u'spectacle': u'rendering', u'voiced': u'durante', u'hellraiser': u'lambs', u'nazi': u'enemies', u'ayesha': u'helene', u'kevin': u'reeve', u'cassandra': u'marianne', u'zoe': u'casey', u'speakers': u'accent', u'recreated': u'rendering', u'daredevil': u'daredevil', u'efficient': u'unconventional', u'dives': u'staircase', u'dracula': u'frankenstein', u'answering': u'answering', u'foreigner': u'mocked', u'shocked': u'appalled', u'squad': u'missions', u'invite': u'partying', u'shocker': u'lambs', u'performance': u'usual', u'pranks': u'mock', u'switching': u'distracts', u'channel': u'cable', u'jungle': u'lake', u'bets': u'persuade', u'formulas': u'outings', u'arthurian': u'seminal', u'skinned': u'speaker', u'pain': u'anger', u'norman': u'earp', u'negwanted': u'negwon', u'normal': u'ordinary', u'iwo': u'brokeback', u'friedman': u'coward', u'ambulance': u'sends', u'paid': u'paid', u'insanity': u'immediate', u'rehearsal': u'maiden', u'assault': u'cannibalism', u'nolan': u'plummer', u'girlfriends': u'partying', u'sheets': u'bleed', u'woronov': u'macmahon', u'pair': u'teenagers', u'supremely': u'supplied', u'tracy': u'topper', u'neghappen': u'negadd', u'hardships': u'existence', u'queens': u'programmer', u'sutton': u'knox', u'lerner': u'becker', u'radioactive': u'cockroaches', u'especially': u'loved', u'surprising': u'surprising', u'fills': u'sunny', u'angst': u'immediate', u'wielding': u'iron', u'blanchett': u'hannah', u'properly': u'overlook', u'jumped': u'wee', u'voodoo': u'ritual', u'lindsay': u'lohan', u'repeatedly': u'prayer', u'precise': u'rendering', u'negfeat': u'negbusiness', u'shot': u'cut', u'newer': u'reservoir', u'negfear': u'negbusiness', u'contemporary': u'unheard', u'elevate': u'endearment', u'therapist': u'rejects', u'shoe': u'belt', u'saying': u'admit', u'threshold': u'privacy', u'interpretation': u'fundamental', u'nakata': u'poltergeist', u'enthusiast': u'enthusiast', u'negevents': u'negspace', u'negavailable': u'neguntil', u'robards': u'plummer', u'dice': u'kiddie', u'stormy': u'lake', u'cargo': u'sail', u'dick': u'earp', u'storms': u'gunpoint', u'behind': u'literally', u'dull': u'tiresome', u'spirituality': u'virtues', u'lauded': u'banned', u'lorenzo': u'loser', u'travesty': u'disappointment', u'disconcerting': u'serviceable', u'enthusiasm': u'method', u'awareness': u'virtues', u'plump': u'affections', u'ranking': u'scale', u'moreau': u'macmahon', u'muni': u'plummer', u'exaggeration': u'sappy', u'get': u'taking', u'hostage': u'protect', u'consume': u'destroy', u'satisfied': u'anger', u'heads': u'pulling', u'm': u'am', u'unimportant': u'ignoring', u'hailed': u'banned', u'nearly': u'almost', u'gee': u'gee', u'yvonne': u'tina', u'negthinks': u'negdies', u'gen': u'werner', u'blends': u'mixes', u'gel': u'slack', u'negoffice': u'neguk', u'lame': u'kinda', u'colossus': u'powers', u'across': u'past', u'negtalented': u'negjoe', u'stupid': u'moronic', u'amused': u'engrossed', u'vito': u'vito', u'finishing': u'wee', u'exuberant': u'prose', u'worrying': u'cherished', u'silently': u'whispering', u'ricco': u'belial', u'declared': u'informed', u'branagh': u'helena', u'honesty': u'hatred', u'ricci': u'macmahon', u'seas': u'brokeback', u'blurred': u'dense', u'relative': u'unaware', u'declares': u'sends', u'eliminating': u'surveillance', u'seal': u'battered', u'peckinpah': u'raoul', u'calendar': u'lads', u'stalking': u'ritual', u'negformer': u'negjoe', u'sincere': u'misguided', u'wonder': u'hell', u'negborn': u'negsees', u'satisfying': u'satisfying', u'camping': u'lake', u'forgotten': u'commercial', u'negbore': u'neglearn', u'carradine': u'malkovich', u'label': u'labeled', u'boundaries': u'virtues', u'enough': u'impossible', u'diamonds': u'peasants', u'ramones': u'roll', u'chews': u'proverbial', u'bombing': u'vets', u'checks': u'gunpoint', u'dried': u'conjure', u'negher': u'neghis', u'moranis': u'knox', u'august': u'attendance', u'parent': u'parent', u'parental': u'persistent', u'negoffered': u'negbusiness', u'pained': u'shed', u'jr': u'chaney', u'killing': u'killed', u'neggore': u'negreason', u'jo': u'casey', u'ji': u'miner', u'jj': u'surly', u'singers': u'dancers', u'negresolution': u'negqualities', u'innuendos': u'requisite', u'clouseau': u'darling', u'lopez': u'durante', u'jc': u'paired', u'jfk': u'programmer', u'dates': u'skating', u'fried': u'fried', u'stinker': u'disappointment', u'adept': u'endearment', u'negdeeply': u'negjoe', u'landscapes': u'lit', u'trader': u'miner', u'trades': u'emil', u'resist': u'digest', u'according': u'text', u'uninspiring': u'mish', u'sketchy': u'sketchy', u'patrons': u'rituals', u'disappointment': u'disappointment', u'remake': u'entry', u'dwellers': u'employing', u'improv': u'assortment', u'negepic': u'neguk', u'negbother': u'negadd', u'milland': u'nash', u'willem': u'jay', u'stretches': u'lasts', u'audiard': u'georges', u'cancer': u'inheritance', u'negdate': u'negsees', u'individuality': u'aspirations', u'cedric': u'plummer', u'maintained': u'endearment', u'imo': u'footnote', u'spans': u'increased', u'enthralling': u'elegance', u'cancel': u'guide', u'associated': u'disagree', u'comprehend': u'overlook', u'negmartial': u'negcomic', u'custody': u'protect', u'considering': u'very', u'sensible': u'refined', u'arts': u'arts', u'caricature': u'ham', u'underworld': u'brokeback', u'tuning': u'showtime', u'capable': u'gifted', u'arty': u'detracts', u'barry': u'nash', u'gooding': u'gooding', u'mark': u'screenwriter', u'mart': u'mart', u'marv': u'belial', u'dependable': u'plummer', u'judging': u'mentioned', u'borders': u'sappy', u'tug': u'strings', u'marx': u'brothers', u'mary': u'mara', u'marisa': u'macmahon', u'lelouch': u'darling', u'educated': u'mocked', u'spare': u'banana', u'graveyard': u'lake', u'busting': u'sporadically', u'indulgence': u'destructive', u'gripped': u'engrossed', u'negappearance': u'negjoe', u'dramatic': u'heart', u'wake': u'picks', u'depalma': u'masterwork', u'declaration': u'discusses', u'overdose': u'assaulted', u'hardcore': u'enthusiast', u'odyssey': u'suburbia', u'those': u'these', u'farcical': u'sappy', u'negwars': u'neguk', u'predicament': u'expressed', u'antonioni': u'vision', u'klaus': u'durante', u'negdifficult': u'neglearn', u'disconnected': u'telegraphed', u'turtles': u'terminator', u'slumber': u'slumber', u'tuck': u'homer', u'dungeons': u'sonic', u'negtravel': u'negsees', u'novello': u'tina', u'associates': u'protect', u'ongoing': u'suburbia', u'residence': u'residence', u'cancelled': u'guide', u'investigating': u'suspects', u'awakened': u'battered', u'novella': u'bagdad', u'philosophies': u'virtues', u'versus': u'suburbia', u'then': u'again', u'characteristics': u'expressed', u'rubbing': u'whispering', u'negproduced': u'neguk', u'marcel': u'prophet', u'sleeping': u'belial', u'middle': u'middle', u'pressing': u'handing', u'dangerously': u'faux', u'rally': u'peasants', u'loosing': u'persuade', u'wisely': u'georges', u'cater': u'strategic', u'everyday': u'ordinary', u'movements': u'facial', u'pap': u'kiddie', u'bags': u'rituals', u'par': u'beyond', u'pas': u'bullock', u'pat': u'whoopi', u'harsh': u'solondz', u'compromised': u'substituted', u'doctor': u'professor', u'pay': u'paid', u'paz': u'marianne', u'creaky': u'sorcery', u'scriptwriters': u'reckon', u'same': u'exact', u'lamp': u'barking', u'cabot': u'dillinger', u'loudly': u'shed', u'speech': u'information', u'arguments': u'ranting', u'negpicture': u'negt', u'contain': u'contain', u'stepped': u'broke', u'pal': u'casey', u'pam': u'emil', u'lister': u'homer', u'neggrasp': u'negsees', u'transitions': u'jarring', u'jeffrey': u'altman', u'extended': u'directly', u'rainbow': u'helicopters', u'assist': u'requests', u'northam': u'durante', u'companion': u'owner', u'diversion': u'detracts', u'sullen': u'sullen', u'driven': u'driven', u'neglength': u'neguk', u'neggone': u'negmust', u'negdidn': u'negwon', u'stuttering': u'macho', u'ois': u'hari', u'negrule': u'negcomic', u'weave': u'renders', u'drain': u'rolls', u'insomniac': u'irritation', u'journalists': u'organizations', u'largely': u'largely', u'amazes': u'amazes', u'followers': u'destroy', u'psychopath': u'ill', u'wellington': u'owner', u'evils': u'fascism', u'solve': u'suspects', u'bottle': u'belt', u'repulsive': u'vile', u'consistency': u'bounds', u'bumping': u'gunpoint', u'nah': u'gee', u'amazed': u'appalled', u'consisted': u'inconsistency', u'warhols': u'employing', u'negentertaining': u'negentertaining', u'suitor': u'helene', u'among': u'exceptions', u'money': u'time', u'towering': u'liza', u'sights': u'dusty', u'resolution': u'denouement', u'gruff': u'villainous', u'unofficial': u'scanners', u'manipulation': u'increasing', u'aspect': u'spite', u'flavor': u'undeniable', u'clueless': u'lovable', u'bowie': u'phillip', u'mcdonald': u'nash', u'lifelong': u'rejects', u'politicians': u'organizations', u'pile': u'turkey', u'grating': u'ham', u'heavies': u'employing', u'maugham': u'biopic', u'pill': u'rapist', u'careers': u'roles', u'grip': u'oneself', u'jake': u'homer', u'grit': u'rendering', u'schwarzenegger': u'wesley', u'retrospect': u'justified', u'stinking': u'stinking', u'mos': u'hunt', u'income': u'inheritance', u'vivek': u'juhi', u'negactual': u'negspace', u'realist': u'kusturica', u'compassionate': u'refined', u'mon': u'y', u'mom': u'son', u'negterms': u'negspace', u'mob': u'boss', u'negslow': u'negstops', u'aiming': u'reckon', u'luthor': u'darling', u'grim': u'surprising', u'grin': u'strings', u'crock': u'inheritance', u'christina': u'mara', u'acquainted': u'persistent', u'macarthur': u'elected', u'terrorize': u'peasants', u'christine': u'anna', u'identifying': u'surly', u'twin': u'son', u'serves': u'allows', u'lightning': u'closeups', u'facing': u'existence', u'chamber': u'oxygen', u'audience': u'audience', u'miraculous': u'renders', u'nose': u'belt', u'bewitched': u'darling', u'negbrothers': u'neguk', u'served': u'worked', u'passionate': u'akbar', u'robbers': u'crooks', u'shadowy': u'dusty', u'stretched': u'lasts', u'instantly': u'engrossed', u'maids': u'bonkers', u'routines': u'ballet', u'climactic': u'confrontation', u'hysterics': u'whispering', u'obsessions': u'aspirations', u'doll': u'astro', u'backgrounds': u'exotic', u'pronounce': u'lommel', u'negprofound': u'negsees', u'meanders': u'component', u'unassuming': u'sunny', u'erase': u'cents', u'alexis': u'macmahon', u'ridicule': u'fireflies', u'images': u'lit', u'joan': u'bette', u'matching': u'exotic', u'accomplice': u'sends', u'users': u'read', u'negmembers': u'negjoe', u'outs': u'assortment', u'ellis': u'coward', u'negnames': u'negbusiness', u'confirm': u'regretted', u'drenched': u'requisite', u'stages': u'results', u'frantically': u'gunpoint', u'hour': u'mins', u'alonzo': u'nefarious', u'pioneer': u'programmer', u'escort': u'drafted', u'inject': u'recreate', u'expressing': u'risks', u'pipes': u'charts', u'claustrophobia': u'rendering', u'claustrophobic': u'dreamlike', u'moderate': u'detracts', u'knife': u'belt', u'apocalyptic': u'hills', u'caring': u'frightened', u'backbone': u'feats', u'negdoesn': u'negwon', u'mare': u'bullock', u'seconds': u'mins', u'manufactured': u'unimpressive', u'claudia': u'macmahon', u'each': u'every', u'notable': u'exceptions', u'swashbuckling': u'bulworth', u'squall': u'threatening', u'broken': u'shut', u'despicable': u'socially', u'dastardly': u'dillinger', u'heflin': u'der', u'visits': u'carlitos', u'drums': u'sa', u'negfriend': u'negdies', u'squarely': u'increasing', u'negpace': u'negcomic', u'roaming': u'rituals', u'strangled': u'strangled', u'aide': u'surly', u'raptor': u'masks', u'mara': u'mara', u'giggle': u'amuse', u'conducting': u'drafted', u'opium': u'peasant', u'stations': u'helicopters', u'roar': u'proverbial', u'island': u'abandoned', u'fringe': u'employing', u'develops': u'grows', u'mixes': u'mixes', u'practical': u'weigh', u'demonic': u'ritual', u'nothing': u'whatever', u'jarmusch': u'prose', u'pockets': u'privacy', u'roam': u'peasants', u'mixed': u'mixes', u'threesome': u'belial', u'joplin': u'abel', u'lasting': u'bounds', u'metaphors': u'virtues', u'negform': u'negspace', u'imitated': u'outings', u'quietly': u'downward', u'referenced': u'outings', u'dagger': u'handing', u'khan': u'bachchan', u'whites': u'arabs', u'spreading': u'cylon', u'auschwitz': u'mumbai', u'lifted': u'directly', u'children': u'parent', u'references': u'indicative', u'dreaming': u'prayer', u'negsource': u'negcomic', u'annoys': u'sucked', u'gomez': u'knox', u'fantasy': u'mystery', u'needlessly': u'telegraphed', u'gunfight': u'gunfight', u'sadder': u'funnier', u'fated': u'abel', u'jigsaw': u'flu', u'shelly': u'tina', u'restrained': u'dour', u'fates': u'proportion', u'unpredictable': u'intelligent', u'sinclair': u'tina', u'negreligion': u'negjoe', u'rightful': u'solitude', u'hysterical': u'witty', u'downer': u'grain', u'trey': u'matt', u'tycoon': u'owner', u'delilah': u'eve', u'fanatic': u'enthusiast', u'resembles': u'orange', u'gory': u'grisly', u'mars': u'earth', u'strikes': u'throws', u'negpainful': u'negconfusing', u'negoption': u'negbusiness', u'wiping': u'gunpoint', u'keira': u'tina', u'gore': u'extreme', u'overlong': u'filler', u'downstairs': u'gunpoint', u'negserial': u'neguk', u'woman': u'he', u'flamboyant': u'villainous', u'arranged': u'carlitos', u'romantic': u'soap', u'ember': u'chicago', u'vhs': u'online', u'negpointless': u'negjoe', u'arranges': u'nefarious', u'dvd': u'online', u'dubbing': u'storyline', u'electrifying': u'liza', u'powerless': u'unwilling', u'affection': u'akbar', u'hanged': u'informed', u'required': u'means', u'replacing': u'surly', u'hated': u'loved', u'videos': u'discount', u'humiliated': u'unaware', u'maniacs': u'monkeys', u'deer': u'astro', u'deep': u'powers', u'general': u'nation', u'macross': u'andromeda', u'imagination': u'idea', u'examine': u'endure', u'men': u'wongo', u'planets': u'helicopters', u'prostitute': u'gal', u'girlfriend': u'friend', u'lifetime': u'guide', u'deed': u'requests', u'hound': u'lambs', u'eliot': u'vito', u'mastroianni': u'channing', u'film': u'it', u'fill': u'overlook', u'tedious': u'tiresome', u'selfish': u'socially', u'genres': u'mixes', u'recognizable': u'veterans', u'devilish': u'macho', u'izzard': u'audie', u'personnel': u'missions', u'drivers': u'autopsy', u'tomei': u'macmahon', u'hybrid': u'sorcery', u'saturday': u'evenings', u'field': u'storm', u'gloria': u'sunset', u'astronaut': u'sail', u'offered': u'shortly', u'negagainst': u'negsees', u'brando': u'brando', u'hey': u'oh', u'stilted': u'storyline', u'shelter': u'robber', u'narrative': u'narrative', u'paresh': u'juhi', u'brandy': u'woodward', u'important': u'unusual', u'ashton': u'whoopi', u'tackle': u'endure', u'auditioning': u'skinny', u'decorated': u'brokeback', u'outrageously': u'unimpressive', u'awkwardly': u'telegraphed', u'resembled': u'cynic', u'fellini': u'vision', u'grudge': u'scanners', u'negwatching': u'neghard', u'remote': u'coast', u'assets': u'feats', u'negflick': u'negt', u'intentional': u'detracts', u'negdaughter': u'negdies', u'negneed': u'negadd', u'data': u'organizations', u'sounded': u'sound', u'boogeyman': u'xtro', u'spills': u'sends', u'u': u'canada', u'hugely': u'educational', u'haired': u'model', u'alright': u'alright', u'oral': u'cannibalism', u'motel': u'lake', u'sergei': u'mani', u'liar': u'emil', u'forget': u'hear', u'founder': u'prophet', u'aids': u'mocked', u'diesel': u'kick', u'forbidden': u'suburbia', u'dollar': u'dozen', u'worms': u'bleed', u'devine': u'casey', u'founded': u'suggestions', u'sunk': u'cylon', u'negfake': u'negsees', u'pervert': u'mocked', u'chabrol': u'georges', u'forged': u'unwilling', u'invariably': u'proportion', u'talks': u'speaks', u'expressions': u'facial', u'liam': u'jay', u'sung': u'catchy', u'reluctant': u'nefarious', u'shattered': u'downward', u'rwanda': u'iraq', u'lange': u'mara', u'preserved': u'ju', u'alberto': u'minelli', u'hooks': u'messing', u'crimson': u'cabinet', u'hideout': u'sends', u'hideous': u'astro', u'negwaiting': u'negsees', u'sound': u'sound', u'straightforward': u'component', u'returning': u'mysteriously', u'hitchhiker': u'daredevil', u'fantastic': u'superb', u'secretly': u'helene', u'carefree': u'miner', u'overdone': u'melodramatic', u'billie': u'anna', u'falk': u'reeve', u'heavenly': u'charts', u'embarrassment': u'indication', u'scout': u'miner', u'fall': u'akbar', u'witted': u'annoyingly', u'difference': u'chemistry', u'newly': u'owner', u'psyche': u'immediate', u'pre': u'earlier', u'washing': u'bleed', u'alma': u'abel', u'broderick': u'macmahon', u'actioner': u'sorcery', u'benevolent': u'peasant', u'angus': u'woodcock', u'celebrity': u'symbol', u'outtakes': u'directly', u'negfault': u'neglikely', u'negshare': u'negsees', u'reminding': u'amazes', u'spencer': u'topper', u'donovan': u'knox', u'exploitive': u'detracts', u'playwright': u'nash', u'biological': u'destroy', u'trio': u'circus', u'infatuation': u'persistent', u'considine': u'plummer', u'neighborhood': u'southern', u'ditto': u'macmahon', u'mid': u'earlier', u'negalien': u'negcomic', u'negorder': u'negspace', u'ritter': u'malkovich', u'preposterous': u'sketchy', u'burger': u'miracles', u'zero': u'zero', u'titles': u'norm', u'quebec': u'programmer', u'lawyer': u'weary', u'bellamy': u'macmahon', u'further': u'gift', u'affable': u'villainous', u'creatures': u'dinosaurs', u'negthan': u'negthan', u'alarming': u'shakespearean', u'dial': u'shore', u'abc': u'guide', u'stood': u'stand', u'opted': u'lommel', u'sweetly': u'marianne', u'wrecked': u'sail', u'rip': u'off', u'coroner': u'sends', u'diaz': u'tina', u'abu': u'mumbai', u'garth': u'darling', u'grandpa': u'rejects', u'negresult': u'negjoe', u'tribute': u'seminal', u'public': u'nation', u'movement': u'fascism', u'violently': u'rituals', u'cohorts': u'sends', u'baywatch': u'reservoir', u'martians': u'conquers', u'compilation': u'discount', u'promising': u'nowhere', u'component': u'component', u'negspot': u'negsees', u'moonstruck': u'categories', u'surfer': u'miner', u'ranges': u'assortment', u'ranger': u'dillinger', u'red': u'orange', u'disastrous': u'concluding', u'threads': u'telegraphed', u'hanzo': u'schizophrenia', u'christy': u'whose', u'cub': u'cockroaches', u'mourning': u'downward', u'negdetail': u'negspace', u'slapping': u'whispering', u'fantasies': u'aspirations', u'conte': u'laurence', u'publisher': u'helene', u'speeches': u'ranting', u'bible': u'text', u'cock': u'proverbial', u'stretching': u'component', u'jackie': u'chan', u'negwarn': u'negwon', u'negcontact': u'negsees', u'stella': u'hayward', u'airport': u'bus', u'tiffany': u'maiden', u'agatha': u'tolkien', u'misery': u'existence', u'icky': u'requisite', u'creepiness': u'dreamlike', u'negdiscernible': u'negqualities', u'whimsical': u'elegance', u'shanghai': u'programmer', u'buses': u'helicopters', u'barker': u'haggis', u'africa': u'canada', u'busey': u'busey', u'negblame': u'negsees', u'sadism': u'requisite', u'extinction': u'cylon', u'establish': u'overlook', u'readily': u'suggestions', u'negboth': u'negjoe', u'languages': u'sources', u'trish': u'affections', u'sanjay': u'juhi', u'shack': u'gunpoint', u'distinct': u'undeniable', u'wiped': u'cylon', u'plastered': u'laptop', u'two': u'seven', u'comparing': u'norm', u'dross': u'stinking', u'splash': u'poltergeist', u'impressionable': u'harmless', u'lassie': u'programmer', u'jive': u'skinny', u'raft': u'brent', u'negcoming': u'negwon', u'twists': u'unexpected', u'exquisitely': u'sunny', u'diamond': u'phillips', u'stereotypes': u'racist', u'delves': u'descent', u'purse': u'obese', u'brisk': u'monotonous', u'leonard': u'nash', u'negtypical': u'negkind', u'landed': u'storm', u'controlling': u'unaware', u'bros': u'walt', u'varying': u'unheard', u'nineteen': u'fourteen', u'karaoke': u'skinny', u'town': u'southern', u'none': u'thereof', u'themed': u'euro', u'vladimir': u'whose', u'negfigure': u'neglearn', u'recall': u'describe', u'der': u'der', u'created': u'helped', u'sucks': u'sucked', u'dev': u'participated', u'negcritics': u'negt', u'guards': u'crooks', u'believability': u'undeniable', u'sudden': u'strangled', u'del': u'toro', u'den': u'maiden', u'abandon': u'unwilling', u'specialized': u'masterwork', u'dee': u'hayward', u'def': u'bourne', u'sleuth': u'renoir', u'compare': u'norm', u'bravely': u'reversal', u'virtuous': u'feats', u'negopera': u'negjoe', u'share': u'stop', u'negrental': u'negt', u'days': u'months', u'contradicts': u'ignoring', u'minimum': u'bounds', u'numbers': u'theme', u'purchased': u'online', u'sharp': u'dour', u'outfits': u'dresses', u'robinson': u'nash', u'breakup': u'downward', u'biography': u'tolkien', u'mainstream': u'commercial', u'homicide': u'weary', u'needs': u'knows', u'obnoxious': u'lovable', u'csi': u'avengers', u'drained': u'anger', u'flawless': u'superb', u'needy': u'sullen', u'demolition': u'barking', u'heroine': u'villain', u'comfort': u'endure', u'patton': u'prophet', u'solaris': u'serling', u'fame': u'earp', u'automatic': u'autopsy', u'strategy': u'strategic', u'sacred': u'cockroaches', u'negready': u'neglearn', u'caprica': u'serling', u'civilisation': u'cylon', u'ensemble': u'shine', u'crusoe': u'sends', u'rips': u'bleed', u'lina': u'tina', u'bacall': u'hayward', u'charms': u'tasty', u'dinosaur': u'dinosaurs', u'negentertainment': u'negcomic', u'suppose': u'admit', u'advice': u'expectation', u'negfinished': u'negmust', u'negactors': u'negmention', u'sophistication': u'undeniable', u'crashed': u'sail', u'missiles': u'helicopters', u'uninspired': u'mish', u'coming': u'turning', u'bloom': u'brothers', u'response': u'remarks', u'bleak': u'strangeness', u'negrepeated': u'negstops', u'negthings': u'negfeeling', u'brady': u'homer', u'hypnotized': u'prayer', u'crowded': u'brokeback', u'coat': u'belt', u'description': u'text', u'eats': u'strangled', u'dragon': u'hidden', u'mislead': u'ur', u'coal': u'tours', u'fagin': u'woodward', u'responsibility': u'risks', u'sect': u'peasants', u'panama': u'coastal', u'pleasure': u'experience', u'xxx': u'flop', u'edwin': u'phillip', u'trough': u'proportion', u'negseen': u'negagain', u'infant': u'carlitos', u'negseem': u'negfind', u'rounded': u'developing', u'rand': u'villainous', u'esoteric': u'substituted', u'heartfelt': u'quiet', u'artistry': u'endearment', u'hecht': u'coward', u'surrealism': u'dreamlike', u'already': u'hasn', u'muriel': u'tina', u'lava': u'autopsy', u'filters': u'daytime', u'noirish': u'unconventional', u'existence': u'existence', u'clumsily': u'decently', u'visceral': u'detracts', u'drinking': u'banana', u'winger': u'tina', u'scriptwriter': u'screenwriter', u'messed': u'picks', u'comedic': u'humour', u'thrilling': u'inventive', u'possessions': u'assaulted', u'scully': u'spelled', u'late': u'earlier', u'wizards': u'wizards', u'misunderstandings': u'feats', u'messes': u'messing', u'invaders': u'cockroaches', u'pad': u'lasts', u'bereft': u'substituted', u'crawls': u'staircase', u'dolls': u'astro', u'goof': u'broke', u'hurting': u'persuade', u'puck': u'schizophrenia', u'disrespectful': u'ranting', u'postwar': u'suburbia', u'cinematic': u'commercial', u'males': u'mock', u'socially': u'socially', u'noticing': u'shed', u'neggets': u'negmade', u'primary': u'strategic', u'negaren': u'negwon', u'walls': u'wall', u'frigid': u'sullen', u'stockwell': u'nash', u'wally': u'miner', u'assumptions': u'atheist', u'complain': u'clue', u'association': u'participated', u'interests': u'aspirations', u'easily': u'describe', u'negpotential': u'negsees', u'robbie': u'paired', u'pregnant': u'helene', u'negwife': u'negdies', u'drake': u'whoopi', u'malone': u'plummer', u'micro': u'increased', u'token': u'token', u'habits': u'ranting', u'overacted': u'annoyingly', u'standouts': u'macmahon', u'positions': u'proportion', u'negsitting': u'negt', u'kern': u'rodgers', u'repeating': u'repeat', u'button': u'forwarding', u'exquisite': u'stunning', u'breakdown': u'persistent', u'harm': u'persuade', u'everyone': u'someone', u'hark': u'arts', u'another': u'another', u'hari': u'hari', u'house': u'haunted', u'energy': u'skill', u'hard': u'die', u'idea': u'idea', u'foxes': u'employing', u'watered': u'sink', u'engaging': u'intelligent', u'katrina': u'spontaneously', u'connect': u'communicate', u'fist': u'fighting', u'endearment': u'endearment', u'hart': u'macmahon', u'dunaway': u'diana', u'orient': u'suburbia', u'caligula': u'tombstone', u'respectful': u'flavour', u'deals': u'deals', u'boman': u'serviceable', u'perry': u'earp', u'funding': u'boost', u'quincy': u'sa', u'negquite': u'negsuch', u'childish': u'unrealistic', u'sickness': u'immediate', u'pigeon': u'woodward', u'projected': u'flu', u'studying': u'ju', u'acting': u'storyline', u'lean': u'masterwork', u'flowed': u'monotonous', u'avenge': u'protect', u'sloan': u'dillinger', u'tiresome': u'tiresome', u'illustrate': u'virtues', u'evaluation': u'ur', u'foreground': u'circular', u'wilbur': u'helene', u'garson': u'macmahon', u'bully': u'loser', u'pathetic': u'moronic', u'circumstance': u'circumstance', u'commits': u'crimes', u'bumps': u'staircase', u'negdance': u'negsees', u'bulls': u'helicopters', u'pleasant': u'satisfying', u'difficulty': u'risks', u'members': u'players', u'negstatus': u'negjoe', u'backed': u'minelli', u'laughable': u'awful', u'beginning': u'begin', u'cheers': u'paired', u'negoscar': u'neglikely', u'benefits': u'kinetic', u'luc': u'reno', u'detract': u'detracts', u'prophet': u'prophet', u'finland': u'coverage', u'fincher': u'georges', u'sitcom': u'snl', u'intimate': u'refined', u'sorvino': u'macmahon', u'audacity': u'lommel', u'edges': u'component', u'dogg': u'dogg', u'negvillain': u'negjoe', u'negvisible': u'negbusiness', u'disclaimer': u'stating', u'raptors': u'masks', u'reinforced': u'prevents', u'copper': u'daredevil', u'embraces': u'feats', u'seduction': u'tasty', u'dont': u'listened', u'stabs': u'sack', u'mistakenly': u'robber', u'bullies': u'lads', u'ballroom': u'speaker', u'barbarian': u'wizard', u'instances': u'periods', u'utilized': u'endearment', u'done': u'badly', u'neglects': u'discusses', u'dong': u'rejects', u'negbelieved': u'negsees', u'compensated': u'detracts', u'fiction': u'mystery', u'bullied': u'rejects', u'razor': u'severed', u'negis': u'neglittle', u'indulgent': u'destructive', u'twenty': u'fifty', u'iraqi': u'organizations', u'revive': u'persuade', u'least': u'insult', u'obligatory': u'nipples', u'paint': u'banana', u'assumption': u'justified', u'pains': u'amazes', u'mama': u'beavers', u'compromise': u'oneself', u'eater': u'cockroaches', u'too': u'pretty', u'pare': u'dudikoff', u'muscles': u'proverbial', u'voyeurism': u'increasing', u'negshooting': u'negsees', u'needle': u'belt', u'mentality': u'arabs', u'excels': u'billing', u'dentist': u'emil', u'scantily': u'nipples', u'favorable': u'stating', u'doctors': u'crooks', u'franchises': u'vol', u'gruesome': u'grisly', u'negfalse': u'negjoe', u'believe': u'describe', u'carnage': u'severed', u'b': u'grade', u'compliments': u'liza', u'gotten': u'understood', u'negconvey': u'negcomic', u'youth': u'existence', u'bohemian': u'speaker', u'contrary': u'mentioned', u'supposed': u'pretending', u'negangry': u'negsees', u'unforgiving': u'arresting', u'toe': u'seats', u'treated': u'presented', u'declare': u'persuade', u'outta': u'freaking', u'cuthbert': u'macmahon', u'nominee': u'award', u'curtains': u'circular', u'shalhoub': u'todd', u'negmemory': u'negbusiness', u'reunion': u'grammar', u'ages': u'middle', u'roughly': u'fifty', u'wyler': u'wyler', u'download': u'ur', u'uninvolving': u'sketchy', u'illiterate': u'mocked', u'showers': u'skinny', u'confirms': u'discusses', u'fading': u'dusty', u'backseat': u'distracts', u'neginterest': u'negqualities', u'mountain': u'storm', u'snatch': u'autopsy', u'built': u'build', u'escapades': u'feats', u'depending': u'amuse', u'trip': u'road', u'negpower': u'negspace', u'onset': u'solitude', u'happily': u'belial', u'lifts': u'rolls', u'negfaint': u'neglikely', u'build': u'build', u'obviously': u'supposedly', u'commentary': u'bonus', u'insufferable': u'ham', u'obsessed': u'behaves', u'negacted': u'negmust', u'serene': u'sunny', u'negfind': u'negfind', u'negfine': u'negjoe', u'stacey': u'beavers', u'primal': u'fireflies', u'necrophilia': u'cannibalism', u'eggs': u'bleed', u'flute': u'charts', u'took': u'taking', u'depths': u'solitude', u'most': u'best', u'financially': u'participated', u'charm': u'humour', u'waster': u'precious', u'moss': u'knox', u'services': u'participated', u'negloud': u'negsees', u'wastes': u'ham', u'extremely': u'exceptionally', u'negeffects': u'neglogic', u'kiddies': u'amuse', u'lovecraft': u'enthusiast', u'ka': u'darling', u'lithgow': u'malkovich', u'ki': u'duk', u'negintellectual': u'neguk', u'charitable': u'repulsed', u'cramped': u'dusty', u'storyline': u'storyline', u'chester': u'phillip', u'narrow': u'slack', u'weigh': u'weigh', u'parody': u'chiller', u'nobility': u'aspirations', u'joining': u'disgruntled', u'thomas': u'jay', u'marketed': u'labeled', u'particularly': u'surprising', u'rebels': u'enemies', u'gates': u'woodward', u'scattered': u'periods', u'hugging': u'whispering', u'bergman': u'holy', u'wardrobe': u'dresses', u'outdoor': u'lit', u'relation': u'expressed', u'carefully': u'solidly', u'jared': u'whoopi', u'headlines': u'programmer', u'chock': u'female', u'fine': u'superb', u'find': u'laid', u'gangs': u'gangs', u'giant': u'alien', u'abandoning': u'unwilling', u'depended': u'privacy', u'negscript': u'negmention', u'nervous': u'sack', u'ruin': u'overlook', u'penguins': u'citizen', u'distributed': u'releasing', u'ebert': u'corman', u'unhappy': u'faced', u'idiots': u'mock', u'matheson': u'coward', u'convoluted': u'unrealistic', u'cartman': u'skating', u'negsuspense': u'negreason', u'volatile': u'arresting', u'prowess': u'method', u'tacky': u'decently', u'permission': u'inheritance', u'luke': u'jabba', u'attire': u'speaker', u'upside': u'shut', u'cheaper': u'funnier', u'courage': u'hatred', u'ferrer': u'plummer', u'negcommercial': u'neguk', u'theft': u'heinous', u'collins': u'macmahon', u'silk': u'tasty', u'misty': u'proverbial', u'resolve': u'proportion', u'roles': u'roles', u'recycled': u'directly', u'dante': u'coward', u'remove': u'endure', u'garcia': u'plummer', u'common': u'presented', u'witches': u'monkeys', u'fuel': u'oxygen', u'doubles': u'dusty', u'archaeologist': u'vito', u'bloated': u'proverbial', u'restaurants': u'tours', u'negentire': u'negt', u'negfair': u'negt', u'scruffy': u'miner', u'cynical': u'socially', u'devils': u'monkeys', u'negdamn': u'negsees', u'opposing': u'threatening', u'tended': u'weigh', u'negrated': u'negt', u'offbeat': u'shakespearean', u'lion': u'potter', u'individual': u'express', u'leslie': u'topper', u'unmistakable': u'channing', u'satiric': u'shakespearean', u'tender': u'quiet', u'negspending': u'negt', u'negslasher': u'negt', u'godard': u'masterwork', u'negfail': u'neglearn', u'feared': u'informed', u'enid': u'eve', u'degree': u'method', u'expert': u'hunt', u'negmyself': u'negmust', u'malkovich': u'malkovich', u'please': u'unless', u'powerhouse': u'liza', u'negclothes': u'negbusiness', u'fans': u'enthusiast', u'smallest': u'fireflies', u'myriad': u'virtues', u'distraught': u'affections', u'burned': u'prayer', u'champagne': u'skinny', u'rosie': u'hayward', u'responses': u'proportion', u'negparticular': u'negqualities', u'segal': u'coward', u'complement': u'endearment', u'jane': u'tarzan', u'blatant': u'off', u'vanishing': u'bagdad', u'premise': u'idea', u'inimitable': u'dour', u'negspirit': u'negspace', u'marilyn': u'alexander', u'floats': u'rolls', u'drill': u'autopsy', u'reverse': u'spontaneously', u'sultan': u'owner', u'solely': u'largely', u'annual': u'anniversary', u'foreign': u'indian', u'dreamlike': u'dreamlike', u'barbera': u'walt', u'alot': u'tho', u'tale': u'tale', u'focused': u'focus', u'negthemselves': u'neglearn', u'baltimore': u'coastal', u'wynorski': u'tombstone', u'seminal': u'seminal', u'danced': u'lil', u'point': u'point', u'simple': u'attitude', u'recycling': u'inconsistency', u'rad': u'homer', u'gypsy': u'bullock', u'dances': u'lil', u'dancer': u'diana', u'simply': u'importantly', u'steele': u'topper', u'sexy': u'charming', u'zeta': u'hayward', u'throughout': u'keeps', u'expensive': u'reeks', u'patiently': u'miracles', u'platinum': u'maiden', u'consuming': u'increasing', u'weaving': u'feats', u'perspectives': u'sources', u'instrument': u'charts', u'visconti': u'masterwork', u'apostle': u'georges', u'create': u'gain', u'trilogy': u'potter', u'creativity': u'undeniable', u'screened': u'originally', u'rivals': u'arresting', u'secret': u'federal', u'dropping': u'rolls', u'amnesia': u'downward', u'ireland': u'rome', u'collaborator': u'raoul', u'intrusive': u'daytime', u'negspeaking': u'neguk', u'meeting': u'belial', u'slips': u'throws', u'gay': u'behaves', u'assorted': u'employing', u'ineptitude': u'rendering', u'cyborg': u'iron', u'neglet': u'negadd', u'gas': u'bus', u'cruelty': u'immediate', u'gap': u'evolved', u'nihilistic': u'strangeness', u'repertoire': u'prose', u'negemotion': u'negqualities', u'understand': u'enjoy', u'whitney': u'durante', u'realms': u'renders', u'prices': u'sony', u'grainy': u'grainy', u'neglee': u'negjoe', u'aileen': u'affections', u'extensive': u'mastered', u'unnecessarily': u'telegraphed', u'pierce': u'pegg', u'replaces': u'schizophrenia', u'fur': u'bleed', u'metro': u'tours', u'talking': u'speaks', u'raoul': u'raoul', u'bill': u'earp', u'tolerate': u'digest', u'holocaust': u'infamous', u'bronte': u'tolkien', u'sexuality': u'abuse', u'replaced': u'replaced', u'chant': u'masks', u'fun': u'satisfying', u'socio': u'fascism', u'lukewarm': u'prose', u'lingo': u'daytime', u'almodovar': u'kusturica', u'indulging': u'weigh', u'youthful': u'refined', u'shoddy': u'cgi', u'portugal': u'programmer', u'century': u'st', u'cents': u'cents', u'moralistic': u'dense', u'milla': u'hannah', u'negover': u'negstops', u'encountered': u'reached', u'decoration': u'exotic', u'itself': u'real', u'karloff': u'boris', u'facade': u'suspicion', u'xtro': u'xtro', u'monroe': u'hayward', u'yorker': u'gangs', u'negman': u'negdies', u'italy': u'rome', u'seduce': u'nefarious', u'perpetrator': u'schizophrenia', u'dye': u'beavers', u'engrossed': u'engrossed', u'butcher': u'hunt', u'wherein': u'dusty', u'negjapanese': u'neguk', u'benign': u'weigh', u'neghit': u'neglearn', u'neghis': u'neghis', u'emphasize': u'proportion', u'copying': u'reservoir', u'negmay': u'negfeeling', u'proved': u'proves', u'ruth': u'anna', u'horton': u'plummer', u'day': u'day', u'development': u'central', u'strips': u'barking', u'praising': u'stating', u'keys': u'barking', u'assignment': u'participated', u'olivier': u'coward', u'leopard': u'ritual', u'yesterday': u'originally', u'tashan': u'pixar', u'reiser': u'reeve', u'moment': u'confrontation', u'admitting': u'informed', u'infused': u'rendering', u'neggives': u'negdies', u'timid': u'sullen', u'chang': u'wyler', u'predecessors': u'predecessor', u'oeuvre': u'kusturica', u'negclich': u'negconfusing', u'safe': u'happy', u'task': u'suspects', u'finesse': u'endearment', u'werewolf': u'alien', u'commendable': u'shine', u'craven': u'lambs', u'morrow': u'plummer', u'cornball': u'unimpressive', u'simmons': u'sinatra', u'flags': u'mumbai', u'howe': u'jimmy', u'swiss': u'devices', u'entry': u'entry', u'chemistry': u'chemistry', u'spend': u'precious', u'hastings': u'dillinger', u'negnegative': u'neguk', u'sheila': u'casey', u'moving': u'moving', u'lottery': u'raise', u'ceo': u'drafted', u'ludicrous': u'unrealistic', u'beetle': u'obese', u'beth': u'anna', u'propel': u'renders', u'profoundly': u'immediate', u'distracting': u'melodramatic', u'negscene': u'negspace', u'openly': u'mocked', u'scrooge': u'tombstone', u'credentials': u'macho', u'talk': u'speaks', u'alternative': u'exploration', u'predominantly': u'arabs', u'injuries': u'downward', u'letting': u'intent', u'superficial': u'socially', u'cut': u'cut', u'terrorizing': u'cockroaches', u'cup': u'banana', u'disappointed': u'cheated', u'deputy': u'dillinger', u'cuz': u'gee', u'negpage': u'negjoe', u'source': u'book', u'cue': u'voice', u'subjects': u'sources', u'negimpressive': u'negconfusing', u'dixon': u'dillinger', u'cash': u'time', u'snap': u'backing', u'cum': u'bullock', u'impoverished': u'peasant', u'easter': u'easter', u'excited': u'sorely', u'hates': u'understands', u'luxury': u'coastal', u'ridiculously': u'moronic', u'bio': u'citizen', u'shoved': u'pulling', u'forces': u'vets', u'adversaries': u'threatening', u'big': u'major', u'kasdan': u'coward', u'hatch': u'sail', u'negreligious': u'neguk', u'judgement': u'ur', u'matters': u'needn', u'redeem': u'overlook', u'biz': u'reservoir', u'apt': u'substituted', u'foreigners': u'arabs', u'hallucinations': u'spontaneously', u'bit': u'slightly', u'negclimax': u'neglogic', u'sixties': u'peak', u'jerker': u'strings', u'negend': u'negadd', u'insect': u'iron', u'knock': u'backing', u'semi': u'loser', u'herzog': u'kusturica', u'follows': u'gone', u'austria': u'rome', u'glove': u'macho', u'rider': u'bulworth', u'carvey': u'jay', u'indication': u'indication', u'howell': u'phillip', u'stupider': u'spongebob', u'foolish': u'mock', u'clad': u'nipples', u'prequels': u'pixar', u'love': u'akbar', u'google': u'sony', u'often': u'usually', u'collectors': u'releasing', u'buttons': u'proverbial', u'absolutely': u'negreason', u'obliged': u'circumstance', u'duck': u'bugs', u'magnificent': u'superb', u'negguts': u'negcomic', u'bach': u'tina', u'underdeveloped': u'characterizations', u'martial': u'arts', u'strongest': u'exceptions', u'martian': u'serling', u'examples': u'exceptions', u'mirror': u'literally', u'candle': u'oxygen', u'gimmick': u'relied', u'brent': u'brent', u'zelah': u'tarzan', u'lars': u'sydow', u'pronounced': u'cynic', u'acquaintance': u'owner', u'jewelry': u'robber', u'culprit': u'ignoring', u'contacts': u'obese', u'pet': u'woodcock', u'affects': u'immediate', u'decision': u'thus', u'per': u'intervals', u'cecilia': u'anna', u'distracts': u'distracts', u'pen': u'laptop', u'connecting': u'solitude', u'verbally': u'assaulted', u'pee': u'spongebob', u'neghigher': u'negsees', u'epic': u'historic', u'commentator': u'remarked', u'invade': u'peasants', u'endeavor': u'strategic', u'either': u'usually', u'cameraman': u'angle', u'visionary': u'masterwork', u'camerawork': u'kinetic', u'cromwell': u'coward', u'negappeal': u'neglearn', u'strapped': u'barking', u'wayward': u'whose', u'continuing': u'evolved', u'virtues': u'virtues', u'blockbusters': u'outings', u'lumiere': u'employing', u'chanting': u'charts', u'hostages': u'crooks', u'political': u'deals', u'negappear': u'negadd', u'metaphor': u'exploration', u'costumed': u'faux', u'tripping': u'whispering', u'cabaret': u'ballet', u'ramblings': u'slack', u'goods': u'recreate', u'usa': u'canada', u'piles': u'circular', u'hackneyed': u'unrealistic', u'goody': u'rejects', u'negtv': u'neguntil', u'graduation': u'grammar', u'drama': u'soap', u'negconsidering': u'negt', u'negto': u'neginto', u'consequently': u'prevents', u'misplaced': u'vile', u'jimmy': u'jimmy', u'negshoot': u'neglearn', u'aliens': u'dinosaurs', u'fidelity': u'suspicion', u'comedienne': u'diana', u'invading': u'cylon', u'framed': u'diagnosis', u'brass': u'surveillance', u'phase': u'attendance', u'frog': u'astro', u'steven': u'steven', u'dustin': u'jay', u'lesson': u'learned', u'downhill': u'nowhere', u'delusional': u'mocked', u'jews': u'enemies', u'bsg': u'sorely', u'dafoe': u'jay', u'damned': u'damned', u'modicum': u'oneself', u'phantasm': u'entry', u'witchcraft': u'peasant', u'bores': u'vile', u'bluth': u'avengers', u'neglight': u'negstops', u'moulin': u'sa', u'mccartney': u'reeve', u'infected': u'ritual', u'germans': u'enemies', u'homemade': u'bleed', u'reward': u'raise', u'silkwood': u'thurman', u'examination': u'exploration', u'keating': u'surly', u'translate': u'reckon', u'opponent': u'threatening', u'warlock': u'owner', u'killings': u'grisly', u'an': u'one', u'frenzied': u'faux', u'boyd': u'plummer', u'byrne': u'macmahon', u'murphy': u'audie', u'marple': u'tarzan', u'immigration': u'fascism', u'negportrayal': u'negjoe', u'hoped': u'liking', u'boys': u'wongo', u'negknows': u'negfeeling', u'negtruth': u'negspace', u'cram': u'concluding', u'boyz': u'batista', u'resulted': u'strategic', u'active': u'mocked', u'nutshell': u'grain', u'remastered': u'mastered', u'jonathan': u'nash', u'rejection': u'persistent', u'originals': u'avengers', u'bodyguard': u'vito', u'hanna': u'walt', u'clips': u'directly', u'exploration': u'exploration', u'played': u'play', u'planes': u'helicopters', u'jumbo': u'sporadically', u'gilmore': u'adam', u'groove': u'isle', u'sort': u'kind', u'curt': u'phillip', u'partition': u'fascism', u'constant': u'assortment', u'negtask': u'neguk', u'expedition': u'sail', u'fountain': u'charts', u'stripped': u'prayer', u'blur': u'jarring', u'scarlet': u'hari', u'single': u'every', u'cure': u'persuade', u'necks': u'rituals', u'checked': u'stating', u'dragging': u'whispering', u'racial': u'deals', u'kombat': u'sonic', u'stripper': u'gal', u'drawings': u'daytime', u'divine': u'beavers', u'excused': u'forgive', u'corners': u'circular', u'crypt': u'lambs', u'adoring': u'sullen', u'cohesive': u'component', u'bubblegum': u'flu', u'forewarned': u'warned', u'kirk': u'fairbanks', u'reputation': u'predecessor', u'ellen': u'anna', u'assassinate': u'drafted', u'kira': u'eve', u'hokey': u'melodramatic', u'expected': u'expect', u'neghell': u'negsees', u'lena': u'tina', u'cellar': u'mysteriously', u'accidental': u'downward', u'lend': u'method', u'favourite': u'favorites', u'roeg': u'endearment', u'papa': u'homer', u'showgirls': u'kiddie', u'helpful': u'unaware', u'lens': u'closeups', u'restoration': u'mastered', u'negits': u'neglittle', u'cates': u'knox', u'lunch': u'banana', u'lent': u'footnote', u'prepares': u'sends', u'hanson': u'nash', u'depicting': u'strangeness', u'missile': u'combat', u'desert': u'coast', u'voting': u'zero', u'implies': u'code', u'overlooking': u'coastal', u'wiser': u'repulsed', u'vehicles': u'helicopters', u'wards': u'prayer', u'appalling': u'awful', u'negheld': u'negsees', u'implied': u'extreme', u'presenting': u'flavour', u'colonial': u'iraq', u'failures': u'suggestions', u'noon': u'school', u'fahey': u'whoopi', u'potboiler': u'sorcery', u'renting': u'watch', u'portraying': u'roles', u'jason': u'bourne', u'connie': u'anna', u'rants': u'ranting', u'cynthia': u'phillip', u'negdrop': u'negsees', u'penis': u'bleed', u'lancaster': u'lancaster', u'intricate': u'component', u'compose': u'prose', u'graves': u'prophet', u'pope': u'weary', u'vietnamese': u'enemies', u'negair': u'negsees', u'suave': u'villainous', u'literary': u'tolkien', u'critical': u'zero', u'negfails': u'negstops', u'masculine': u'macho', u'negcaused': u'negsees', u'officials': u'organizations', u'lilly': u'affections', u'brigade': u'employing', u'jakob': u'hunt', u'queen': u'sexiest', u'negfill': u'negsees', u'negfilm': u'negthis', u'rhyme': u'ranting', u'robbery': u'heist', u'aussie': u'euro', u'putting': u'hands', u'implausible': u'unrealistic', u'surgeon': u'vito', u'fleming': u'macmahon', u'mcclane': u'malkovich', u'arrange': u'carlitos', u'severely': u'replaced', u'recreation': u'programmer', u'negdrug': u'negjoe', u'mesmerizing': u'stunning', u'knight': u'freddy', u'joel': u'coward', u'shock': u'surprising', u'anachronistic': u'rendering', u'choppy': u'jarring', u'ride': u'road', u'harper': u'casey', u'bernie': u'woodcock', u'unsatisfied': u'chuckling', u'vistas': u'exotic', u'negslightest': u'negcomic', u'negbecomes': u'negstops', u'bleeding': u'bleed', u'crow': u'poltergeist', u'uncomfortably': u'weigh', u'neglives': u'negbusiness', u'ham': u'ham', u'crop': u'euro', u'rivers': u'maiden', u'carla': u'affections', u'quigley': u'vito', u'uncomfortable': u'uncomfortable', u'subtle': u'humour', u'carlo': u'phillip', u'croc': u'astro', u'depression': u'immediate', u'reconciliation': u'persistent', u'edison': u'coward', u'negmood': u'negcomic', u'chicago': u'chicago', u'giving': u'line', u'anthem': u'programmer', u'rukh': u'boris', u'piper': u'phillip', u'fat': u'bear', u'graces': u'shine', u'access': u'boost', u'negplanet': u'negsees', u'pleading': u'rapist', u'exercise': u'grain', u'nacho': u'darling', u'sharks': u'masks', u'negfree': u'negsees', u'exchange': u'mumbai', u'backstory': u'ignoring', u'beasts': u'monkeys', u'oneself': u'oneself', u'faithfully': u'accurately', u'nonexistent': u'unrealistic', u'strangler': u'maiden', u'peggy': u'anna', u'packing': u'sends', u'waldemar': u'rapist', u'healing': u'destroy', u'others': u'mentioned', u'luis': u'hari', u'safer': u'privacy', u'irritating': u'moronic', u'mindset': u'virtues', u'notably': u'exceptions', u'remark': u'cynic', u'talent': u'skill', u'stalks': u'sends', u'conceit': u'rendering', u'poured': u'backing', u'peasants': u'peasants', u'alaska': u'subway', u'contradiction': u'substituted', u'negnear': u'negfeeling', u'resurrect': u'requests', u'existent': u'narrative', u'climb': u'kitchen', u'proof': u'indication', u'honor': u'hatred', u'composed': u'theme', u'ratso': u'emil', u'named': u'hunt', u'limp': u'ham', u'ears': u'seats', u'private': u'ryan', u'standpoint': u'detracts', u'negdead': u'negdies', u'names': u'roles', u'composer': u'theme', u'limb': u'miracles', u'scandal': u'participated', u'festivals': u'festivals', u'staple': u'chiller', u'sermon': u'cherished', u'lime': u'miner', u'spits': u'staircase', u'refers': u'referred', u'negdirect': u'neglearn', u'patron': u'maiden', u'negvideo': u'neguntil', u'chi': u'surly', u'hammered': u'handing', u'frenchman': u'peasant', u'debbie': u'mara', u'negfamiliar': u'neglikely', u'themselves': u'teenagers', u'harrowing': u'strangeness', u'irritates': u'ham', u'screening': u'festivals', u'negdeal': u'negcomic', u'negfully': u'negmade', u'trait': u'prevents', u'swell': u'conjure', u'payne': u'malkovich', u'trail': u'suspects', u'train': u'bus', u'prizes': u'received', u'ashamed': u'thankful', u'invasion': u'species', u'cylon': u'cylon', u'nypd': u'employing', u'iii': u'entry', u'duped': u'informed', u'minions': u'threatening', u'hints': u'ignoring', u'negdirectors': u'negjoe', u'account': u'witness', u'fooling': u'toss', u'origins': u'suburbia', u'britney': u'sexiest', u'f': u'f', u'tunnel': u'circular', u'vaudeville': u'programmer', u'hicks': u'homer', u'fiddle': u'surly', u'carrot': u'skinny', u'obvious': u'obvious', u'praise': u'received', u'industrial': u'surveillance', u'pulling': u'pulling', u'closing': u'confrontation', u'didnt': u'listened', u'something': u'whatever', u'negreality': u'negspace', u'borrowed': u'directly', u'violence': u'extreme', u'reserved': u'refined', u'negtrack': u'negsees', u'judge': u'weary', u'proportions': u'renders', u'blandings': u'channing', u'neginsight': u'neglogic', u'effectively': u'solidly', u'waltz': u'helicopters', u'scarface': u'bruckheimer', u'fulfillment': u'sordid', u'employs': u'rendering', u'bones': u'astro', u'stories': u'tale', u'arnie': u'kick', u'overtly': u'fireflies', u'serial': u'killers', u'contempt': u'oneself', u'magnificently': u'minelli', u'lamb': u'dillinger', u'daring': u'educational', u'democracy': u'organizations', u'noises': u'whispering', u'negsomeone': u'negfeeling', u'negnecessarily': u'negentertaining', u'negthey': u'neganyone', u'varies': u'unimpressive', u'winners': u'award', u'attachment': u'persistent', u'vonnegut': u'biopic', u'contrasts': u'arrangement', u'negextra': u'negcomic', u'negthen': u'negmust', u'negthem': u'neganyone', u'profile': u'scale', u'buildings': u'circular', u'sir': u'malkovich', u'fran': u'hari', u'incompetence': u'grain', u'philosophy': u'hatred', u'collection': u'bonus', u'bothered': u'irritated', u'negrandom': u'negcomic', u'sadistic': u'victims', u'conchita': u'affections', u'dominick': u'emil', u'embodiment': u'reversal', u'wisecracks': u'sporadically', u'negcover': u'negsees', u'negsigns': u'negbusiness', u'criticized': u'complained', u'chasing': u'belial', u'miike': u'audition', u'lucinda': u'rejects', u'direct': u'released', u'bing': u'rodgers', u'sit': u'walked', u'lines': u'storyline', u'liner': u'puns', u'hobo': u'speaker', u'chief': u'captain', u'laurie': u'knox', u'road': u'road', u'furious': u'forwarding', u'addiction': u'dealers', u'negbusiness': u'negbusiness', u'mustache': u'sack', u'humour': u'humour', u'embarrassingly': u'unimpressive', u'eerily': u'sunny', u'airwolf': u'prophet', u'meter': u'bla', u'hadley': u'macmahon', u'symbols': u'virtues', u'lands': u'storm', u'grendel': u'iron', u'shreds': u'bleed', u'grayson': u'sinatra', u'negsexy': u'negconfusing', u'negdad': u'negdies', u'toolbox': u'ritual', u'galaxy': u'andromeda', u'bunch': u'teenagers', u'bridges': u'earp', u'revived': u'bla', u'le': u'du', u'creeped': u'freaking', u'bridget': u'hayward', u'la': u'du', u'taboos': u'virtues', u'lo': u'phillip', u'll': u'lets', u'li': u'arts', u'resorting': u'ranting', u'age': u'older', u'heroism': u'sordid', u'willing': u'impossible', u'marsh': u'villainous', u'neghot': u'negconfusing', u'neghow': u'neganyone', u'criminal': u'boss', u'machinations': u'aspirations', u'negmother': u'negdies', u'weber': u'durante', u'dad': u'son', u'skilled': u'gifted', u'lunatic': u'ritual', u'descendants': u'peasants', u'treasure': u'pirates', u'dan': u'nash', u'spell': u'persuade', u'operator': u'vito', u'landau': u'plummer', u'mention': u'oh', u'cutting': u'literally', u'courtroom': u'confrontation', u'das': u'programmer', u'insisting': u'proceeded', u'kindness': u'hatred', u'mccoy': u'dillinger', u'strive': u'appreciates', u'stunts': u'fighting', u'february': u'anniversary', u'thrill': u'road', u'davidson': u'vito', u'estranged': u'whose', u'warned': u'warned', u'radiant': u'marianne', u'countries': u'sources', u'freshness': u'undeniable', u'overacts': u'likeable', u'blazing': u'bla', u'morris': u'jay', u'lingerie': u'skinny', u'disregard': u'bounds', u'wilde': u'wyler', u'slacker': u'faced', u'uninteresting': u'tiresome', u'constraints': u'increased', u'lie': u'stop', u'dixie': u'tina', u'negwill': u'neganyone', u'poppins': u'hayward', u'parties': u'lads', u'negwild': u'negjoe', u'negdark': u'negcomic', u'junkie': u'daredevil', u'filmmaking': u'seminal', u'programmer': u'programmer', u'programmes': u'avengers', u'marley': u'homer', u'popping': u'conjure', u'marius': u'channing', u'rex': u'circus', u'rey': u'villainous', u'negseeing': u'neghard', u'harding': u'hayward', u'kids': u'wongo', u'plods': u'monotonous', u'defend': u'persuade', u'negrelease': u'neguntil', u'negintention': u'negbusiness', u'wholly': u'distasteful', u'negpain': u'negsees', u'wisecracking': u'villainous', u'mate': u'gal', u'ren': u'phillip', u'stud': u'miner', u'reb': u'homer', u'lecture': u'schizophrenia', u'negpaid': u'negfeeling', u'fondly': u'showtime', u'pryor': u'laurence', u'announced': u'originally', u'harold': u'earp', u'christensen': u'durante', u'approached': u'informed', u'serling': u'serling', u'frank': u'earp', u'pacifist': u'peasant', u'blackie': u'dillinger', u'toll': u'downward', u'coen': u'brothers', u'fourteen': u'fourteen', u'clarify': u'amuse', u'approaches': u'reversal', u'gackt': u'shine', u'homages': u'chiller', u'franz': u'minelli', u'bleed': u'bleed', u'negturns': u'negjoe', u'salute': u'attendance', u'backwards': u'rolls', u'yard': u'shaft', u'negmarry': u'negdies', u'steal': u'rob', u'shells': u'masks', u'yarn': u'sorcery', u'rita': u'mara', u'abuse': u'abuse', u'mortal': u'potter', u'barriers': u'increasing', u'retain': u'aspirations', u'grieving': u'helene', u'invisible': u'kick', u'stuck': u'pulling', u'south': u'canada', u'strippers': u'rituals', u'finest': u'best', u'fleshed': u'developing', u'justine': u'beavers', u'bogdanovich': u'masterwork', u'sack': u'sack', u'betrays': u'reversal', u'embarrassed': u'cheated', u'improvements': u'footnote', u'puppet': u'dinosaurs', u'reached': u'reached', u'engineered': u'cockroaches', u'owning': u'releasing', u'negbehind': u'negbusiness', u'ancient': u'rome', u'thirties': u'peak', u'monkey': u'kick', u'denying': u'unwilling', u'vulgar': u'vile', u'chased': u'chased', u'hilary': u'tina', u'realistically': u'accurately', u'vagina': u'nipples', u'negquickly': u'negsees', u'dudikoff': u'dudikoff', u'claymation': u'jarring', u'scant': u'intervals', u'lions': u'masks', u'pakistani': u'drafted', u'bargained': u'repulsed', u'lapd': u'heinous', u'cabin': u'lake', u'negre': u'negt', u'gear': u'controls', u'unscrupulous': u'drafted', u'bulldog': u'miner', u'thought': u'expect', u'negdeveloped': u'negstops', u'acquire': u'suggestions', u'kalifornia': u'footnote', u'dreary': u'plodding', u'negro': u'speaker', u'neglong': u'negsuch', u'environmental': u'fascism', u'sporadically': u'sporadically', u'grandchildren': u'carlitos', u'addled': u'mocked', u'deeply': u'frightened', u'irresponsible': u'mocked', u'knowles': u'knox', u'negelements': u'negcomic', u'negissues': u'negcomic', u'loved': u'loved', u'glamorous': u'diana', u'slack': u'slack', u'jocks': u'lads', u'heh': u'freaking', u'sillier': u'spongebob', u'neglittle': u'neglittle', u'politics': u'deals', u'sweden': u'rome', u'boyish': u'macho', u'loves': u'knows', u'lover': u'friend', u'flashes': u'glimpses', u'pretends': u'knows', u'coronation': u'maiden', u'anthropologist': u'miner', u'imaginative': u'inventive', u'melinda': u'homer', u'wakes': u'messing', u'negrealized': u'negmust', u'hagen': u'affections', u'bisexual': u'behaves', u'half': u'second', u'cattle': u'peasants', u'tidy': u'conjure', u'ffolkes': u'weary', u'comfortable': u'faced', u'tide': u'handing', u'comfortably': u'symbol', u'unlikely': u'unlikely', u'have': u'have', u'negwhile': u'negmust', u'throat': u'belt', u'clunker': u'reeks', u'demonstration': u'peasant', u'neggreat': u'negsuch', u'paltrow': u'winslet', u'satyricon': u'vision', u'mil': u'footnote', u'aladdin': u'bambi', u'untouchables': u'raoul', u'skillful': u'endearment', u'davies': u'macmahon', u'parks': u'maiden', u'provokes': u'circumstance', u'mix': u'mixes', u'negfurther': u'negqualities', u'negexist': u'negadd', u'negcartoon': u'neguk', u'provoked': u'cherished', u'uneducated': u'mocked', u'mis': u'accent', u'negslightly': u'negsees', u'reciting': u'shed', u'savages': u'arabs', u'closeups': u'closeups', u'spinster': u'affections', u'agenda': u'atheist', u'sfx': u'cgi', u'smallville': u'andromeda', u'senses': u'strings', u'hazel': u'helene', u'negbizarre': u'negjoe', u'disappointments': u'unheard', u'eight': u'seven', u'peppered': u'assortment', u'prisoner': u'captain', u'capacity': u'oneself', u'phyllis': u'woodward', u'sophisticated': u'sophisticated', u'sally': u'anna', u'herman': u'homer', u'negwinner': u'neglikely', u'eisenberg': u'tina', u'shakti': u'shine', u'allegorical': u'unconventional', u'downbeat': u'elegance', u'designed': u'solidly', u'enthusiastic': u'admired', u'gather': u'lads', u'clive': u'haggis', u'disease': u'ritual', u'bookstore': u'carlitos', u'absurd': u'distasteful', u'rendezvous': u'mumbai', u'occasion': u'relied', u'skinny': u'skinny', u'normally': u'usually', u'kotto': u'knox', u'besson': u'georges', u'charley': u'homer', u'selection': u'mastered', u'karyo': u'tina', u'absorbing': u'intelligent', u'text': u'text', u'charles': u'earp', u'overwhelmed': u'engrossed', u'bathing': u'nipples', u'hamlet': u'tolkien', u'pinhead': u'freaking', u'tearful': u'carlitos', u'traitor': u'heinous', u'beauties': u'speaker', u'gasping': u'chuckling', u'supporter': u'drafted', u'staff': u'missions', u'inspiring': u'stunning', u'coloring': u'inconsistency', u'grabbed': u'wee', u'knowledge': u'express', u'sparks': u'hayward', u'with': u'laid', u'scorpion': u'iron', u'madman': u'ritual', u'catalogue': u'discount', u'controls': u'controls', u'promisingly': u'staircase', u'bernard': u'nash', u'satan': u'ritual', u'buying': u'watch', u'prancing': u'skinny', u'communist': u'nation', u'spice': u'conjure', u'inferior': u'footnote', u'finger': u'seats', u'photographs': u'brokeback', u'negnamed': u'negjoe', u'laputa': u'suburbia', u'keeps': u'keeps', u'exceptional': u'superb', u'beat': u'stand', u'beau': u'tina', u'photography': u'editing', u'stripes': u'proverbial', u'bear': u'bear', u'dumbing': u'sink', u'beam': u'oxygen', u'bean': u'malkovich', u'perfection': u'perfectly', u'aforementioned': u'featured', u'farley': u'whoopi', u'timing': u'storyline', u'areas': u'sources', u'shahrukh': u'bachchan', u'organ': u'faux', u'whilst': u'while', u'virginal': u'sullen', u'misguided': u'misguided', u'suburbs': u'coastal', u'eyebrow': u'ranting', u'calling': u'killed', u'dome': u'oxygen', u'negthriller': u'negconfusing', u'mercedes': u'maiden', u'including': u'featured', u'negmonster': u'negsees', u'fixed': u'prayer', u'gibson': u'gibson', u'joanna': u'mara', u'cinematically': u'substituted', u'enhances': u'kinetic', u'untrue': u'telegraphed', u'negterribly': u'negconfusing', u'turkeys': u'pixar', u'dillon': u'durante', u'benton': u'villainous', u'puddle': u'rolls', u'showdown': u'confrontation', u'yearning': u'immediate', u'intensity': u'undeniable', u'enhanced': u'kinetic', u'greece': u'rome', u'negterrible': u'negconfusing', u'negworld': u'negspace', u'awaits': u'requests', u'lookalike': u'villainous', u'walking': u'split', u'exploited': u'substituted', u'nails': u'belt', u'pedigree': u'minelli', u'turks': u'arabs', u'reform': u'reform', u'vignettes': u'interacting', u'pattern': u'conjure', u'literate': u'solidly', u'melvyn': u'plummer', u'ralph': u'macmahon', u'negdumb': u'negcomic', u'rothrock': u'paired', u'difficulties': u'risks', u'rowan': u'darling', u'bruno': u'alexander', u'routine': u'distasteful', u'progress': u'existence', u'colombian': u'drafted', u'massey': u'macmahon', u'janet': u'mara', u'raped': u'chased', u'junkies': u'enthusiast', u'sorrow': u'immediate', u'suitcase': u'sends', u'deliver': u'usual', u'toting': u'autopsy', u'manuel': u'miner', u'yr': u'fashioned', u'jackhammer': u'autopsy', u'backstage': u'dusty', u'negcentral': u'negjoe', u'negjustice': u'neglearn', u'instant': u'ncis', u'buster': u'homer', u'neghere': u'negmention', u'freely': u'endure', u'taking': u'taking', u'karl': u'casey', u'ruffalo': u'plummer', u'equal': u'heart', u'attributed': u'easiest', u'trips': u'rituals', u'fulfilled': u'oneself', u'assure': u'guarantee', u'busted': u'broke', u'negfaithful': u'neglikely', u'sexes': u'fascism', u'swim': u'nipples', u'conquered': u'cylon', u'passing': u'repeat', u'darker': u'worse', u'guerrilla': u'iraq', u'glorious': u'ballet', u'hokum': u'sorcery', u'comment': u'read', u'vent': u'laptop', u'relevant': u'educational', u'railroad': u'subway', u'fassbinder': u'kusturica', u'kher': u'mara', u'clues': u'information', u'teasing': u'nipples', u'forgot': u'oh', u'brennan': u'knox', u'reborn': u'rapist', u'neganymore': u'neghard', u'denis': u'phillip', u'laugh': u'laugh', u'monstrosity': u'stinking', u'hellman': u'biopic', u'mafia': u'federal', u'earning': u'participated', u'pratfalls': u'sporadically', u'pouring': u'kitchen', u'fright': u'chiller', u'exposure': u'contention', u'tremendous': u'shine', u'muddy': u'daytime', u'negsing': u'neglearn', u'copies': u'online', u'darren': u'anna', u'ai': u'suburbia', u'gaze': u'weigh', u'seasoned': u'gifted', u'ah': u'code', u'harbour': u'carlitos', u'upbeat': u'serviceable', u'copied': u'directly', u'accents': u'accent', u'define': u'appreciates', u'neglaughing': u'negmust', u'arises': u'spontaneously', u'perplexed': u'sullen', u'finishes': u'staircase', u'aubrey': u'macmahon', u'received': u'received', u'censor': u'increased', u'overwhelmingly': u'inconsistency', u'essentially': u'featured', u'finale': u'confrontation', u'bulk': u'periods', u'redhead': u'beavers', u'finished': u'mins', u'masterwork': u'masterwork', u'tense': u'inventive', u'wartime': u'iraq', u'angles': u'angle', u'bull': u'kick', u'bulb': u'rolls', u'donen': u'becker', u'despite': u'while', u'napoleon': u'cynic', u'volunteer': u'drafted', u'homer': u'homer', u'homes': u'peasants', u'multi': u'flavour', u'cypher': u'werner', u'atmospheric': u'eerie', u'vapid': u'pathetically', u'plain': u'moronic', u'widescreen': u'format', u'appearance': u'appearance', u'vivacious': u'marianne', u'promotes': u'prevents', u'agar': u'dillinger', u'negmurder': u'negjoe', u'promoted': u'coverage', u'au': u'supplied', u'revisited': u'discount', u'frustrating': u'sketchy', u'ill': u'ill', u'negenjoyed': u'negmust', u'carved': u'charts', u'inherits': u'owner', u'noticed': u'complained', u'likable': u'sympathetic', u'bratty': u'beavers', u'file': u'surveillance', u'negfor': u'neginto', u'almost': u'almost', u'delusion': u'increasing', u'captors': u'peasants', u'negsay': u'neganyone', u'respected': u'banned', u'arrangements': u'dusty', u'ax': u'shaft', u'arabia': u'prophet', u'partner': u'boss', u'bloodless': u'requisite', u'superheroes': u'reservoir', u'starcraft': u'sonic', u'negediting': u'negcomic', u'negsad': u'negsees', u'didactic': u'sappy', u'clinging': u'carlitos', u'landmarks': u'dusty', u'orthodox': u'mocked', u'administration': u'nation', u'indistinguishable': u'inconsistency', u'defiant': u'persistent', u'mcdermott': u'whoopi', u'foxx': u'durante', u'negsatisfied': u'negt', u'layered': u'elegance', u'slammed': u'bla', u'negpurpose': u'negreason', u'makings': u'sorcery', u'shuttle': u'sail', u'powell': u'powell', u'negdifferent': u'negfeeling', u'injured': u'sends', u'material': u'idea', u'giggles': u'bleed', u'novels': u'book', u'zorro': u'bulworth', u'reporting': u'surveillance', u'negplayed': u'negdies', u'bullying': u'persistent', u'spitting': u'handing', u'sisters': u'parent', u'fantastically': u'dour', u'gwyneth': u'winslet', u'judgment': u'cents', u'scholars': u'suggestions', u'tighter': u'reckon', u'retard': u'replied', u'goldsworthy': u'hatred', u'raping': u'sends', u'negwait': u'neghard', u'nevertheless': u'satisfying', u'com': u'petition', u'weapon': u'combat', u'pickpocket': u'miner', u'seth': u'whoopi', u'overshadowed': u'replaced', u'antonio': u'du', u'englund': u'altman', u'exceedingly': u'mish', u'knotts': u'darling', u'oops': u'toss', u'redeemable': u'flaw', u'sets': u'elaborate', u'comparisons': u'indicative', u'creators': u'avengers', u'soviet': u'vets', u'latest': u'bruckheimer', u'ny': u'ch', u'theron': u'tina', u'barking': u'barking', u'negspend': u'neghard', u'neghistory': u'negspace', u'humdrum': u'solitude', u'executive': u'screenwriter', u'domestic': u'fascism', u'negliked': u'neguntil', u'negpiece': u'negt', u'clinic': u'sends', u'underlying': u'fundamental', u'negspent': u'negmust', u'seats': u'seats', u'dakota': u'mara', u'tough': u'tough', u'griffith': u'y', u'flashlight': u'bleed', u'nukie': u'tiny', u'scrimm': u'circus', u'winchester': u'weary', u'negstrange': u'negjoe', u'flee': u'requests', u'terrorized': u'mysteriously', u'demographic': u'targeted', u'lake': u'lake', u'recommending': u'ur', u'bench': u'floor', u'negchinese': u'negjoe', u'add': u'allows', u'forbes': u'plummer', u'neglaw': u'negjoe', u'ada': u'abel', u'niro': u'niro', u'crass': u'sporadically', u'negchristmas': u'negjoe', u'match': u'batista', u'incarnations': u'arabs', u'resolved': u'ignoring', u'tests': u'rituals', u'orbit': u'sail', u'articles': u'citizen', u'fyi': u'rodgers', u'negvalue': u'negqualities', u'mcintire': u'dillinger', u'royalty': u'programmer', u'doyle': u'wizard', u'swanson': u'sunset', u'resolves': u'reversal', u'negcouldn': u'negwon', u'drive': u'cars', u'desperately': u'desperate', u'safety': u'destroy', u'accompaniment': u'ballet', u'insert': u'freaking', u'amrita': u'juhi', u'puppy': u'sack', u'like': u'weird', u'success': u'entry', u'vibrant': u'stunning', u'ewoks': u'monkeys', u'admitted': u'informed', u'negordinary': u'negjoe', u'edit': u'directly', u'journalist': u'owner', u'heed': u'ur', u'chick': u'model', u'neghopes': u'negt', u'soft': u'strictly', u'audible': u'unimpressive', u'heel': u'obese', u'italian': u'giallo', u'accessible': u'educational', u'dancing': u'dance', u'pauline': u'helene', u'negcommentary': u'negcomic', u'interludes': u'assortment', u'hail': u'bla', u'hair': u'dresses', u'negaccent': u'negjoe', u'negsix': u'negjoe', u'negindication': u'negbusiness', u'recommendation': u'expectation', u'proper': u'means', u'novelist': u'bagdad', u'supportive': u'misguided', u'stuffy': u'surly', u'happens': u'hell', u'moran': u'casey', u'est': u'du', u'unfunny': u'moronic', u'congress': u'elected', u'negmet': u'neguntil', u'billy': u'crystal', u'corpse': u'ritual', u'hurricane': u'sail', u'students': u'grammar', u'vampires': u'dinosaurs', u'valjean': u'channing', u'masked': u'ritual', u'economical': u'rendering', u'assuming': u'thankful', u'screwed': u'picks', u'giamatti': u'whoopi', u'speak': u'english', u'negtell': u'negwon', u'brigitte': u'anna', u'kidnappers': u'peasants', u'regain': u'requests', u'conference': u'coastal', u'pepper': u'paired', u'noise': u'hip', u'proud': u'thankful', u'slight': u'unexpected', u'commend': u'shine', u'miriam': u'macmahon', u'stellar': u'assured', u'lieutenant': u'captain', u'uptight': u'miner', u'kristin': u'tina', u'although': u'because', u'worthy': u'belongs', u'periodically': u'flu', u'olsen': u'winslet', u'simpler': u'detracts', u'retribution': u'destroy', u'seriousness': u'fireflies', u'neggratuitous': u'neglogic', u'actual': u'real', u'justin': u'whoopi', u'negcash': u'negsees', u'smartly': u'solidly', u'certainty': u'bounds', u'neganimal': u'negsees', u'introduces': u'reversal', u'serviceable': u'serviceable', u'attends': u'helene', u'statement': u'criticism', u'evoke': u'fireflies', u'you': u'guarantee', u'negbook': u'negmention', u'tomb': u'cockroaches', u'introduced': u'presented', u'explicit': u'extreme', u'napier': u'knox', u'rendered': u'solidly', u'smarts': u'charts', u'rifles': u'autopsy', u'conway': u'jay', u'terry': u'nash', u'zooms': u'closeups', u'socks': u'banana', u'chris': u'chris', u'guard': u'sent', u'doesnt': u'amuse', u'esteem': u'destructive', u'female': u'female', u'negotherwise': u'negsees', u'quickly': u'immediately', u'revolve': u'concerns', u'dizzying': u'rendering', u'yorkers': u'gangs', u'legends': u'programmer', u'adolescent': u'faced', u'negthinking': u'negfeeling', u'mishmash': u'unimpressive', u'outline': u'narrative', u'gidget': u'belial', u'negwithin': u'negspace', u'awarded': u'received', u'rushes': u'staircase', u'spread': u'cylon', u'applegate': u'durante', u'glimmer': u'prevents', u'biggest': u'major', u'maze': u'circular', u'negclearly': u'negfeeling', u'touted': u'banned', u'negauthentic': u'negcomic', u'glib': u'weigh', u'ivory': u'programmer', u'buy': u'watch', u'chatting': u'skating', u'negguns': u'negbusiness', u'negsake': u'neguk', u'brand': u'der', u'sequel': u'entry', u'but': u'because', u'negpart': u'negspace', u'reminds': u'amazes', u'repeated': u'repeat', u'havana': u'coastal', u'plague': u'avoided', u'bum': u'loser', u'negsuccess': u'neguk', u'editing': u'editing', u'bug': u'astro', u'bud': u'paired', u'partially': u'import', u'climatic': u'confrontation', u'wise': u'tough', u'farrah': u'diana', u'leatherface': u'slumber', u'dangerous': u'victims', u'negagain': u'negagain', u'j': u'y', u'variations': u'inconsistency', u'flip': u'floor', u'neatly': u'conjure', u'casts': u'veterans', u'naming': u'privacy', u'minutes': u'mins', u'tricks': u'angle', u'plutonium': u'robber', u'obstacles': u'destroy', u'skating': u'skating', u'excruciatingly': u'plodding', u'supreme': u'sordid', u'keanu': u'audie', u'rabbits': u'rituals', u'pin': u'charts', u'deaths': u'grisly', u'whisper': u'whispering', u'domino': u'cherished', u'measure': u'dose', u'pie': u'pixar', u'phoned': u'ham', u'negfacts': u'negcomic', u'crusade': u'drafted', u'periods': u'periods', u'our': u'villain', u'commentators': u'mentioned', u'mysteriously': u'mysteriously', u'identities': u'threatening', u'campus': u'lads', u'negable': u'negeasy', u'unintelligible': u'unimpressive', u'corporation': u'cylon', u'sleepwalking': u'likeable', u'claiming': u'informed', u'detail': u'editing', u'virtual': u'surveillance', u'surreal': u'dreamlike', u'deathstalker': u'xtro', u'forgivable': u'reckon', u'sandy': u'whoopi', u'neginvolving': u'negcomic', u'dresses': u'dresses', u'adam': u'adam', u'convicts': u'mysteriously', u'republicans': u'organizations', u'conveys': u'dignity', u'boone': u'laurence', u'traumatic': u'immediate', u'detractors': u'easiest', u'thanks': u'allows', u'wallow': u'weigh', u'weaponry': u'masks', u'log': u'kitchen', u'wallop': u'faux', u'gloriously': u'minelli', u'christians': u'atheist', u'warners': u'studios', u'ramble': u'ranting', u'prevalent': u'unheard', u'starting': u'started', u'baker': u'nash', u'entertainment': u'satisfying', u'coherent': u'component', u'mcadams': u'mara', u'negmusic': u'negspace', u'spee': u'vets', u'craft': u'producing', u'image': u'format', u'bankrupt': u'unwilling', u'negfull': u'negt', u'accidents': u'rituals', u'baked': u'filler', u'confess': u'regretted', u'limited': u'skill', u'steiger': u'villainous', u'represent': u'sources', u'hats': u'fried', u'comparatively': u'feats', u'suspenseful': u'inventive', u'hitch': u'belial', u'penchant': u'arresting', u'neggroup': u'negjoe', u'sleep': u'cheated', u'hating': u'geared', u'negthrown': u'negsees', u'appetite': u'severed', u'hate': u'interest', u'assembled': u'shine', u'poorly': u'badly', u'negalong': u'negsees', u'feeding': u'rituals', u'vile': u'vile', u'paris': u'university', u'patronizing': u'persistent', u'poorest': u'dumbest', u'supported': u'minelli', u'negfights': u'negcomic', u'negsolid': u'negcomic', u'brilliant': u'superb', u'whatsoever': u'needn', u'minimalist': u'kinetic', u'pride': u'hatred', u'instincts': u'atheist', u'minelli': u'minelli', u'merchant': u'programmer', u'negemotions': u'negbusiness', u'lure': u'robber', u'stanton': u'plummer', u'risk': u'persuade', u'rise': u'scale', u'negportrayed': u'negjoe', u'every': u'every', u'jack': u'matthau', u'messy': u'plodding', u'frailty': u'sordid', u'vastly': u'footnote', u'negregret': u'neghard', u'monkeys': u'monkeys', u'encounter': u'belial', u'dreamworks': u'walt', u'school': u'school', u'negfriends': u'negbusiness', u'parrot': u'sack', u'zappa': u'surly', u'negspoken': u'neguk', u'conceive': u'persuade', u'withers': u'alexander', u'venue': u'coverage', u'negactions': u'negbusiness', u'integrated': u'solidly', u'replied': u'replied', u'flashy': u'daytime', u'guiding': u'faux', u'heighten': u'rendering', u'delightfully': u'serviceable', u'venus': u'flu', u'glued': u'seats', u'censors': u'increased', u'iran': u'iraq', u'eileen': u'hayward', u'veritable': u'suburbia', u'bicycle': u'charts', u'leaders': u'organizations', u'intercut': u'daytime', u'consistent': u'component', u'welfare': u'risks', u'feathers': u'skinny', u'request': u'inheritance', u'nail': u'blast', u'surrounding': u'existence', u'persuade': u'persuade', u'negjoke': u'negt', u'streep': u'thurman', u'caviezel': u'plummer', u'negcinema': u'negt', u'emptiness': u'virtues', u'expressive': u'dour', u'negproblems': u'negbusiness', u'shining': u'lambs', u'blue': u'orange', u'faye': u'diana', u'hide': u'rob', u'christ': u'christ', u'selected': u'banned', u'revolves': u'concerns', u'revolver': u'daredevil', u'poison': u'robber', u'plodding': u'plodding', u'mischievous': u'sullen', u'negscience': u'neguk', u'conduct': u'drafted', u'supplies': u'peasants', u'emily': u'anna', u'stooges': u'stooge', u'disney': u'cartoon', u'teachers': u'grammar', u'wink': u'shakespearean', u'philippe': u'abel', u'kicked': u'broke', u'zack': u'rejects', u'zach': u'homer', u'yanks': u'rituals', u'molly': u'anna', u'ulterior': u'unwilling', u'entertains': u'elegance', u'feisty': u'tina', u'hundreds': u'dozen', u'neghandle': u'negsees', u'studio': u'studios', u'negpathetic': u'neguk', u'represented': u'arabs', u'path': u'existence', u'stares': u'sack', u'promptly': u'sends', u'negsaved': u'negsees', u'voice': u'voice', u'vikings': u'arabs', u'forum': u'stating', u'luggage': u'robber', u'ventures': u'symbol', u'leaves': u'leave', u'settles': u'sends', u'published': u'ju', u'saint': u'university', u'mentor': u'whose', u'fingernails': u'bleed', u'natives': u'enemies', u'changes': u'changes', u'punishment': u'atheist', u'amato': u'infamous', u'negbetween': u'neglogic', u'prints': u'mastered', u'ridiculed': u'mocked', u'resurrected': u'ritual', u'stray': u'symbol', u'negmarriage': u'negdies', u'straw': u'bleed', u'julie': u'anna', u'visibly': u'beavers', u'hitchcockian': u'unconventional', u'feelings': u'express', u'pia': u'received', u'visible': u'closeups', u'ridicules': u'reckon', u'sloane': u'plummer', u'wars': u'andromeda', u'sympathise': u'communicate', u'eastwood': u'biopic', u'actions': u'remarks', u'negdeserved': u'negsees', u'philip': u'bagdad', u'negoff': u'negadd', u'swings': u'gunfight', u'flop': u'flop', u'assed': u'filler', u'would': u'might', u'double': u'kick', u'hospital': u'after', u'crowning': u'seminal', u'nora': u'anna', u'negbeing': u'neginto', u'conquer': u'destroy', u'asses': u'mock', u'negwatchable': u'negconfusing', u'asset': u'prose', u'giallo': u'giallo', u'spike': u'reeve', u'chewing': u'proverbial', u'committing': u'crimes', u'preview': u'originally', u'negsexual': u'negspace', u'los': u'chicago', u'ravishing': u'bullock', u'slaughtered': u'rituals', u'mystical': u'suburbia', u'grier': u'bullock', u'saber': u'threatening', u'naive': u'socially', u'robbins': u'jay', u'drowning': u'downward', u'muse': u'tina', u'grief': u'risks', u'phone': u'belial', u'connecticut': u'coastal', u'negrubbish': u'negt', u'boomer': u'sack', u'excellent': u'superb', u'robbing': u'robber', u'negalmost': u'negjoe', u'outdated': u'indicative', u'must': u'must', u'shoot': u'shooting', u'enjoying': u'liking', u'ma': u'abel', u'mc': u'coward', u'cheapest': u'outings', u'mm': u'grainy', u'mo': u'fried', u'tremendously': u'thoroughly', u'mi': u'prophet', u'lukas': u'plummer', u'entertained': u'liking', u'mj': u'handing', u'creatively': u'solidly', u'daft': u'sketchy', u'mp': u'surveillance', u'ms': u'mrs', u'henry': u'nash', u'entertainer': u'hayward', u'ernest': u'earp', u'carmen': u'hari', u'grenade': u'shaft', u'negdenying': u'negqualities', u'shook': u'distracts', u'teller': u'weary', u'estate': u'owner', u'ingenuity': u'rendering', u'florida': u'subway', u'dolphin': u'sends', u'tub': u'nipples', u'negmotion': u'negjoe', u'gadgets': u'sporadically', u'mayhem': u'gunfight', u'neggarbage': u'negt', u'negsound': u'negcomic', u'artificially': u'dense', u'attract': u'targeted', u'crudup': u'bob', u'looses': u'rapist', u'ceremony': u'anniversary', u'negreasons': u'negcomic', u'end': u'unexpected', u'negapparent': u'negreason', u'keen': u'misguided', u'cylons': u'cylon', u'sitting': u'walked', u'writers': u'makers', u'accusations': u'mumbai', u'toxic': u'astro', u'gate': u'bla', u'ancestor': u'owner', u'charging': u'peasants', u'eyeballs': u'bleed', u'badly': u'badly', u'poker': u'skinny', u'pokes': u'sporadically', u'pig': u'sylvester', u'elizabeth': u'mara', u'mouths': u'bleed', u'claptrap': u'grain', u'mess': u'tiresome', u'insecure': u'sullen', u'dietrich': u'mrs', u'imaginable': u'handedly', u'demanding': u'misguided', u'plausibility': u'bounds', u'hence': u'suggests', u'jumping': u'kitchen', u'negmessage': u'negspace', u'cain': u'jimmy', u'neganswered': u'negstops', u'parallel': u'accurately', u'negimpress': u'neglearn', u'danny': u'aiello', u'splendid': u'shine', u'amid': u'faux', u'spout': u'ranting', u'acknowledged': u'contention', u'hypnotic': u'sunny', u'allison': u'tina', u'complexity': u'dignity', u'funniest': u'best', u'ultimate': u'powers', u'enter': u'belial', u'aloud': u'shed', u'judd': u'casey', u'harlem': u'brokeback', u'executed': u'badly', u'untold': u'lambs', u'tatum': u'casey', u'over': u'over', u'casted': u'appropriate', u'expects': u'intent', u'sickly': u'sullen', u'london': u'southern', u'thesis': u'participated', u'forsyte': u'anna', u'carnal': u'persistent', u'spielberg': u'steven', u'talkative': u'serviceable', u'digest': u'digest', u'glances': u'whispering', u'parting': u'dusty', u'evans': u'macmahon', u'hypocrisy': u'fascism', u'edith': u'hayward', u'negfeelings': u'negbusiness', u'expectations': u'zero', u'neganybody': u'neglearn', u'writing': u'storyline', u'destroyed': u'cylon', u'tramp': u'woodcock', u'edits': u'jarring', u'entranced': u'bonkers', u'compelling': u'intelligent', u'fade': u'backing', u'whips': u'sends', u'eugene': u'jay', u'iowa': u'coastal', u'repressed': u'persistent', u'prevented': u'gift', u'confuse': u'amuse', u'lewton': u'mani', u'outstanding': u'superb', u'revelations': u'proportion', u'plates': u'helicopters', u'negmusical': u'neguk', u'negeye': u'negjoe', u'rental': u'mart', u'negseriously': u'negeasy', u'sans': u'proverbial', u'shadows': u'lit', u'gloom': u'rendering', u'netherlands': u'programmer', u'alex': u'belial', u'pbs': u'showtime', u'bosnia': u'iraq', u'neggeneral': u'negjoe', u'negnative': u'neguk', u'mothers': u'parent', u'chuck': u'woodcock', u'detroit': u'subway', u'choir': u'charts', u'marvellous': u'shine', u'negmovie': u'negthis', u'victory': u'vets', u'drugged': u'broke', u'waving': u'bleed', u'negring': u'negjoe', u'heist': u'heist', u'alec': u'durante', u'wheel': u'kitchen', u'signing': u'broke', u'hanger': u'pole', u'negright': u'negwon', u'diana': u'diana', u'diane': u'mara', u'leftist': u'fascism', u'negshowing': u'negjoe', u'celebrating': u'carlitos', u'elwood': u'skating', u'yvette': u'abel', u'negfresh': u'negcomic', u'combining': u'mixes', u'globalization': u'strategic', u'ang': u'masterwork', u'ghosts': u'tiny', u'negpowerful': u'negconfusing', u'juxtaposition': u'arrangement', u'reused': u'directly', u'lair': u'sends', u'driving': u'bus', u'pesky': u'daredevil', u'god': u'sake', u'psychic': u'ritual', u'washed': u'backing', u'sand': u'kitchen', u'bennet': u'macmahon', u'artifacts': u'tours', u'theodore': u'coward', u'laid': u'laid', u'sane': u'appreciates', u'millennium': u'scanners', u'banning': u'surly', u'foolishly': u'contention', u'snore': u'slack', u'got': u'have', u'neglow': u'negt', u'blames': u'nefarious', u'independence': u'organizations', u'perception': u'existence', u'negever': u'negthis', u'associate': u'surly', u'hang': u'banana', u'negexists': u'negbusiness', u'eternal': u'sordid', u'free': u'watch', u'fred': u'rogers', u'masterpiece': u'commercial', u'formation': u'mumbai', u'evil': u'evil', u'negtheaters': u'negmust', u'negeven': u'neginto', u'wanted': u'give', u'negrights': u'negjoe', u'juan': u'du', u'agree': u'disagree', u'argument': u'answering', u'negclassic': u'negkind', u'negface': u'negdies', u'ritual': u'ritual', u'correctness': u'fascism', u'suburbia': u'suburbia', u'priorities': u'existence', u'tolerant': u'geared', u'filter': u'backing', u'labored': u'assortment', u'heck': u'hell', u'hopeless': u'socially', u'soda': u'banana', u'aspire': u'appreciates', u'negfact': u'negfeeling', u'onto': u'past', u'recite': u'shed', u'fierce': u'threatening', u'rang': u'cherished', u'narratives': u'proportion', u'dukakis': u'macmahon', u'researcher': u'peasant', u'attractions': u'programmer', u'redneck': u'astro', u'rani': u'juhi', u'encouraging': u'endure', u'rank': u'scale', u'hearing': u'hear', u'lovable': u'lovable', u'rant': u'clue', u'philosophical': u'fundamental', u'relations': u'fascism', u'sober': u'strings', u'scissors': u'bleed', u'researched': u'handled', u'mercury': u'programmer', u'inmate': u'owner', u'toy': u'astro', u'rewritten': u'footnote', u'revival': u'seminal', u'their': u'parent', u'guinness': u'mani', u'sarcasm': u'shakespearean', u'top': u'over', u'quotable': u'sporadically', u'tow': u'sends', u'heights': u'predecessor', u'futurama': u'avengers', u'scrutiny': u'suspicion', u'ton': u'etc', u'overact': u'reckon', u'tom': u'selleck', u'gowns': u'maiden', u'percentage': u'increased', u'carrey': u'christmas', u'tod': u'infamous', u'insightful': u'educational', u'urban': u'southern', u'ceiling': u'kitchen', u'murder': u'suspects', u'centered': u'destructive', u'grabs': u'staircase', u'tool': u'strategic', u'serve': u'intent', u'pondering': u'chuckling', u'sync': u'jarring', u'ankle': u'barking', u'western': u'sukiyaki', u'glow': u'lit', u'injected': u'throws', u'neginnocent': u'negjoe', u'stinkers': u'outings', u'mercifully': u'lasts', u'kidnaps': u'nefarious', u'communicate': u'communicate', u'negtop': u'neglikely', u'rampage': u'ritual', u'strung': u'conjure', u'negintelligence': u'negcomic', u'novarro': u'hayward', u'immigrants': u'arabs', u'troop': u'disgruntled', u'aztec': u'peasant', u'tourists': u'peasants', u'bethany': u'casey', u'negfinally': u'negsees', u'precocious': u'whose', u'classes': u'grammar', u'flame': u'obese', u'hurley': u'mara', u'negtom': u'negjoe', u'negtoo': u'negsuch', u'beard': u'belt', u'countess': u'owner', u'possessed': u'ritual', u'perspective': u'perspective', u'screenplay': u'screenwriter', u'rag': u'missions', u'silhouette': u'dusty', u'humble': u'favorites', u'close': u'grew', u'ran': u'originally', u'ram': u'supplied', u'raj': u'juhi', u'rai': u'marianne', u'raw': u'undeniable', u'rat': u'astro', u'neggotten': u'negmust', u'rap': u'roll', u'healer': u'peasant', u'screws': u'messing', u'ulmer': u'woody', u'spade': u'whoopi', u'ray': u'earp', u'triangle': u'akbar', u'nipples': u'nipples', u'traditionally': u'arabs', u'campy': u'kinda', u'braveheart': u'footnote', u'thoroughly': u'thoroughly', u'degenerates': u'throws', u'isolated': u'abandoned', u'thorough': u'substituted', u'brandon': u'plummer', u'oriented': u'detracts', u'client': u'nefarious', u'derek': u'derek', u'shelf': u'online', u'snob': u'behaves', u'delirious': u'audie', u'effectiveness': u'rendering', u'rides': u'shaft', u'negeffort': u'negqualities', u'clunky': u'annoyingly', u'memory': u'memories', u'negmark': u'negjoe', u'glimpsed': u'dusty', u'negsmile': u'negsees', u'though': u'because', u'denominator': u'outings', u'negmary': u'negsees', u'rumble': u'batista', u'negsaid': u'negfeeling', u'defence': u'suspicion', u'glimpses': u'glimpses', u'mannerisms': u'facial', u'plenty': u'etc', u'commanding': u'channing', u'centering': u'concerns', u'coin': u'proceeded', u'unorthodox': u'discusses', u'jean': u'reno', u'inexcusable': u'telegraphed', u'abe': u'dillinger', u'peers': u'risks', u'strategic': u'strategic', u'treats': u'behaves', u'rogers': u'rogers', u'devastating': u'immediate', u'flow': u'handled', u'gravitas': u'method', u'rancid': u'reservoir', u'lyle': u'villainous', u'regards': u'easiest', u'inaccuracies': u'indicative', u'enterprise': u'andromeda', u'entertaining': u'satisfying', u'constance': u'tina', u'agnes': u'tina', u'neglived': u'negmust', u'gilda': u'bullock', u'bait': u'daredevil', u'inspire': u'appreciates', u'negsurvive': u'neglearn', u'saga': u'xtro', u'random': u'weird', u'negtarget': u'neguk', u'aspires': u'channing', u'pops': u'messing', u'colors': u'lit', u'radio': u'cable', u'solutions': u'proportion', u'queer': u'enthusiast', u'indigo': u'geared', u'dove': u'eve', u'bain': u'woodward', u'negguy': u'negfeeling', u'subgenre': u'euro', u'spite': u'spite', u'pinocchio': u'reservoir', u'claude': u'reno', u'situations': u'remarks', u'czech': u'irish', u'minnesota': u'coastal', u'negwinning': u'neguk', u'unlucky': u'daredevil', u'vinny': u'woodcock', u'disgust': u'anger', u'photo': u'easter', u'lodge': u'residence', u'announce': u'gunpoint', u'scripture': u'proportion', u'continuity': u'devices', u'geez': u'listened', u'mixture': u'mixes', u'sunglasses': u'astro', u'asians': u'arabs', u'fontaine': u'hayward', u'mcgee': u'vito', u'hostility': u'mumbai', u'negobviously': u'negcomic', u'fluid': u'kinetic', u'trier': u'sydow', u'geek': u'loser', u'goons': u'daredevil', u'amazon': u'petition', u'wedding': u'dinner', u'report': u'listed', u'knocks': u'staircase', u'negno': u'neginto', u'sabrina': u'diana', u'neginvolved': u'negspace', u'overbearing': u'sullen', u'dominique': u'beavers', u'israeli': u'enemies', u'negcenter': u'negjoe', u'boggling': u'fireflies', u'idiotic': u'moronic', u'twice': u'again', u'interspersed': u'assortment', u'contrast': u'arrangement', u'shots': u'closeups', u'boring': u'tiresome', u'ruins': u'ignoring', u'valid': u'justified', u'quintessential': u'mani', u'negwouldn': u'negwon', u'pfeiffer': u'yeoh', u'swept': u'blast', u'tattoos': u'rituals', u'songwriter': u'macmahon', u'mph': u'autopsy', u'nut': u'loser', u'neggreen': u'negsees', u'highlander': u'entry', u'proclaims': u'obese', u'negthis': u'negthis', u'demented': u'astro', u'negaudiences': u'neguk', u'bed': u'literally', u'robby': u'villainous', u'corrupt': u'captain', u'disturbing': u'surprising', u'screeching': u'ranting', u'gladiator': u'reservoir', u'afterward': u'regretted', u'wayans': u'brothers', u'species': u'species', u'temptation': u'hatred', u'neghusband': u'negdies', u'negrock': u'negjoe', u'interviewing': u'discusses', u'continually': u'circumstance', u'grandmother': u'son', u'mud': u'kitchen', u'mug': u'proverbial', u'deceptively': u'minelli', u'discovers': u'calls', u'hopefully': u'stop', u'mum': u'grandma', u'approach': u'approach', u'discovery': u'existence', u'melvin': u'anna', u'adding': u'allows', u'confusion': u'immediate', u'incarnation': u'iron', u'weak': u'tiresome', u'however': u'because', u'boss': u'boss', u'nightmares': u'ritual', u'typing': u'wee', u'aquarium': u'dusty', u'censorship': u'increased', u'dedication': u'dignity', u'news': u'cable', u'neglines': u'neglogic', u'holds': u'holds', u'blasted': u'prayer', u'improve': u'gain', u'faced': u'faced', u'goddess': u'tasty', u'store': u'mart', u'negamericans': u'negjoe', u'negnext': u'negfeeling', u'meredith': u'macmahon', u'fault': u'forgive', u'politically': u'accuracy', u'jelly': u'bleed', u'distinguished': u'mani', u'participating': u'participated', u'players': u'players', u'fiorentino': u'tina', u'games': u'sonic', u'mildly': u'mildly', u'photographer': u'owner', u'negyork': u'negsees', u'operating': u'surveillance', u'expense': u'intent', u'drawbacks': u'faults', u'negless': u'negthan', u'lenses': u'daytime', u'negoutstanding': u'negconfusing', u'exhibit': u'virtues', u'negconvinced': u'negt', u'sullivan': u'keefe', u'negpaying': u'neglearn', u'epidemic': u'cylon', u'karen': u'thurman', u'maudlin': u'sappy', u'majestic': u'sunny', u'trust': u'amazes', u'staggering': u'rendering', u'hysterically': u'shed', u'bingo': u'skating', u'bathroom': u'sack', u'citizens': u'organizations', u'incomparable': u'macmahon', u'beef': u'laptop', u'cockroaches': u'cockroaches', u'ropes': u'charts', u'been': u'changes', u'legend': u'adaption', u'confident': u'misguided', u'beer': u'banana', u'bees': u'tiny', u'communion': u'cynic', u'miraculously': u'pole', u'mean': u'admit', u'figure': u'stand', u'negmaterial': u'neglikely', u'elmer': u'sylvester', u'walters': u'macmahon', u'teenager': u'gal', u'fleeting': u'fireflies', u'anchors': u'sinatra', u'drugs': u'dealers', u'joss': u'villainous', u'search': u'quest', u'negimportant': u'negconfusing', u'negphone': u'negsees', u'harrelson': u'woody', u'sleepaway': u'lambs', u'catch': u'holds', u'pecker': u'emil', u'negera': u'negjoe', u'horrors': u'darkness', u'negmaking': u'negt', u'fallon': u'durante', u'cracker': u'bla', u'negsupernatural': u'negjoe', u'kentucky': u'programmer', u'tolerable': u'mildly', u'strangest': u'dumbest', u'weren': u'isn', u'negcreepy': u'negconfusing', u'ugliest': u'vol', u'depp': u'malkovich', u'penultimate': u'liza', u'stopping': u'pole', u'enforcer': u'werner', u'cracked': u'toss', u'photographed': u'solidly', u'procedure': u'heinous', u'della': u'sends', u'veronica': u'tina', u'pyramid': u'circular', u'provocative': u'indicative', u'negago': u'negmust', u'dumplings': u'chan', u'negage': u'negt', u'sticking': u'seats', u'tease': u'nipples', u'need': u'want', u'negcertain': u'negt', u'haunts': u'carlitos', u'experts': u'suggestions', u'experience': u'experience', u'exterior': u'lit', u'insensitive': u'mocked', u'indigenous': u'arabs', u'containing': u'directly', u'negwear': u'neglearn', u'alien': u'alien', u'suggest': u'recommend', u'metaphorical': u'fireflies', u'wound': u'conjure', u'negredeeming': u'negreason', u'forehead': u'belt', u'enlightenment': u'increasing', u'drawback': u'flaw', u'esquire': u'sorcery', u'banality': u'fireflies', u'several': u'many', u'immortal': u'spelled', u'negweak': u'negcomic', u'satellite': u'helicopters', u'settle': u'shut', u'peaks': u'wizards', u'miscasting': u'likeable', u'unbearable': u'uncomfortable', u'welsh': u'rodgers', u'social': u'deals', u'bastard': u'astro', u'greeted': u'mysteriously', u'berserk': u'staircase', u'portal': u'spontaneously', u'deadwood': u'evolved', u'characters': u'protagonist', u'mentions': u'spelled', u'workings': u'virtues', u'positives': u'faults', u'tyson': u'laurence', u'insisted': u'lommel', u'negfive': u'negjoe', u'cycle': u'suburbia', u'mentioning': u'mentioning', u'dylan': u'whoopi', u'shortly': u'shortly', u'jekyll': u'knox', u'charlie': u'woodcock', u'forceful': u'marianne', u'irritated': u'irritated', u'tarzan': u'tarzan', u'ocean': u'storm', u'werewolves': u'monkeys', u'savings': u'inheritance', u'hearty': u'darling', u'greatest': u'best', u'neghurt': u'neglearn', u'mother': u'son', u'hearts': u'existence', u'alabama': u'peasant', u'submarine': u'combat', u'negmoving': u'negstops', u'snowman': u'astro', u'leagues': u'vol', u'tackles': u'arrangement', u'agency': u'federal', u'departed': u'batista', u'proposed': u'participated', u'ashes': u'sail', u'physique': u'macho', u'laptop': u'laptop', u'negcriticism': u'neguk', u'proposes': u'nefarious', u'neggun': u'negdies', u'grader': u'cynic', u'bugged': u'irritated', u'thumbs': u'picks', u'salvage': u'amateurs', u'campbell': u'reeve', u'followed': u'helped', u'dining': u'barking', u'eli': u'plummer', u'elm': u'freddy', u'furry': u'astro', u'thick': u'accent', u'elf': u'bonkers', u'negfond': u'negt', u'succumb': u'privacy', u'cad': u'channing', u'rumor': u'cherished', u'technological': u'strategic', u'pitiful': u'pathetically', u'humanity': u'hatred', u'trashed': u'wee', u'gave': u'have', u'actresses': u'roles', u'amok': u'monkeys', u'beatles': u'dancers', u'casting': u'editing', u'tactic': u'surveillance', u'anais': u'abel', u'advances': u'reversal', u'breaks': u'shut', u'addicts': u'cannibalism', u'gags': u'puns', u'cultural': u'deals', u'descending': u'throws', u'afore': u'werner', u'silverman': u'rejects', u'appearing': u'circus', u'roach': u'walt', u'burns': u'brent', u'burnt': u'prayer', u'advanced': u'suggestions', u'apart': u'amazes', u'ennio': u'theme', u'ninjas': u'lads', u'martha': u'anna', u'intertwined': u'proportion', u'brutality': u'strangeness', u'gift': u'gift', u'negodd': u'negjoe', u'gifted': u'gifted', u'orlando': u'pegg', u'zoom': u'closeups', u'unsuspecting': u'peasants', u'renamed': u'suggestions', u'hunk': u'loser', u'overrated': u'avengers', u'arbitrary': u'telegraphed', u'amos': u'nash', u'whomever': u'persuade', u'hunchback': u'darling', u'superlative': u'shine', u'hunt': u'hunt', u'negpolice': u'negdies', u'stereotype': u'token', u'frustrations': u'persistent', u'dishonest': u'mocked', u'successfully': u'method', u'proudly': u'releasing', u'negtakes': u'negstops', u'jennifer': u'mara', u'aldrich': u'altman', u'donald': u'jay', u'negtaken': u'negeasy', u'usher': u'du', u'election': u'vets', u'displeasure': u'reached', u'escape': u'sent', u'tourneur': u'supplied', u'negduring': u'negmust', u'guess': u'admit', u'perfected': u'billing', u'doorstep': u'sends', u'negstranger': u'negbusiness', u'embodied': u'aspirations', u'sentenced': u'requests', u'friend': u'friend', u'negbudget': u'negkind', u'negtrailer': u'negt', u'scarecrows': u'monkeys', u'informative': u'educational', u'armed': u'vets', u'ear': u'belt', u'companions': u'peasants', u'negmasterpiece': u'negkind', u'roommates': u'partying', u'barrie': u'macmahon', u'tyrone': u'mrs', u'everything': u'whatever', u'icy': u'maiden', u'mckee': u'pegg', u'embodies': u'refined', u'cnn': u'zu', u'convict': u'hunt', u'whitaker': u'durante', u'barbara': u'topper', u'christmas': u'christmas', u'espionage': u'suburbia', u'officer': u'captain', u'cord': u'belt', u'core': u'strictly', u'negrequired': u'negjoe', u'deleted': u'bonus', u'brawl': u'shaft', u'corn': u'fried', u'serbian': u'arabs', u'disappeared': u'shortly', u'hung': u'messing', u'newcomer': u'plummer', u'shred': u'bounds', u'negherself': u'negdies', u'eye': u'eye', u'erotica': u'strictly', u'neggame': u'negt', u'meyer': u'paired', u'plug': u'sony', u'brien': u'keefe', u'cowboy': u'circus', u'attacks': u'ritual', u'choke': u'chuckling', u'surround': u'format', u'neghero': u'negcomic', u'extension': u'substituted', u'dinner': u'dinner', u'montana': u'todd', u'ensure': u'overlook', u'trainspotting': u'reservoir', u'calculating': u'sullen', u'negrecognition': u'negt', u'efforts': u'insult', u'twitch': u'severed', u'curry': u'durante', u'excruciating': u'plodding', u'duke': u'derek', u'negrepeat': u'neglearn', u'destination': u'spontaneously', u'negplays': u'negdies', u'presence': u'presence', u'civil': u'iraq', u'puzzle': u'crossword', u'obscene': u'ranting', u'puke': u'toss', u'entrepreneur': u'miner', u'negstories': u'negspace', u'bats': u'masks', u'dreyfus': u'darling', u'coastal': u'coastal', u'negwomen': u'negjoe', u'abel': u'abel', u'jeunet': u'supplied', u'rounds': u'autopsy', u'psychos': u'monkeys', u'infidelity': u'persistent', u'rely': u'relied', u'cockney': u'macho', u'spongebob': u'spongebob', u'akshay': u'bachchan', u'omen': u'scanners', u'unfocused': u'sketchy', u'unconscious': u'staircase', u'class': u'middle', u'gig': u'rejects', u'virgin': u'fourteen', u'anderson': u'reeve', u'virgil': u'emil', u'crews': u'veterans', u'fairness': u'appreciates', u'unrecognizable': u'ham', u'unpretentious': u'unconventional', u'gil': u'plummer', u'purposely': u'ranting', u'hutton': u'macmahon', u'questionable': u'characterizations', u'intolerance': u'virtues', u'head': u'belt', u'medium': u'solondz', u'amateur': u'assured', u'abysmal': u'awful', u'attempted': u'crimes', u'heal': u'persuade', u'differences': u'sources', u'removes': u'staircase', u'stereo': u'hip', u'heinous': u'heinous', u'negsight': u'negcomic', u'heat': u'orange', u'uncle': u'grandma', u'solar': u'oxygen', u'sombre': u'dour', u'sustained': u'rendering', u'removed': u'gift', u'knack': u'dour', u'viva': u'cynic', u'admiration': u'hatred', u'flavour': u'flavour', u'negimpact': u'negspace', u'versions': u'norm', u'muster': u'overlook', u'heartwarming': u'quiet', u'loach': u'masterwork', u'clubs': u'tours', u'porky': u'sylvester', u'wipes': u'controls', u'negdue': u'negsees', u'nerdy': u'loser', u'prematurely': u'downward', u'zodiac': u'diagnosis', u'more': u'worse', u'nerds': u'lads', u'brightly': u'sunny', u'cobbled': u'periods', u'atypical': u'unconventional', u'hams': u'paired', u'fury': u'irritation', u'knees': u'gunpoint', u'whiskey': u'gunpoint', u'suspicions': u'downward', u'barrels': u'autopsy', u'levitt': u'macmahon', u'critique': u'oneself', u'sometime': u'showtime', u'acclaimed': u'banned', u'smarmy': u'macho', u'believable': u'sympathetic', u'shines': u'liza', u'annoying': u'moronic', u'chuckling': u'chuckling', u'silliest': u'dumbest', u'willingly': u'persuade', u'looked': u'looking', u'radically': u'sources', u'comprehension': u'bounds', u'faithful': u'adaption', u'no': u'neginto', u'jerusalem': u'coastal', u'na': u'na', u'whereas': u'norm', u'nc': u'pg', u'nd': u'st', u'vanishes': u'obese', u'intellect': u'oneself', u'til': u'cents', u'tim': u'jay', u'tin': u'fourteen', u'setting': u'elaborate', u'whew': u'skating', u'papers': u'elected', u'negearlier': u'negjoe', u'tie': u'conjure', u'vanished': u'shortly', u'confusing': u'tiresome', u'nt': u'listened', u'negsomehow': u'negsees', u'realize': u'afraid', u'unbalanced': u'serviceable', u'eternity': u'indication', u'negcaring': u'negfeeling', u'incestuous': u'persistent', u'reconsider': u'ur', u'phoenix': u'woodward', u'toad': u'daredevil', u'spoils': u'component', u'preceding': u'periods', u'football': u'school', u'uniformly': u'assured', u'trailers': u'easter', u'maureen': u'keefe', u'xavier': u'surly', u'dullest': u'dumbest', u'cooper': u'busey', u'spy': u'federal', u'moorehead': u'macmahon', u'pedophilia': u'cannibalism', u'younger': u'older', u'faster': u'funnier', u'bullet': u'shaft', u'negwriters': u'negjoe', u'verve': u'dour', u'hemingway': u'beavers', u'yacht': u'sends', u'ryder': u'hannah', u'uncovered': u'diagnosis', u'bambi': u'bambi', u'negturning': u'negjoe', u'remarked': u'remarked', u'grisly': u'grisly', u'intimacy': u'immediate', u'backward': u'circular', u'jayston': u'macmahon', u'azaria': u'plummer', u'coach': u'school', u'rom': u'petition', u'ron': u'jay', u'regulars': u'plummer', u'hodge': u'prose', u'rob': u'rob', u'particular': u'earlier', u'rod': u'loser', u'focus': u'focus', u'leads': u'central', u'roy': u'jay', u'marion': u'abel', u'ice': u'neither', u'colleen': u'villainous', u'negsequel': u'negt', u'displaying': u'dour', u'empathize': u'communicate', u'discern': u'truthfully', u'brenda': u'macmahon', u'meryl': u'thurman', u'lorraine': u'casey', u'tolkien': u'tolkien', u'contemplating': u'chuckling', u'passage': u'solitude', u'environment': u'sources', u'violation': u'elected', u'quasi': u'dense', u'aplomb': u'dour', u'promoting': u'strategic', u'discovering': u'destroy', u'sing': u'dance', u'prop': u'proverbial', u'overwrought': u'sketchy', u'goofs': u'faults', u'coop': u'skating', u'negboring': u'negstops', u'federation': u'cylon', u'advantage': u'places', u'negperformance': u'negkind', u'negleast': u'negentertaining', u'unfamiliar': u'indicative', u'sloppy': u'awful', u'sherlock': u'watson', u'negpar': u'neglikely', u'negfilmmakers': u'neguk', u'artwork': u'format', u'cook': u'whoopi', u'emphasized': u'weigh', u'heston': u'werner', u'negpay': u'negadd', u'cool': u'eerie', u'looney': u'ballet', u'impressive': u'assured', u'cillian': u'audie', u'policeman': u'hunt', u'philippines': u'iraq', u'camaraderie': u'interacting', u'registered': u'stating', u'brother': u'son', u'culminating': u'results', u'standards': u'cgi', u'tyne': u'macmahon', u'brothel': u'coastal', u'negmemorable': u'negentertaining', u'regina': u'bullock', u'quick': u'jarring', u'rehashed': u'reservoir', u'pork': u'daredevil', u'des': u'du', u'slower': u'monotonous', u'porn': u'strictly', u'trend': u'outings', u'det': u'homer', u'obsolete': u'surveillance', u'inland': u'wizards', u'invaded': u'cylon', u'roosevelt': u'prophet', u'comforting': u'proceeded', u'trent': u'woodward', u'groovy': u'hip', u'bake': u'skinny', u'fear': u'immediate', u'substitute': u'bullock', u'drinks': u'sack', u'negproper': u'negcomic', u'bourne': u'bourne', u'postman': u'bulworth', u'deluded': u'mocked', u'sadie': u'tina', u'remain': u'stop', u'pleased': u'sorely', u'paragraph': u'concluding', u'longed': u'inheritance', u'goes': u'gone', u'marketing': u'boost', u'reply': u'cents', u'moviegoers': u'appreciates', u'scripted': u'badly', u'buscemi': u'jay', u'hairy': u'bleed', u'negstraight': u'negsees', u'supergirl': u'obese', u'partners': u'parent', u'hairs': u'rolls', u'slackers': u'mock', u'negones': u'negcomic', u'water': u'wall', u'entertain': u'amuse', u'baseball': u'chess', u'twentieth': u'st', u'groups': u'sources', u'madhuri': u'juhi', u'confused': u'frightened', u'negparts': u'negcomic', u'unfinished': u'component', u'avenging': u'schizophrenia', u'male': u'abuse', u'standout': u'liza', u'sheriff': u'hunt', u'shove': u'miracles', u'discount': u'discount', u'healthy': u'faced', u'rethink': u'ur', u'mumbai': u'mumbai', u'negpretentious': u'negt', u'dirt': u'autopsy', u'splendor': u'sunny', u'descended': u'symbol', u'paxton': u'jay', u'resonance': u'undeniable', u'noticeably': u'serviceable', u'hartnett': u'miner', u'doris': u'diana', u'king': u'kong', u'gorgeously': u'sunny', u'emerge': u'solitude', u'shootings': u'surveillance', u'morals': u'atheist', u'stubborn': u'sullen', u'credited': u'becker', u'shark': u'alien', u'morale': u'fascism', u'graduated': u'school', u'iron': u'iron', u'paralyzed': u'sends', u'antagonists': u'proportion', u'swallowed': u'handing', u'crisis': u'existence', u'yourself': u'favour', u'negrest': u'negspace', u'handled': u'handled', u'wrecking': u'charts', u'brighter': u'fireflies', u'sends': u'sends', u'stated': u'mentioned', u'tubes': u'oxygen', u'chimps': u'masks', u'sports': u'loser', u'wrongs': u'privacy', u'reincarnation': u'symbol', u'handles': u'dour', u'bases': u'surveillance', u'andy': u'earp', u'criteria': u'labeled', u'lump': u'seats', u'australian': u'australian', u'today': u'prime', u'andr': u'abel', u'chapter': u'crossword', u'teased': u'whispering', u'bombastic': u'serviceable', u'riot': u'belial', u'sessions': u'directly', u'suggestions': u'suggestions', u'swearing': u'extreme', u'chocolate': u'fried', u'negchemistry': u'negqualities', u'milian': u'mani', u'teaser': u'easter', u'drown': u'whispering', u'dismal': u'unprofessional', u'amityville': u'scanners', u'cases': u'justified', u'spall': u'macmahon', u'piano': u'chess', u'beery': u'macmahon', u'insights': u'virtues', u'autumn': u'isle', u'wanda': u'woodward', u'sheds': u'solitude', u'negbadly': u'negconfusing', u'collision': u'controls', u'julius': u'wyler', u'roscoe': u'homer', u'asimov': u'vol', u'modified': u'surveillance', u'jude': u'knox', u'luigi': u'surly', u'intensely': u'refined', u'judy': u'diana', u'achieve': u'gain', u'grizzled': u'villainous', u'ferry': u'sail', u'laughter': u'crying', u'slightest': u'needn', u'lighthearted': u'shakespearean', u'geeky': u'loser', u'deservedly': u'received', u'performer': u'gifted', u'trump': u'surly', u'stream': u'assortment', u'downfall': u'existence', u'geeks': u'mock', u'nielsen': u'topper', u'trouble': u'belial', u'neggive': u'negadd', u'slows': u'sink', u'dropped': u'pulling', u'counting': u'miracles', u'swedish': u'indian', u'disliked': u'disagree', u'requirements': u'bounds', u'sidney': u'nash', u'inheritance': u'inheritance', u'afterlife': u'prayer', u'cuba': u'gooding', u'meager': u'boost', u'vital': u'fundamental', u'cardinal': u'surly', u'naivety': u'sordid', u'fourth': u'second', u'plus': u'bonus', u'condemn': u'appreciates', u'michigan': u'ch', u'anime': u'avengers', u'unbelievable': u'tiresome', u'massacre': u'slumber', u'paramount': u'studios', u'irrational': u'expressed', u'cocktail': u'fried', u'huge': u'major', u'fascist': u'organizations', u'negcomplete': u'negt', u'clone': u'andromeda', u'insecurities': u'persistent', u'rites': u'faux', u'informs': u'receives', u'heartbreaking': u'quiet', u'birthday': u'anniversary', u'negexample': u'neguk', u'avengers': u'avengers', u'unbelievably': u'exceptionally', u'classroom': u'grammar', u'runtime': u'lasts', u'negregard': u'negbusiness', u'awkward': u'melodramatic', u'succeeded': u'recreate', u'stupidly': u'shed', u'amuse': u'amuse', u'rollin': u'symbol', u'inform': u'persuade', u'reaper': u'ncis', u'armstrong': u'knox', u'negshown': u'neguntil', u'negsimilar': u'negjoe', u'gerard': u'coward', u'representation': u'perspective', u'negbuild': u'negcomic', u'refund': u'cents', u'exclusive': u'tours', u'hugo': u'plummer', u'joins': u'nefarious', u'food': u'cat', u'hugh': u'brent', u'presley': u'darling', u'mainly': u'largely', u'primitive': u'increased', u'fangs': u'astro', u'accolades': u'received', u'negseemed': u'negfeeling', u'penetrate': u'endure', u'rapport': u'dour', u'rampling': u'mrs', u'worship': u'privacy', u'blocked': u'prayer', u'negmeet': u'neglearn', u'gta': u'sonic', u'swank': u'beavers', u'swann': u'phillip', u'cheerleaders': u'lads', u'platform': u'surveillance', u'continue': u'stop', u'whole': u'another', u'farmer': u'owner', u'negwestern': u'neguk', u'ahh': u'spongebob', u'scifi': u'avengers', u'boll': u'boll', u'lonely': u'gal', u'qualifies': u'sorcery', u'decadent': u'arresting', u'moms': u'parent', u'conversations': u'interacting', u'bound': u'wall', u'underneath': u'astro', u'warranted': u'footnote', u'qualified': u'footnote', u'hamilton': u'macmahon', u'arnold': u'wesley', u'negbrain': u'negcomic', u'negdrugs': u'negsees', u'feature': u'feature', u'balances': u'dour', u'shu': u'bullock', u'negtake': u'negadd', u'imminent': u'destroy', u'term': u'express', u'wily': u'villainous', u'equality': u'fascism', u'name': u'worked', u'teri': u'macmahon', u'stahl': u'durante', u'opera': u'soap', u'stir': u'amuse', u'sensibilities': u'virtues', u'debating': u'suggestions', u'possibilities': u'flavour', u'realistic': u'sympathetic', u'accomplishments': u'achievements', u'nodding': u'chuckling', u'viggo': u'durante', u'realise': u'thankful', u'eighties': u'peak', u'needn': u'needn', u'realism': u'undeniable', u'ppv': u'zu', u'individually': u'veterans', u'secondary': u'characterizations', u'populated': u'monkeys', u'torch': u'lil', u'aplenty': u'sporadically', u'cyborgs': u'cockroaches', u'gaps': u'telegraphed', u'farewell': u'attendance', u'begun': u'shortly', u'authenticity': u'undeniable', u'distributor': u'releasing', u'dench': u'pegg', u'myrtle': u'affections', u'obsession': u'hatred', u'adequately': u'prose', u'sunrise': u'wizards', u'hysteria': u'increasing', u'hacker': u'peasant', u'negpeter': u'negjoe', u'ultimately': u'tiresome', u'sybil': u'bullock', u'intercourse': u'cannibalism', u'factors': u'justified', u'profit': u'boost', u'tensions': u'fascism', u'oklahoma': u'coastal', u'miyazaki': u'vision', u'factory': u'tours', u'someplace': u'peasants', u'attracted': u'behaves', u'jaime': u'beavers', u'negabout': u'neginto', u'hacked': u'pulling', u'vixen': u'bullock', u'eagle': u'iron', u'attended': u'anniversary', u'sholay': u'pixar', u'theory': u'criticism', u'booby': u'rituals', u'existed': u'lived', u'sympathize': u'communicate', u'satanic': u'cockroaches', u'dispatched': u'daredevil', u'boobs': u'nipples', u'hulk': u'na', u'previews': u'mins', u'qi': u'bullock', u'dig': u'freaking', u'skillfully': u'solidly', u'nightmarish': u'dreamlike', u'questioning': u'answering', u'explorers': u'suburbia', u'yup': u'banana', u'cube': u'neither', u'gusto': u'billing', u'motion': u'moving', u'hypnosis': u'sends', u'gosling': u'jay', u'place': u'places', u'yul': u'werner', u'yun': u'arts', u'turf': u'sail', u'unborn': u'downward', u'sho': u'homer', u'atwill': u'knox', u'childhood': u'memories', u'blood': u'severed', u'negwish': u'neglearn', u'sanchez': u'surly', u'suspend': u'strings', u'fetched': u'unrealistic', u'surviving': u'destroy', u'freudian': u'substituted', u'incongruous': u'inconsistency', u'symbolic': u'fundamental', u'awfully': u'mish', u'kusturica': u'kusturica', u'simplified': u'substituted', u'sunlight': u'circular', u'negways': u'negjoe', u'accuses': u'rapist', u'array': u'exotic', u'pokemon': u'ur', u'ethics': u'fascism', u'millions': u'dozen', u'rented': u'online', u'negalone': u'neghard', u'given': u'presented', u'ian': u'jay', u'writes': u'writes', u'district': u'weary', u'negincluded': u'neguk', u'negbooks': u'negt', u'earthy': u'refined', u'designer': u'designer', u'plastic': u'astro', u'negoffer': u'neglearn', u'returns': u'calls', u'fought': u'vets', u'terrifying': u'eerie', u'bounty': u'hunt', u'masala': u'pixar', u'white': u'colour', u'circa': u'programmer', u'hellworld': u'avengers', u'gives': u'usual', u'holden': u'nash', u'exploring': u'existence', u'hug': u'toss', u'negtheme': u'negcomic', u'releases': u'releasing', u'cope': u'risks', u'revue': u'programmer', u'terrain': u'coast', u'negmain': u'negspace', u'huh': u'wow', u'alan': u'earp', u'stylized': u'dreamlike', u'cops': u'crooks', u'alas': u'granted', u'enigma': u'suburbia', u'tibetan': u'peasant', u'seduces': u'affections', u'shirley': u'hayward', u'nudity': u'extreme', u'copy': u'online', u'kris': u'casey', u'population': u'cylon', u'petrified': u'flu', u'altman': u'altman', u'nathan': u'durante', u'tawdry': u'surveillance', u'require': u'amuse', u'negwhatever': u'negbusiness', u'janssen': u'phillip', u'r': u'pg', u'emphasis': u'focus', u'aesthetic': u'dreamlike', u'cards': u'voice', u'poisoning': u'rapist', u'marines': u'vets', u'neghistorical': u'neguk', u'powder': u'bleed', u'and': u'because', u'negsurprised': u'negfeeling', u'twisting': u'distracts', u'rene': u'phillip', u'ana': u'affections', u'chloe': u'tina', u'michele': u'tina', u'confessed': u'informed', u'bava': u'giallo', u'hershey': u'macmahon', u'prostitution': u'assaulted', u'hijinks': u'sporadically', u'ant': u'astro', u'operated': u'surveillance', u'mates': u'partying', u'ilona': u'peasant', u'rent': u'watch', u'negsurprises': u'negreason', u'sells': u'robber', u'confesses': u'helene', u'any': u'needn', u'marathon': u'zu', u'superman': u'terminator', u'deserted': u'lake', u'conversion': u'persistent', u'astonishingly': u'minelli', u'corbett': u'jimmy', u'ideas': u'idea', u'malta': u'sends', u'wandered': u'prayer', u'negbed': u'negsees', u'gotham': u'diagnosis', u'animation': u'cartoon', u'fracture': u'endearment', u'resembling': u'detracts', u'switzerland': u'peasants', u'paulie': u'gal', u'strengths': u'flavour', u'blunt': u'refined', u'surf': u'lads', u'urge': u'ur', u'gleason': u'jimmy', u'commonplace': u'virtues', u'multiple': u'many', u'tornado': u'oxygen', u'indelible': u'shine', u'sherman': u'becker', u'betrayal': u'hatred', u'clearer': u'ignoring', u'falls': u'akbar', u'visitors': u'peasants', u'negconcerned': u'negsees', u'pows': u'peasants', u'freshman': u'school', u'librarian': u'affections', u'cleared': u'prayer', u'icon': u'mani', u'negunusual': u'neguk', u'considered': u'forgive', u'misfire': u'grain', u'adopt': u'faced', u'hungry': u'persuade', u'playing': u'play', u'cortez': u'emil', u'hear': u'hear', u'senior': u'school', u'quantity': u'increased', u'detective': u'captain', u'pans': u'closeups', u'drastically': u'ignoring', u'spaced': u'backing', u'heap': u'stinking', u'cheat': u'persuade', u'spacek': u'helena', u'cheap': u'kinda', u'percy': u'casey', u'adviser': u'channing', u'troy': u'daredevil', u'spaces': u'circular', u'hack': u'amateurs', u'spacey': u'reeve', u'dundee': u'iron', u'mister': u'casey', u'hustler': u'owner', u'landis': u'malkovich', u'negbehavior': u'negjoe', u'nadir': u'symbol', u'gulf': u'iraq', u'favor': u'favour', u'true': u'real', u'written': u'badly', u'crime': u'suspects', u'surrealist': u'kusturica', u'shakespearean': u'shakespearean', u'explicitly': u'increasing', u'believing': u'persuade', u'madeline': u'mara', u'negimmediately': u'negsees', u'marsha': u'woodward', u'wool': u'fried', u'dreaded': u'spontaneously', u'boyle': u'reeve', u'fifties': u'peak', u'lighted': u'controls', u'stalin': u'iraq', u'hoyt': u'dillinger', u'viewpoint': u'exploration', u'mormon': u'atheist', u'nell': u'affections', u'begging': u'toss', u'expectation': u'expectation', u'tailor': u'woodward', u'lighter': u'funnier', u'rendition': u'ballet', u'clerks': u'avengers', u'portions': u'periods', u'trade': u'arabs', u'treachery': u'arresting', u'cautionary': u'suburbia', u'emil': u'emil', u'closure': u'denouement', u'reveal': u'sadako', u'hostess': u'obese', u'pinnacle': u'kusturica', u'contrivances': u'telegraphed', u'radar': u'helicopters', u'orphans': u'peasants', u'joker': u'freddy', u'jokes': u'puns', u'embassy': u'drafted', u'bison': u'skating', u'predicted': u'forgive', u'invincible': u'iron', u'jabba': u'jabba', u'pants': u'belt', u'discussing': u'skating', u'reveals': u'calls', u'beethoven': u'isle', u'picnic': u'kitchen', u'animators': u'walt', u'encourages': u'receives', u'psychopaths': u'rituals', u'bargain': u'mart', u'connections': u'proportion', u'college': u'school', u'slashing': u'severed', u'ignores': u'ignoring', u'parking': u'shaft', u'apologies': u'ur', u'collects': u'rapist', u'heavy': u'heavy', u'ruined': u'changes', u'neghome': u'negdies', u'encouraged': u'suggestions', u'negattractive': u'negconfusing', u'fails': u'miserably', u'detect': u'truthfully', u'hammett': u'biopic', u'ways': u'spite', u'subsequent': u'diagnosis', u'mol': u'bettie', u'definite': u'damned', u'thankful': u'thankful', u'negsees': u'negsees', u'weapons': u'combat', u'outside': u'build', u'cassel': u'plummer', u'arrogant': u'lovable', u'john': u'malkovich', u'adore': u'admired', u'duchovny': u'phillip', u'unappealing': u'likeable', u'arrival': u'mysteriously', u'negcall': u'negwon', u'originated': u'werner', u'fearless': u'surly', u'negproducers': u'negsees', u'guitar': u'chess', u'negfit': u'negadd', u'kat': u'beavers', u'unusually': u'elegance', u'coma': u'prayer', u'harshly': u'geared', u'cities': u'rome', u'come': u'laid', u'negsame': u'neglittle', u'reaction': u'remarks', u'yaphet': u'villainous', u'superstar': u'werner', u'missions': u'missions', u'daria': u'discusses', u'efficiency': u'arresting', u'dario': u'giallo', u'region': u'releasing', u'jericho': u'batista', u'gimmicks': u'requisite', u'quiet': u'quiet', u'contract': u'studios', u'prompted': u'attendance', u'berry': u'rodgers', u'senator': u'weary', u'railway': u'sail', u'duty': u'destroy', u'pakistan': u'fascism', u'brecht': u'substituted', u'key': u'point', u'metaphysical': u'renders', u'pov': u'closeups', u'pow': u'iraq', u'pot': u'banana', u'colony': u'sail', u'dutt': u'juhi', u'insist': u'ur', u'resentment': u'persistent', u'satisfaction': u'anger', u'poo': u'spongebob', u'pole': u'pole', u'werner': u'werner', u'approval': u'suspicion', u'polo': u'maiden', u'bizarre': u'weird', u'poe': u'woody', u'skeletons': u'masks', u'runaway': u'maiden', u'believably': u'refined', u'turkey': u'turkey', u'symptoms': u'increasing', u'negwork': u'negadd', u'howard': u'earp', u'negword': u'negt', u'filmmakers': u'makers', u'attenborough': u'haggis', u'kay': u'topper', u'negtwo': u'neglittle', u'valentino': u'hayward', u'negstructure': u'neglogic', u'peaceful': u'mumbai', u'helicopter': u'shooting', u'featuring': u'featured', u'confessions': u'cabinet', u'hardly': u'without', u'edmund': u'hayward', u'engine': u'autopsy', u'direction': u'editing', u'tasteless': u'pathetically', u'robbed': u'informed', u'negbefore': u'negagain', u'blessing': u'cherished', u'wretched': u'pathetically', u'andrew': u'earp', u'tiger': u'hidden', u'blaxploitation': u'bruckheimer', u'planet': u'earth', u'minister': u'joined', u'penn': u'chris', u'eaters': u'masks', u'dahlia': u'colour', u'evidence': u'information', u'tamil': u'outings', u'dribble': u'miracles', u'robber': u'robber', u'pilot': u'commander', u'case': u'missing', u'shaft': u'shaft', u'hughes': u'malkovich', u'fiends': u'suburbia', u'spiderman': u'bulworth', u'mount': u'sends', u'nothingness': u'renders', u'premature': u'faux', u'cast': u'players', u'dorky': u'loser', u'hackett': u'villainous', u'negcontinue': u'neglearn', u'moll': u'villainous', u'abducted': u'mysteriously', u'hunts': u'sends', u'moe': u'stooge', u'punches': u'staircase', u'crusades': u'programmer', u'darko': u'bruckheimer', u'coupled': u'combined', u'negescape': u'negbusiness', u'couples': u'parent', u'fairytale': u'elegance', u'someone': u'someone', u'clutter': u'residence', u'perez': u'macmahon', u'mcgregor': u'durante', u'impaled': u'strangled', u'wigand': u'weary', u'helmet': u'shaft', u'participant': u'surveillance', u'breathtakingly': u'kinetic', u'author': u'adaption', u'alphabet': u'sends', u'granted': u'granted', u'seeking': u'quest', u'reminded': u'amazes', u'mole': u'masks', u'helmed': u'raoul', u'buys': u'receives', u'reminder': u'sordid', u'constructed': u'handled', u'events': u'occur', u'moronic': u'moronic', u'tried': u'give', u'week': u'showtime', u'blatantly': u'ignoring', u'persona': u'billing', u'brute': u'sullen', u'deft': u'dour', u'mockery': u'grain', u'applaud': u'appreciates', u'nest': u'shaft', u'refusal': u'aspirations', u'driver': u'bus', u'ness': u'hunt', u'detour': u'isle', u'director': u'screenwriter', u'persons': u'sources', u'drivel': u'turkey', u'prejudices': u'atheist', u'statue': u'barking', u'changing': u'changes', u'weep': u'chuckling', u'cartoon': u'cartoon', u'relies': u'relied', u'vantage': u'concluding', u'negfront': u'negjoe', u'perennial': u'plummer', u'snow': u'orange', u'negusa': u'negjoe', u'mirren': u'macmahon', u'ranch': u'residence', u'rosalind': u'macmahon', u'negwhether': u'negfeeling', u'negvery': u'negsuch', u'neghappening': u'negfeeling', u'without': u'without', u'relief': u'allows', u'components': u'indicative', u'relied': u'relied', u'inability': u'oneself', u'model': u'model', u'unconvincing': u'tiresome', u'commercials': u'showtime', u'bodies': u'ritual', u'justify': u'overlook', u'desolate': u'brokeback', u'plotline': u'sketchy', u'tip': u'laptop', u'guided': u'surveillance', u'compound': u'circular', u'actress': u'diana', u'ne': u'hari', u'risking': u'persuade', u'negclaim': u'negsees', u'violent': u'surprising', u'spliced': u'periods', u'kill': u'killed', u'harrison': u'ford', u'negrecommended': u'neghard', u'baldwin': u'jay', u'guides': u'charts', u'captured': u'joined', u'halfway': u'walked', u'blow': u'blast', u'announcement': u'attendance', u'socialite': u'owner', u'feminist': u'behaves', u'rose': u'rose', u'casablanca': u'bruckheimer', u'except': u'because', u'negelse': u'neganyone', u'kimberly': u'casey', u'lets': u'lets', u'luscious': u'bullock', u'sings': u'catchy', u'blob': u'astro', u'flashing': u'closeups', u'negasian': u'neguk', u'ross': u'hayward', u'styles': u'mixes', u'mystery': u'mystery', u'kills': u'killed', u'kirby': u'homer', u'shearer': u'sunset', u'fridge': u'handing', u'confines': u'solitude', u'topper': u'topper', u'styled': u'faux', u'confined': u'dusty', u'sasquatch': u'masks', u'accepted': u'gift', u'furniture': u'circular', u'valentine': u'sexiest', u'walt': u'walt', u'towel': u'whispering', u'negcouple': u'negjoe', u'neglikable': u'negconfusing', u'patrick': u'jay', u'reduces': u'renders', u'buddies': u'partying', u'robson': u'plummer', u'oddly': u'strangely', u'sanity': u'endure', u'coping': u'persistent', u'negattempt': u'negqualities', u'heyday': u'peak', u'recalls': u'dusty', u'substandard': u'unprofessional', u'pseudonym': u'coward', u'snot': u'spongebob', u'reduced': u'presented', u'nega': u'neglittle', u'shunned': u'cherished', u'keitel': u'jay', u'joking': u'toss', u'picture': u'it', u'negact': u'negwon', u'daddy': u'belial', u'competition': u'missions', u'cowboys': u'monkeys', u'nuance': u'dignity', u'intact': u'accurately', u'redeeming': u'flaw', u'brothers': u'brothers', u'provided': u'allows', u'slice': u'perspective', u'caribbean': u'pirates', u'mood': u'eerie', u'prolific': u'achievements', u'eleanor': u'macmahon', u'curious': u'upset', u'highest': u'scale', u'classmates': u'partying', u'slick': u'serviceable', u'stops': u'pole', u'resonate': u'proportion', u'nutty': u'loser', u'showtime': u'showtime', u'goofy': u'kinda', u'provides': u'allows', u'kitano': u'kusturica', u'porter': u'nash', u'severed': u'severed', u'erased': u'gift', u'metropolis': u'suburbia', u'kilter': u'backing', u'negmember': u'negjoe', u'poem': u'bagdad', u'liquid': u'oxygen', u'negclever': u'negconfusing', u'cringing': u'chuckling', u'negexactly': u'negkind', u'slaughter': u'lads', u'update': u'scanners', u'terrified': u'toss', u'royale': u'bulworth', u'resurrection': u'iron', u'negcomedic': u'negcomic', u'beaches': u'brokeback', u'on': u'on', u'om': u'billing', u'negcasting': u'neguk', u'ok': u'alright', u'warts': u'aspirations', u'negbrilliant': u'negconfusing', u'jeep': u'shaft', u'gunshots': u'whispering', u'negenough': u'negsuch', u'discussed': u'banned', u'brittany': u'audie', u'shameful': u'stinking', u'tarkovsky': u'wizards', u'evident': u'component', u'earnest': u'ham', u'hindu': u'peasant', u'gregory': u'nash', u'discusses': u'discusses', u'or': u'cause', u'amber': u'tina', u'tribe': u'cockroaches', u'ladies': u'wongo', u'sara': u'anna', u'nods': u'prose', u'curses': u'bonkers', u'negatives': u'faults', u'communication': u'virtues', u'revolutionaries': u'mumbai', u'scores': u'theme', u'garb': u'speaker', u'garner': u'jimmy', u'penelope': u'hayward', u'spinal': u'reservoir', u'marjorie': u'tina', u'rising': u'solitude', u'determine': u'endure', u'gary': u'busey', u'burton': u'laurence', u'england': u'rome', u'pasolini': u'kusturica', u'lastly': u'sucked', u'garr': u'tina', u'mental': u'severe', u'negwhy': u'neganyone', u'duvall': u'altman', u'strictly': u'strictly', u'there': u'negreason', u'alleged': u'schizophrenia', u'cultured': u'mocked', u'christianity': u'atheist', u'pic': u'sorcery', u'strict': u'reform', u'again': u'again', u'racist': u'racist', u'negscreenplay': u'negjoe', u'cultures': u'sources', u'valley': u'brokeback', u'fish': u'astro', u'negevidence': u'negbusiness', u'kingpin': u'vito', u'mischief': u'faced', u'sofa': u'banana', u'shamelessly': u'assortment', u'regard': u'bounds', u'alain': u'mani', u'amongst': u'veterans', u'monks': u'circular', u'undeserved': u'contention', u'soprano': u'todd', u'fanatical': u'unwilling', u'negpresident': u'negsees', u'garnered': u'received', u'promote': u'boost', u'shannon': u'mara', u'longer': u'longer', u'applying': u'surveillance', u'sleaze': u'extreme', u'weed': u'autopsy', u'polanski': u'kusturica', u'negwords': u'negqualities', u'flavia': u'peasant', u'cassidy': u'homer', u'neganother': u'neguntil', u'grasp': u'oneself', u'sleazy': u'strictly', u'grass': u'banana', u'creeping': u'slack', u'chaplin': u'silents', u'mallory': u'homer', u'taylor': u'mara', u'surly': u'surly', u'cinema': u'commercial', u'taste': u'mind', u'frighten': u'amuse', u'felix': u'vito', u'negfilmed': u'negt', u'remembrance': u'iraq', u'mormons': u'arabs', u'cbs': u'guide', u'britain': u'canada', u'intro': u'directly', u'tasty': u'tasty', u'controlled': u'joined', u'himself': u'he', u'russel': u'durante', u'blues': u'ballet', u'neglack': u'negspace', u'cleese': u'malkovich', u'incorrect': u'harmless', u'abyss': u'suburbia', u'stumbled': u'wee', u'heather': u'anna', u'vinci': u'code', u'greetings': u'serling', u'randolph': u'nash', u'swords': u'monkeys', u'allusions': u'inconsistency', u'rubber': u'bear', u'roses': u'fried', u'vietnam': u'vets', u'stumbles': u'throws', u'trash': u'turkey', u'stalwart': u'plummer', u'sufficient': u'bounds', u'paddy': u'jay', u'brash': u'sullen', u'mummies': u'monkeys', u'championship': u'batista', u'may': u'might', u'conspiracies': u'suburbia', u'separate': u'connected', u'spoilers': u'contain', u'symbol': u'symbol', u'gunplay': u'assortment', u'negsave': u'neghard', u'includes': u'featured', u'flower': u'speaker', u'bullets': u'autopsy', u'kingsley': u'jay', u'serious': u'approach', u'included': u'featured', u'documented': u'substituted', u'crappy': u'kinda', u'architecture': u'lit', u'thematic': u'indicative', u'rimmer': u'circus', u'assassins': u'threatening', u'applause': u'laptop', u'calls': u'calls', u'ewan': u'durante', u'streisand': u'lil', u'invest': u'amuse', u'odds': u'expressed', u'rutger': u'jay', u'curve': u'backing', u'parsons': u'homer', u'websites': u'stating', u'negloose': u'negsees', u'reproduce': u'privacy', u'directors': u'makers', u'negawful': u'negconfusing', u'booker': u'batista', u'bloodthirsty': u'cockroaches', u'missouri': u'brokeback', u'numbing': u'pathetically', u'undead': u'ritual', u'songs': u'dance', u'pubescent': u'speaker', u'talentless': u'amateurs', u'negpersonal': u'negjoe', u'all': u'many', u'lace': u'bullock', u'chinese': u'indian', u'ali': u'bachchan', u'scrappy': u'shaggy', u'negtraditional': u'neguk', u'seals': u'employing', u'negamerica': u'neguk', u'surgical': u'rapist', u'disc': u'online', u'dish': u'banana', u'follow': u'die', u'meditation': u'exploration', u'disk': u'online', u'decisions': u'decisions', u'jerome': u'rodgers', u'kutcher': u'whoopi', u'synthetic': u'arresting', u'jessie': u'anna', u'glimpse': u'glimpses', u'apartment': u'build', u'catastrophe': u'surveillance', u'homage': u'bruckheimer', u'digger': u'affections', u'subjected': u'ranting', u'jolson': u'rodgers', u'misses': u'irritation', u'extraneous': u'telegraphed', u'removal': u'severed', u'negtitle': u'negt', u'aaron': u'durante', u'program': u'cable', u'dazzling': u'exotic', u'morgana': u'affections', u'barely': u'without', u'siblings': u'parent', u'presentation': u'flavour', u'varied': u'kinetic', u'neglie': u'neguk', u'longtime': u'nash', u'activities': u'heinous', u'belonging': u'drafted', u'esther': u'diana', u'incorporate': u'renders', u'citizen': u'citizen', u'egyptian': u'rome', u'far': u'importantly', u'ticked': u'toss', u'negpremise': u'neguk', u'induce': u'slack', u'ouch': u'freaking', u'simpsons': u'simpsons', u'print': u'format', u'psychologist': u'emil', u'sons': u'parent', u'worst': u'dumbest', u'negwrote': u'negsees', u'strathairn': u'plummer', u'awful': u'awful', u'sony': u'sony', u'ticket': u'cents', u'uwe': u'boll', u'abandoned': u'abandoned', u'madam': u'bullock', u'sentimental': u'sappy', u'ranting': u'ranting', u'morley': u'macmahon', u'lillie': u'diana', u'list': u'favorites', u'negmerit': u'neguk', u'plotting': u'assortment', u'singularly': u'arresting', u'grad': u'grammar', u'undone': u'prevents', u'lesbians': u'mock', u'lisa': u'anna', u'indemnity': u'bruckheimer', u'conflicted': u'refined', u'programme': u'avengers', u'flick': u'flick', u'entourage': u'skating', u'employing': u'employing', u'tel': u'employing', u'ten': u'seven', u'haas': u'durante', u'ted': u'earp', u'tee': u'macho', u'tex': u'wyler', u'dalton': u'tarzan', u'rate': u'second', u'invention': u'surveillance', u'design': u'editing', u'negentirely': u'negentertaining', u'nbc': u'guide', u'functioning': u'proportion', u'aptly': u'werner', u'imposing': u'sunny', u'what': u'whatever', u'hesitation': u'endure', u'laughably': u'mish', u'yee': u'bourne', u'sun': u'storm', u'sum': u'picks', u'lawrence': u'nash', u'anniversary': u'anniversary', u'overload': u'renders', u'crush': u'gal', u'version': u'import', u'ozon': u'georges', u'negnominated': u'neglikely', u'cinemas': u'originally', u'row': u'dozen', u'cinemax': u'showtime', u'guns': u'guns', u'multitude': u'virtues', u'negactor': u'negkind', u'layers': u'component', u'condensed': u'lasts', u'toes': u'seats', u'christian': u'christian', u'nene': u'gal', u'unprofessional': u'unprofessional', u'negcomment': u'negt', u'theresa': u'tina', u'negwater': u'negbusiness', u'behaviour': u'expressed', u'shouldn': u'shouldn', u'filmography': u'achievements', u'hopelessness': u'immediate', u'andrews': u'laurence', u'berkeley': u'rodgers', u'directions': u'split', u'epitome': u'misguided', u'observing': u'proportion', u'tragedy': u'soap', u'punchline': u'puns', u'geared': u'geared', u'naval': u'naval', u'negyear': u'negmust', u'hickock': u'dillinger', u'identifiable': u'proportion', u'allows': u'allows', u'miniature': u'daytime', u'extremes': u'unheard', u'horrified': u'appalled', u'schtick': u'macho', u'albert': u'laurence', u'options': u'suggestions', u'cause': u'cause', u'meandering': u'plodding', u'negpass': u'neglearn', u'negpast': u'negmust', u'negkids': u'negt', u'devoted': u'akbar', u'suddenly': u'immediately', u'solitude': u'solitude', u'layer': u'renders', u'yokai': u'monkeys', u'eyre': u'tarzan', u'akbar': u'akbar', u'rko': u'studios', u'herring': u'proverbial', u'clifford': u'woodward', u'neglive': u'negadd', u'proceed': u'rituals', u'curtis': u'todd', u'mulholland': u'wizards', u'faint': u'amuse', u'charge': u'captain', u'irritate': u'amuse', u'resident': u'scanners', u'fonda': u'mrs', u'schwartzman': u'durante', u'branded': u'circumstance', u'unthinkable': u'participated', u'negconsidered': u'negt', u'minor': u'exceptions', u'horses': u'fried', u'flat': u'tiresome', u'flaw': u'flaw', u'knows': u'knows', u'seventies': u'peak', u'bumped': u'broke', u'grabbing': u'slack', u'thus': u'thus', u'hoffman': u'jay', u'sorcery': u'sorcery', u'mira': u'wyler', u'negcare': u'negfind', u'corleone': u'dudikoff', u'stick': u'unless', u'talkie': u'silents', u'known': u'worked', u'negper': u'negconfusing', u'negadventure': u'negjoe', u'glad': u'guessing', u'presumed': u'informed', u'parable': u'exploration', u'plagiarism': u'inconsistency', u'debates': u'virtues', u'eden': u'maiden', u'starsky': u'shore', u'equation': u'proportion', u'policemen': u'crooks', u'adapting': u'citizen', u'shattering': u'distracts', u'ineffectual': u'surly', u'wrestler': u'batista', u'perverts': u'lads', u'audiences': u'audience', u'henderson': u'knox', u'excursion': u'descent', u'computers': u'suggestions', u'atrocious': u'awful', u'challenging': u'educational', u'division': u'drafted', u'epics': u'outings', u'ann': u'anna', u'transvestite': u'behaves', u'coltrane': u'paired', u'imitation': u'bruckheimer', u'arise': u'expressed', u'pond': u'gunpoint', u'airplane': u'shooting', u'neganyway': u'negfeeling', u'heartland': u'coverage', u'trejo': u'aiello', u'chores': u'banana', u'influenced': u'banned', u'neghe': u'neghis', u'early': u'earlier', u'goal': u'gain', u'desperation': u'immediate', u'rather': u'worse', u'breaking': u'shut', u'negexperienced': u'negmust', u'conducted': u'employing', u'occasionally': u'puns', u'titillation': u'detracts', u'influences': u'kusturica', u'speeding': u'barking', u'explains': u'speaks', u'headstrong': u'affections', u'negdrawn': u'negsees', u'vlad': u'whose', u'sandwich': u'banana', u'ubiquitous': u'arresting', u'emulate': u'recreate', u'weaknesses': u'fundamental', u'animator': u'masterwork', u'emphasizes': u'rendering', u'reflect': u'proportion', u'replace': u'recreate', u'negpick': u'neglearn', u'shape': u'bear', u'lighting': u'editing', u'adventure': u'adventure', u'numb': u'chuckling', u'existential': u'renders', u'trademark': u'dour', u'capitalize': u'boost', u'concerns': u'concerns', u'proclaimed': u'destructive', u'neglanguage': u'negspace', u'trucks': u'autopsy', u'jovi': u'paired', u'negship': u'negjoe', u'redgrave': u'hayward', u'chiefly': u'unconventional', u'susan': u'anna', u'dot': u'petition', u'shady': u'owner', u'negsoul': u'negbusiness', u'departure': u'solitude', u'stash': u'robber', u'height': u'attendance', u'shore': u'shore', u'assailant': u'sends', u'grande': u'du', u'shade': u'spontaneously', u'climaxes': u'results', u'adrien': u'knox', u'balloon': u'barking', u'wife': u'friend', u'tanks': u'helicopters', u'september': u'originally', u'developed': u'developing', u'kitten': u'tasty', u'negdancing': u'negjoe', u'mission': u'commander', u'proverbial': u'proverbial', u'womanizing': u'villainous', u'disabled': u'ill', u'outraged': u'proceeded', u'logan': u'phillip', u'scientist': u'professor', u'macmurray': u'macmurray', u'daniel': u'anna', u'charts': u'charts', u'underplayed': u'dour', u'pretext': u'increasing', u'negacting': u'negmention', u'avenue': u'isle', u'airing': u'guide', u'stepmother': u'affections', u'olen': u'macmurray', u'style': u'mixes', u'forwards': u'distracts', u'pray': u'cents', u'syrupy': u'sporadically', u'abbey': u'maiden', u'prodigy': u'whose', u'clashes': u'feats', u'harmless': u'harmless', u'fisher': u'altman', u'parts': u'roles', u'teens': u'camp', u'negclass': u'negjoe', u'speaker': u'speaker', u'argentina': u'rome', u'soccer': u'arts', u'might': u'might', u'alter': u'endure', u'argentine': u'coverage', u'wouldn': u'shouldn', u'somebody': u'someone', u'sucking': u'bleed', u'hunter': u'hunt', u'predator': u'alien', u'number': u'many', u'inch': u'intervals', u'gracious': u'beavers', u'iturbi': u'sinatra', u'milestone': u'mani', u'communities': u'arabs', u'clouds': u'oxygen', u'hunted': u'chased', u'vaughn': u'whoopi', u'bollywood': u'pixar', u'gannon': u'dillinger', u'bigger': u'worse', u'instructions': u'robber', u'overused': u'distasteful', u'schoolteacher': u'tina', u'level': u'spite', u'repulsed': u'repulsed', u'stiles': u'hannah', u'timmy': u'emil', u'debacle': u'indication', u'mastered': u'mastered', u'juhi': u'juhi', u'turns': u'turning', u'negmakes': u'negfeeling', u'inherent': u'virtues', u'negevil': u'negcomic', u'friendship': u'chemistry', u'characterized': u'substituted', u'embraced': u'prevents', u'allies': u'enemies', u'pirates': u'pirates', u'weight': u'method', u'needless': u'mill', u'generation': u'older', u'posts': u'stating', u'interviews': u'cut', u'oppressed': u'arabs', u'hawaii': u'subway', u'duchess': u'affections', u'sg': u'andromeda', u'expect': u'expect', u'inflict': u'privacy', u'neggirl': u'negdies', u'scratching': u'seats', u'hartley': u'masterwork', u'negrole': u'negdies', u'impersonation': u'macho', u'lola': u'anna', u'negconnection': u'negqualities', u'divide': u'arabs', u'alcohol': u'dealers', u'wondered': u'clue', u'poachers': u'peasants', u'hilt': u'plummer', u'izo': u'existence', u'reverend': u'knox', u'lucifer': u'affections', u'health': u'severe', u'hill': u'sylvester', u'paradise': u'lake', u'induced': u'spontaneously', u'caucasian': u'speaker', u'benjamin': u'laurence', u'soulless': u'suburbia', u'definately': u'damned', u'wisconsin': u'coastal', u'stereotyping': u'atheist', u'monotone': u'facial', u'friday': u'evenings', u'negother': u'negthan', u'differ': u'norm', u'lesser': u'exceptions', u'negstart': u'neglearn', u'cookie': u'assortment', u'monotony': u'increasing', u'negoffended': u'neglikely', u'randall': u'plummer', u'attendant': u'shaft', u'generate': u'overlook', u'guest': u'appearance', u'thrown': u'pulling', u'underwhelming': u'sketchy', u'negthreat': u'negcomic', u'bourgeoisie': u'suburbia', u'auteuil': u'tina', u'introduction': u'crossword', u'negidea': u'negqualities', u'weaver': u'villainous', u'negshame': u'negbusiness', u'mercilessly': u'threatening', u'local': u'mart', u'fallen': u'akbar', u'throws': u'throws', u'caged': u'charts', u'feed': u'persuade', u'veidt': u'villainous', u'negscenes': u'neglogic', u'thinks': u'knows', u'unhealthy': u'rapist', u'upper': u'middle', u'dino': u'paired', u'moderately': u'detracts', u'churning': u'backing', u'sydney': u'ch', u'fancy': u'banana', u'linking': u'surveillance', u'feet': u'floor', u'sympathy': u'intent', u'sailor': u'miner', u'brave': u'tough', u'construct': u'strategic', u'blank': u'split', u'bland': u'tiresome', u'traveler': u'reversal', u'soaps': u'reservoir', u'regret': u'guarantee', u'moan': u'shed', u'story': u'tale', u'breathless': u'chuckling', u'scathing': u'contention', u'naina': u'helene', u'script': u'storyline', u'reprising': u'plummer', u'automobile': u'sends', u'financed': u'boost', u'tougher': u'repulsed', u'harris': u'laurence', u'negpredictable': u'negconfusing', u'doomsday': u'flu', u'swarm': u'tiny', u'of': u'one', u'steals': u'rob', u'negmean': u'negwon', u'grimy': u'dusty', u'kajol': u'bachchan', u'destruction': u'destroy', u'syrup': u'fried', u'negstudy': u'negjoe', u'recovered': u'sends', u'headache': u'chuckling', u'treasured': u'ncis', u'option': u'cents', u'rolling': u'seats', u'pump': u'backing', u'relieved': u'regretted', u'exploded': u'bla', u'convinces': u'receives', u'scarcely': u'weigh', u'blaise': u'blaise', u'filmic': u'rendering', u'slugs': u'masks', u'luckily': u'granted', u'treasures': u'programmer', u'neggenius': u'negcomic', u'rifle': u'barking', u'bennett': u'casey', u'versatility': u'billing', u'uncut': u'import', u'valerie': u'tina', u'albeit': u'educational', u'kind': u'kind', u'nagging': u'persistent', u'inuyasha': u'terminator', u'kino': u'mastered', u'colin': u'mara', u'aims': u'prevents', u'outrageous': u'puns', u'cost': u'avoided', u'architect': u'owner', u'risks': u'risks', u'insulted': u'appalled', u'outdoors': u'dusty', u'reclaim': u'requests', u'dane': u'tina', u'scanners': u'scanners', u'dana': u'laurence', u'risky': u'contention', u'unrelenting': u'strangeness', u'cleaner': u'skinny', u'motivation': u'bounds', u'uniforms': u'dresses', u'person': u'dude', u'storytelling': u'mixes', u'gals': u'mock', u'negside': u'negspace', u'negallow': u'neglearn', u'suspicious': u'protect', u'kline': u'reeve', u'shrewd': u'channing', u'negreviewers': u'neguk', u'gale': u'phillip', u'garfield': u'malkovich', u'alike': u'mock', u'cleaned': u'messing', u'fiona': u'whose', u'negimages': u'negjoe', u'shrews': u'astro', u'wilson': u'jay', u'nights': u'night', u'rochester': u'tarzan', u'negstuff': u'negsees', u'scott': u'brent', u'imitations': u'reservoir', u'port': u'sail', u'entirety': u'predecessor', u'riff': u'beavers', u'chairman': u'naval', u'finding': u'quest', u'sherry': u'casey', u'pianist': u'helene', u'buff': u'enthusiast', u'unremarkable': u'assured', u'niven': u'nash', u'critics': u'read', u'electric': u'kitchen', u'populate': u'proportion', u'exec': u'prophet', u'reckon': u'reckon', u'park': u'chan', u'aman': u'discusses', u'reach': u'gain', u'gila': u'astro', u'reunited': u'helene', u'react': u'belong', u'cigarette': u'belt', u'enduring': u'hatred', u'amar': u'durante', u'neglater': u'negmust', u'gruner': u'paired', u'machete': u'shaft', u'prestige': u'participated', u'measured': u'endearment', u'screenwriter': u'screenwriter', u'achievement': u'seminal', u'stands': u'stand', u'dealers': u'dealers', u'windows': u'kitchen', u'barbie': u'bullock', u'traditional': u'mixes', u'chemical': u'sail', u'negthrilling': u'negconfusing', u'negone': u'neginto', u'neglisten': u'neglearn', u'notch': u'superb', u'institutions': u'observe', u'lying': u'strangled', u'stones': u'ballet', u'stoner': u'loser', u'claudius': u'bagdad', u'vinnie': u'homer', u'programming': u'discount', u'journeys': u'mumbai', u'lay': u'privacy', u'fond': u'memories', u'crenna': u'laurence', u'negfeet': u'negjoe', u'stoned': u'toss', u'routinely': u'rituals', u'neglame': u'negcomic', u'negattack': u'negsees', u'wolfe': u'wyler', u'negeat': u'neglearn', u'awakens': u'sends', u'delinquent': u'miner', u'rampant': u'increasing', u'negmindless': u'negt', u'heavily': u'relied', u'grotesque': u'vile', u'grace': u'ryan', u'starters': u'assured', u'abiding': u'sordid', u'jazz': u'ballet', u'hepburn': u'topper', u'fulci': u'giallo', u'stirs': u'persistent', u'moses': u'channing', u'sure': u'guessing', u'hip': u'hip', u'shepherd': u'phillip', u'counterpoint': u'dour', u'his': u'he', u'publicity': u'boost', u'gains': u'suspicion', u'hiv': u'mocked', u'babble': u'sporadically', u'negtwists': u'neglogic', u'neghide': u'negcomic', u'negtheir': u'neghis', u'nanon': u'helene', u'whistle': u'charts', u'revered': u'symbol', u'hid': u'sends', u'longest': u'intervals', u'him': u'he', u'mcdowall': u'durante', u'budapest': u'brokeback', u'adulthood': u'risks', u'brendan': u'phillip', u'timeless': u'stunning', u'negby': u'neglittle', u'nickelodeon': u'avengers', u'investigate': u'suspects', u'tcm': u'originally', u'coins': u'gunpoint', u'cartoons': u'cartoon', u'activity': u'increasing', u'naughty': u'bonkers', u'vincent': u'dudikoff', u'cringe': u'laugh', u'relentless': u'gunfight', u'virginia': u'hari', u'cartoony': u'jarring', u'consciously': u'destructive', u'bars': u'rituals', u'negsurprising': u'negconfusing', u'art': u'commercial', u'bart': u'miner', u'choreographer': u'arts', u'negred': u'negsees', u'ethel': u'casey', u'intelligence': u'oneself', u'linklater': u'georges', u'arrives': u'calls', u'achieves': u'prevents', u'arc': u'accurately', u'injecting': u'rapist', u'are': u'is', u'barf': u'kiddie', u'cleverly': u'solidly', u'chambers': u'employing', u'matin': u'zu', u'ark': u'bulworth', u'arm': u'belt', u'declined': u'evolved', u'barn': u'kitchen', u'negstandards': u'negcomic', u'spirited': u'refined', u'learns': u'calls', u'learnt': u'lommel', u'crispin': u'aiello', u'distinctive': u'endearment', u'user': u'read', u'negslapstick': u'negconfusing', u'slapped': u'pulling', u'lineup': u'discount', u'degrading': u'vile', u'various': u'many', u'use': u'added', u'spoofing': u'reservoir', u'spells': u'endure', u'numerous': u'many', u'corruption': u'fascism', u'blurb': u'online', u'solo': u'jabba', u'muslim': u'arabs', u'recently': u'originally', u'creating': u'mixes', u'engaged': u'protect', u'kessler': u'channing', u'conroy': u'durante', u'handyman': u'sends', u'sold': u'shortly', u'sole': u'central', u'outfit': u'dresses', u'rapid': u'monotonous', u'opposition': u'observe', u'competent': u'assured', u'negcapable': u'negjoe', u'prelude': u'arresting', u'relying': u'relied', u'negprobably': u'negmust', u'c': u'y', u'negjudge': u'neglearn', u'serbs': u'organizations', u'license': u'lommel', u'negelement': u'negcomic', u'bandit': u'dillinger', u'riddled': u'assortment', u'operas': u'reservoir', u'became': u'became', u'fraternity': u'employing', u'witch': u'witch', u'tobe': u'poltergeist', u'finds': u'calls', u'cynic': u'cynic', u'insurance': u'inheritance', u'negbody': u'negdies', u'flies': u'rolls', u'guts': u'extreme', u'distress': u'reversal', u'reasons': u'point', u'sweet': u'charming', u'crippled': u'whose', u'sweep': u'solitude', u'dudes': u'lads', u'panahi': u'suburbia', u'village': u'southern', u'rave': u'read', u'angeles': u'chicago', u'negfunny': u'negentertaining', u'duh': u'lads', u'ps': u'expectation', u'duk': u'duk', u'dum': u'rejects', u'dun': u'wesley', u'duo': u'circus', u'negoverly': u'negconfusing', u'dub': u'import', u'overlook': u'overlook', u'dud': u'disappointment', u'due': u'largely', u'dug': u'messing', u'pc': u'suggestions', u'pa': u'maiden', u'durning': u'plummer', u'pg': u'pg', u'brick': u'shaft', u'pi': u'rejects', u'po': u'homer', u'woke': u'wee', u'pm': u'evenings', u'affectionate': u'refined', u'flight': u'storm', u'negzombie': u'negt', u'yossi': u'refined', u'buck': u'brent', u'orchestral': u'kinetic', u'precision': u'minelli', u'dourif': u'pitt', u'vaguely': u'periods', u'demand': u'cents', u'bygone': u'peak', u'rocking': u'charts', u'instructor': u'vito', u'negafrican': u'neguk', u'hamill': u'phillip', u'plants': u'peasants', u'stolen': u'rob', u'conception': u'virtues', u'softcore': u'strictly', u'frozen': u'bla', u'ski': u'gunpoint', u'gem': u'commercial', u'batch': u'flu', u'unprecedented': u'strategic', u'gestapo': u'heinous', u'behavior': u'socially', u'shake': u'seats', u'moustache': u'belt', u'shortened': u'directly', u'lodger': u'schizophrenia', u'categorized': u'labeled', u'guilty': u'experience', u'antithesis': u'feats', u'demon': u'dinosaurs', u'leans': u'reversal', u'integrity': u'oneself', u'disappointing': u'satisfying', u'quaid': u'jay', u'awakening': u'sordid', u'obstacle': u'unwilling', u'frantic': u'distracts', u'deneuve': u'hayward', u'rig': u'sail', u'rid': u'protect', u'bunuel': u'kusturica', u'anguish': u'immediate', u'definitive': u'seminal', u'negkidding': u'neghard', u'lengthy': u'filler', u'aged': u'middle', u'ample': u'requisite', u'negclean': u'negsees', u'lengths': u'endure', u'fictitious': u'bagdad', u'orders': u'heinous', u'negexpecting': u'neghard', u'firearms': u'threatening', u'widely': u'banned', u'peoples': u'sources', u'advise': u'expectation', u'tierney': u'sinatra', u'spears': u'fried', u'daughters': u'parent', u'higher': u'zero', u'literature': u'tolkien', u'negskill': u'neglogic', u'paths': u'employing', u'restraint': u'method', u'huston': u'malkovich', u'flows': u'monotonous', u'holidays': u'sony', u'patriotic': u'organizations', u'brooding': u'elegance', u'flown': u'elected', u'arrived': u'shortly', u'birch': u'hannah', u'robust': u'minelli', u'deodato': u'infamous', u'negvictim': u'negjoe', u'weird': u'weird', u'bourgeois': u'persistent', u'missionary': u'mocked', u'lower': u'beyond', u'cheek': u'firmly', u'chickens': u'rituals', u'anybody': u'someone', u'analysis': u'fundamental', u'dared': u'appreciates', u'cheer': u'toss', u'historic': u'historic', u'machinery': u'increasing', u'inspirational': u'quiet', u'dares': u'endure', u'ju': u'ju', u'negwhatsoever': u'negreason', u'stating': u'stating', u'throwaway': u'spongebob', u'shouted': u'replied', u'abilities': u'method', u'understood': u'understood', u'burden': u'risks', u'competitive': u'feats', u'intervals': u'intervals', u'questions': u'questions', u'regardless': u'justified', u'couch': u'banana', u'continent': u'arabs', u'profitable': u'participated', u'tables': u'gunpoint', u'illusions': u'aspirations', u'adrienne': u'plummer', u'majority': u'these', u'consequence': u'bounds', u'workers': u'vets', u'rudolph': u'wyler', u'exclusively': u'inconsistency', u'caesar': u'prophet', u'lt': u'weary', u'problematic': u'increasing', u'tormented': u'sullen', u'tchaikovsky': u'ballet', u'darkman': u'vol', u'totally': u'completely', u'compensation': u'privacy', u'townsfolk': u'peasants', u'customers': u'robber', u'complains': u'proceeded', u'dvds': u'online', u'advocate': u'prophet', u'sounding': u'sound', u'boost': u'boost', u'negthink': u'negfind', u'brit': u'euro', u'lowbrow': u'sporadically', u'ahem': u'reservoir', u'skeptical': u'sorely', u'neghuge': u'negkind', u'labute': u'cherished', u'marian': u'tina', u'shaped': u'spontaneously', u'systematically': u'sends', u'admittedly': u'assured', u'message': u'attitude', u'incidental': u'kinetic', u'separately': u'helicopters', u'collect': u'raise', u'arthur': u'wizard', u'negmanaged': u'negsees', u'unstable': u'ill', u'negvalues': u'negcomic', u'entice': u'ploy', u'saget': u'whoopi', u'essential': u'fundamental', u'hallmark': u'discount', u'perpetual': u'peasant', u'hinted': u'prevents', u'negmess': u'negsees', u'negearly': u'negjoe', u'neggoing': u'neganyone', u'rot': u'rituals', u'global': u'fascism', u'pretension': u'flavour', u'litter': u'proverbial', u'candy': u'eye', u'negapproach': u'negcomic', u'selfishness': u'expressed', u'godfather': u'brando', u'gradually': u'grows', u'rarely': u'usually', u'negsimple': u'negconfusing', u'gangsters': u'crooks', u'prot': u'abel', u'pros': u'shine', u'vortex': u'spontaneously', u'seller': u'bagdad', u'busby': u'ballet', u'prom': u'evenings', u'retro': u'chiller', u'ticking': u'helicopters', u'tends': u'reckon', u'negsimply': u'negsees', u'fragments': u'inconsistency', u'negaward': u'neglikely', u'apathetic': u'proportion', u'jumpy': u'jarring', u'contrasting': u'arrangement', u'thinner': u'repulsed', u'jumps': u'pole', u'negmoral': u'negbusiness', u'neggiant': u'negjoe', u'refused': u'informed', u'zombie': u'alien', u'negtone': u'negcomic', u'othello': u'billing', u'hooper': u'poltergeist', u'refuses': u'knows', u'telegraphed': u'telegraphed', u'intense': u'heart', u'russell': u'laurence', u'cautious': u'substituted', u'negtalents': u'negjoe', u'completing': u'proceeded', u'ordeal': u'spontaneously', u'brooklyn': u'chicago', u'surfers': u'employing', u'shatner': u'phillip', u'stricken': u'assaulted', u'range': u'skill', u'repulsion': u'substituted', u'dialog': u'storyline', u'purists': u'amuse', u'hatred': u'hatred', u'wanna': u'lets', u'dwight': u'plummer', u'laughton': u'nash', u'gospel': u'strategic', u'credible': u'sympathetic', u'therein': u'prevents', u'mst': u'expectation', u'real': u'real', u'negexpected': u'negmade', u'unnoticed': u'surveillance', u'plethora': u'assortment', u'auntie': u'bullock', u'conquest': u'suburbia', u'johns': u'woodward', u'confronts': u'helene', u'elvira': u'eve', u'drifter': u'sullen', u'daphne': u'tina', u'momma': u'skinny', u'angela': u'mara', u'negbelieve': u'negwon', u'extraordinary': u'superb', u'negpunches': u'neglogic', u'stitches': u'chuckling', u'canal': u'miracles', u'impressed': u'upset', u'sonny': u'homer', u'introverted': u'sullen', u'jameson': u'paired', u'smoothly': u'monotonous', u'lone': u'hunt', u'amidst': u'dusty', u'taliban': u'arabs', u'window': u'kitchen', u'zombi': u'scanners', u'prettier': u'repulsed', u'impresses': u'marianne', u'wenders': u'georges', u'oddities': u'inconsistency', u'conceivable': u'handedly', u'analyze': u'amuse', u'sections': u'periods', u'vienna': u'coastal', u'files': u'andromeda', u'mountains': u'coast', u'plunge': u'throws', u'perplexing': u'prevents', u'lemmon': u'matthau', u'talked': u'complained', u'negafford': u'negsees', u'audacious': u'substituted', u'giggling': u'whispering', u'fairbanks': u'fairbanks', u'searching': u'quest', u'glamour': u'tasty', u'cloth': u'bleed', u'crank': u'backing', u'siodmak': u'raoul', u'delta': u'iron', u'upright': u'charts', u'negstate': u'negjoe', u'crane': u'villainous', u'junior': u'school', u'raising': u'existence', u'penguin': u'daredevil', u'hush': u'anna', u'patriot': u'bulworth', u'consist': u'lads', u'prey': u'monkeys', u'fulfilling': u'sordid', u'characteristic': u'rendering', u'negbecause': u'neglittle', u'liberty': u'solitude', u'friel': u'hayward', u'participants': u'sources', u'sturges': u'wyler', u'highlight': u'flaw', u'z': u'grade', u'strands': u'component', u'called': u'called', u'modeled': u'bullock', u'viable': u'strategic', u'negannoying': u'negconfusing', u'sometimes': u'slightly', u'freak': u'sack', u'worthwhile': u'satisfying', u'dismay': u'downward', u'neggrand': u'negcomic', u'sepia': u'daytime', u'gunpoint': u'gunpoint', u'commissioner': u'weary', u'kathryn': u'sinatra', u'warning': u'contain', u'initial': u'started', u'undertones': u'shakespearean', u'kerry': u'prophet', u'graham': u'mara', u'anamorphic': u'format', u'adams': u'macmahon', u'stephen': u'todd', u'disappoints': u'sucked', u'rainy': u'evenings', u'rosario': u'beavers', u'lemon': u'darling', u'conductor': u'channing', u'negnormal': u'neguk', u'rains': u'plummer', u'endurance': u'slack', u'malicious': u'increasing', u'backs': u'circular', u'sunshine': u'orange', u'negsinging': u'negjoe', u'nick': u'jay', u'parlor': u'sends', u'altar': u'obese', u'sykes': u'plummer', u'kamal': u'supplied', u'mock': u'mock', u'nice': u'eerie', u'dale': u'casey', u'muddled': u'sketchy', u'generates': u'elegance', u'smitten': u'affections', u'understatement': u'grain', u'problems': u'deals', u'breasts': u'nipples', u'negsuffer': u'negsees', u'helping': u'nefarious', u'janeane': u'surly', u'bonding': u'interacting', u'negpresented': u'negcomic', u'allowing': u'intent', u'posters': u'mentioned', u'bela': u'boris', u'daly': u'macmahon', u'whitman': u'prophet', u'negexcuse': u'negqualities', u'casey': u'casey', u'negcost': u'negfeeling', u'suffers': u'gift', u'happier': u'regretted', u'vice': u'gooding', u'meek': u'knox', u'reiner': u'becker', u'neglogic': u'neglogic', u'departments': u'inconsistency', u'dragged': u'pulling', u'impatient': u'rejects', u'capsule': u'discount', u'nasa': u'helicopters', u'karma': u'persuade', u'demonstrates': u'dignity', u'beers': u'sony', u'nash': u'nash', u'buffalo': u'circus', u'scroll': u'sonic', u'once': u'again', u'wrestle': u'daredevil', u'ganz': u'plummer', u'issued': u'releasing', u'negversion': u'negt', u'resistance': u'vets', u'steve': u'jay', u'negquestions': u'negbusiness', u'overkill': u'jarring', u'gang': u'teenagers', u'winds': u'picks', u'hrithik': u'billing', u'contributions': u'shine', u'jima': u'brokeback', u'issues': u'deals', u'fugitive': u'weary', u'simon': u'nash', u'swimming': u'kitchen', u'leung': u'todd', u'disposal': u'surveillance', u'brolin': u'jimmy', u'witherspoon': u'diana', u'sukiyaki': u'sukiyaki', u'negsubtle': u'negconfusing', u'campfire': u'monkeys', u'offs': u'off', u'stable': u'unaware', u'antique': u'maiden', u'include': u'featured', u'dramatically': u'accurately', u'snipes': u'wesley', u'sniper': u'controls', u'dandy': u'minelli', u'attempts': u'insult', u'breathing': u'rolls', u'wished': u'understood', u'gino': u'affections', u'hopper': u'jay', u'gina': u'mara', u'judi': u'pegg', u'deniro': u'altman', u'exiled': u'peasant', u'spoon': u'bleed', u'wishes': u'receives', u'noose': u'charts', u'spoof': u'bruckheimer', u'mild': u'extreme', u'gunfights': u'autopsy', u'harlow': u'powell', u'incoherent': u'unrealistic', u'grey': u'orange', u'notes': u'citizen', u'defeats': u'threatening', u'leader': u'hunt', u'gullible': u'appreciates', u'tenderness': u'dignity', u'session': u'isle', u'negeasily': u'negt', u'dealt': u'deals', u'melodies': u'ballet', u'businesses': u'peasants', u'exhibits': u'rendering', u'noted': u'mentioned', u'sandman': u'kick', u'negold': u'negmust', u'concluded': u'complained', u'someday': u'ur', u'worldly': u'sullen', u'smaller': u'billing', u'gripping': u'inventive', u'goodies': u'rituals', u'frost': u'coward', u'wrestling': u'kick', u'sensation': u'coverage', u'negshe': u'neghis', u'fold': u'intervals', u'neghorrible': u'negconfusing', u'traveling': u'brokeback', u'concludes': u'concluding', u'manipulating': u'suspicion', u'abominable': u'unimpressive', u'acid': u'bleed', u'makers': u'makers', u'folk': u'dancers', u'medieval': u'brokeback', u'unavailable': u'releasing', u'negallowed': u'negeasy', u'showcase': u'gifted', u'leno': u'shore', u'negengaging': u'negconfusing', u'networks': u'guide', u'waiting': u'waiting', u'negfinal': u'negspace', u'capital': u'iraq', u'renders': u'renders', u'ammunition': u'suggestions', u'negguys': u'negsees', u'nazis': u'enemies', u'negpersonality': u'negqualities', u'cozy': u'skating', u'desires': u'expressed', u'meg': u'anna', u'mistake': u'thus', u'pushing': u'pulling', u'handedly': u'handedly', u'youngest': u'whose', u'desired': u'warned', u'explore': u'sources', u'separation': u'persistent', u'woefully': u'ham', u'slater': u'christian', u'negcredits': u'negmust', u'melodramas': u'peak', u'settling': u'assaulted', u'lillard': u'durante', u'swashbuckler': u'mani', u'survivor': u'mysteriously', u'wesley': u'wesley', u'neganti': u'neguk', u'cleopatra': u'wyler', u'larger': u'worse', u'shades': u'dusty', u'calvin': u'miner', u'esque': u'sorcery', u'leaving': u'leave', u'suggests': u'suggests', u'pretentiousness': u'fireflies', u'negfan': u'negkind', u'nicknamed': u'miner', u'rufus': u'villainous', u'townspeople': u'peasants', u'negsouth': u'neguk', u'negdialog': u'neglogic', u'snobby': u'miner', u'negthrough': u'negfeeling', u'reds': u'arrangement', u'winkler': u'plummer', u'forbin': u'coward', u'apple': u'skinny', u'heart': u'heart', u'forbid': u'ur', u'yuen': u'arts', u'offends': u'geared', u'improbable': u'unrealistic', u'aboard': u'sail', u'motor': u'gunpoint', u'cheerleader': u'loser', u'summation': u'chiller', u'apply': u'truthfully', u'competently': u'solidly', u'boasts': u'shine', u'ape': u'astro', u'fed': u'pulling', u'fee': u'cents', u'from': u'past', u'hippie': u'loser', u'consumption': u'increasing', u'gere': u'laurence', u'doodle': u'lil', u'negopening': u'negjoe', u'negmatters': u'neglearn', u'few': u'many', u'depicted': u'presented', u'priestess': u'peasant', u'scariest': u'dumbest', u'weeping': u'downward', u'attribute': u'easiest', u'eagles': u'naval', u'fey': u'macho', u'possession': u'ritual', u'parliament': u'drafted', u'dysfunctional': u'faced', u'negoriginal': u'negmention', u'inclined': u'appreciates', u'musician': u'chess', u'heir': u'owner', u'columbo': u'norm', u'negpopular': u'neguk', u'sore': u'whispering', u'rabbit': u'astro', u'posturing': u'feats', u'carried': u'developing', u'annoy': u'amuse', u'topic': u'educational', u'disingenuous': u'substituted', u'negimpressed': u'negt', u'slaps': u'sack', u'linger': u'slack', u'critic': u'banned', u'misfits': u'missions', u'whiz': u'proverbial', u'anywhere': u'needn', u'gabby': u'nash', u'purports': u'strategic', u'tour': u'niro', u'performed': u'catchy', u'bittersweet': u'quiet', u'persuades': u'nefarious', u'patrol': u'brokeback', u'thirsty': u'severed', u'spying': u'sends', u'carrol': u'nash', u'tax': u'boost', u'dripping': u'rolls', u'yuzna': u'masterwork', u'tad': u'slightly', u'negdoor': u'negsees', u'villain': u'villain', u'tag': u'batista', u'hilton': u'university', u'archetypal': u'serviceable', u'chic': u'proverbial', u'tan': u'proverbial', u'nightclub': u'maiden', u'cowardly': u'sullen', u'tai': u'abel', u'rape': u'cannibalism', u'autobiography': u'biopic', u'united': u'canada', u'syndrome': u'shut', u'decaying': u'tours', u'guru': u'loser', u'cliches': u'unrealistic', u'clothing': u'dresses', u'negindividual': u'negjoe', u'six': u'seven', u'struggles': u'aspirations', u'moods': u'arrangement', u'occur': u'occur', u'sic': u'surveillance', u'brian': u'niro', u'unquestionably': u'achievements', u'camilla': u'abel', u'sid': u'macmahon', u'instead': u'kind', u'goldsmith': u'theme', u'toddler': u'rejects', u'panic': u'spontaneously', u'sin': u'cherished', u'sim': u'macmahon', u'cliched': u'unrealistic', u'tension': u'denouement', u'puppets': u'masks', u'express': u'express', u'attend': u'anniversary', u'negwoman': u'negdies', u'negdecent': u'negcomic', u'immersed': u'circumstance', u'unforgivable': u'sketchy', u'them': u'these', u'masks': u'masks', u'impulsive': u'sullen', u'discomfort': u'prevents', u'tack': u'concluding', u'wrist': u'gunpoint', u'negtea': u'negt', u'ethnic': u'arabs', u'negten': u'negmust', u'negdeath': u'negdies', u'psychedelic': u'daytime', u'infantile': u'pathetically', u'arbuckle': u'woodward', u'knightley': u'hayward', u'bergen': u'macmahon', u'neglast': u'negmust', u'fatally': u'reversal', u'interrupted': u'chased', u'wwii': u'iraq', u'negrealize': u'negwon', u'honestly': u'frankly', u'improvised': u'jarring', u'crawling': u'rolls', u'necklace': u'obese', u'martino': u'giallo', u'jolie': u'banderas', u'tony': u'todd', u'breast': u'nipples', u'marlowe': u'phillip', u'eloquent': u'substituted', u'saturated': u'daytime', u'baddie': u'hunt', u'damsel': u'marianne', u'demme': u'becker', u'interpreted': u'substituted', u'joanne': u'tina', u'dearest': u'spelled', u'looks': u'looking', u'tyrant': u'peasant', u'passengers': u'sail', u'contaminated': u'prayer', u'glen': u'coward', u'superior': u'norm', u'gunslinger': u'surly', u'strangeness': u'strangeness', u'reeve': u'reeve', u'negcredit': u'negsees', u'banner': u'batista', u'glee': u'proverbial', u'ships': u'helicopters', u'nostalgia': u'memories', u'nostalgic': u'stunning', u'permanent': u'endure', u'contemplative': u'dense', u'choose': u'stop', u'fidel': u'gooding', u'reilly': u'keefe', u'inconsistencies': u'telegraphed', u'covered': u'circular', u'holiday': u'anniversary', u'defining': u'dignity', u'carole': u'hayward', u'negsequences': u'negcomic', u'freeman': u'reeve', u'bumbling': u'hunt', u'crash': u'wreck', u'contention': u'contention', u'richness': u'flavour', u'wolfgang': u'wyler', u'yada': u'handing', u'commended': u'lommel', u'flew': u'bla', u'flare': u'slack', u'ferguson': u'villainous', u'snoopy': u'woodcock', u'ambition': u'oneself', u'flea': u'sony', u'republican': u'organizations', u'affections': u'affections', u'fled': u'participated', u'successor': u'prophet', u'worlds': u'sources', u'bewilderment': u'ranting', u'speaks': u'speaks', u'sleeve': u'releasing', u'auto': u'sail', u'profound': u'quiet', u'darcy': u'mrs', u'feast': u'chiller', u'begs': u'answering', u'trimmed': u'lasts', u'negbelieving': u'negjoe', u'rockets': u'helicopters', u'trap': u'spontaneously', u'blacktop': u'blacktop', u'pleasures': u'symbol', u'interview': u'easter', u'champ': u'channing', u'bickford': u'villainous', u'bills': u'inheritance', u'erratic': u'characterizations', u'studios': u'studios', u'cry': u'laugh', u'bentley': u'dillinger', u'tepid': u'unimpressive', u'tch': u'rejects', u'artists': u'dancers', u'whimsy': u'elegance', u'related': u'connected', u'bogey': u'surly', u'interplay': u'interacting', u'incapable': u'prevents', u'relates': u'solitude', u'fictional': u'real', u'out': u'on', u'category': u'descent', u'respects': u'refined', u'tabloid': u'surveillance', u'negdo': u'negfind', u'crashes': u'storm', u'sentiment': u'sappy', u'frontier': u'programmer', u'cerebral': u'unconventional', u'radical': u'strategic', u'chaos': u'immediate', u'negde': u'negjoe', u'outings': u'outings', u'vcr': u'online', u'performs': u'billing', u'pan': u'pan', u'honorable': u'surly', u'negwere': u'neganyone', u'yankee': u'prophet', u'supports': u'aspirations', u'dive': u'staircase', u'hut': u'tours', u'granddaughter': u'helene', u'dictionary': u'slack', u'pours': u'staircase', u'eighty': u'fifty', u'maintains': u'elegance', u'steel': u'kick', u'negcomplicated': u'negconfusing', u'not': u'neglittle', u'york': u'gangs', u'dumpster': u'prayer', u'conflicts': u'expressed', u'neginteresting': u'negentertaining', u'disgusted': u'appalled', u'stupidity': u'pathetically', u'compositions': u'kinetic', u'tenant': u'symbol', u'weaves': u'renders', u'organic': u'renders', u'platoon': u'vets', u'g': u'y', u'islamic': u'fascism', u'tennessee': u'casey', u'phrases': u'inconsistency', u'levi': u'villainous', u'stairs': u'kitchen', u'conversation': u'dinner', u'outlandish': u'sporadically', u'negending': u'negfeeling', u'adrian': u'durante', u'negprior': u'negbusiness', u'biting': u'severed', u'negavail': u'negreason', u'rudolf': u'channing', u'fledged': u'faux', u'tacked': u'filler', u'negconventional': u'negcomic', u'obscurity': u'contention', u'plainly': u'ranting', u'puerile': u'pathetically', u'negsupporting': u'negjoe', u'echo': u'inconsistency', u'walter': u'matthau', u'presume': u'forgive', u'listless': u'unimpressive', u'steamy': u'cannibalism', u'imperial': u'iraq', u'straight': u'mart', u'continental': u'coverage', u'dated': u'melodramatic', u'devout': u'mocked', u'unknown': u'abandoned', u'creator': u'coward', u'accent': u'accent', u'rigg': u'tina', u'eighth': u'serling', u'priority': u'lommel', u'potty': u'spongebob', u'drool': u'fried', u'badness': u'predecessor', u'boil': u'rolls', u'misunderstood': u'easiest', u'shell': u'rolls', u'neggraphic': u'negconfusing', u'academy': u'award', u'reversed': u'speaker', u'shallow': u'socially', u'debate': u'atheist', u'slides': u'staircase', u'reflecting': u'virtues', u'ving': u'busey', u'allied': u'vets', u'branches': u'circular', u'july': u'anniversary', u'asoka': u'akbar', u'institution': u'severe', u'blind': u'gal', u'noses': u'peasants', u'negyet': u'neguntil', u'bashed': u'bleed', u'mostel': u'plummer', u'holland': u'prophet', u'uninterested': u'ham', u'objectionable': u'detracts', u'isolation': u'immediate', u'riches': u'increasing', u'toons': u'reservoir', u'coaster': u'road', u'tommy': u'reeve', u'priestly': u'refined', u'patients': u'nefarious', u'negstandard': u'negcomic', u'kindly': u'nefarious', u'hairstyle': u'proverbial', u'plans': u'protect', u'sea': u'storm', u'clip': u'easter', u'splatter': u'requisite', u'cohen': u'becker', u'foes': u'threatening', u'teenagers': u'teenagers', u'neghappens': u'negfeeling', u'williamson': u'macmurray', u'imdb': u'read', u'sincerity': u'dignity', u'faux': u'faux', u'limbo': u'symbol', u'linked': u'periods', u'catholic': u'reform', u'afraid': u'afraid', u'angle': u'angle', u'pupils': u'carlitos', u'russians': u'enemies', u'nobile': u'participated', u'reeks': u'reeks', u'anglo': u'arabs', u'dilemmas': u'proportion', u'negsongs': u'negspace', u'which': u'one', u'bosnian': u'miner', u'alienating': u'dense', u'trivia': u'listed', u'unbearably': u'unimpressive', u'negwhere': u'neganyone', u'negspace': u'negspace', u'adamson': u'becker', u'lagoon': u'orange', u'clash': u'arabs', u'centre': u'arresting', u'collaboration': u'mani', u'who': u'killed', u'harmful': u'ranting', u'cracking': u'proverbial', u'delve': u'descent', u'scooby': u'shaggy', u'bemused': u'ham', u'why': u'anymore', u'ritz': u'brothers', u'astro': u'astro', u'deny': u'forgive', u'refreshing': u'satisfying', u'negreally': u'negfind', u'saddest': u'dumbest', u'appallingly': u'unimpressive', u'negfactor': u'negcomic', u'ensues': u'gunfight', u'mishaps': u'circular', u'pipe': u'shaft', u'negtowards': u'negjoe', u'idiosyncratic': u'feats', u'guinea': u'iron', u'contradictory': u'component', u'stark': u'arrangement', u'inane': u'unrealistic', u'gain': u'gain', u'anyway': u'alright', u'imagining': u'freaking', u'myrna': u'powell', u'chances': u'guarantee', u'agreed': u'thankful', u'negcoherent': u'negcomic', u'artfully': u'solidly', u'chapters': u'periods', u'purely': u'whether', u'planning': u'robber', u'negseveral': u'negjoe', u'castellari': u'infamous', u'brodie': u'villainous', u'dorothy': u'topper', u'utter': u'turkey', u'chicken': u'astro', u'darkest': u'achievements', u'feat': u'prose', u'agrees': u'receives', u'negtechnical': u'negcomic', u'wry': u'shakespearean', u'filmed': u'elaborate', u'naturalistic': u'kinetic', u'craziness': u'feats', u'enticing': u'refined', u'combs': u'durante', u'negthought': u'negmade', u'surroundings': u'arrangement', u'negthrills': u'neglogic', u'candidates': u'suggestions', u'bogged': u'sink', u'combo': u'sorcery', u'inhabit': u'proportion', u'he': u'he', u'thousands': u'dozen', u'aiello': u'aiello', u'horns': u'bleed', u'spun': u'backing', u'ethan': u'whoopi', u'sued': u'lommel', u'negwaste': u'neghard', u'watching': u'seeing', u'midnight': u'night', u'dope': u'gunpoint', u'flirting': u'sack', u'aykroyd': u'whoopi', u'negnormally': u'neguk', u'community': u'teenagers', u'ones': u'is', u'words': u'english', u'argento': u'giallo', u'tactics': u'ranting', u'chips': u'banana', u'ghetto': u'arabs', u'negmillion': u'negmust', u'hodiak': u'malkovich', u'homosexuals': u'arabs', u'belts': u'charts', u'married': u'anna', u'dolly': u'beavers', u'mantee': u'derek', u'affluent': u'peasant', u'negoffense': u'negqualities', u'ripley': u'miracles', u'thrive': u'increasing', u'kindergarten': u'grammar', u'cleavage': u'tasty', u'reno': u'reno', u'marries': u'helene', u'negspectacular': u'negconfusing', u'generations': u'sources', u'view': u'perspective', u'endowed': u'surly', u'europe': u'rome', u'requirement': u'amuse', u'inventive': u'inventive', u'motions': u'forwarding', u'humiliation': u'assaulted', u'acquired': u'releasing', u'turbulent': u'sordid', u'artsy': u'detracts', u'merits': u'predecessor', u'unfairly': u'contention', u'violet': u'affections', u'farrell': u'macmahon', u'luminous': u'marianne', u'closer': u'funnier', u'closes': u'staircase', u'welles': u'mani', u'weller': u'plummer', u'televised': u'originally', u'closet': u'belt', u'rugged': u'villainous', u'arguably': u'achievements', u'cried': u'regretted', u'monstrous': u'cockroaches', u'cruel': u'socially', u'superb': u'superb', u'vol': u'vol', u'genius': u'skill', u'mexicans': u'arabs', u'identification': u'persistent', u'mills': u'homer', u'closed': u'kitchen', u'crude': u'extreme', u'aslan': u'macho', u'brosnan': u'pegg', u'cola': u'oxygen', u'frustrated': u'frightened', u'masterful': u'shine', u'bought': u'online', u'negsoundtrack': u'negcomic', u'jos': u'wyler', u'masochistic': u'ranting', u'exam': u'elected', u'opening': u'confrontation', u'joy': u'experience', u'negtreated': u'negjoe', u'studied': u'admired', u'agencies': u'organizations', u'duane': u'belial', u'negmine': u'negsees', u'negbring': u'neglearn', u'apes': u'earth', u'joe': u'jay', u'spoil': u'anymore', u'demonstrate': u'method', u'underwear': u'nipples', u'ames': u'dillinger', u'mcdowell': u'jay', u'swift': u'minelli', u'jon': u'jay', u'voight': u'jay', u'dramatization': u'prose', u'commands': u'reversal', u'faris': u'tina', u'wallace': u'nash', u'lifeboat': u'solitude', u'profanity': u'extreme', u'aircraft': u'combat', u'zabriskie': u'symbol', u'april': u'anniversary', u'grain': u'grain', u'grail': u'holy', u'bronx': u'coastal', u'rodney': u'homer', u'safely': u'forgive', u'commando': u'iron', u'grounds': u'peasants', u'meticulous': u'unconventional', u'unclear': u'ignoring', u'wall': u'wall', u'shoving': u'gunpoint', u'negonly': u'neglittle', u'environments': u'arrangement', u'walk': u'moves', u'packaging': u'releasing', u'math': u'grammar', u'rpg': u'sonic', u'sequences': u'confrontation', u'table': u'dinner', u'withdrawn': u'miner', u'negstrong': u'negconfusing', u'rusty': u'beavers', u'surrealistic': u'shakespearean', u'decent': u'kinda', u'hunters': u'cockroaches', u'bogarde': u'werner', u'storyteller': u'georges', u'immortality': u'destroy', u'responds': u'replied', u'negwhen': u'neganyone', u'literal': u'renders', u'unspoken': u'immediate', u'hindi': u'pixar', u'maury': u'shore', u'negagree': u'negwon', u'ogre': u'scanners', u'mike': u'nichols', u'penny': u'mara', u'saxon': u'malkovich', u'puberty': u'bonkers', u'painted': u'lit', u'tap': u'lil', u'jaded': u'geared', u'miki': u'sullen', u'meaningless': u'unrealistic', u'hmm': u'listened', u'ensuring': u'circumstance', u'last': u'next', u'sydow': u'sydow', u'reeves': u'selleck', u'hanks': u'selleck', u'painter': u'whose', u'erin': u'beavers', u'negwonder': u'negqualities', u'negfantastic': u'neguk', u'unlike': u'norm', u'fearful': u'increasing', u'vanilla': u'cynic', u'vicki': u'abel', u'portrayal': u'perspective', u'divorce': u'protect', u'choices': u'decisions', u'will': u'might', u'thou': u'cynic', u'stunning': u'stunning', u'dolby': u'format', u'fascism': u'fascism', u'wild': u'wongo', u'madeleine': u'hari', u'vicky': u'affections', u'negway': u'neginto', u'supply': u'sail', u'malle': u'sa', u'mutant': u'dinosaurs', u'motif': u'faux', u'ringing': u'whispering', u'completed': u'attendance', u'unintelligent': u'annoyingly', u'natali': u'masterwork', u'hitchcock': u'vision', u'gothic': u'mixes', u'dual': u'billing', u'lightweight': u'serviceable', u'thug': u'vito', u'pesci': u'jay', u'ava': u'macmahon', u'whore': u'gal', u'education': u'reform', u'present': u'day', u'negcreature': u'negcomic', u'perhaps': u'importantly', u'vintage': u'chiller', u'buddhist': u'peasant', u'radiation': u'cylon', u'cross': u'chicago', u'unite': u'peasants', u'negabsolutely': u'negsees', u'member': u'teenagers', u'unity': u'virtues', u'largest': u'iraq', u'units': u'suggestions', u'ripped': u'off', u'gizmo': u'daredevil', u'privileged': u'arabs', u'grandeur': u'rendering', u'difficult': u'impossible', u'slave': u'peasant', u'diego': u'du', u'promo': u'easter', u'premiere': u'festivals', u'conceived': u'badly', u'disagree': u'disagree', u'neginterested': u'negsees', u'outcast': u'mocked', u'romeo': u'renoir', u'beast': u'alien', u'coscarelli': u'poltergeist', u'lobster': u'gunpoint', u'fiennes': u'macmahon', u'cinematographer': u'raoul', u'student': u'school', u'scoring': u'exotic', u'whale': u'iron', u'collar': u'orange', u'warming': u'quiet', u'arse': u'slack', u'celtic': u'suburbia', u'gutter': u'handing', u'undertaker': u'batista', u'masochist': u'geared', u'realises': u'calls', u'shanks': u'werner', u'contest': u'tours', u'banging': u'whispering', u'fighting': u'fighting', u'boop': u'rodgers', u'negrules': u'negjoe', u'gutted': u'prayer', u'spectator': u'bounds', u'english': u'english', u'firstly': u'faults', u'hale': u'jay', u'realised': u'tho', u'bending': u'fireflies', u'polarisdib': u'fireflies', u'riveted': u'chuckling', u'rocket': u'oxygen', u'camel': u'skating', u'chore': u'plodding', u'boot': u'spongebob', u'caine': u'dudikoff', u'obtain': u'endure', u'negbased': u'negt', u'cries': u'sack', u'negnotice': u'negwon', u'fishing': u'sail', u'rocked': u'listened', u'liotta': u'jay', u'tautou': u'hannah', u'illinois': u'coastal', u'happiness': u'akbar', u'elliot': u'phillip', u'toilets': u'gunpoint', u'nicky': u'affections', u'negcop': u'negjoe', u'panther': u'directly', u'drunk': u'belial', u'smith': u'earp', u'capabilities': u'increased', u'discuss': u'belong', u'arresting': u'arresting', u'toshiro': u'derek', u'clyde': u'nash', u'negalthough': u'negsees', u'adoption': u'risks', u'attractive': u'charming', u'usage': u'kinetic', u'channing': u'channing', u'smart': u'tough', u'haneke': u'citizen', u'celeste': u'woodward', u'identical': u'periods', u'occult': u'suburbia', u'dune': u'iron', u'captivating': u'stunning', u'myth': u'suburbia', u'wagon': u'sail', u'smashing': u'barking', u'weddings': u'parent', u'execute': u'unwilling', u'kristofferson': u'beavers', u'frighteningly': u'arresting', u'interrogation': u'dusty', u'negmakers': u'negjoe', u'kellogg': u'phillip', u'know': u'anymore', u'facial': u'facial', u'press': u'elected', u'knox': u'knox', u'coincidence': u'ignoring', u'negsequence': u'negcomic', u'review': u'read', u'showing': u'showed', u'georges': u'georges', u'negwants': u'negfeeling', u'miami': u'subway', u'neginside': u'negsees', u'levy': u'samuel', u'loser': u'loser', u'loses': u'became', u'lawson': u'tina', u'rituals': u'rituals', u'negtrash': u'negt', u'james': u'jimmy', u'starred': u'writes', u'pantomime': u'macho', u'negfaces': u'negspace', u'wonders': u'clue', u'virginity': u'carlitos', u'because': u'because', u'shabby': u'unimpressive', u'sequence': u'confrontation', u'advent': u'coverage', u'scared': u'cheated', u'scottish': u'accent', u'illegally': u'drafted', u'demeanor': u'tasty', u'negmoney': u'neghard', u'growth': u'existence', u'star': u'andromeda', u'empire': u'vets', u'employment': u'unwilling', u'scares': u'dose', u'misadventures': u'employing', u'negkid': u'negt', u'leaden': u'monotonous', u'ravaged': u'peasant', u'jeremy': u'jay', u'lead': u'central', u'spoofs': u'chiller', u'leak': u'sends', u'miner': u'miner', u'mines': u'brokeback', u'philosopher': u'werner', u'pop': u'roll', u'leap': u'oxygen', u'bursts': u'gunfight', u'feather': u'proverbial', u'negfour': u'negjoe', u'bosses': u'heinous', u'negcharming': u'negconfusing', u'murdoch': u'dillinger', u'locate': u'requests', u'season': u'second', u'poets': u'arabs', u'negfrightening': u'negconfusing', u'murderer': u'suspects', u'ayres': u'plummer', u'dangling': u'whispering', u'negfat': u'neguk', u'ensures': u'component', u'slut': u'gal', u'negfar': u'negfeeling', u'neghelped': u'negconfusing', u'murdered': u'killed', u'conveyed': u'dense', u'ripper': u'matthau', u'asinine': u'unimpressive', u'slum': u'peasant', u'filth': u'stinking', u'tempered': u'sullen', u'stay': u'taking', u'kitsch': u'detracts', u'slug': u'bleed', u'negfocus': u'negspace', u'negrange': u'negjoe', u'throne': u'participated', u'pike': u'dillinger', u'threats': u'destroy', u'rare': u'earlier', u'testosterone': u'faux', u'visions': u'ritual', u'getting': u'killed', u'column': u'drafted', u'universe': u'earth', u'spilled': u'bleed', u'negsub': u'negcomic', u'shipping': u'tours', u'bram': u'bagdad', u'carries': u'usual', u'swear': u'listened', u'sweat': u'bleed', u'recording': u'format', u'perky': u'beavers', u'urges': u'assaulted', u'emperor': u'jabba', u'heroics': u'feats', u'opus': u'bruckheimer', u'unlikable': u'characterizations', u'owl': u'woodcock', u'outset': u'irritation', u'own': u'express', u'polished': u'kinetic', u'wilderness': u'coast', u'sugary': u'sappy', u'owe': u'ur', u'travelers': u'employing', u'warrants': u'cynic', u'loner': u'hunt', u'weather': u'oxygen', u'promise': u'guarantee', u'brush': u'bleed', u'morricone': u'theme', u'negput': u'negfeeling', u'significantly': u'reckon', u'negnot': u'neglittle', u'nuke': u'missions', u'van': u'der', u'val': u'coward', u'negperhaps': u'negsees', u'effeminate': u'macho', u'slashers': u'flick', u'cinderella': u'bambi', u'spiral': u'spontaneously', u'tourist': u'coastal', u'kidding': u'listened', u'lommel': u'lommel', u'intention': u'lommel', u'negbe': u'negeasy', u'resists': u'rapist', u'cairo': u'rose', u'dynamite': u'autopsy', u'breeding': u'peasants', u'ford': u'ford', u'uncontrollable': u'assaulted', u'negout': u'neganyone', u'adaptations': u'adaption', u'shane': u'darling', u'funds': u'boost', u'negreview': u'negt', u'volume': u'discount', u'trek': u'andromeda', u'negconnected': u'negcomic', u'mifune': u'derek', u'devastation': u'fascism', u'liquor': u'gunpoint', u'granny': u'skinny', u'counterparts': u'veterans', u'teaming': u'homer', u'squeeze': u'persuade', u'viewers': u'audience', u'challenges': u'existence', u'neghour': u'negt', u'negking': u'neguk', u'negkind': u'negkind', u'whether': u'whether', u'fires': u'autopsy', u'distract': u'intent', u'record': u'chess', u'below': u'beyond', u'catching': u'mentioning', u'ruling': u'arabs', u'negseems': u'negmade', u'cake': u'floor', u'negmind': u'negmade', u'negworking': u'negdies', u'stirring': u'elegance', u'ex': u'friend', u'negroom': u'negbusiness', u'unfolding': u'accurately', u'jenny': u'anna', u'horrific': u'surprising', u'buffs': u'enthusiast', u'inadequate': u'ham', u'aditya': u'affections', u'buffy': u'avengers', u'highlighted': u'prose', u'abbot': u'miner', u'goodness': u'sake', u'et': u'pacino', u'theatre': u'theatre', u'farnsworth': u'laurence', u'jenna': u'paired', u'squirrel': u'skating', u'keefe': u'keefe', u'mutual': u'expressed', u'suzanne': u'woodward', u'incredible': u'superb', u'negaround': u'negfeeling', u'negenergy': u'negcomic', u'percent': u'fifty', u'cave': u'lake', u'abigail': u'tina', u'monitors': u'helicopters', u'negpresent': u'negspace', u'book': u'book', u'boom': u'rolls', u'sick': u'weird', u'boob': u'requisite', u'incredibly': u'exceptionally', u'sica': u'supplied', u'negsays': u'negfeeling', u'lance': u'topper', u'album': u'ballet', u'junk': u'turkey', u'chavez': u'organizations', u'kinds': u'these', u'heidi': u'beavers', u'june': u'anna', u'putrid': u'pathetically', u'inherently': u'prevents', u'margaret': u'hayward', u'negviewed': u'negsees', u'negdecided': u'negsees', u'ecstasy': u'charts', u'kinda': u'kinda', u'sandler': u'adam', u'rhapsody': u'sa', u'cliff': u'floor', u'alienated': u'expressed', u'rope': u'kitchen', u'negour': u'negspace', u'insipid': u'unrealistic', u'ranks': u'scale', u'negcharm': u'negjoe', u'jewel': u'circus', u'racer': u'daredevil', u'intentionally': u'melodramatic', u'coincidentally': u'homer', u'gal': u'gal', u'ol': u'loser', u'volumes': u'import', u'ideological': u'virtues', u'richardson': u'macmahon', u'furthermore': u'characterizations', u'untalented': u'amateurs'}"
       ]
      },
      {
       "output_type": "stream",
       "stream": "stdout",
       "text": [
        "\n"
       ]
      }
     ],
     "prompt_number": 84
    },
    {
     "cell_type": "code",
     "collapsed": false,
     "input": [
      "from sklearn.feature_extraction.text import TfidfVectorizer\n",
      "from sklearn import cross_validation\n",
      "\n",
      "tfidfer = TfidfVectorizer(analyzer = \"word\",   \\\n",
      "                             tokenizer = None,    \\\n",
      "                             preprocessor = None, \\\n",
      "                             stop_words = None,   \\\n",
      "                             ngram_range = (1,1), \\\n",
      "                             vocabulary = model.index2word\n",
      "                             )"
     ],
     "language": "python",
     "metadata": {},
     "outputs": [],
     "prompt_number": 64
    },
    {
     "cell_type": "code",
     "collapsed": false,
     "input": [
      "def create_bag_of_centroids( wordlist, word_centroid_map, tfidf_scores ):\n",
      "    #\n",
      "    # The number of clusters is equal to the highest cluster index\n",
      "    # in the word / centroid map\n",
      "    num_centroids = max( word_centroid_map.values() ) + 1\n",
      "    #\n",
      "    # Pre-allocate the bag of centroids vector (for speed)\n",
      "    bag_of_centroids = np.zeros( num_centroids, dtype=\"float32\" )\n",
      "    #\n",
      "    # Loop over the words in the review. If the word is in the vocabulary,\n",
      "    # find which cluster it belongs to, and increment that cluster count \n",
      "    # by one\n",
      "    for word in wordlist:\n",
      "        if word in word_centroid_map:\n",
      "            index = word_centroid_map[word]\n",
      "            bag_of_centroids[index] += tfidf_scores[word]\n",
      "    #\n",
      "    # Return the \"bag of centroids\"\n",
      "    return bag_of_centroids"
     ],
     "language": "python",
     "metadata": {},
     "outputs": [],
     "prompt_number": 65
    },
    {
     "cell_type": "code",
     "collapsed": false,
     "input": [
      "# ****************************************************************\n",
      "# Calculate average feature vectors for training and testing sets,\n",
      "# using the functions we defined above. Notice that we now use stop word\n",
      "# removal.\n",
      "\n",
      "clean_train_reviews = []\n",
      "\n",
      "for review in train[\"review\"]:\n",
      "    clean_train_reviews.append( review_to_wordlist( review, \\\n",
      "        remove_stopwords=True ))\n",
      "tfidf_train = tfidfer.fit_transform(clean_train_reviews)\n",
      "tfidf_train_vec=pd.DataFrame(tfidf_train.toarray(),columns=tfidfer.get_feature_names())\n",
      "\n",
      "print \"Training data is cleaned\"\n",
      "\n",
      "clean_test_reviews = []\n",
      "for review in test[\"review\"]:\n",
      "    clean_test_reviews.append( review_to_wordlist( review, \\\n",
      "        remove_stopwords=True ))\n",
      "tfidf_test = tfidfer.transform(clean_test_reviews)\n",
      "tfidf_test_vec=pd.DataFrame(tfidf_test.toarray(),columns=tfidfer.get_feature_names())\n",
      "\n",
      "print \"Testing data is cleaned\"\n",
      "\n",
      "# Pre-allocate an array for the training set bags of centroids (for speed)\n",
      "train_centroids = np.zeros( (train[\"review\"].size, num_clusters), \\\n",
      "    dtype=\"float32\" )\n",
      "\n",
      "# Transform the training set reviews into bags of centroids\n",
      "counter = 0\n",
      "for review in clean_train_reviews:\n",
      "    train_centroids[counter] = create_bag_of_centroids( review, \\\n",
      "        word_centroid_map, tfidf_train_vec.irow(counter) )\n",
      "    counter += 1\n",
      "    \n",
      "print \"Training Bag of Centroids are constructed\"\n",
      "\n",
      "# Repeat for test reviews \n",
      "test_centroids = np.zeros(( test[\"review\"].size, num_clusters), \\\n",
      "    dtype=\"float32\" )\n",
      "\n",
      "counter = 0\n",
      "for review in clean_test_reviews:\n",
      "    test_centroids[counter] = create_bag_of_centroids( review, \\\n",
      "        word_centroid_map, tfidf_test_vec.irow(counter) )\n",
      "    counter += 1\n",
      "    \n",
      "print \"Testing Bag of Centroids are constructed\""
     ],
     "language": "python",
     "metadata": {},
     "outputs": [
      {
       "output_type": "stream",
       "stream": "stdout",
       "text": [
        "Training data is cleaned\n",
        "Testing data is cleaned"
       ]
      },
      {
       "output_type": "stream",
       "stream": "stdout",
       "text": [
        "\n",
        "Training Bag of Centroids are constructed"
       ]
      },
      {
       "output_type": "stream",
       "stream": "stdout",
       "text": [
        "\n",
        "Testing Bag of Centroids are constructed"
       ]
      },
      {
       "output_type": "stream",
       "stream": "stdout",
       "text": [
        "\n"
       ]
      }
     ],
     "prompt_number": 66
    },
    {
     "cell_type": "code",
     "collapsed": false,
     "input": [
      "from sklearn.ensemble import RandomForestClassifier\n",
      "from sklearn.preprocessing import StandardScaler\n",
      "from sklearn.metrics import roc_auc_score\n",
      "\n",
      "myCV=5\n",
      "X_current = train_centroids\n",
      "y_current = train[\"sentiment\"]\n",
      "kf = cross_validation.KFold(len(X_current), n_folds=myCV,shuffle=True)\n",
      "\n",
      "param_range= [100]\n",
      "train_score ,validation_score=(np.array([0.0]*len(param_range)*myCV).reshape(-1,myCV) for i in range(2))\n",
      "\n",
      "coefs = []\n",
      "\n",
      "print \"Done\"\n",
      "\n",
      "clf=RandomForestClassifier(n_estimators = 50) \n",
      "\n",
      "for i, d in enumerate(param_range):\n",
      "    print i, d\n",
      "    clf.set_params(max_features=d)\n",
      "    \n",
      "    print \"Starting Cross Validation\"\n",
      "    cross_val_coefs=[]\n",
      "\n",
      "    for j,(train_idx, test_idx) in enumerate(kf):\n",
      "        X_train, X_test = X_current[train_idx], X_current[test_idx]\n",
      "        y_train, y_test = y_current[train_idx], y_current[test_idx]\n",
      "        \n",
      "        print j, X_train.shape\n",
      "            \n",
      "        scaler = StandardScaler().fit(X_train)\n",
      "        X_train=scaler.transform(X_train) \n",
      "        X_test=scaler.transform(X_test) \n",
      "        \n",
      "        print \"Scaling is Done\"\n",
      "\n",
      "        clf.fit(X_train, y_train) \n",
      "\n",
      "        print \"Model learnt\"\n",
      "            \n",
      "        #validation_score[i,j]=clf.score( X_test, y_test)\n",
      "        #train_score[i,j]=clf.score( X_train, y_train)\n",
      "\n",
      "\n",
      "        #print validation_score[i,j]\n",
      "\n",
      "        #print train_score[i,j]\n",
      "        \n",
      "        y_test_pred = clf.predict_proba(X_test)\n",
      "        \n",
      "        print roc_auc_score(y_test,y_test_pred[:,1])\n",
      "\n",
      "    #print(\"mean error: \"+str(np.mean(validation_score[i,:])))\n",
      "\n",
      "\n",
      "\n",
      "train_score_mean= np.mean(train_score,axis=1)\n",
      "validation_score_mean= np.mean(validation_score,axis=1)"
     ],
     "language": "python",
     "metadata": {},
     "outputs": [
      {
       "output_type": "stream",
       "stream": "stdout",
       "text": [
        "Done\n",
        "0 100\n",
        "Starting Cross Validation\n",
        "0"
       ]
      },
      {
       "output_type": "stream",
       "stream": "stdout",
       "text": [
        " (20000, 3594)\n",
        "Scaling is Done"
       ]
      },
      {
       "output_type": "stream",
       "stream": "stdout",
       "text": [
        "\n",
        "Model learnt"
       ]
      },
      {
       "output_type": "stream",
       "stream": "stdout",
       "text": [
        "\n",
        "0.9068702775"
       ]
      },
      {
       "output_type": "stream",
       "stream": "stdout",
       "text": [
        "\n",
        "1"
       ]
      },
      {
       "output_type": "stream",
       "stream": "stdout",
       "text": [
        " (20000, 3594)\n",
        "Scaling is Done"
       ]
      },
      {
       "output_type": "stream",
       "stream": "stdout",
       "text": [
        "\n",
        "Model learnt"
       ]
      },
      {
       "output_type": "stream",
       "stream": "stdout",
       "text": [
        "\n",
        "0.916313233989"
       ]
      },
      {
       "output_type": "stream",
       "stream": "stdout",
       "text": [
        "\n",
        "2"
       ]
      },
      {
       "output_type": "stream",
       "stream": "stdout",
       "text": [
        " (20000, 3594)\n",
        "Scaling is Done"
       ]
      },
      {
       "output_type": "stream",
       "stream": "stdout",
       "text": [
        "\n",
        "Model learnt"
       ]
      },
      {
       "output_type": "stream",
       "stream": "stdout",
       "text": [
        "\n",
        "0.913704094446"
       ]
      },
      {
       "output_type": "stream",
       "stream": "stdout",
       "text": [
        "\n",
        "3"
       ]
      },
      {
       "output_type": "stream",
       "stream": "stdout",
       "text": [
        " (20000, 3594)\n",
        "Scaling is Done"
       ]
      },
      {
       "output_type": "stream",
       "stream": "stdout",
       "text": [
        "\n",
        "Model learnt"
       ]
      },
      {
       "output_type": "stream",
       "stream": "stdout",
       "text": [
        "\n",
        "0.918382001034"
       ]
      },
      {
       "output_type": "stream",
       "stream": "stdout",
       "text": [
        "\n",
        "4"
       ]
      },
      {
       "output_type": "stream",
       "stream": "stdout",
       "text": [
        " (20000, 3594)\n",
        "Scaling is Done"
       ]
      },
      {
       "output_type": "stream",
       "stream": "stdout",
       "text": [
        "\n",
        "Model learnt"
       ]
      },
      {
       "output_type": "stream",
       "stream": "stdout",
       "text": [
        "\n",
        "0.913562697003"
       ]
      },
      {
       "output_type": "stream",
       "stream": "stdout",
       "text": [
        "\n"
       ]
      }
     ],
     "prompt_number": 67
    },
    {
     "cell_type": "code",
     "collapsed": false,
     "input": [
      "def modify_text( wordlist, word_centroid_map ):\n",
      "    \n",
      "    # Loop over the words in the review. If the word is in the vocabulary,\n",
      "    # find which cluster it belongs to, and increment that cluster count \n",
      "    # by one\n",
      "    sentence = []\n",
      "    for word in wordlist:\n",
      "        if word in word_centroid_map:\n",
      "            sentence.append(word_centroid2word_map[word])\n",
      "        else:\n",
      "            sentence.append( word)\n",
      "    #\n",
      "    # Return the \"bag of centroids\"\n",
      "    return sentence\n",
      "\n",
      "import json\n",
      "\n",
      "print \"Parsing sentences from train set\"\n",
      "modified_training_set = []\n",
      "for review in clean_train_reviews:\n",
      "    modified_training_set.append(modify_text(review, word_centroid_map))\n",
      "train_set = {}\n",
      "train_set[\"review\"] = modified_training_set\n",
      "\n",
      "print \"Parsing sentences from test set\"\n",
      "modified_testing_set = []\n",
      "for review in clean_test_reviews:\n",
      "    modified_testing_set.append(modify_text(review, word_centroid_map))\n",
      "test_set = {}\n",
      "test_set[\"review\"] = modified_testing_set\n",
      "    \n",
      "outJSON=dict(train_set)\n",
      "outputFName='train_modified_1000.json'\n",
      "with open(outputFName, 'wb') as outfile:\n",
      "    json.dump(outJSON, outfile)\n",
      "    \n",
      "outJSON=dict(test_set)\n",
      "outputFName='test_modified_1000.json'\n",
      "with open(outputFName, 'wb') as outfile:\n",
      "    json.dump(outJSON, outfile)"
     ],
     "language": "python",
     "metadata": {},
     "outputs": [
      {
       "output_type": "stream",
       "stream": "stdout",
       "text": [
        "Parsing sentences from train set\n",
        "Parsing sentences from test set"
       ]
      },
      {
       "output_type": "stream",
       "stream": "stdout",
       "text": [
        "\n"
       ]
      }
     ],
     "prompt_number": 85
    },
    {
     "cell_type": "code",
     "collapsed": false,
     "input": [],
     "language": "python",
     "metadata": {},
     "outputs": []
    }
   ],
   "metadata": {}
  }
 ]
}