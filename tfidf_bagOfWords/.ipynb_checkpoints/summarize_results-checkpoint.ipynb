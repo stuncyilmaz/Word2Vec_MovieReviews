{
 "cells": [
  {
   "cell_type": "code",
   "execution_count": 1,
   "metadata": {
    "collapsed": true
   },
   "outputs": [],
   "source": [
    "import pandas as pd\n",
    "import numpy as np\n",
    "import matplotlib.pyplot as plt"
   ]
  },
  {
   "cell_type": "code",
   "execution_count": 20,
   "metadata": {
    "collapsed": false
   },
   "outputs": [],
   "source": [
    "model_names={}"
   ]
  },
  {
   "cell_type": "code",
   "execution_count": 21,
   "metadata": {
    "collapsed": false
   },
   "outputs": [],
   "source": [
    "model_names[\"bigrams_cut_off_5\"]=\\\n",
    "{\"test_accuracy\":0.898, \"train_accuracy\":1,\\\n",
    " \"test_AUC\":0.964,\"train_AUC\":1,\\\n",
    "\"feature_size\":144308}"
   ]
  },
  {
   "cell_type": "code",
   "execution_count": 22,
   "metadata": {
    "collapsed": true
   },
   "outputs": [],
   "source": [
    "model_names[\"trigrams_cut_off_2\"]=\\\n",
    "{\"test_accuracy\":0.903, \"train_accuracy\":1,\\\n",
    " \"test_AUC\":0.966,\"train_AUC\":1,\n",
    "\"feature_size\":417922}"
   ]
  },
  {
   "cell_type": "code",
   "execution_count": 23,
   "metadata": {
    "collapsed": true
   },
   "outputs": [],
   "source": [
    "model_names[\"bigrams_cut_off_2\"]=\\\n",
    "{\"test_accuracy\":0.903, \"train_accuracy\":1,\\\n",
    " \"test_AUC\":0.966,\"train_AUC\":1,\\\n",
    "\"feature_size\":353082}"
   ]
  },
  {
   "cell_type": "code",
   "execution_count": 24,
   "metadata": {
    "collapsed": true
   },
   "outputs": [],
   "source": [
    "model_names[\"unigrams_cut_off_2\"]=\\\n",
    "{\"test_accuracy\":0.892, \"train_accuracy\":1,\\\n",
    " \"test_AUC\":0.958,\"train_AUC\":1,\\\n",
    "\"feature_size\":45657}"
   ]
  },
  {
   "cell_type": "code",
   "execution_count": 25,
   "metadata": {
    "collapsed": true
   },
   "outputs": [],
   "source": [
    "model_names[\"bigrams_cut_off_10\"]=\\\n",
    "{\"test_accuracy\":0.900, \"train_accuracy\":1,\\\n",
    " \"test_AUC\":0.964,\"train_AUC\":1,\\\n",
    "\"feature_size\":73048}"
   ]
  },
  {
   "cell_type": "code",
   "execution_count": 26,
   "metadata": {
    "collapsed": true
   },
   "outputs": [],
   "source": [
    "model_names[\"bigrams_cut_off_40\"]=\\\n",
    "{\"test_accuracy\":0.901, \"train_accuracy\":1,\\\n",
    " \"test_AUC\":0.965,\"train_AUC\":1,\\\n",
    "\"feature_size\":19026}"
   ]
  },
  {
   "cell_type": "code",
   "execution_count": 27,
   "metadata": {
    "collapsed": true
   },
   "outputs": [],
   "source": [
    "model_names[\"trigrams_cut_off_10\"]=\\\n",
    "{\"test_accuracy\":0.905, \"train_accuracy\":1,\\\n",
    " \"test_AUC\":0.965,\"train_AUC\":1,\\\n",
    "\"feature_size\":77427}"
   ]
  },
  {
   "cell_type": "code",
   "execution_count": 28,
   "metadata": {
    "collapsed": true
   },
   "outputs": [],
   "source": [
    "model_names[\"bigrams_cut_off_200\"]=\\\n",
    "{\"test_accuracy\":0.886, \"train_accuracy\":0.986,\\\n",
    " \"test_AUC\":0.953,\"train_AUC\":0.999,\\\n",
    "\"feature_size\":4228}"
   ]
  },
  {
   "cell_type": "code",
   "execution_count": 31,
   "metadata": {
    "collapsed": false
   },
   "outputs": [],
   "source": [
    "pd_model_names=pd.DataFrame(model_names).T"
   ]
  },
  {
   "cell_type": "code",
   "execution_count": 34,
   "metadata": {
    "collapsed": false
   },
   "outputs": [],
   "source": []
  },
  {
   "cell_type": "code",
   "execution_count": 45,
   "metadata": {
    "collapsed": false
   },
   "outputs": [],
   "source": [
    "pd_model_names=pd_model_names.ix[[7,1,4,0,3,2,6,5]]\n",
    "\n"
   ]
  },
  {
   "cell_type": "code",
   "execution_count": 89,
   "metadata": {
    "collapsed": false
   },
   "outputs": [
    {
     "name": "stderr",
     "output_type": "stream",
     "text": [
      "/home/tunc/Enthought/Canopy_64bit/User/lib/python2.7/site-packages/IPython/kernel/__main__.py:1: SettingWithCopyWarning: \n",
      "A value is trying to be set on a copy of a slice from a DataFrame.\n",
      "Try using .loc[row_indexer,col_indexer] = value instead\n",
      "\n",
      "See the the caveats in the documentation: http://pandas.pydata.org/pandas-docs/stable/indexing.html#indexing-view-versus-copy\n",
      "  if __name__ == '__main__':\n"
     ]
    }
   ],
   "source": [
    "pd_model_names['test_AUC - 0.95']=pd_model_names['test_AUC']-0.95"
   ]
  },
  {
   "cell_type": "code",
   "execution_count": null,
   "metadata": {
    "collapsed": false
   },
   "outputs": [],
   "source": [
    "fig, ax = plt.subplots()\n",
    "ax2 = ax.twiny()\n",
    "width = 0.2\n",
    "pd_model_names[['feature_size']].plot(kind='barh',ax=ax,position=1,width = width)\n",
    "pd_model_names['test_AUC - 0.95'].plot(kind='barh',color='red',ax=ax2,position=0,width = width)\n",
    "ax2.legend(loc=0)\n",
    "#plt.axvline(np.max(pd_model_names['test_AUC']),label='maximum validation AUC')\n",
    "ax.legend(loc=0)\n",
    "\n",
    "plt.show()"
   ]
  },
  {
   "cell_type": "code",
   "execution_count": null,
   "metadata": {
    "collapsed": false
   },
   "outputs": [],
   "source": []
  },
  {
   "cell_type": "code",
   "execution_count": 49,
   "metadata": {
    "collapsed": false
   },
   "outputs": [],
   "source": [
    "plt.plot(pd_model_names['feature_size'],pd_model_names['test_AUC'],marker='o')\n",
    "plt.show()"
   ]
  },
  {
   "cell_type": "code",
   "execution_count": 55,
   "metadata": {
    "collapsed": false
   },
   "outputs": [
    {
     "data": {
      "text/plain": [
       "unigrams_cut_off_2     0.958\n",
       "bigrams_cut_off_2      0.966\n",
       "bigrams_cut_off_5      0.964\n",
       "bigrams_cut_off_10     0.964\n",
       "bigrams_cut_off_40     0.965\n",
       "bigrams_cut_off_200    0.953\n",
       "trigrams_cut_off_2     0.966\n",
       "trigrams_cut_off_10    0.965\n",
       "Name: test_AUC, dtype: float64"
      ]
     },
     "execution_count": 55,
     "metadata": {},
     "output_type": "execute_result"
    }
   ],
   "source": [
    "pd_model_names['test_AUC']"
   ]
  },
  {
   "cell_type": "code",
   "execution_count": null,
   "metadata": {
    "collapsed": true
   },
   "outputs": [],
   "source": []
  }
 ],
 "metadata": {
  "kernelspec": {
   "display_name": "Python 2",
   "language": "python",
   "name": "python2"
  },
  "language_info": {
   "codemirror_mode": {
    "name": "ipython",
    "version": 2
   },
   "file_extension": ".py",
   "mimetype": "text/x-python",
   "name": "python",
   "nbconvert_exporter": "python",
   "pygments_lexer": "ipython2",
   "version": "2.7.6"
  }
 },
 "nbformat": 4,
 "nbformat_minor": 0
}
