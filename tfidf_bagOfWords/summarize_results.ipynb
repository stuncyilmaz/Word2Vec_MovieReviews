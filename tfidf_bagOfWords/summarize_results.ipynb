{
 "cells": [
  {
   "cell_type": "code",
   "execution_count": 138,
   "metadata": {
    "collapsed": true
   },
   "outputs": [],
   "source": [
    "import pandas as pd\n",
    "import numpy as np\n",
    "import matplotlib.pyplot as plt"
   ]
  },
  {
   "cell_type": "code",
   "execution_count": 139,
   "metadata": {
    "collapsed": false
   },
   "outputs": [],
   "source": [
    "\n",
    "model_names={}"
   ]
  },
  {
   "cell_type": "code",
   "execution_count": 140,
   "metadata": {
    "collapsed": false
   },
   "outputs": [],
   "source": [
    "model_names[\"bigrams_cut_off_5\"]=\\\n",
    "{\"test_accuracy\":0.898, \"train_accuracy\":1,\\\n",
    " \"test_AUC\":0.964,\"train_AUC\":1,\\\n",
    "\"feature_size\":144308}"
   ]
  },
  {
   "cell_type": "code",
   "execution_count": 141,
   "metadata": {
    "collapsed": true
   },
   "outputs": [],
   "source": [
    "model_names[\"trigrams_cut_off_2\"]=\\\n",
    "{\"test_accuracy\":0.903, \"train_accuracy\":1,\\\n",
    " \"test_AUC\":0.966,\"train_AUC\":1,\n",
    "\"feature_size\":417922}"
   ]
  },
  {
   "cell_type": "code",
   "execution_count": 142,
   "metadata": {
    "collapsed": true
   },
   "outputs": [],
   "source": [
    "model_names[\"bigrams_cut_off_2\"]=\\\n",
    "{\"test_accuracy\":0.903, \"train_accuracy\":1,\\\n",
    " \"test_AUC\":0.966,\"train_AUC\":1,\\\n",
    "\"feature_size\":353082}"
   ]
  },
  {
   "cell_type": "code",
   "execution_count": 143,
   "metadata": {
    "collapsed": true
   },
   "outputs": [],
   "source": [
    "model_names[\"unigrams_cut_off_2\"]=\\\n",
    "{\"test_accuracy\":0.892, \"train_accuracy\":1,\\\n",
    " \"test_AUC\":0.958,\"train_AUC\":1,\\\n",
    "\"feature_size\":45657}"
   ]
  },
  {
   "cell_type": "code",
   "execution_count": 144,
   "metadata": {
    "collapsed": true
   },
   "outputs": [],
   "source": [
    "model_names[\"bigrams_cut_off_10\"]=\\\n",
    "{\"test_accuracy\":0.900, \"train_accuracy\":1,\\\n",
    " \"test_AUC\":0.964,\"train_AUC\":1,\\\n",
    "\"feature_size\":73048}"
   ]
  },
  {
   "cell_type": "code",
   "execution_count": 145,
   "metadata": {
    "collapsed": true
   },
   "outputs": [],
   "source": [
    "model_names[\"bigrams_cut_off_40\"]=\\\n",
    "{\"test_accuracy\":0.901, \"train_accuracy\":1,\\\n",
    " \"test_AUC\":0.965,\"train_AUC\":1,\\\n",
    "\"feature_size\":19026}"
   ]
  },
  {
   "cell_type": "code",
   "execution_count": 146,
   "metadata": {
    "collapsed": true
   },
   "outputs": [],
   "source": [
    "model_names[\"trigrams_cut_off_10\"]=\\\n",
    "{\"test_accuracy\":0.905, \"train_accuracy\":1,\\\n",
    " \"test_AUC\":0.965,\"train_AUC\":1,\\\n",
    "\"feature_size\":77427}"
   ]
  },
  {
   "cell_type": "code",
   "execution_count": 147,
   "metadata": {
    "collapsed": true
   },
   "outputs": [],
   "source": [
    "model_names[\"bigrams_cut_off_200\"]=\\\n",
    "{\"test_accuracy\":0.886, \"train_accuracy\":0.986,\\\n",
    " \"test_AUC\":0.953,\"train_AUC\":0.999,\\\n",
    "\"feature_size\":4228}"
   ]
  },
  {
   "cell_type": "code",
   "execution_count": 148,
   "metadata": {
    "collapsed": false
   },
   "outputs": [],
   "source": [
    "pd_model_names=pd.DataFrame(model_names).T"
   ]
  },
  {
   "cell_type": "code",
   "execution_count": 159,
   "metadata": {
    "collapsed": false
   },
   "outputs": [],
   "source": [
    "pd_model_names=pd_model_names.ix[np.argsort(pd_model_names['feature_size'])]\n"
   ]
  },
  {
   "cell_type": "code",
   "execution_count": 201,
   "metadata": {
    "collapsed": false
   },
   "outputs": [],
   "source": [
    "pd_model_names['validation AUC - 0.95']=pd_model_names['test_AUC']-0.95"
   ]
  },
  {
   "cell_type": "code",
   "execution_count": 203,
   "metadata": {
    "collapsed": false
   },
   "outputs": [],
   "source": [
    "fig, ax = plt.subplots(figsize=(16.0, 10.0))\n",
    "ax2 = ax.twiny()\n",
    "width = 0.2\n",
    "pd_model_names['feature_size'].plot(kind='barh',ax=ax,position=1,width = width)\n",
    "plt.legend(loc=0)\n",
    "pd_model_names['validation AUC - 0.95'].plot(kind='barh',color='red',ax=ax2,position=0,width = width)\n",
    "\n",
    "\n",
    "ax.set_xlabel('feature size',fontsize=18)\n",
    "ax2.set_xlabel('validation AUC - 0.95',fontsize=16)\n",
    "ax.legend(loc=4)\n",
    "ax2.legend(loc=2)\n",
    "#plt.show()\n",
    "plots_path='../plots/'\n",
    "plt.savefig(plots_path+'compare_BOW.png')"
   ]
  },
  {
   "cell_type": "code",
   "execution_count": 196,
   "metadata": {
    "collapsed": false
   },
   "outputs": [
    {
     "data": {
      "text/html": [
       "<div style=\"max-height:1000px;max-width:1500px;overflow:auto;\">\n",
       "<table border=\"1\" class=\"dataframe\">\n",
       "  <thead>\n",
       "    <tr style=\"text-align: right;\">\n",
       "      <th></th>\n",
       "      <th>feature_size</th>\n",
       "      <th>test_AUC</th>\n",
       "      <th>test_accuracy</th>\n",
       "      <th>train_AUC</th>\n",
       "      <th>train_accuracy</th>\n",
       "      <th>test_AUC - 0.95</th>\n",
       "    </tr>\n",
       "  </thead>\n",
       "  <tbody>\n",
       "    <tr>\n",
       "      <th>bigrams_cut_off_200</th>\n",
       "      <td>   4228</td>\n",
       "      <td> 0.953</td>\n",
       "      <td> 0.886</td>\n",
       "      <td> 0.999</td>\n",
       "      <td> 0.986</td>\n",
       "      <td> 0.003</td>\n",
       "    </tr>\n",
       "    <tr>\n",
       "      <th>bigrams_cut_off_40</th>\n",
       "      <td>  19026</td>\n",
       "      <td> 0.965</td>\n",
       "      <td> 0.901</td>\n",
       "      <td> 1.000</td>\n",
       "      <td> 1.000</td>\n",
       "      <td> 0.015</td>\n",
       "    </tr>\n",
       "    <tr>\n",
       "      <th>unigrams_cut_off_2</th>\n",
       "      <td>  45657</td>\n",
       "      <td> 0.958</td>\n",
       "      <td> 0.892</td>\n",
       "      <td> 1.000</td>\n",
       "      <td> 1.000</td>\n",
       "      <td> 0.008</td>\n",
       "    </tr>\n",
       "    <tr>\n",
       "      <th>bigrams_cut_off_10</th>\n",
       "      <td>  73048</td>\n",
       "      <td> 0.964</td>\n",
       "      <td> 0.900</td>\n",
       "      <td> 1.000</td>\n",
       "      <td> 1.000</td>\n",
       "      <td> 0.014</td>\n",
       "    </tr>\n",
       "    <tr>\n",
       "      <th>trigrams_cut_off_10</th>\n",
       "      <td>  77427</td>\n",
       "      <td> 0.965</td>\n",
       "      <td> 0.905</td>\n",
       "      <td> 1.000</td>\n",
       "      <td> 1.000</td>\n",
       "      <td> 0.015</td>\n",
       "    </tr>\n",
       "    <tr>\n",
       "      <th>bigrams_cut_off_5</th>\n",
       "      <td> 144308</td>\n",
       "      <td> 0.964</td>\n",
       "      <td> 0.898</td>\n",
       "      <td> 1.000</td>\n",
       "      <td> 1.000</td>\n",
       "      <td> 0.014</td>\n",
       "    </tr>\n",
       "    <tr>\n",
       "      <th>bigrams_cut_off_2</th>\n",
       "      <td> 353082</td>\n",
       "      <td> 0.966</td>\n",
       "      <td> 0.903</td>\n",
       "      <td> 1.000</td>\n",
       "      <td> 1.000</td>\n",
       "      <td> 0.016</td>\n",
       "    </tr>\n",
       "    <tr>\n",
       "      <th>trigrams_cut_off_2</th>\n",
       "      <td> 417922</td>\n",
       "      <td> 0.966</td>\n",
       "      <td> 0.903</td>\n",
       "      <td> 1.000</td>\n",
       "      <td> 1.000</td>\n",
       "      <td> 0.016</td>\n",
       "    </tr>\n",
       "  </tbody>\n",
       "</table>\n",
       "</div>"
      ],
      "text/plain": [
       "                     feature_size  test_AUC  test_accuracy  train_AUC  \\\n",
       "bigrams_cut_off_200          4228     0.953          0.886      0.999   \n",
       "bigrams_cut_off_40          19026     0.965          0.901      1.000   \n",
       "unigrams_cut_off_2          45657     0.958          0.892      1.000   \n",
       "bigrams_cut_off_10          73048     0.964          0.900      1.000   \n",
       "trigrams_cut_off_10         77427     0.965          0.905      1.000   \n",
       "bigrams_cut_off_5          144308     0.964          0.898      1.000   \n",
       "bigrams_cut_off_2          353082     0.966          0.903      1.000   \n",
       "trigrams_cut_off_2         417922     0.966          0.903      1.000   \n",
       "\n",
       "                     train_accuracy  test_AUC - 0.95  \n",
       "bigrams_cut_off_200           0.986            0.003  \n",
       "bigrams_cut_off_40            1.000            0.015  \n",
       "unigrams_cut_off_2            1.000            0.008  \n",
       "bigrams_cut_off_10            1.000            0.014  \n",
       "trigrams_cut_off_10           1.000            0.015  \n",
       "bigrams_cut_off_5             1.000            0.014  \n",
       "bigrams_cut_off_2             1.000            0.016  \n",
       "trigrams_cut_off_2            1.000            0.016  "
      ]
     },
     "execution_count": 196,
     "metadata": {},
     "output_type": "execute_result"
    }
   ],
   "source": [
    "pd_model_names"
   ]
  },
  {
   "cell_type": "code",
   "execution_count": 49,
   "metadata": {
    "collapsed": false
   },
   "outputs": [],
   "source": [
    "plt.plot(pd_model_names['feature_size'],pd_model_names['test_AUC'],marker='o')\n",
    "plt.show()"
   ]
  },
  {
   "cell_type": "code",
   "execution_count": 55,
   "metadata": {
    "collapsed": false
   },
   "outputs": [
    {
     "data": {
      "text/plain": [
       "unigrams_cut_off_2     0.958\n",
       "bigrams_cut_off_2      0.966\n",
       "bigrams_cut_off_5      0.964\n",
       "bigrams_cut_off_10     0.964\n",
       "bigrams_cut_off_40     0.965\n",
       "bigrams_cut_off_200    0.953\n",
       "trigrams_cut_off_2     0.966\n",
       "trigrams_cut_off_10    0.965\n",
       "Name: test_AUC, dtype: float64"
      ]
     },
     "execution_count": 55,
     "metadata": {},
     "output_type": "execute_result"
    }
   ],
   "source": [
    "pd_model_names['test_AUC']"
   ]
  },
  {
   "cell_type": "code",
   "execution_count": null,
   "metadata": {
    "collapsed": true
   },
   "outputs": [],
   "source": []
  }
 ],
 "metadata": {
  "kernelspec": {
   "display_name": "Python 2",
   "language": "python",
   "name": "python2"
  },
  "language_info": {
   "codemirror_mode": {
    "name": "ipython",
    "version": 2
   },
   "file_extension": ".py",
   "mimetype": "text/x-python",
   "name": "python",
   "nbconvert_exporter": "python",
   "pygments_lexer": "ipython2",
   "version": "2.7.6"
  }
 },
 "nbformat": 4,
 "nbformat_minor": 0
}
